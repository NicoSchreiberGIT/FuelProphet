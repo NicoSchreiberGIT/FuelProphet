{
 "cells": [
  {
   "cell_type": "markdown",
   "id": "9af4c539",
   "metadata": {},
   "source": [
    "# EDA der unterschiedlichen Tankstellenunternehmen in Deutschland\n",
    "\n",
    "## Auf Basis der Tankstellenliste vom 25.05.25"
   ]
  },
  {
   "cell_type": "markdown",
   "id": "656cef05",
   "metadata": {},
   "source": [
    "### Vorab Info (ADAC 2021)\n",
    "\n",
    "\n",
    "* Aral: 2300\n",
    "* Shell: 1955\n",
    "* Total: 1157\n",
    "* Esso: 961\n",
    "* Avia: 818\n",
    "* Jet: 843\n",
    "* Raiffeisen: 713\n",
    "* Orlen (Star): 582\n",
    "* ENI (Agip): 468\n",
    "* Tamoil/HEM: 411\n",
    "* OMV: 272\n",
    "* Westfalen: 251\n",
    "* OIL!: 233\n",
    "* Hoyer: 229\n",
    "* Q1 Tankstellenvertrieb: 207\n",
    "* Classic (Lühmann): 153\n",
    "* Sonstige: 2551\n",
    "\n",
    "Gesamt\n",
    "14.107"
   ]
  },
  {
   "cell_type": "code",
   "execution_count": 1,
   "id": "983472e5",
   "metadata": {},
   "outputs": [],
   "source": [
    "# import libraries\n",
    "import pandas as pd\n",
    "import numpy as np\n",
    "import sys\n",
    "import os\n",
    "sys.path.append(os.path.abspath(\"..\")) \n",
    "\n",
    "import plotly as plt\n",
    "import plotly_express as px\n",
    "import plotly.graph_objects as go"
   ]
  },
  {
   "cell_type": "code",
   "execution_count": 2,
   "id": "377003d6",
   "metadata": {},
   "outputs": [],
   "source": [
    "# import data\n",
    "stations = pd.read_csv('data/2025-05-25-stations.csv')"
   ]
  },
  {
   "cell_type": "code",
   "execution_count": 3,
   "id": "7bf273ec",
   "metadata": {},
   "outputs": [
    {
     "data": {
      "application/vnd.microsoft.datawrangler.viewer.v0+json": {
       "columns": [
        {
         "name": "index",
         "rawType": "int64",
         "type": "integer"
        },
        {
         "name": "uuid",
         "rawType": "object",
         "type": "string"
        },
        {
         "name": "name",
         "rawType": "object",
         "type": "string"
        },
        {
         "name": "brand",
         "rawType": "object",
         "type": "unknown"
        },
        {
         "name": "street",
         "rawType": "object",
         "type": "string"
        },
        {
         "name": "house_number",
         "rawType": "object",
         "type": "unknown"
        },
        {
         "name": "post_code",
         "rawType": "object",
         "type": "string"
        },
        {
         "name": "city",
         "rawType": "object",
         "type": "string"
        },
        {
         "name": "latitude",
         "rawType": "float64",
         "type": "float"
        },
        {
         "name": "longitude",
         "rawType": "float64",
         "type": "float"
        },
        {
         "name": "first_active",
         "rawType": "object",
         "type": "string"
        },
        {
         "name": "openingtimes_json",
         "rawType": "object",
         "type": "string"
        }
       ],
       "ref": "c8653e76-0f67-466c-9491-587be73e5190",
       "rows": [
        [
         "0",
         "0e18d0d3-ed38-4e7f-a18e-507a78ad901d",
         "OIL! Tankstelle München",
         "OIL!",
         "Eversbuschstraße 33",
         null,
         "80999",
         "München",
         "48.1807",
         "11.4609",
         "1970-01-01 01:00:00+01",
         "{\"openingTimes\":[{\"applicable_days\":192,\"periods\":[{\"startp\":\"07:00\",\"endp\":\"20:00\"}]},{\"applicable_days\":63,\"periods\":[{\"startp\":\"06:00\",\"endp\":\"22:00\"}]}]}"
        ],
        [
         "1",
         "44e2bdb7-13e3-4156-8576-8326cdd20459",
         "bft Tankstelle",
         null,
         "Schellengasse ",
         "53",
         "36304",
         "Alsfeld",
         "50.7520089",
         "9.2790394",
         "1970-01-01 01:00:00+01",
         "{}"
        ],
        [
         "2",
         "ad812258-94e7-473d-aa80-d392f7532218",
         "bft Bonn-Bad Godesberg",
         "bft",
         "Godesberger Allee",
         "55",
         "53175",
         "Bonn",
         "50.6951",
         "7.14276",
         "1970-01-01 01:00:00+01",
         "{\"overrides\":[{\"startp\":\"2025-05-29 06:00\",\"endp\":\"2025-05-29 20:00\",\"is_close\":false},{\"startp\":\"2025-06-09 06:00\",\"endp\":\"2025-06-09 20:00\",\"is_close\":false},{\"startp\":\"2025-06-19 06:00\",\"endp\":\"2025-06-19 20:00\",\"is_close\":false}],\"openingTimes\":[{\"applicable_days\":31,\"periods\":[{\"startp\":\"06:00\",\"endp\":\"22:00\"}]},{\"applicable_days\":32,\"periods\":[{\"startp\":\"07:00\",\"endp\":\"22:00\"}]},{\"applicable_days\":64,\"periods\":[{\"startp\":\"08:00\",\"endp\":\"22:00\"}]}]}"
        ],
        [
         "3",
         "cdaa1ef5-9c3d-499d-869a-1c970beba775",
         "OIL! tank &amp; go Automatentankstelle Friedrichskoog",
         "OIL! (Automatenstation)",
         "Koogstr. 16",
         null,
         "25718",
         "Friedrichskoog",
         "53.9921",
         "8.94069",
         "2014-03-18 16:45:31+01",
         "{}"
        ],
        [
         "4",
         "005056ba-7cb6-1ed2-bceb-66e14a634d1f",
         "ORLEN Tankstelle",
         "ORLEN",
         "Curt-Schröter-Straße",
         "2",
         "39179",
         "Barleben / Ebendorf",
         "52.181182",
         "11.585476",
         "2014-03-18 16:45:31+01",
         "{}"
        ]
       ],
       "shape": {
        "columns": 11,
        "rows": 5
       }
      },
      "text/html": [
       "<div>\n",
       "<style scoped>\n",
       "    .dataframe tbody tr th:only-of-type {\n",
       "        vertical-align: middle;\n",
       "    }\n",
       "\n",
       "    .dataframe tbody tr th {\n",
       "        vertical-align: top;\n",
       "    }\n",
       "\n",
       "    .dataframe thead th {\n",
       "        text-align: right;\n",
       "    }\n",
       "</style>\n",
       "<table border=\"1\" class=\"dataframe\">\n",
       "  <thead>\n",
       "    <tr style=\"text-align: right;\">\n",
       "      <th></th>\n",
       "      <th>uuid</th>\n",
       "      <th>name</th>\n",
       "      <th>brand</th>\n",
       "      <th>street</th>\n",
       "      <th>house_number</th>\n",
       "      <th>post_code</th>\n",
       "      <th>city</th>\n",
       "      <th>latitude</th>\n",
       "      <th>longitude</th>\n",
       "      <th>first_active</th>\n",
       "      <th>openingtimes_json</th>\n",
       "    </tr>\n",
       "  </thead>\n",
       "  <tbody>\n",
       "    <tr>\n",
       "      <th>0</th>\n",
       "      <td>0e18d0d3-ed38-4e7f-a18e-507a78ad901d</td>\n",
       "      <td>OIL! Tankstelle München</td>\n",
       "      <td>OIL!</td>\n",
       "      <td>Eversbuschstraße 33</td>\n",
       "      <td>NaN</td>\n",
       "      <td>80999</td>\n",
       "      <td>München</td>\n",
       "      <td>48.180700</td>\n",
       "      <td>11.460900</td>\n",
       "      <td>1970-01-01 01:00:00+01</td>\n",
       "      <td>{\"openingTimes\":[{\"applicable_days\":192,\"perio...</td>\n",
       "    </tr>\n",
       "    <tr>\n",
       "      <th>1</th>\n",
       "      <td>44e2bdb7-13e3-4156-8576-8326cdd20459</td>\n",
       "      <td>bft Tankstelle</td>\n",
       "      <td>NaN</td>\n",
       "      <td>Schellengasse</td>\n",
       "      <td>53</td>\n",
       "      <td>36304</td>\n",
       "      <td>Alsfeld</td>\n",
       "      <td>50.752009</td>\n",
       "      <td>9.279039</td>\n",
       "      <td>1970-01-01 01:00:00+01</td>\n",
       "      <td>{}</td>\n",
       "    </tr>\n",
       "    <tr>\n",
       "      <th>2</th>\n",
       "      <td>ad812258-94e7-473d-aa80-d392f7532218</td>\n",
       "      <td>bft Bonn-Bad Godesberg</td>\n",
       "      <td>bft</td>\n",
       "      <td>Godesberger Allee</td>\n",
       "      <td>55</td>\n",
       "      <td>53175</td>\n",
       "      <td>Bonn</td>\n",
       "      <td>50.695100</td>\n",
       "      <td>7.142760</td>\n",
       "      <td>1970-01-01 01:00:00+01</td>\n",
       "      <td>{\"overrides\":[{\"startp\":\"2025-05-29 06:00\",\"en...</td>\n",
       "    </tr>\n",
       "    <tr>\n",
       "      <th>3</th>\n",
       "      <td>cdaa1ef5-9c3d-499d-869a-1c970beba775</td>\n",
       "      <td>OIL! tank &amp;amp; go Automatentankstelle Friedri...</td>\n",
       "      <td>OIL! (Automatenstation)</td>\n",
       "      <td>Koogstr. 16</td>\n",
       "      <td>NaN</td>\n",
       "      <td>25718</td>\n",
       "      <td>Friedrichskoog</td>\n",
       "      <td>53.992100</td>\n",
       "      <td>8.940690</td>\n",
       "      <td>2014-03-18 16:45:31+01</td>\n",
       "      <td>{}</td>\n",
       "    </tr>\n",
       "    <tr>\n",
       "      <th>4</th>\n",
       "      <td>005056ba-7cb6-1ed2-bceb-66e14a634d1f</td>\n",
       "      <td>ORLEN Tankstelle</td>\n",
       "      <td>ORLEN</td>\n",
       "      <td>Curt-Schröter-Straße</td>\n",
       "      <td>2</td>\n",
       "      <td>39179</td>\n",
       "      <td>Barleben / Ebendorf</td>\n",
       "      <td>52.181182</td>\n",
       "      <td>11.585476</td>\n",
       "      <td>2014-03-18 16:45:31+01</td>\n",
       "      <td>{}</td>\n",
       "    </tr>\n",
       "  </tbody>\n",
       "</table>\n",
       "</div>"
      ],
      "text/plain": [
       "                                   uuid  \\\n",
       "0  0e18d0d3-ed38-4e7f-a18e-507a78ad901d   \n",
       "1  44e2bdb7-13e3-4156-8576-8326cdd20459   \n",
       "2  ad812258-94e7-473d-aa80-d392f7532218   \n",
       "3  cdaa1ef5-9c3d-499d-869a-1c970beba775   \n",
       "4  005056ba-7cb6-1ed2-bceb-66e14a634d1f   \n",
       "\n",
       "                                                name                    brand  \\\n",
       "0                            OIL! Tankstelle München                     OIL!   \n",
       "1                                     bft Tankstelle                      NaN   \n",
       "2                             bft Bonn-Bad Godesberg                      bft   \n",
       "3  OIL! tank &amp; go Automatentankstelle Friedri...  OIL! (Automatenstation)   \n",
       "4                                   ORLEN Tankstelle                    ORLEN   \n",
       "\n",
       "                 street house_number post_code                 city  \\\n",
       "0   Eversbuschstraße 33          NaN     80999              München   \n",
       "1        Schellengasse            53     36304              Alsfeld   \n",
       "2     Godesberger Allee           55     53175                 Bonn   \n",
       "3           Koogstr. 16          NaN     25718       Friedrichskoog   \n",
       "4  Curt-Schröter-Straße            2     39179  Barleben / Ebendorf   \n",
       "\n",
       "    latitude  longitude            first_active  \\\n",
       "0  48.180700  11.460900  1970-01-01 01:00:00+01   \n",
       "1  50.752009   9.279039  1970-01-01 01:00:00+01   \n",
       "2  50.695100   7.142760  1970-01-01 01:00:00+01   \n",
       "3  53.992100   8.940690  2014-03-18 16:45:31+01   \n",
       "4  52.181182  11.585476  2014-03-18 16:45:31+01   \n",
       "\n",
       "                                   openingtimes_json  \n",
       "0  {\"openingTimes\":[{\"applicable_days\":192,\"perio...  \n",
       "1                                                 {}  \n",
       "2  {\"overrides\":[{\"startp\":\"2025-05-29 06:00\",\"en...  \n",
       "3                                                 {}  \n",
       "4                                                 {}  "
      ]
     },
     "execution_count": 3,
     "metadata": {},
     "output_type": "execute_result"
    }
   ],
   "source": [
    "stations.head()"
   ]
  },
  {
   "cell_type": "code",
   "execution_count": 3,
   "id": "0909866c",
   "metadata": {},
   "outputs": [],
   "source": [
    "#we delete the stations that start with 00000, which are just test data\n",
    "stations = stations[~stations[\"uuid\"].astype(str).str.startswith(\"000000\")]"
   ]
  },
  {
   "cell_type": "code",
   "execution_count": 4,
   "id": "6fbd1e64",
   "metadata": {},
   "outputs": [
    {
     "data": {
      "text/plain": [
       "673"
      ]
     },
     "execution_count": 4,
     "metadata": {},
     "output_type": "execute_result"
    }
   ],
   "source": [
    "stations['brand'].isnull().sum()"
   ]
  },
  {
   "cell_type": "code",
   "execution_count": 5,
   "id": "5a6baf86",
   "metadata": {},
   "outputs": [
    {
     "data": {
      "text/plain": [
       "1"
      ]
     },
     "execution_count": 5,
     "metadata": {},
     "output_type": "execute_result"
    }
   ],
   "source": [
    "stations['name'].isnull().sum()"
   ]
  },
  {
   "cell_type": "code",
   "execution_count": 6,
   "id": "04c5f9ca",
   "metadata": {},
   "outputs": [
    {
     "data": {
      "application/vnd.microsoft.datawrangler.viewer.v0+json": {
       "columns": [
        {
         "name": "index",
         "rawType": "int64",
         "type": "integer"
        },
        {
         "name": "uuid",
         "rawType": "object",
         "type": "string"
        },
        {
         "name": "name",
         "rawType": "object",
         "type": "unknown"
        },
        {
         "name": "brand",
         "rawType": "object",
         "type": "unknown"
        },
        {
         "name": "street",
         "rawType": "object",
         "type": "string"
        },
        {
         "name": "house_number",
         "rawType": "object",
         "type": "string"
        },
        {
         "name": "post_code",
         "rawType": "object",
         "type": "string"
        },
        {
         "name": "city",
         "rawType": "object",
         "type": "string"
        },
        {
         "name": "latitude",
         "rawType": "float64",
         "type": "float"
        },
        {
         "name": "longitude",
         "rawType": "float64",
         "type": "float"
        },
        {
         "name": "first_active",
         "rawType": "object",
         "type": "string"
        },
        {
         "name": "openingtimes_json",
         "rawType": "object",
         "type": "string"
        }
       ],
       "ref": "f631172a-ffa3-4cda-9ddb-ec3fa052e4eb",
       "rows": [
        [
         "5947",
         "5bae2ff4-6656-489e-8a0d-96683a7fc9df",
         "Öl-Weckerle GmbH ",
         "Weckerle",
         "Industriestr.",
         "2",
         "72516",
         "Scheer",
         "48.06354",
         "9.29864",
         "2014-03-18 16:45:31+01",
         "{}"
        ],
        [
         "12964",
         "63b515a8-ad1c-4ae4-964f-34a138391987",
         "Ötün bft-Tankstelle",
         null,
         "Neulandstraße ",
         "6",
         "77855",
         "Achern",
         "48.636284",
         "8.063647",
         "2014-03-18 16:45:31+01",
         "{}"
        ],
        [
         "12681",
         "e1a15081-257e-9107-e040-0b0a3dfe563c",
         "Überlingen, Zur Weierhalde 1",
         "HEM",
         "Zur Weierhalde ",
         "1",
         "88662",
         "Überlingen",
         "47.77431944",
         "9.19165556",
         "2014-03-18 16:45:31+01",
         "{\"openingTimes\":[{\"applicable_days\":63,\"periods\":[{\"startp\":\"06:00\",\"endp\":\"22:00\"}]},{\"applicable_days\":64,\"periods\":[{\"startp\":\"07:00\",\"endp\":\"22:00\"}]}]}"
        ],
        [
         "14280",
         "2254b8cd-866b-49df-bd54-cbc36c2e7ed6",
         "Übersee, Bahnhofstr. 85",
         "HEM",
         "Bahnhofstr. ",
         "89",
         "83236",
         "Übersee",
         "47.819016",
         "12.49646",
         "2015-08-22 00:00:01+02",
         "{\"openingTimes\":[{\"applicable_days\":63,\"periods\":[{\"startp\":\"06:00\",\"endp\":\"22:00\"}]},{\"applicable_days\":64,\"periods\":[{\"startp\":\"07:00\",\"endp\":\"22:00\"}]}]}"
        ],
        [
         "16389",
         "00062652-734d-4444-8888-acdc00000001",
         null,
         "Günstige Tankstelle Schaal",
         "Abstatterstr.",
         "57",
         "74199",
         "Untergruppenbach",
         "49.083362579346",
         "9.3187141418457",
         "2021-09-30 22:01:16+02",
         "{}"
        ]
       ],
       "shape": {
        "columns": 11,
        "rows": 5
       }
      },
      "text/html": [
       "<div>\n",
       "<style scoped>\n",
       "    .dataframe tbody tr th:only-of-type {\n",
       "        vertical-align: middle;\n",
       "    }\n",
       "\n",
       "    .dataframe tbody tr th {\n",
       "        vertical-align: top;\n",
       "    }\n",
       "\n",
       "    .dataframe thead th {\n",
       "        text-align: right;\n",
       "    }\n",
       "</style>\n",
       "<table border=\"1\" class=\"dataframe\">\n",
       "  <thead>\n",
       "    <tr style=\"text-align: right;\">\n",
       "      <th></th>\n",
       "      <th>uuid</th>\n",
       "      <th>name</th>\n",
       "      <th>brand</th>\n",
       "      <th>street</th>\n",
       "      <th>house_number</th>\n",
       "      <th>post_code</th>\n",
       "      <th>city</th>\n",
       "      <th>latitude</th>\n",
       "      <th>longitude</th>\n",
       "      <th>first_active</th>\n",
       "      <th>openingtimes_json</th>\n",
       "    </tr>\n",
       "  </thead>\n",
       "  <tbody>\n",
       "    <tr>\n",
       "      <th>5947</th>\n",
       "      <td>5bae2ff4-6656-489e-8a0d-96683a7fc9df</td>\n",
       "      <td>Öl-Weckerle GmbH</td>\n",
       "      <td>Weckerle</td>\n",
       "      <td>Industriestr.</td>\n",
       "      <td>2</td>\n",
       "      <td>72516</td>\n",
       "      <td>Scheer</td>\n",
       "      <td>48.063540</td>\n",
       "      <td>9.298640</td>\n",
       "      <td>2014-03-18 16:45:31+01</td>\n",
       "      <td>{}</td>\n",
       "    </tr>\n",
       "    <tr>\n",
       "      <th>12964</th>\n",
       "      <td>63b515a8-ad1c-4ae4-964f-34a138391987</td>\n",
       "      <td>Ötün bft-Tankstelle</td>\n",
       "      <td>NaN</td>\n",
       "      <td>Neulandstraße</td>\n",
       "      <td>6</td>\n",
       "      <td>77855</td>\n",
       "      <td>Achern</td>\n",
       "      <td>48.636284</td>\n",
       "      <td>8.063647</td>\n",
       "      <td>2014-03-18 16:45:31+01</td>\n",
       "      <td>{}</td>\n",
       "    </tr>\n",
       "    <tr>\n",
       "      <th>12681</th>\n",
       "      <td>e1a15081-257e-9107-e040-0b0a3dfe563c</td>\n",
       "      <td>Überlingen, Zur Weierhalde 1</td>\n",
       "      <td>HEM</td>\n",
       "      <td>Zur Weierhalde</td>\n",
       "      <td>1</td>\n",
       "      <td>88662</td>\n",
       "      <td>Überlingen</td>\n",
       "      <td>47.774319</td>\n",
       "      <td>9.191656</td>\n",
       "      <td>2014-03-18 16:45:31+01</td>\n",
       "      <td>{\"openingTimes\":[{\"applicable_days\":63,\"period...</td>\n",
       "    </tr>\n",
       "    <tr>\n",
       "      <th>14280</th>\n",
       "      <td>2254b8cd-866b-49df-bd54-cbc36c2e7ed6</td>\n",
       "      <td>Übersee, Bahnhofstr. 85</td>\n",
       "      <td>HEM</td>\n",
       "      <td>Bahnhofstr.</td>\n",
       "      <td>89</td>\n",
       "      <td>83236</td>\n",
       "      <td>Übersee</td>\n",
       "      <td>47.819016</td>\n",
       "      <td>12.496460</td>\n",
       "      <td>2015-08-22 00:00:01+02</td>\n",
       "      <td>{\"openingTimes\":[{\"applicable_days\":63,\"period...</td>\n",
       "    </tr>\n",
       "    <tr>\n",
       "      <th>16389</th>\n",
       "      <td>00062652-734d-4444-8888-acdc00000001</td>\n",
       "      <td>NaN</td>\n",
       "      <td>Günstige Tankstelle Schaal</td>\n",
       "      <td>Abstatterstr.</td>\n",
       "      <td>57</td>\n",
       "      <td>74199</td>\n",
       "      <td>Untergruppenbach</td>\n",
       "      <td>49.083363</td>\n",
       "      <td>9.318714</td>\n",
       "      <td>2021-09-30 22:01:16+02</td>\n",
       "      <td>{}</td>\n",
       "    </tr>\n",
       "  </tbody>\n",
       "</table>\n",
       "</div>"
      ],
      "text/plain": [
       "                                       uuid                          name  \\\n",
       "5947   5bae2ff4-6656-489e-8a0d-96683a7fc9df             Öl-Weckerle GmbH    \n",
       "12964  63b515a8-ad1c-4ae4-964f-34a138391987           Ötün bft-Tankstelle   \n",
       "12681  e1a15081-257e-9107-e040-0b0a3dfe563c  Überlingen, Zur Weierhalde 1   \n",
       "14280  2254b8cd-866b-49df-bd54-cbc36c2e7ed6       Übersee, Bahnhofstr. 85   \n",
       "16389  00062652-734d-4444-8888-acdc00000001                           NaN   \n",
       "\n",
       "                            brand           street house_number post_code  \\\n",
       "5947                     Weckerle    Industriestr.            2     72516   \n",
       "12964                         NaN   Neulandstraße             6     77855   \n",
       "12681                         HEM  Zur Weierhalde             1     88662   \n",
       "14280                         HEM     Bahnhofstr.            89     83236   \n",
       "16389  Günstige Tankstelle Schaal    Abstatterstr.           57     74199   \n",
       "\n",
       "                   city   latitude  longitude            first_active  \\\n",
       "5947             Scheer  48.063540   9.298640  2014-03-18 16:45:31+01   \n",
       "12964            Achern  48.636284   8.063647  2014-03-18 16:45:31+01   \n",
       "12681        Überlingen  47.774319   9.191656  2014-03-18 16:45:31+01   \n",
       "14280           Übersee  47.819016  12.496460  2015-08-22 00:00:01+02   \n",
       "16389  Untergruppenbach  49.083363   9.318714  2021-09-30 22:01:16+02   \n",
       "\n",
       "                                       openingtimes_json  \n",
       "5947                                                  {}  \n",
       "12964                                                 {}  \n",
       "12681  {\"openingTimes\":[{\"applicable_days\":63,\"period...  \n",
       "14280  {\"openingTimes\":[{\"applicable_days\":63,\"period...  \n",
       "16389                                                 {}  "
      ]
     },
     "execution_count": 6,
     "metadata": {},
     "output_type": "execute_result"
    }
   ],
   "source": [
    "namesorted = stations.sort_values('name')\n",
    "namesorted.tail()"
   ]
  },
  {
   "cell_type": "code",
   "execution_count": 7,
   "id": "745bf8bf",
   "metadata": {},
   "outputs": [],
   "source": [
    "# replace the missing name of Günstige Tankstelle Schaal with the brand name\n",
    "stations.loc[stations['brand'] == 'Günstige Tankstelle Schaal', 'name'] = stations['brand']"
   ]
  },
  {
   "cell_type": "code",
   "execution_count": 8,
   "id": "5150b977",
   "metadata": {},
   "outputs": [],
   "source": [
    "brand_counts = stations[\"brand\"].value_counts().to_dict()"
   ]
  },
  {
   "cell_type": "code",
   "execution_count": 9,
   "id": "77ff2a0c",
   "metadata": {},
   "outputs": [],
   "source": [
    "df_brand_counts = pd.DataFrame.from_dict(brand_counts, orient='index', columns=['count']).reset_index()\n",
    "df_brand_counts = df_brand_counts.rename(columns={'index': 'brand'})"
   ]
  },
  {
   "cell_type": "code",
   "execution_count": 42,
   "id": "2b28f7f6",
   "metadata": {},
   "outputs": [
    {
     "data": {
      "application/vnd.plotly.v1+json": {
       "config": {
        "plotlyServerURL": "https://plot.ly"
       },
       "data": [
        {
         "bingroup": "x",
         "histfunc": "sum",
         "hovertemplate": "brand=%{x}<br>sum of count=%{y}<extra></extra>",
         "legendgroup": "",
         "marker": {
          "color": "#636efa",
          "pattern": {
           "shape": ""
          }
         },
         "name": "",
         "orientation": "v",
         "showlegend": false,
         "type": "histogram",
         "x": [
          "ARAL",
          "Shell",
          "ESSO",
          "TotalEnergies",
          "AVIA",
          "JET",
          "STAR",
          "AGIP ENI",
          "Raiffeisen",
          "HEM",
          "BFT",
          "bft",
          "OIL!",
          "Freie Tankstelle",
          "SB",
          "CLASSIC",
          "Westfalen",
          "AVIA XPress",
          "Supermarkt-Tankstelle",
          "Hoyer",
          "Sprint",
          "Q1",
          "ED",
          "team",
          "BayWa",
          "ORLEN",
          "freie Tankstelle",
          "ELAN",
          "TOTAL",
          "Esso",
          "Freie",
          "Access",
          "NORDOEL",
          "PM",
          "Markant",
          "bft - Walther",
          "SCORE",
          "Tankcenter",
          "TotalEnergies Autohof",
          "Globus SB Warenhaus",
          "T",
          "Calpam",
          "Greenline",
          "Tankstelle",
          "Lanfer",
          "Frei",
          "GULF",
          "Roth- Energie",
          "OMV",
          "TotalEnergies Truckstop",
          "Supermarkt",
          "V-Markt",
          "RAN",
          "M1",
          "bft-willer",
          "tankpoint",
          "AVIA Xpress",
          "AVEX",
          "Agip",
          "Marktkauf",
          "Bavaria Petrol",
          "Heinrich Albers OHG",
          "TopTank",
          "SB-Markttankstelle",
          "BK",
          "TAS",
          "ZG Raiffeisen Energie",
          "Supermarkt-Tankstelle am real,- Markt",
          "MTB",
          "Markant (Tankautomat)",
          "Markenfreie TS",
          "Lanfer Energie",
          "GO",
          "VR PLUS Energie",
          "OIL! (Automatenstation)",
          "FELTA",
          "ALLGUTH",
          "EDEKA",
          "BELL Oil",
          "Pludra",
          "HERM",
          "Jantzon Tankstelle",
          "Hoyer Energy Direct",
          "Mr. Wash Autoservice AG",
          "SUPOL",
          "ORLEN Express",
          "Walther Automatenstation",
          "Mundorf Tank",
          "ELO",
          "PIN Service-Station",
          "EC Tankstelle Rolfes",
          "Wiro",
          "TinQ",
          "Honsel",
          "Leu Energie",
          "avanti",
          "Supermarkt C&C",
          "REWE",
          "LEO",
          "Bft",
          "Bergler",
          "Hessol",
          "Bremer Mineralölhandel GmbH",
          "Raiffeisen Mitte",
          "FAMILA",
          "Aral Tankstelle",
          "AVIA Truck",
          "TAMOIL",
          "Raiffeisen-Landbund eG",
          "Pinoil",
          "Kaufland",
          "A Energie",
          "Zieglmeier Tankstelle",
          "Kuster Energy",
          "Avia",
          "Raiffeisen EG",
          "Winkler 24h",
          "Knies+Lagotka",
          "SWE Südwestenergie GmbH",
          "REWE-Tankstelle",
          "CleanCar",
          "Argos",
          "E-Center",
          "Seitz Martin Tankstellen",
          "Raiffeisen Groß Lessen-Diepholz",
          "Raiffeisen Hunsrück",
          "Rakelbusch",
          "BMÖ",
          "Tankstelle Grüne",
          "DELTIN",
          "BURGER 24H",
          "Famila",
          "famila tank",
          "Tankpoint",
          "E Center",
          "Schillhorn Tankstelle",
          "Tramin",
          "MINERA",
          "Schuster & Sohn KG",
          "W. Dorst",
          "Mengin",
          "Budget Oil",
          "ENI",
          "KÖHN & PLAMBECK",
          "JOISS",
          "frei",
          "GREBE",
          "FENEBERG",
          "PM24",
          "PM Xpress",
          "WIKING",
          "Sigmund Hoffmann",
          "Lenz Energie",
          "Pickelmann",
          "LBD Tankstelle",
          "SB Markt",
          "SVG-Nordrhein eG",
          "Sunoil",
          "Kaiser Energie",
          "Frühmesser GmbH",
          "Raiffeisen Hatten eG",
          "EDi",
          "AHR",
          "CardTank 24",
          "Gulf",
          "GS Die Genossenschaft eG",
          "PM Xpress 24",
          "BUNTE MINERALÖLHANDEL GMBH",
          "bft-Station",
          "bft-Tankstelle",
          "SB-Tanken",
          "Hempelmann",
          "EDi Hohenlohe",
          "OKTAN",
          "LOMO",
          "SUED TREIBSTOFF",
          "Joiss",
          "Raiffeisen Mansfeld",
          "Raiffeisen Tankstelle",
          "CITTI",
          "TANKHOF GRÜN",
          "SVG",
          "SB-Tank am HIT (Mundorf Tank)",
          "Behrenswerth",
          "TTM Meiwes",
          "tankpool24",
          "Schillhorn Tankstellen",
          "Winkler",
          "Freie Tankstelle ",
          "SB Tankstelle",
          "bft (Heimburger)",
          "Ahlert Junior",
          "myEnergy",
          "SIT",
          "TAP PflipsenGroup",
          "Globus Baumarkt",
          "Jung",
          "Tilly Hedrich",
          "BFT Tankstelle",
          "NUSSER",
          "famila Nordost",
          "MU Mallasch & Uhlen",
          "RWG Bissel-Halenhorst eG",
          "Weidemann-Tank",
          "RUMAG Energy Tankstelle",
          "HIT (Supermarkt TS)",
          "LOOS",
          "HAWA Flüssiggas GmbH",
          "Reibert",
          "Fulmin",
          "Tucht",
          "MINOL",
          "SB Automatenstation ",
          "Tecklenburg Tankstelle",
          "24h Tankautomat Albers",
          "AS Mineralöle",
          "EXTROL",
          "FIP",
          "Raiffeisen Waren GmbH",
          "West-Tank",
          "Tankstop 24h",
          "TAP",
          "GASOLIN",
          "ADAP Tankstelle",
          "Richter Mineralöl GmbH & Co KG",
          "ECO Tankstation",
          "Gerhard Leger GmbH - freie Tankstelle",
          "Rapp - Freie Tankstelle",
          "Paul Fischer GmbH",
          "budget öl",
          "T Xpress",
          "bft-Tankstation",
          "Freie Tankstelle Rolfes",
          "Trigema",
          "HMH",
          "Brzezina GmbH Heiligenloh",
          "Elf",
          "Deppe Freie Tankstellen",
          "Autol",
          "MTB Tankstelle",
          "City Tank",
          "Schonhoff Mineralöle",
          "Tank & Shop",
          "BFT-Tankstelle Kloiber GmbH",
          "blitz-tank",
          "Dorst",
          "Raimund",
          "1A Tank",
          "Beer Energien GmbH & Co. KG",
          "Andreas Lorenzen",
          "BFT Automatentankstelle",
          "ECO",
          "HMH Mineralöl Service",
          "Tankstelle Schreyer",
          "Raiffeisen-Warengenossenschaft Budjadingen-Seefeld eG",
          "Tank & Wasch Udo Rosch",
          "Markttankstelle",
          "Engelmann",
          "freie",
          "LTG",
          "Tankpool24",
          "bft SENG Hattenhof",
          "bft-Tankstelle Hölker GmbH",
          "Mandler Tank & Wasch",
          "famila",
          "MHT",
          "Lakota-Reisen",
          "SPREVES",
          "Brzezina GmbH - Drebber",
          "Citi Oil SB Tankstelle",
          "Wilhelm Claas GmbH",
          "Raimund Mineralöl GmbH",
          "Dieselmann",
          "Bauer Oelzapf Mineralölvertrieb GmbH",
          "WATA waschen & tanken eK.",
          "Gruber Freie Tankstelle",
          "RUMAG GmbH",
          "Stiegler",
          "Autohaus Baumer Abensberg",
          "Freie ",
          "PLUDRA",
          "Ortlepp",
          "Vorteil-Center",
          "CleanCar AG",
          "Eberhardt",
          "Autohaus Braun",
          "BfT",
          "Beducker",
          "StarkStelle",
          "LD Tankstelle",
          "TankDiscount24",
          "Freie Tankstelle Kuhl",
          "Preis",
          "Sonstige",
          "BRANDOL",
          "Tankstelle Bily GmbH & CO KG",
          "K+K",
          "Lamberjohann",
          "famila Nordwest",
          "Edeka C + C",
          "agritura Raiffeisen eG",
          "AGRAVIS",
          "Freie TS",
          "Tankstelle Scharlibbe",
          "Brzezina / Wiechers Diepholz",
          "C+C Markt",
          "Richter Pooltankstellen GmbH & Co.KG",
          "AVIAXpress",
          "MLZ",
          "WELTER",
          "Raiffeisen Vogelsberg GmbH",
          "nicht mehr aktiv",
          "Tankstelle Kassner GmbH",
          "Marco Bungalski GmbH",
          "Autohaus Otto Menger GmbH & Co. KG",
          "Köhn & Plambeck",
          "Metank",
          "AMB",
          "BFT-Tankstelle",
          "Peter Eggers GmbH",
          "Ruhe Agrar GmbH",
          "GESCHLOSSEN",
          "MTB Automatentankstelle",
          "Pfeffer",
          "Tankstelle Lukosek",
          "Ektra",
          "Classic Tankstelle",
          "Orosol",
          "T & W",
          "Raiffeisen Aßling",
          "SUN",
          "DEA",
          "Nuttelmann Tankservice",
          "Tankstelle Ultsch",
          "Zaubzer Energie GmbH",
          "Eurotank",
          "EIXOL",
          "Tank Plus",
          "Ludger Brämswig GmbH",
          "Schrewe & Fip EnergiePart",
          "Tankstelle Ehret",
          "H. Sattler KG",
          "Lenz",
          "Lanfer-Energie",
          "Haisch TankCenter",
          "Kling Energie",
          "Walther Automatentankstelle",
          "Calpam Express",
          "SB-Tankstelle",
          "24-Stunden Tankstelle Sellner",
          "Brachthäuser",
          "Broering Tankstelle",
          "MTB / Tank-Netz",
          "KTS GmbH",
          "BAGeno Raiffeisen EG",
          "Felsch Mineralöl",
          "Kuster Oil GmbH",
          "Raiffeisen eG",
          "SB Tanken",
          "Oktan Express",
          "WISOIL GmbH",
          "Q1 Automaten-Tankstelle",
          "K&S Freie Tankstelle",
          "Globus Baumarkt Wittlich",
          "Schillhorn Mineralöle GmbH Tönning",
          "Westfalen Tankstelle",
          "bft Tankstelle Hartenstein",
          "Schlicker Transport GmbH ",
          "Klemm",
          "Freie Tankstelle Ehmann",
          "MGS Tankstelle",
          "TAP Oberhausen",
          "Rewe Tankstelle Olching",
          "Englert",
          "SB Tankstelle Raker",
          "Schillhorn Mineralöle GmbH Hemme",
          "Schillhorn Tankstellen GmbH Gudendorf",
          "Freie Automatentankstelle",
          "MTB-Tankstelle AH Schlecht",
          "BURKHARD",
          "BFT Tankhaus Pennekamp",
          "bft Tankstelle Neussel",
          "Tramin City Tank",
          "Auto Riedel",
          "Tankstelle Zens GmbH",
          "Tankhof Norsingen",
          "Autohaus Röse GbR",
          "Tankstelle Autohaus Hutter Roh",
          "BFT Tankstelle Ewald Leiber ",
          "Greiner",
          "OHO - Tankstelle & Shop",
          "EP Tankstelle",
          "Auto Huber",
          "blakert.de VW in Osterwick",
          "Tankstelle Marco Gaubig",
          "Freie Tankstelle Seltenberg",
          "Beyer Tankstelle",
          "CU24h",
          "Wolber",
          "L.Baierer",
          "bft - Tankstelle",
          "Express Tank",
          "FTF Tankstelle Mulda",
          "DCS-Tankstelle",
          "Stoffregen",
          "Oel-Huff",
          "Kröber SB Diesel + Adblue",
          "Autohaus Bauer",
          "ED-Freie-Tankstelle",
          "Autohaus Schmid",
          "BFT Horheim",
          "Tankstelle Barver",
          "Bft Tankstelle Finder",
          " Autohof Frechen (Mundorf Tank)",
          "Tankstelle Mp-21",
          "S-TANK Hohenwart",
          "Kattner\\'s Freie Tankstelle GmbH",
          "Tankstelle am Marktkauf",
          "Kattner's Freie Tankstelle GmbH",
          "Dörge Brennstoffe & Dienstleistungen",
          "KÖHN PLAMBECK",
          "Gohde",
          "Freie Tankstelle Schröder",
          "Tank u. Waschcenter Harting GmbH",
          "Freie Faldera Tankstelle Günzel",
          "Freie Tankstelle Autohaus Knieper GmbH",
          "NEO",
          "Süd-Treibstoff Tankstelle",
          "Iboil Tankstellen UG",
          "Tank & Waschcenter Rohsiepe",
          "Andreas Sauter GmbH & Co. KG",
          "bft-Tankstelle ",
          "Tankstelle Gröditsch",
          "HAUER",
          "SBK - Tankstelle",
          "bft - Tankstelle Laubach",
          "Kfz-Werkstatt u. Tankstelle Winkler",
          "Halfmann Mineralöl GmbH & Co. KG",
          "Tankstelle Haar",
          "Freie Tankstelle Schürkötter & Bleckmann GmbH",
          "Freie Tankstelle Wessels",
          "Autoservice Spitz Tankstelle",
          "HTN-Tankstelle J.Nienhaus",
          "Tankstelle am Kiebitzmarkt",
          "Raiffeisen Tankverbund GmbH",
          "Freie Tankstelle Mangold",
          "Raiffeisen Adelebsen Uslar GmbH",
          "Freie Tankstelle Feldstetten",
          "TINOL Tankstelle",
          "TSR - Rossi",
          "Tankstelle Greil",
          "Wippenhohn",
          "Tankstelle Putbus",
          "Eller",
          "Autohaus Huber - freie Tankstelle",
          "trend tank GmbH",
          "Tankstelle Meier",
          "BFT Pickelmann",
          "AVIA Xpress Automatentankstelle",
          "Tebben Automobile / DHL Paketshop",
          "24h Tankstelle Schmidtler // Joe´s Carwash",
          "Freie Tankstelle Feher",
          "Hoyer bei Dodenhof",
          "Agroservice Tankstelle Waldenburg",
          "bft Tankstelle",
          "Rastpark24 GmbH & Co. KG",
          "EC - Tankstelle Rolfes",
          "Freie Tankstelle Henke",
          "LS&WD Handels-GmbH Tankstelle",
          "MR Tankstelle",
          "Selgros",
          "Winkler24h",
          "Doukkali Autoservice",
          "BHG Brennstoffhandel Großer Gmbh - Tankstelle an der B101",
          "JAF TANK GmbH",
          "WDG Tankstelle Bad Liebenwerda-Dobra",
          "Tankcenter Hafen",
          "MTB Tankstelle Auto-Heidt",
          "Autohaus Fritz Pieper",
          "KURZ-EBERT TELGTE TANKSTELLE",
          "Tankstelle Hauser KG",
          "Tankstelle West - Welldorf",
          "Nibelungentankstelle",
          "Zahradnik",
          "Am Prüfgelände, Tankstelle",
          "Tank- und Waschcenter BSB in Bersenbrück",
          "SB Tankstelle E&S",
          "Tank & Waschcenter Kirchberg",
          "Autohaus Luckey Freie Tankst.",
          "Bft zum Boxenstop",
          "Wörner",
          "Freie Tankstelle Hannöver",
          "Autohaus Anton Segbert GmbH & Co.  KG",
          "BFT Tankhof Stein",
          "Greenol",
          "Döringer",
          "Schaffers Brennstoffhandels GmbH",
          "Tankstelle Barthmann",
          "CarTank24",
          "TWS Niederfüllbach",
          "Ultsch-Tankstelle Bamberg",
          "Börde Agrarhandel",
          "Tankhof Kenzingen",
          "Tankport Süd",
          "Sidler Trillfingen 24H",
          "ELAN Xpress",
          "Freie Tankstelle Auto Schmidt GmbH",
          "Auto Wahl Sport OHG",
          "Eduard Kern Kfz GmbH",
          "BFT Tankstelle Gerstenlauer",
          "Rheinland Energie Monsche",
          "Rheinland Energie Sistig",
          "Tankstelle Hochspeyer 24h",
          "Ratio Elektronik GmbH",
          "Waschpark Fichtelgebirge",
          "CE Station",
          "Tankstelle Kreidl",
          "K u. W Tankstelle GbR",
          "Autohaus Unsin GmbH",
          "Wallner Freie Tankstelle",
          "Tankstelle Jödicke",
          "Gebrüder Neeb GmbH & Co. KG",
          "Lanzinger GmbH & Co.KG",
          "Schwaiger Freie Tankstelle",
          "Autohaus Bodach GmbH & Co. KG",
          "ASL Autoservice Laarwald GmbH",
          "Leins Automatentankstelle",
          "Freie Tankstelle Putbus",
          "Unsin Tankstelle",
          "Tankcenter SONNBORN",
          "Express Tankstelle ",
          "CLASSIC Scherer",
          "TS am Admira Center",
          "Tankstelle Autohaus Kuper GmbH & Co.KG",
          "bft Tankstelle Klöpper",
          "RLT",
          "Freie Tankstelle Hartmut Wrede",
          "Tankstelle am Waschpark",
          "Arns Tankstation Beverger",
          "Freie Tankstelle Dill",
          "Langlitz Mineralöl GmbH",
          "Eichele Freie Tankstelle ",
          "Freie Tankstelle Gertken",
          "Tankstelle Deger",
          "K+K Klaas & Kock",
          "AGIP",
          "Monwash 24H Tanken",
          "STEIGERWALDMOBILE",
          "Schrepfer",
          "Einhäupl",
          "Autohaus Kummich GmbH",
          "WEVAG",
          "Tankstelle JS",
          "SB Automatenstation",
          "Claus Vick OHG",
          "POWER KFZ",
          "Sauerwald",
          "Tankstelle Oberstadion",
          "Schmid & Zimmermann",
          "CLASSIC Blumlage",
          "ATR Automobile GmbH",
          "Raiffeisen HG Lichte eG",
          "Bernhard Ahlert GmbH & Co. KG",
          "BMÖ Xpress",
          "Freie Tankstelle Brüning GmbH",
          "Albert Zimmermann GmbH",
          "RM Kraftstoffe",
          "Calpam Express 24/7 Tanken",
          "Tankstellenservice Uwe Sonnebo",
          "CLASSIC Tankcenter Albers",
          "Avex",
          "Schonhoff GmbH",
          "Marktkauf Tankstelle",
          "G.Overhoff GmbH",
          "Freie Tankstelle K&K",
          "Joachim Lang Turmfeld",
          "AutoService Leiz 24H",
          "Autohaus Roth 24H",
          "Alois Killisperger GmbH",
          "Schnegula energie",
          "BFT Mirold",
          "Schopp Tankstelle Tübingen",
          "BFT Tankstelle Dortmund-Bodelschwingh",
          "Sprit point",
          "Strassburger Energy",
          "Tankstelle Schuster",
          "Auto-Wentsch MTB",
          "Tank- & Waschcenter Weiden",
          "Volkswagen Zentrum Hof",
          "Tankstation Oespel 6-22h",
          "Raiffeisenagrar - Zweigbetrieb der VR Bank eG Osnabrücker Nordland ",
          "MTB Automatentankstelle Fellbach",
          "Tankstelle Schiener GBR",
          "SH Tankstelle S. Hirlak",
          "Tankstation Wald-Michelbach 24",
          "Tankstation St. Ingbert Calpam",
          "Autohaus Schütt - Freie Tankstelle",
          "westrans 24/7",
          "Steigleiter",
          "Tankstelle Weiß Hünxe",
          "KEINE",
          "Zentral Tank",
          "Freie Tankstelle Herlach",
          "Freie Tankstelle Lothar Heinrich",
          "Hetzeltank",
          "Tankstelle Aures",
          "CLASSIC/WEVAG",
          "JAY Tankstelle",
          "Autohaus Schimmel e.K.",
          "Auto Spegel",
          "DK Energiehandel",
          "Hoth - Freie Tankstelle",
          "Fleming + Wendeln GmbH & Co. KG",
          "Freie Tankstelle Gall",
          "Feldhaus Energie",
          "RZ Zeislmeier GmbH",
          "Tankstelle Hans-Jürgen Bauer",
          "Auto-Wissler",
          "AVIA-Tankstelle",
          "Autohof Freienbrink",
          "Knies + Lagotka Tankpool24",
          "Zulauf Tanken",
          "Herm GmbH &Co.KG",
          "FreieTankstelle Stratmann",
          "Nitrol Tankstation Ahlert Junior",
          "Tankstelle Amler",
          "Rumag Energy - Automatentankstelle",
          "holz 24h",
          "EMOVA",
          "VTM fair Tanknetz GmbH",
          "Behringer Tankstelle",
          "Behringer 24h TS",
          "TEST",
          "Caspar",
          "Q1 Scherer",
          "EPT",
          "EDEKA Seng",
          "Bft Tankstelle Kurnaz",
          "Raiffeisen Tankstelle EC 24/7",
          "E-Center, Rossnagel",
          "Tankstelle Wegener",
          "Roth Energie & Tankstop Best",
          "SB-Service-Station Dettmer",
          "Tank & Waschcenter",
          "Adams",
          "Raiffeisenmarkt Oberstadion",
          "Autohaus Kaiser GmbH",
          "FT Mangold",
          "ch-tank Ost",
          "Freie Tankstelle Autofit Lambert",
          "WK Tank Berkatal",
          "Freie Tankstelle Schöllmann",
          "Unger + Guthier GmbH",
          "Knauber (PM)",
          "Tankstelle Gebauer",
          "Tankstelle Klaus Maier",
          "SHELL",
          "Freie Tankstelle Ihringen",
          "Automaten-Tankstelle",
          "Schneider Winkler24h",
          "Auto Claassen GmbH",
          "Tinex Tankstelle",
          "Wingenfeld Energie Gmbh",
          "Mineralölvertrieb Noeke Gmbh",
          "Hoyer Tank-Treff Lindau",
          "EDEKA Braun Tankstelle",
          "bft Wildetaube",
          "Autohaus Schneeberger GmbH & Co. KG",
          "K15 Tankstelle",
          "Freietankstelle Biederbach",
          "Freie Tankstelle Kemper",
          "von Bronk",
          "Janssen Mineralöle",
          "BHG Tankstelle GmbH",
          "Total (HERM)",
          "Freie Tankstelle Zajelsnik",
          "Classic Rademacher",
          "Sb",
          "KFZ Stiebitz",
          "Piening Tankstelle",
          "Freietankstelle Oberrotweil",
          "24h Tankautomat Albers ",
          "SMH GmbH",
          "Inntaler",
          "Bergler ",
          "Freietankstelle Griessen",
          "KAUFLAND",
          "Freie Tankstelle Rafael Widmann",
          "PM Express",
          "Das Auto e.K.",
          "BHM Beyer",
          "Günstige Tankstelle Schaal",
          "Tankstelle Gemmer",
          "Auto Schweiger",
          "Kretzler Tankstelle 24h",
          "Tankstelle Pflefka",
          "Vössing-Automobile",
          "Tankstelle Peter",
          "BS Tank",
          "Bunte Mineralölhandel GmbH",
          "Otto Steiner",
          "BFT Seehausen Wanzleben",
          "Calpam 24/7",
          "Freie Tankstelle Brunner",
          "Raiffeisen Benthullen",
          "RUSH",
          "DK Energiehandel ",
          "Kessel bft-Tankhof",
          "ACB-Autocenter-Biberach",
          "hauser.tankstelle",
          "Rominger Blaier",
          "Autohaus Schmidt",
          "Tankstelle Reurik",
          "Breipohl",
          "Geschlossen",
          "Autohaus Franz Saaler OHG",
          "Auto Gerbaulet",
          "Von Seggern GmbH",
          "Tankstation Lammersdorf CALPAM",
          "Freie Tankstelle AH Meyer",
          "Tobias Lehre GmbH",
          "Daubner",
          "Schorfheide",
          "TANKSTELLE KIRCHDORF",
          "TANKHOF RIEGEL Freie Tankst.",
          "Lanzinger Tanke ASL",
          "Freie Tankstelle Wahl KG",
          "Tankstelle Autohaus Meiners",
          "Wurzer R. - Freie Tankstelle",
          "Harting - Freie Tankstelle",
          "Dieseltankstelle Mauch",
          "Schumacher Roisdorf",
          " 24h Tankautomat Albers",
          "Tankstelle Späth",
          "Freie Tankstelle Schmelzer",
          "Tankstelle Lichtenfels",
          "Freie Tankstelle Bißlich",
          "WITTIG Tankautomatenstation",
          "Freie Tankstelle Dittmann",
          "TANKHOF STEINHEIM",
          "bft-Walther",
          "E+C",
          "Tankstelle Schäfer",
          "Meiers39",
          "Weckerle",
          "Lange Mineralöl GmbH",
          "Fip Tankcenter Laggenbeck",
          "Zander",
          "Börde Tanke",
          "Lanwehr",
          "Autohaus Nachtmann",
          "C&S",
          "Ludwig Mineralöle",
          "Georg Heinlein GmbH (FT)",
          "Hubert Thiele GmbH",
          "BeckmannLindemann GmbH",
          "MTB Tankstelle Saarbrücken",
          "EDEKA Walke",
          "Freie Tankstelle Faistenhaar",
          "TS ARNT",
          "TS Karmann tanken & mehr",
          "Freie Tankstelle Wiehe",
          "Rossnagel Tankstelle",
          "ALLGUTH ",
          "Calpam Express Ober-Ramstadt",
          "LKT",
          "Freie Tankstelle Lögering",
          "clean point",
          "Freie Tankstelle Baumann",
          "Wassertankstelle",
          "bft H. Gr. Höötmann Tankstellen GmbH",
          "Freie Tankstelle Rabeneck",
          "Tankstelle Pfrang  Aub",
          "Bendix",
          "Calpam Tankstelle",
          "Autohaus Knöpfle",
          "Tankstelle Wenker",
          "bft Tankstelle Reinersmann",
          "Freie Tankstelle Böttcher",
          "Kaiser/Freie-24h-Tankstelle",
          "AVIA ",
          " AVIA Xpress ",
          "Tank Stop Best",
          "Gerlinger MGH-Markelsheim",
          "Flora Park",
          "Raimund Tankstelle",
          "Autohaus Maier",
          "Autohaus Rickmeier GmbH",
          "FT",
          "Eberhardt Ubstadt",
          "Oel Schneider GmbH",
          "Freie Tankstelle Kaufmarkt",
          "Freie Tankstelle Niederl",
          "Tankstelle am Osterkanal",
          "Saggel GbR Lauenförde",
          "Shell Basedow",
          "LD Tankstelle Nürtingen",
          "Tankstelle  Ruehl",
          "Mineralölvertrieb Noeke GmbH",
          "Eberhardt Jöhlingen",
          "Freie Tankstelle Hans Hummel",
          "ssd GmbH",
          "Seiffert",
          "classic",
          "Tankstation Struthütten 24/7",
          "Tanken & Waschen Haas",
          "Freie Tankstelle Behrends",
          "Grüning Automobile Krempel",
          "Mineralöle Andrys",
          "TankCenter Badziong",
          "Steffens Kfz Rep. GmbH",
          "Tankstelle Lietsch",
          "SB Zentralmarkt",
          "PT 1",
          "BFT-freie Tankstelle",
          "Freie Tankstelle Prehn",
          "BFT Tankstelle Michael Richter",
          "Tanklager Baack",
          "Freie Tankstelle Schwägerl-Bäde",
          "Freie Tankstelle Salewski",
          "Tankstelle Motor-Nützel",
          "nordenergie",
          "Autohaus Jagow",
          "C+C Oberallgäu Lang-Steudler  ",
          "Autohaus Lang GmbH - BFT",
          "CARL MENNER",
          "VELA-Tankstelle",
          "BFT LUTZ GMBH VW-AUDI-SERVICE",
          "T (Supermarkt TS)",
          "Speed Point Eble",
          "Meurer Freie Tankstelle",
          "Tankhof Anders",
          "Albert Beck",
          "FIT",
          "Raiffeisenbank Oberstadion",
          "Freie Tankstelle Thode",
          "Car Friedrich GmbH",
          "Eberhardt Unteröwisheim",
          "BAUM",
          "Klink",
          "TANKHOF SAUERLACH",
          "Neumann Tankstelle GmbH",
          "Freie Tankstelle Wessel",
          "Eberhardt Forst",
          "Freie Tankstelle Laufer",
          "Tankstelle Schmid",
          "Agten Freie Tankstelle",
          "Astaller Tank-Express",
          "Mtb - Filderstadt  Ford-Stauch",
          "Krämer",
          "Bft Tankstelle Alte Huette",
          "Freie Tankstelle Grawinkel",
          "Profitank",
          "OTTO HATTENDORF GmbH",
          "Classic Knoll",
          "Drivers Inn Tankstelle",
          "Storz Heiztechnik",
          "DT Dietel Tank",
          "Schmid Tank- und Waschcenter",
          "Tankstelle Unterkirnach",
          "Hümmer KG",
          "VW Thierolf",
          "BFT Pieper",
          "Autohaus Hackmann",
          "Freie Tankstelle Loder",
          "bft Tankstelle Wedding e.K.",
          "Freie Tankstelle Ostermünchen",
          "LD Tankstelle Herlikofen",
          "Kessel Mineralöl",
          "Freie Tankstelle Tank & Shop",
          "GILLET",
          "BFT Willig´s GTR-Tankhof",
          "Reitmayr TS",
          "Hüter Einkaufszentrum",
          "Tankstelle Kaiser",
          "Schwarzkopf",
          "Freie Tankstelle Herold",
          "Sprit Point",
          "Tankstelle Luker",
          "Freie Tankst. ",
          "AUTO ZOTZ Landau in der Pfalz   Tanken und waschen",
          "Möbel Inhofer GmbH & Co. KG                ",
          "Tankstelle Dreyer",
          "Strelapark Tank",
          "Gerlinger Weikersheim",
          "Freie Tankstelle GS Tank Schmidt",
          "Freie Tankstelle Pöpken",
          "Tankstelle mit BEDIENUNG",
          "KFZ-Service Schneider",
          "Tankstelle Mahlstetten",
          "Schäfer",
          "Tankstelle Kuhn",
          "Depenbrock Freie Tankstelle",
          "Auto Seidl",
          "Autohaus Richt Ohg",
          "Tankstelle Hirse",
          "Freie Tankstelle Sakoman",
          "Lölfin Tankstelle",
          "Freie Tankstelle Frank Ziller e.K.",
          "Freie Tankstelle Meyer ",
          "BFT Freie Tankstelle Badbergen",
          "DBV",
          "TINQ",
          "Freie Tankstelle Witzel",
          "Graf",
          "BSB Benzinkontor GmbH & Co. KG",
          "Frommann Energie",
          "Freie Tankstelle Neusaess",
          "AUTO ZOTZ Herxheim b.LD.       Tanken an L.493",
          "SB-Tank Scherer",
          "Landtankstelle",
          "Freie Tankstelle Langhans Gmbh",
          "MOROF ",
          "Freie Tankstelle Schneider",
          "Fip Tankcenter Dörenthe",
          "Freie Tankstelle Krenn",
          "24h TANKEN",
          "Nordgarage 24H",
          "Auto Walter KG",
          "Tankstelle Klinger",
          "Tankstelle-Reilmann",
          "GVS",
          "BFT - Freie Tankstelle",
          "DEXX",
          "SEEL",
          "Tankstelle Lösenbach",
          "Freie Tankstelle Lampa",
          "Rubart",
          "Die Zapfsäule Krefeld ",
          "SCHARR-Tankstelle",
          "TOP",
          "Eberhardt Hambrücken",
          "TAP Duisburg",
          "Freie Tankstelle Häring",
          "Deglmann Tankcenter",
          "Schnorberger",
          "Beernink´s Freie Tankstelle",
          "Kaiser Freie Tankstelle/Shop",
          "Freie Tankstelle Blatt",
          "Freie Tankstelle Leyh GmbH",
          "Tankstelle Teuchern",
          "SB Tankstelle Wallner",
          "Freie Tankstelle AH Holste",
          "BFT Eilsleben",
          "Freie Tankstelle Weilheim-Teck",
          "Freie Tankstelle Schütte",
          "Mc Sprit",
          "Hirschmann",
          " Freie Tankstelle Hirschmann",
          "Tankstelle & Espressobar Nardi",
          "R. Tesche GmbH",
          "Tank und Wasch",
          "SB-Tanken Herget",
          "Tank und Waschcenter",
          "Raiffeisen Tungeln",
          "Raiffeisen - LBAG Schmalenbrücke eG",
          "Kühling Tankstelle",
          "Tankhof Lengenfeld",
          "BFT Auto-Team GmbH",
          "Ott Transporte-Tankstelle e.K.",
          "SB-Tankstelle Illerpark Rieden",
          "Günstig-Tanken - TST",
          "Roth- Station",
          "Schütz - Freie Tankstelle",
          "Frei Tankstelle Lange",
          "bft Tankstelle Wiegand",
          "Auto-Kohler",
          "Autofit Freie Tankstelle",
          "BFT ",
          "Neeb Tank",
          "Stoffmehl",
          "Freie Tankstelle Rinck",
          "BFT Tankstelle Mucke",
          "Classic",
          "Morgenstern GmbH - Freie Tankstelle Liblar",
          "Oel - Heim",
          "Egenolf Freie TS",
          "AMIDI Freie Tankstelle",
          "WEVAG Autohof",
          "DEMO Tank",
          "Auto-Kohler KG ",
          "Autohaus Wankmüller GmbH",
          "Auto-Service Schleiz GmbH",
          "roth",
          "Tank- und Waschpark Lahr",
          "bft Dobner",
          "Freie Tankstelle Limmer",
          "bft Wilstacke + Growe",
          "Union Zapfstelle",
          "Easy Sprit",
          "Walther Automatenstation ",
          "Günstig-Tanken Automatenstation",
          "Freie Tankstelle Cinar",
          "Tankstelle Heinz",
          "Toms Tankstelle",
          "TankPoint Berneck",
          "Tankstelle Wachinger",
          "BAG Creglingen",
          "Autohaus Scheuerer GmbH",
          "S-TANK Kühbach",
          "Tank & Waschcenter Auerbach",
          "Tankstelle Cunow Marklohe",
          "S-TANK Langenpettenbach",
          "Tankstelle Mauermayer & Jäger",
          "Tankstelle Cunow Nienburg",
          "S-TANK Biberbach",
          "K&S",
          "Haisch-tank",
          "Freie Tankstelle Union Tankhof",
          "Freie Tankstelle ASL",
          "Schiffer & Nicklaus Gmbh",
          "Tank + Wasch Paradies Fuchs",
          "Schiffer & Nicklaus GmbH",
          "Freie KANNE Tankstelle",
          "Raiffeisen Lagerhaus Eschlkam",
          "Hoerndl Freie Tankstelle",
          "Autohaus König",
          "Auto-Service-Bund",
          "Rudi Strobler",
          "arwe",
          "BFT Tankstelle Blattmann",
          "KARO Tankstelle (frei)",
          "ch-tank",
          "DONIG ARAL-Vertrieb",
          "Freie Tankstelle E. Wippenhohn e.K.",
          "Tankstelle Still",
          "Freie/ESSOTankstelle",
          "TankCenter Europoint",
          "LD Tankstelle Fellbach",
          "Tankstelle Paul Ziefle",
          "BFT Krüger Hodenhagen",
          "Freie Tankstelle Hündl",
          "Landhandel Niehues",
          "BAG Hohenlohe",
          "Schindele, Lochbrücke",
          "Tankstelle Schlögl",
          "agron",
          "BauXpert Gebhard",
          "Willi Walter GmbH",
          "Leu Energie GmbH",
          "EC-Tankstelle Meemken",
          "TANK 24",
          "STB Tankstelle",
          "Freie Tankstelle Hartmann",
          "Egon von Haw",
          "PT Tankstelle Becker",
          "gelöscht",
          "LIQUI-MOLY",
          "Fip Tankcenter Mettingen",
          " F T B",
          "Freie SB-Tankstelle Feil",
          "Freie Tankstelle Wagner",
          "V-Markt Marktoberdorf",
          "Freie Tankstelle Huber",
          "Freie Tankstelle Krause",
          "CT Mineralöle",
          "Tankbistro Selgros",
          "Autowelt Bad Saulgau GmbH",
          "Autohaus Andre",
          "PS-Laden",
          "Lölfin",
          "Raiffeisen Muecke",
          "Freie Tankstelle Esch",
          "Tankstelle Klüver",
          "Eberhardt (Diedelsheim)",
          "TANKTREFF KREMPERHEIDE",
          "Reifen Labetzke Tankstelle",
          "H & F Logistik GmbH",
          "BTW",
          "freie tankstelle",
          "super wash",
          "Josef Höckelmann KG",
          "Wengel & Dettelbacher GmbH",
          "Freie Tankstelle Teichmann",
          "Edeka",
          "Wittmann Oil",
          "Tankstelle Schröder",
          "Fina",
          "Tankstelle Senftl",
          "Freie Tankstelle Fuhr",
          "Tankstelle Klaeser",
          "Tankstelle Buckreus",
          "Agroservice Tankstelle Nobitz",
          "Tankzentrum Lacher",
          "DS card + drive GmbH",
          "Eichhorn AG",
          "AVIA XPresss",
          "Turbo",
          "Azur",
          "MINERA  Automatenstation",
          "Argos Tankstelle",
          "Pink-Tank",
          "ST2 Tankstelle",
          "Tank Schäfer",
          "QPT",
          "freie Tankstelle Endrass",
          "P&K Tank-und DL GmbH",
          "RWZ-Kassel",
          "Nicht mehr aktiv",
          "BFT / Tankstelle  Lang",
          "bft Tankstelle Emir",
          "Tankstelle am Kraftwerk",
          "Freie Tankstelle Herbert Klink",
          "Freie Tankstelle Heinzelmann",
          "Freie Tankstelle Piper",
          "Tankstelle Donautal",
          "mtb",
          "Tank am Ring",
          "Havelland Agrar eG Weseram",
          "Freie Tankstelle Schramm",
          "B-Station",
          "Supermarkt Tankstelle",
          "Tankstelle Schlotter",
          "Rottal Tankstelle  ",
          "A. Kuenstler GmbH",
          "Freie Tankstelle Lente Center",
          "Deltin",
          "Kirschbaum",
          "Tankstelle Brey",
          "TS - GREIL IFFELDORF",
          "Tankstelle Denner",
          "bft-Tankstelle Vogl",
          "Fritz Walter GmbH",
          "Freie Tankstelle Vorrink",
          "GT Brennstoffvertrieb GmbH",
          "BfT Tankstelle",
          "Alb-Donau-Center",
          "Baso Express",
          "Flaeming Tank",
          "Q1 Tankstelle",
          "Tank und Waschservice Schuch",
          "SBT",
          "Metz GmbH",
          "Freie Tankstelle Körschen",
          "Die Grüne",
          "SB Tanken 24H",
          "Rundel Mineralölvertrieb",
          "Freie+Tankstelle",
          "K1 Tanstelle",
          "Tankstelle Emmerling",
          "Avia Schmidt",
          "Freie Tankstelle Bayer",
          "Tankstelle Langwasser",
          "Profi-T",
          "BFT Bahrendorf",
          "Freie Tankstelle Kühling Transporte",
          "FREIE WELLE",
          "Zahradnik GmbH",
          "Tankstelle Aitrachtal",
          "Classic Tankstelle Wirth",
          "BFT Huddelbusch",
          "bft - Freie Tankstelle",
          "Tankstellen Voss GmbH"
         ],
         "xaxis": "x",
         "y": {
          "bdata": "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",
          "dtype": "i2"
         },
         "yaxis": "y"
        }
       ],
       "layout": {
        "autosize": false,
        "barmode": "relative",
        "height": 800,
        "legend": {
         "tracegroupgap": 0
        },
        "margin": {
         "t": 60
        },
        "template": {
         "data": {
          "bar": [
           {
            "error_x": {
             "color": "#2a3f5f"
            },
            "error_y": {
             "color": "#2a3f5f"
            },
            "marker": {
             "line": {
              "color": "#E5ECF6",
              "width": 0.5
             },
             "pattern": {
              "fillmode": "overlay",
              "size": 10,
              "solidity": 0.2
             }
            },
            "type": "bar"
           }
          ],
          "barpolar": [
           {
            "marker": {
             "line": {
              "color": "#E5ECF6",
              "width": 0.5
             },
             "pattern": {
              "fillmode": "overlay",
              "size": 10,
              "solidity": 0.2
             }
            },
            "type": "barpolar"
           }
          ],
          "carpet": [
           {
            "aaxis": {
             "endlinecolor": "#2a3f5f",
             "gridcolor": "white",
             "linecolor": "white",
             "minorgridcolor": "white",
             "startlinecolor": "#2a3f5f"
            },
            "baxis": {
             "endlinecolor": "#2a3f5f",
             "gridcolor": "white",
             "linecolor": "white",
             "minorgridcolor": "white",
             "startlinecolor": "#2a3f5f"
            },
            "type": "carpet"
           }
          ],
          "choropleth": [
           {
            "colorbar": {
             "outlinewidth": 0,
             "ticks": ""
            },
            "type": "choropleth"
           }
          ],
          "contour": [
           {
            "colorbar": {
             "outlinewidth": 0,
             "ticks": ""
            },
            "colorscale": [
             [
              0,
              "#0d0887"
             ],
             [
              0.1111111111111111,
              "#46039f"
             ],
             [
              0.2222222222222222,
              "#7201a8"
             ],
             [
              0.3333333333333333,
              "#9c179e"
             ],
             [
              0.4444444444444444,
              "#bd3786"
             ],
             [
              0.5555555555555556,
              "#d8576b"
             ],
             [
              0.6666666666666666,
              "#ed7953"
             ],
             [
              0.7777777777777778,
              "#fb9f3a"
             ],
             [
              0.8888888888888888,
              "#fdca26"
             ],
             [
              1,
              "#f0f921"
             ]
            ],
            "type": "contour"
           }
          ],
          "contourcarpet": [
           {
            "colorbar": {
             "outlinewidth": 0,
             "ticks": ""
            },
            "type": "contourcarpet"
           }
          ],
          "heatmap": [
           {
            "colorbar": {
             "outlinewidth": 0,
             "ticks": ""
            },
            "colorscale": [
             [
              0,
              "#0d0887"
             ],
             [
              0.1111111111111111,
              "#46039f"
             ],
             [
              0.2222222222222222,
              "#7201a8"
             ],
             [
              0.3333333333333333,
              "#9c179e"
             ],
             [
              0.4444444444444444,
              "#bd3786"
             ],
             [
              0.5555555555555556,
              "#d8576b"
             ],
             [
              0.6666666666666666,
              "#ed7953"
             ],
             [
              0.7777777777777778,
              "#fb9f3a"
             ],
             [
              0.8888888888888888,
              "#fdca26"
             ],
             [
              1,
              "#f0f921"
             ]
            ],
            "type": "heatmap"
           }
          ],
          "histogram": [
           {
            "marker": {
             "pattern": {
              "fillmode": "overlay",
              "size": 10,
              "solidity": 0.2
             }
            },
            "type": "histogram"
           }
          ],
          "histogram2d": [
           {
            "colorbar": {
             "outlinewidth": 0,
             "ticks": ""
            },
            "colorscale": [
             [
              0,
              "#0d0887"
             ],
             [
              0.1111111111111111,
              "#46039f"
             ],
             [
              0.2222222222222222,
              "#7201a8"
             ],
             [
              0.3333333333333333,
              "#9c179e"
             ],
             [
              0.4444444444444444,
              "#bd3786"
             ],
             [
              0.5555555555555556,
              "#d8576b"
             ],
             [
              0.6666666666666666,
              "#ed7953"
             ],
             [
              0.7777777777777778,
              "#fb9f3a"
             ],
             [
              0.8888888888888888,
              "#fdca26"
             ],
             [
              1,
              "#f0f921"
             ]
            ],
            "type": "histogram2d"
           }
          ],
          "histogram2dcontour": [
           {
            "colorbar": {
             "outlinewidth": 0,
             "ticks": ""
            },
            "colorscale": [
             [
              0,
              "#0d0887"
             ],
             [
              0.1111111111111111,
              "#46039f"
             ],
             [
              0.2222222222222222,
              "#7201a8"
             ],
             [
              0.3333333333333333,
              "#9c179e"
             ],
             [
              0.4444444444444444,
              "#bd3786"
             ],
             [
              0.5555555555555556,
              "#d8576b"
             ],
             [
              0.6666666666666666,
              "#ed7953"
             ],
             [
              0.7777777777777778,
              "#fb9f3a"
             ],
             [
              0.8888888888888888,
              "#fdca26"
             ],
             [
              1,
              "#f0f921"
             ]
            ],
            "type": "histogram2dcontour"
           }
          ],
          "mesh3d": [
           {
            "colorbar": {
             "outlinewidth": 0,
             "ticks": ""
            },
            "type": "mesh3d"
           }
          ],
          "parcoords": [
           {
            "line": {
             "colorbar": {
              "outlinewidth": 0,
              "ticks": ""
             }
            },
            "type": "parcoords"
           }
          ],
          "pie": [
           {
            "automargin": true,
            "type": "pie"
           }
          ],
          "scatter": [
           {
            "fillpattern": {
             "fillmode": "overlay",
             "size": 10,
             "solidity": 0.2
            },
            "type": "scatter"
           }
          ],
          "scatter3d": [
           {
            "line": {
             "colorbar": {
              "outlinewidth": 0,
              "ticks": ""
             }
            },
            "marker": {
             "colorbar": {
              "outlinewidth": 0,
              "ticks": ""
             }
            },
            "type": "scatter3d"
           }
          ],
          "scattercarpet": [
           {
            "marker": {
             "colorbar": {
              "outlinewidth": 0,
              "ticks": ""
             }
            },
            "type": "scattercarpet"
           }
          ],
          "scattergeo": [
           {
            "marker": {
             "colorbar": {
              "outlinewidth": 0,
              "ticks": ""
             }
            },
            "type": "scattergeo"
           }
          ],
          "scattergl": [
           {
            "marker": {
             "colorbar": {
              "outlinewidth": 0,
              "ticks": ""
             }
            },
            "type": "scattergl"
           }
          ],
          "scattermap": [
           {
            "marker": {
             "colorbar": {
              "outlinewidth": 0,
              "ticks": ""
             }
            },
            "type": "scattermap"
           }
          ],
          "scattermapbox": [
           {
            "marker": {
             "colorbar": {
              "outlinewidth": 0,
              "ticks": ""
             }
            },
            "type": "scattermapbox"
           }
          ],
          "scatterpolar": [
           {
            "marker": {
             "colorbar": {
              "outlinewidth": 0,
              "ticks": ""
             }
            },
            "type": "scatterpolar"
           }
          ],
          "scatterpolargl": [
           {
            "marker": {
             "colorbar": {
              "outlinewidth": 0,
              "ticks": ""
             }
            },
            "type": "scatterpolargl"
           }
          ],
          "scatterternary": [
           {
            "marker": {
             "colorbar": {
              "outlinewidth": 0,
              "ticks": ""
             }
            },
            "type": "scatterternary"
           }
          ],
          "surface": [
           {
            "colorbar": {
             "outlinewidth": 0,
             "ticks": ""
            },
            "colorscale": [
             [
              0,
              "#0d0887"
             ],
             [
              0.1111111111111111,
              "#46039f"
             ],
             [
              0.2222222222222222,
              "#7201a8"
             ],
             [
              0.3333333333333333,
              "#9c179e"
             ],
             [
              0.4444444444444444,
              "#bd3786"
             ],
             [
              0.5555555555555556,
              "#d8576b"
             ],
             [
              0.6666666666666666,
              "#ed7953"
             ],
             [
              0.7777777777777778,
              "#fb9f3a"
             ],
             [
              0.8888888888888888,
              "#fdca26"
             ],
             [
              1,
              "#f0f921"
             ]
            ],
            "type": "surface"
           }
          ],
          "table": [
           {
            "cells": {
             "fill": {
              "color": "#EBF0F8"
             },
             "line": {
              "color": "white"
             }
            },
            "header": {
             "fill": {
              "color": "#C8D4E3"
             },
             "line": {
              "color": "white"
             }
            },
            "type": "table"
           }
          ]
         },
         "layout": {
          "annotationdefaults": {
           "arrowcolor": "#2a3f5f",
           "arrowhead": 0,
           "arrowwidth": 1
          },
          "autotypenumbers": "strict",
          "coloraxis": {
           "colorbar": {
            "outlinewidth": 0,
            "ticks": ""
           }
          },
          "colorscale": {
           "diverging": [
            [
             0,
             "#8e0152"
            ],
            [
             0.1,
             "#c51b7d"
            ],
            [
             0.2,
             "#de77ae"
            ],
            [
             0.3,
             "#f1b6da"
            ],
            [
             0.4,
             "#fde0ef"
            ],
            [
             0.5,
             "#f7f7f7"
            ],
            [
             0.6,
             "#e6f5d0"
            ],
            [
             0.7,
             "#b8e186"
            ],
            [
             0.8,
             "#7fbc41"
            ],
            [
             0.9,
             "#4d9221"
            ],
            [
             1,
             "#276419"
            ]
           ],
           "sequential": [
            [
             0,
             "#0d0887"
            ],
            [
             0.1111111111111111,
             "#46039f"
            ],
            [
             0.2222222222222222,
             "#7201a8"
            ],
            [
             0.3333333333333333,
             "#9c179e"
            ],
            [
             0.4444444444444444,
             "#bd3786"
            ],
            [
             0.5555555555555556,
             "#d8576b"
            ],
            [
             0.6666666666666666,
             "#ed7953"
            ],
            [
             0.7777777777777778,
             "#fb9f3a"
            ],
            [
             0.8888888888888888,
             "#fdca26"
            ],
            [
             1,
             "#f0f921"
            ]
           ],
           "sequentialminus": [
            [
             0,
             "#0d0887"
            ],
            [
             0.1111111111111111,
             "#46039f"
            ],
            [
             0.2222222222222222,
             "#7201a8"
            ],
            [
             0.3333333333333333,
             "#9c179e"
            ],
            [
             0.4444444444444444,
             "#bd3786"
            ],
            [
             0.5555555555555556,
             "#d8576b"
            ],
            [
             0.6666666666666666,
             "#ed7953"
            ],
            [
             0.7777777777777778,
             "#fb9f3a"
            ],
            [
             0.8888888888888888,
             "#fdca26"
            ],
            [
             1,
             "#f0f921"
            ]
           ]
          },
          "colorway": [
           "#636efa",
           "#EF553B",
           "#00cc96",
           "#ab63fa",
           "#FFA15A",
           "#19d3f3",
           "#FF6692",
           "#B6E880",
           "#FF97FF",
           "#FECB52"
          ],
          "font": {
           "color": "#2a3f5f"
          },
          "geo": {
           "bgcolor": "white",
           "lakecolor": "white",
           "landcolor": "#E5ECF6",
           "showlakes": true,
           "showland": true,
           "subunitcolor": "white"
          },
          "hoverlabel": {
           "align": "left"
          },
          "hovermode": "closest",
          "mapbox": {
           "style": "light"
          },
          "paper_bgcolor": "white",
          "plot_bgcolor": "#E5ECF6",
          "polar": {
           "angularaxis": {
            "gridcolor": "white",
            "linecolor": "white",
            "ticks": ""
           },
           "bgcolor": "#E5ECF6",
           "radialaxis": {
            "gridcolor": "white",
            "linecolor": "white",
            "ticks": ""
           }
          },
          "scene": {
           "xaxis": {
            "backgroundcolor": "#E5ECF6",
            "gridcolor": "white",
            "gridwidth": 2,
            "linecolor": "white",
            "showbackground": true,
            "ticks": "",
            "zerolinecolor": "white"
           },
           "yaxis": {
            "backgroundcolor": "#E5ECF6",
            "gridcolor": "white",
            "gridwidth": 2,
            "linecolor": "white",
            "showbackground": true,
            "ticks": "",
            "zerolinecolor": "white"
           },
           "zaxis": {
            "backgroundcolor": "#E5ECF6",
            "gridcolor": "white",
            "gridwidth": 2,
            "linecolor": "white",
            "showbackground": true,
            "ticks": "",
            "zerolinecolor": "white"
           }
          },
          "shapedefaults": {
           "line": {
            "color": "#2a3f5f"
           }
          },
          "ternary": {
           "aaxis": {
            "gridcolor": "white",
            "linecolor": "white",
            "ticks": ""
           },
           "baxis": {
            "gridcolor": "white",
            "linecolor": "white",
            "ticks": ""
           },
           "bgcolor": "#E5ECF6",
           "caxis": {
            "gridcolor": "white",
            "linecolor": "white",
            "ticks": ""
           }
          },
          "title": {
           "x": 0.05
          },
          "xaxis": {
           "automargin": true,
           "gridcolor": "white",
           "linecolor": "white",
           "ticks": "",
           "title": {
            "standoff": 15
           },
           "zerolinecolor": "white",
           "zerolinewidth": 2
          },
          "yaxis": {
           "automargin": true,
           "gridcolor": "white",
           "linecolor": "white",
           "ticks": "",
           "title": {
            "standoff": 15
           },
           "zerolinecolor": "white",
           "zerolinewidth": 2
          }
         }
        },
        "width": 1800,
        "xaxis": {
         "anchor": "y",
         "domain": [
          0,
          1
         ],
         "title": {
          "text": "brand"
         }
        },
        "yaxis": {
         "anchor": "x",
         "domain": [
          0,
          1
         ],
         "title": {
          "text": "sum of count"
         }
        }
       }
      }
     },
     "metadata": {},
     "output_type": "display_data"
    }
   ],
   "source": [
    "fig= px.histogram(df_brand_counts, x='brand', y='count')\n",
    "fig.update_layout(autosize=False,\n",
    "    width=1800,\n",
    "    height=800)"
   ]
  },
  {
   "cell_type": "code",
   "execution_count": 12,
   "id": "621f6e8c",
   "metadata": {},
   "outputs": [
    {
     "data": {
      "application/vnd.microsoft.datawrangler.viewer.v0+json": {
       "columns": [
        {
         "name": "index",
         "rawType": "int64",
         "type": "integer"
        },
        {
         "name": "brand",
         "rawType": "object",
         "type": "string"
        },
        {
         "name": "count",
         "rawType": "int64",
         "type": "integer"
        }
       ],
       "ref": "d75aa5b3-eb44-45aa-9229-1e0452127f4a",
       "rows": [
        [
         "0",
         "ARAL",
         "2457"
        ],
        [
         "1",
         "Shell",
         "1882"
        ],
        [
         "2",
         "ESSO",
         "1304"
        ],
        [
         "3",
         "TotalEnergies",
         "785"
        ],
        [
         "4",
         "AVIA",
         "728"
        ],
        [
         "5",
         "JET",
         "713"
        ],
        [
         "6",
         "STAR",
         "496"
        ],
        [
         "7",
         "AGIP ENI",
         "493"
        ],
        [
         "8",
         "Raiffeisen",
         "459"
        ],
        [
         "9",
         "HEM",
         "428"
        ],
        [
         "10",
         "BFT",
         "248"
        ],
        [
         "11",
         "bft",
         "240"
        ],
        [
         "12",
         "OIL!",
         "230"
        ],
        [
         "13",
         "Freie Tankstelle",
         "227"
        ],
        [
         "14",
         "SB",
         "214"
        ],
        [
         "15",
         "CLASSIC",
         "173"
        ],
        [
         "16",
         "Westfalen",
         "173"
        ],
        [
         "17",
         "AVIA XPress",
         "160"
        ],
        [
         "18",
         "Supermarkt-Tankstelle",
         "149"
        ],
        [
         "19",
         "Hoyer",
         "123"
        ]
       ],
       "shape": {
        "columns": 2,
        "rows": 20
       }
      },
      "text/html": [
       "<div>\n",
       "<style scoped>\n",
       "    .dataframe tbody tr th:only-of-type {\n",
       "        vertical-align: middle;\n",
       "    }\n",
       "\n",
       "    .dataframe tbody tr th {\n",
       "        vertical-align: top;\n",
       "    }\n",
       "\n",
       "    .dataframe thead th {\n",
       "        text-align: right;\n",
       "    }\n",
       "</style>\n",
       "<table border=\"1\" class=\"dataframe\">\n",
       "  <thead>\n",
       "    <tr style=\"text-align: right;\">\n",
       "      <th></th>\n",
       "      <th>brand</th>\n",
       "      <th>count</th>\n",
       "    </tr>\n",
       "  </thead>\n",
       "  <tbody>\n",
       "    <tr>\n",
       "      <th>0</th>\n",
       "      <td>ARAL</td>\n",
       "      <td>2457</td>\n",
       "    </tr>\n",
       "    <tr>\n",
       "      <th>1</th>\n",
       "      <td>Shell</td>\n",
       "      <td>1882</td>\n",
       "    </tr>\n",
       "    <tr>\n",
       "      <th>2</th>\n",
       "      <td>ESSO</td>\n",
       "      <td>1304</td>\n",
       "    </tr>\n",
       "    <tr>\n",
       "      <th>3</th>\n",
       "      <td>TotalEnergies</td>\n",
       "      <td>785</td>\n",
       "    </tr>\n",
       "    <tr>\n",
       "      <th>4</th>\n",
       "      <td>AVIA</td>\n",
       "      <td>728</td>\n",
       "    </tr>\n",
       "    <tr>\n",
       "      <th>5</th>\n",
       "      <td>JET</td>\n",
       "      <td>713</td>\n",
       "    </tr>\n",
       "    <tr>\n",
       "      <th>6</th>\n",
       "      <td>STAR</td>\n",
       "      <td>496</td>\n",
       "    </tr>\n",
       "    <tr>\n",
       "      <th>7</th>\n",
       "      <td>AGIP ENI</td>\n",
       "      <td>493</td>\n",
       "    </tr>\n",
       "    <tr>\n",
       "      <th>8</th>\n",
       "      <td>Raiffeisen</td>\n",
       "      <td>459</td>\n",
       "    </tr>\n",
       "    <tr>\n",
       "      <th>9</th>\n",
       "      <td>HEM</td>\n",
       "      <td>428</td>\n",
       "    </tr>\n",
       "    <tr>\n",
       "      <th>10</th>\n",
       "      <td>BFT</td>\n",
       "      <td>248</td>\n",
       "    </tr>\n",
       "    <tr>\n",
       "      <th>11</th>\n",
       "      <td>bft</td>\n",
       "      <td>240</td>\n",
       "    </tr>\n",
       "    <tr>\n",
       "      <th>12</th>\n",
       "      <td>OIL!</td>\n",
       "      <td>230</td>\n",
       "    </tr>\n",
       "    <tr>\n",
       "      <th>13</th>\n",
       "      <td>Freie Tankstelle</td>\n",
       "      <td>227</td>\n",
       "    </tr>\n",
       "    <tr>\n",
       "      <th>14</th>\n",
       "      <td>SB</td>\n",
       "      <td>214</td>\n",
       "    </tr>\n",
       "    <tr>\n",
       "      <th>15</th>\n",
       "      <td>CLASSIC</td>\n",
       "      <td>173</td>\n",
       "    </tr>\n",
       "    <tr>\n",
       "      <th>16</th>\n",
       "      <td>Westfalen</td>\n",
       "      <td>173</td>\n",
       "    </tr>\n",
       "    <tr>\n",
       "      <th>17</th>\n",
       "      <td>AVIA XPress</td>\n",
       "      <td>160</td>\n",
       "    </tr>\n",
       "    <tr>\n",
       "      <th>18</th>\n",
       "      <td>Supermarkt-Tankstelle</td>\n",
       "      <td>149</td>\n",
       "    </tr>\n",
       "    <tr>\n",
       "      <th>19</th>\n",
       "      <td>Hoyer</td>\n",
       "      <td>123</td>\n",
       "    </tr>\n",
       "  </tbody>\n",
       "</table>\n",
       "</div>"
      ],
      "text/plain": [
       "                    brand  count\n",
       "0                    ARAL   2457\n",
       "1                   Shell   1882\n",
       "2                    ESSO   1304\n",
       "3           TotalEnergies    785\n",
       "4                    AVIA    728\n",
       "5                     JET    713\n",
       "6                    STAR    496\n",
       "7                AGIP ENI    493\n",
       "8              Raiffeisen    459\n",
       "9                     HEM    428\n",
       "10                    BFT    248\n",
       "11                    bft    240\n",
       "12                   OIL!    230\n",
       "13       Freie Tankstelle    227\n",
       "14                     SB    214\n",
       "15                CLASSIC    173\n",
       "16              Westfalen    173\n",
       "17            AVIA XPress    160\n",
       "18  Supermarkt-Tankstelle    149\n",
       "19                  Hoyer    123"
      ]
     },
     "execution_count": 12,
     "metadata": {},
     "output_type": "execute_result"
    }
   ],
   "source": [
    "df_brand_counts.head(20)"
   ]
  },
  {
   "cell_type": "code",
   "execution_count": 18,
   "id": "c8d5b243",
   "metadata": {},
   "outputs": [],
   "source": [
    "known_brands=['aral', 'shell', 'esso', 'total', 'avia', 'jet', 'star', 'agip', 'raiffeisen', 'bft', 'oil!', 'sb']\n"
   ]
  },
  {
   "cell_type": "code",
   "execution_count": 26,
   "id": "16be9e1e",
   "metadata": {},
   "outputs": [],
   "source": [
    "stations_clean = stations.copy()"
   ]
  },
  {
   "cell_type": "code",
   "execution_count": 15,
   "id": "caac47d5",
   "metadata": {},
   "outputs": [],
   "source": [
    "# def infer_brand(row):\n",
    "#     if pd.notna(row[\"brand\"]):\n",
    "#         return str(row[\"brand\"]).lower()\n",
    "#     elif pd.notna(row[\"name\"]):\n",
    "#         name_lower = str(row[\"name\"]).lower()\n",
    "#         for brand in known_brands:\n",
    "#             if brand in name_lower:\n",
    "#                 return brand\n",
    "#     return None  # fallback if nothing found"
   ]
  },
  {
   "cell_type": "code",
   "execution_count": null,
   "id": "60d0ae3c",
   "metadata": {},
   "outputs": [],
   "source": [
    "def extract_brand(text):\n",
    "    \"\"\"\n",
    "    Extracts the brand name from the brand column or the main column. \n",
    "    \n",
    "    Recognized brands:\n",
    "    (aral, shell, esso, total, avia, jet, star, agip eni, raiffeisen, bft, oil!, sb) // else: other\n",
    "\n",
    "    How to call: \n",
    "    from Data_cleaning import extract_brand // df[\"brand_clean\"] =df.apply(extract_brand, axis=1)\n",
    "    \n",
    "    Returns: Text (str) with brand name or 'other'\n",
    "   \"\"\"\n",
    "    known_brands=['aral', 'shell', 'esso', 'total', 'avia', 'jet', 'star', 'agip', 'raiffeisen', 'bft', 'oil!', 'sb']\n",
    "    \n",
    "\n",
    "    text = str(text).lower()\n",
    "    for brand in known_brands:\n",
    "        if brand in text:\n",
    "            return brand\n",
    "    return 'other'\n",
    "\n",
    "# Create 'brand_clean' column\n",
    "def get_clean_brand(row):\n",
    "    return (\n",
    "        extract_brand(row[\"brand\"])\n",
    "        if extract_brand(row[\"brand\"]) != \"other\"\n",
    "        else extract_brand(row[\"name\"])\n",
    "    )\n"
   ]
  },
  {
   "cell_type": "code",
   "execution_count": null,
   "id": "1c4b703f",
   "metadata": {},
   "outputs": [],
   "source": [
    "from functions_laura.Data_cleaning import extract_brand"
   ]
  },
  {
   "cell_type": "code",
   "execution_count": 27,
   "id": "f25b79e0",
   "metadata": {},
   "outputs": [],
   "source": [
    "\n",
    "# Apply to DataFrame\n",
    "stations_clean[\"brand_clean\"] = stations_clean.apply(extract_brand, axis=1)"
   ]
  },
  {
   "cell_type": "code",
   "execution_count": 28,
   "id": "5468bf00",
   "metadata": {},
   "outputs": [],
   "source": [
    "# delete deleted entries\n",
    "stations_clean = stations_clean[~stations_clean['name'].str.lower().str.contains('gelöscht|please delete', na=False)]"
   ]
  },
  {
   "cell_type": "code",
   "execution_count": 44,
   "id": "c1d50690",
   "metadata": {},
   "outputs": [],
   "source": [
    "stations_clean.to_csv('data/stations_clean.csv')"
   ]
  },
  {
   "cell_type": "code",
   "execution_count": 29,
   "id": "0b870e98",
   "metadata": {},
   "outputs": [],
   "source": [
    "brand_counts = stations_clean[\"brand_clean\"].value_counts().reset_index()\n",
    "brand_counts.columns = [\"brand\", \"count\"]"
   ]
  },
  {
   "cell_type": "code",
   "execution_count": 30,
   "id": "2978869d",
   "metadata": {},
   "outputs": [
    {
     "data": {
      "text/plain": [
       "array(['other', 'aral', 'shell', 'esso', 'total', 'avia', 'sb', 'bft',\n",
       "       'jet', 'star', 'raiffeisen', 'agip', 'oil!'], dtype=object)"
      ]
     },
     "execution_count": 30,
     "metadata": {},
     "output_type": "execute_result"
    }
   ],
   "source": [
    "brand_counts['brand'].unique()"
   ]
  },
  {
   "cell_type": "code",
   "execution_count": 31,
   "id": "5049f23e",
   "metadata": {},
   "outputs": [],
   "source": [
    "# the number of gas stations per brand\n",
    "counts = brand_counts.groupby('brand').sum().reset_index().sort_values(by='count', ascending=False)"
   ]
  },
  {
   "cell_type": "code",
   "execution_count": null,
   "id": "95cdfa02",
   "metadata": {},
   "outputs": [],
   "source": [
    "brand_colors = {\n",
    "'aral': '#0069B3',\n",
    "'shell': '#ED1C24',\n",
    "'total': '#EA1C24',\n",
    "'esso': '#003399',\n",
    "'avia': '#333333',\n",
    "'bft' : '#EF4023',\n",
    "'jet' : '#FFDD00',\n",
    "'sb' : '#999999',\n",
    "'raiffeisen' : '#00A651',\n",
    "'star' : '#E50010',\n",
    "'agip' : '#FFCC00',\n",
    "'oil!' : '#212121',\n",
    "'freie tankstelle' : '',\n",
    "'other': \"#BBAEAE\"\n",
    "}"
   ]
  },
  {
   "cell_type": "code",
   "execution_count": 33,
   "id": "0d011e80",
   "metadata": {},
   "outputs": [],
   "source": [
    "colors = counts['brand'].map(brand_colors)"
   ]
  },
  {
   "cell_type": "code",
   "execution_count": 41,
   "id": "4e2bd57b",
   "metadata": {},
   "outputs": [
    {
     "data": {
      "application/vnd.plotly.v1+json": {
       "config": {
        "plotlyServerURL": "https://plot.ly"
       },
       "data": [
        {
         "hovertemplate": "brand=%{x}<br>count=%{y}<extra></extra>",
         "legendgroup": "other",
         "marker": {
          "color": "#BBAEAE",
          "pattern": {
           "shape": ""
          }
         },
         "name": "other",
         "orientation": "v",
         "showlegend": true,
         "textposition": "auto",
         "type": "bar",
         "x": [
          "other"
         ],
         "xaxis": "x",
         "y": {
          "bdata": "CxY=",
          "dtype": "i2"
         },
         "yaxis": "y"
        },
        {
         "hovertemplate": "brand=%{x}<br>count=%{y}<extra></extra>",
         "legendgroup": "aral",
         "marker": {
          "color": "#0069B3",
          "pattern": {
           "shape": ""
          }
         },
         "name": "aral",
         "orientation": "v",
         "showlegend": true,
         "textposition": "auto",
         "type": "bar",
         "x": [
          "aral"
         ],
         "xaxis": "x",
         "y": {
          "bdata": "swk=",
          "dtype": "i2"
         },
         "yaxis": "y"
        },
        {
         "hovertemplate": "brand=%{x}<br>count=%{y}<extra></extra>",
         "legendgroup": "shell",
         "marker": {
          "color": "#FFD100",
          "pattern": {
           "shape": ""
          }
         },
         "name": "shell",
         "orientation": "v",
         "showlegend": true,
         "textposition": "auto",
         "type": "bar",
         "x": [
          "shell"
         ],
         "xaxis": "x",
         "y": {
          "bdata": "Xgc=",
          "dtype": "i2"
         },
         "yaxis": "y"
        },
        {
         "hovertemplate": "brand=%{x}<br>count=%{y}<extra></extra>",
         "legendgroup": "esso",
         "marker": {
          "color": "#003399",
          "pattern": {
           "shape": ""
          }
         },
         "name": "esso",
         "orientation": "v",
         "showlegend": true,
         "textposition": "auto",
         "type": "bar",
         "x": [
          "esso"
         ],
         "xaxis": "x",
         "y": {
          "bdata": "egU=",
          "dtype": "i2"
         },
         "yaxis": "y"
        },
        {
         "hovertemplate": "brand=%{x}<br>count=%{y}<extra></extra>",
         "legendgroup": "total",
         "marker": {
          "color": "#EA1C24",
          "pattern": {
           "shape": ""
          }
         },
         "name": "total",
         "orientation": "v",
         "showlegend": true,
         "textposition": "auto",
         "type": "bar",
         "x": [
          "total"
         ],
         "xaxis": "x",
         "y": {
          "bdata": "xQM=",
          "dtype": "i2"
         },
         "yaxis": "y"
        },
        {
         "hovertemplate": "brand=%{x}<br>count=%{y}<extra></extra>",
         "legendgroup": "avia",
         "marker": {
          "color": "#333333",
          "pattern": {
           "shape": ""
          }
         },
         "name": "avia",
         "orientation": "v",
         "showlegend": true,
         "textposition": "auto",
         "type": "bar",
         "x": [
          "avia"
         ],
         "xaxis": "x",
         "y": {
          "bdata": "uQM=",
          "dtype": "i2"
         },
         "yaxis": "y"
        },
        {
         "hovertemplate": "brand=%{x}<br>count=%{y}<extra></extra>",
         "legendgroup": "sb",
         "marker": {
          "color": "#999999",
          "pattern": {
           "shape": ""
          }
         },
         "name": "sb",
         "orientation": "v",
         "showlegend": true,
         "textposition": "auto",
         "type": "bar",
         "x": [
          "sb"
         ],
         "xaxis": "x",
         "y": {
          "bdata": "1gI=",
          "dtype": "i2"
         },
         "yaxis": "y"
        },
        {
         "hovertemplate": "brand=%{x}<br>count=%{y}<extra></extra>",
         "legendgroup": "bft",
         "marker": {
          "color": "#EF4023",
          "pattern": {
           "shape": ""
          }
         },
         "name": "bft",
         "orientation": "v",
         "showlegend": true,
         "textposition": "auto",
         "type": "bar",
         "x": [
          "bft"
         ],
         "xaxis": "x",
         "y": {
          "bdata": "0wI=",
          "dtype": "i2"
         },
         "yaxis": "y"
        },
        {
         "hovertemplate": "brand=%{x}<br>count=%{y}<extra></extra>",
         "legendgroup": "jet",
         "marker": {
          "color": "#FFDD00",
          "pattern": {
           "shape": ""
          }
         },
         "name": "jet",
         "orientation": "v",
         "showlegend": true,
         "textposition": "auto",
         "type": "bar",
         "x": [
          "jet"
         ],
         "xaxis": "x",
         "y": {
          "bdata": "ywI=",
          "dtype": "i2"
         },
         "yaxis": "y"
        },
        {
         "hovertemplate": "brand=%{x}<br>count=%{y}<extra></extra>",
         "legendgroup": "raiffeisen",
         "marker": {
          "color": "#00A651",
          "pattern": {
           "shape": ""
          }
         },
         "name": "raiffeisen",
         "orientation": "v",
         "showlegend": true,
         "textposition": "auto",
         "type": "bar",
         "x": [
          "raiffeisen"
         ],
         "xaxis": "x",
         "y": {
          "bdata": "gQI=",
          "dtype": "i2"
         },
         "yaxis": "y"
        },
        {
         "hovertemplate": "brand=%{x}<br>count=%{y}<extra></extra>",
         "legendgroup": "star",
         "marker": {
          "color": "#E50010",
          "pattern": {
           "shape": ""
          }
         },
         "name": "star",
         "orientation": "v",
         "showlegend": true,
         "textposition": "auto",
         "type": "bar",
         "x": [
          "star"
         ],
         "xaxis": "x",
         "y": {
          "bdata": "gQI=",
          "dtype": "i2"
         },
         "yaxis": "y"
        },
        {
         "hovertemplate": "brand=%{x}<br>count=%{y}<extra></extra>",
         "legendgroup": "agip",
         "marker": {
          "color": "#FFCC00",
          "pattern": {
           "shape": ""
          }
         },
         "name": "agip",
         "orientation": "v",
         "showlegend": true,
         "textposition": "auto",
         "type": "bar",
         "x": [
          "agip"
         ],
         "xaxis": "x",
         "y": {
          "bdata": "DAI=",
          "dtype": "i2"
         },
         "yaxis": "y"
        },
        {
         "hovertemplate": "brand=%{x}<br>count=%{y}<extra></extra>",
         "legendgroup": "oil!",
         "marker": {
          "color": "#212121",
          "pattern": {
           "shape": ""
          }
         },
         "name": "oil!",
         "orientation": "v",
         "showlegend": true,
         "textposition": "auto",
         "type": "bar",
         "x": [
          "oil!"
         ],
         "xaxis": "x",
         "y": {
          "bdata": "/AA=",
          "dtype": "i2"
         },
         "yaxis": "y"
        }
       ],
       "layout": {
        "barmode": "relative",
        "height": 500,
        "legend": {
         "title": {
          "text": "brand"
         },
         "tracegroupgap": 0
        },
        "margin": {
         "b": 40,
         "l": 40,
         "r": 40,
         "t": 60
        },
        "showlegend": false,
        "template": {
         "data": {
          "bar": [
           {
            "error_x": {
             "color": "#2a3f5f"
            },
            "error_y": {
             "color": "#2a3f5f"
            },
            "marker": {
             "line": {
              "color": "white",
              "width": 0.5
             },
             "pattern": {
              "fillmode": "overlay",
              "size": 10,
              "solidity": 0.2
             }
            },
            "type": "bar"
           }
          ],
          "barpolar": [
           {
            "marker": {
             "line": {
              "color": "white",
              "width": 0.5
             },
             "pattern": {
              "fillmode": "overlay",
              "size": 10,
              "solidity": 0.2
             }
            },
            "type": "barpolar"
           }
          ],
          "carpet": [
           {
            "aaxis": {
             "endlinecolor": "#2a3f5f",
             "gridcolor": "#C8D4E3",
             "linecolor": "#C8D4E3",
             "minorgridcolor": "#C8D4E3",
             "startlinecolor": "#2a3f5f"
            },
            "baxis": {
             "endlinecolor": "#2a3f5f",
             "gridcolor": "#C8D4E3",
             "linecolor": "#C8D4E3",
             "minorgridcolor": "#C8D4E3",
             "startlinecolor": "#2a3f5f"
            },
            "type": "carpet"
           }
          ],
          "choropleth": [
           {
            "colorbar": {
             "outlinewidth": 0,
             "ticks": ""
            },
            "type": "choropleth"
           }
          ],
          "contour": [
           {
            "colorbar": {
             "outlinewidth": 0,
             "ticks": ""
            },
            "colorscale": [
             [
              0,
              "#0d0887"
             ],
             [
              0.1111111111111111,
              "#46039f"
             ],
             [
              0.2222222222222222,
              "#7201a8"
             ],
             [
              0.3333333333333333,
              "#9c179e"
             ],
             [
              0.4444444444444444,
              "#bd3786"
             ],
             [
              0.5555555555555556,
              "#d8576b"
             ],
             [
              0.6666666666666666,
              "#ed7953"
             ],
             [
              0.7777777777777778,
              "#fb9f3a"
             ],
             [
              0.8888888888888888,
              "#fdca26"
             ],
             [
              1,
              "#f0f921"
             ]
            ],
            "type": "contour"
           }
          ],
          "contourcarpet": [
           {
            "colorbar": {
             "outlinewidth": 0,
             "ticks": ""
            },
            "type": "contourcarpet"
           }
          ],
          "heatmap": [
           {
            "colorbar": {
             "outlinewidth": 0,
             "ticks": ""
            },
            "colorscale": [
             [
              0,
              "#0d0887"
             ],
             [
              0.1111111111111111,
              "#46039f"
             ],
             [
              0.2222222222222222,
              "#7201a8"
             ],
             [
              0.3333333333333333,
              "#9c179e"
             ],
             [
              0.4444444444444444,
              "#bd3786"
             ],
             [
              0.5555555555555556,
              "#d8576b"
             ],
             [
              0.6666666666666666,
              "#ed7953"
             ],
             [
              0.7777777777777778,
              "#fb9f3a"
             ],
             [
              0.8888888888888888,
              "#fdca26"
             ],
             [
              1,
              "#f0f921"
             ]
            ],
            "type": "heatmap"
           }
          ],
          "histogram": [
           {
            "marker": {
             "pattern": {
              "fillmode": "overlay",
              "size": 10,
              "solidity": 0.2
             }
            },
            "type": "histogram"
           }
          ],
          "histogram2d": [
           {
            "colorbar": {
             "outlinewidth": 0,
             "ticks": ""
            },
            "colorscale": [
             [
              0,
              "#0d0887"
             ],
             [
              0.1111111111111111,
              "#46039f"
             ],
             [
              0.2222222222222222,
              "#7201a8"
             ],
             [
              0.3333333333333333,
              "#9c179e"
             ],
             [
              0.4444444444444444,
              "#bd3786"
             ],
             [
              0.5555555555555556,
              "#d8576b"
             ],
             [
              0.6666666666666666,
              "#ed7953"
             ],
             [
              0.7777777777777778,
              "#fb9f3a"
             ],
             [
              0.8888888888888888,
              "#fdca26"
             ],
             [
              1,
              "#f0f921"
             ]
            ],
            "type": "histogram2d"
           }
          ],
          "histogram2dcontour": [
           {
            "colorbar": {
             "outlinewidth": 0,
             "ticks": ""
            },
            "colorscale": [
             [
              0,
              "#0d0887"
             ],
             [
              0.1111111111111111,
              "#46039f"
             ],
             [
              0.2222222222222222,
              "#7201a8"
             ],
             [
              0.3333333333333333,
              "#9c179e"
             ],
             [
              0.4444444444444444,
              "#bd3786"
             ],
             [
              0.5555555555555556,
              "#d8576b"
             ],
             [
              0.6666666666666666,
              "#ed7953"
             ],
             [
              0.7777777777777778,
              "#fb9f3a"
             ],
             [
              0.8888888888888888,
              "#fdca26"
             ],
             [
              1,
              "#f0f921"
             ]
            ],
            "type": "histogram2dcontour"
           }
          ],
          "mesh3d": [
           {
            "colorbar": {
             "outlinewidth": 0,
             "ticks": ""
            },
            "type": "mesh3d"
           }
          ],
          "parcoords": [
           {
            "line": {
             "colorbar": {
              "outlinewidth": 0,
              "ticks": ""
             }
            },
            "type": "parcoords"
           }
          ],
          "pie": [
           {
            "automargin": true,
            "type": "pie"
           }
          ],
          "scatter": [
           {
            "fillpattern": {
             "fillmode": "overlay",
             "size": 10,
             "solidity": 0.2
            },
            "type": "scatter"
           }
          ],
          "scatter3d": [
           {
            "line": {
             "colorbar": {
              "outlinewidth": 0,
              "ticks": ""
             }
            },
            "marker": {
             "colorbar": {
              "outlinewidth": 0,
              "ticks": ""
             }
            },
            "type": "scatter3d"
           }
          ],
          "scattercarpet": [
           {
            "marker": {
             "colorbar": {
              "outlinewidth": 0,
              "ticks": ""
             }
            },
            "type": "scattercarpet"
           }
          ],
          "scattergeo": [
           {
            "marker": {
             "colorbar": {
              "outlinewidth": 0,
              "ticks": ""
             }
            },
            "type": "scattergeo"
           }
          ],
          "scattergl": [
           {
            "marker": {
             "colorbar": {
              "outlinewidth": 0,
              "ticks": ""
             }
            },
            "type": "scattergl"
           }
          ],
          "scattermap": [
           {
            "marker": {
             "colorbar": {
              "outlinewidth": 0,
              "ticks": ""
             }
            },
            "type": "scattermap"
           }
          ],
          "scattermapbox": [
           {
            "marker": {
             "colorbar": {
              "outlinewidth": 0,
              "ticks": ""
             }
            },
            "type": "scattermapbox"
           }
          ],
          "scatterpolar": [
           {
            "marker": {
             "colorbar": {
              "outlinewidth": 0,
              "ticks": ""
             }
            },
            "type": "scatterpolar"
           }
          ],
          "scatterpolargl": [
           {
            "marker": {
             "colorbar": {
              "outlinewidth": 0,
              "ticks": ""
             }
            },
            "type": "scatterpolargl"
           }
          ],
          "scatterternary": [
           {
            "marker": {
             "colorbar": {
              "outlinewidth": 0,
              "ticks": ""
             }
            },
            "type": "scatterternary"
           }
          ],
          "surface": [
           {
            "colorbar": {
             "outlinewidth": 0,
             "ticks": ""
            },
            "colorscale": [
             [
              0,
              "#0d0887"
             ],
             [
              0.1111111111111111,
              "#46039f"
             ],
             [
              0.2222222222222222,
              "#7201a8"
             ],
             [
              0.3333333333333333,
              "#9c179e"
             ],
             [
              0.4444444444444444,
              "#bd3786"
             ],
             [
              0.5555555555555556,
              "#d8576b"
             ],
             [
              0.6666666666666666,
              "#ed7953"
             ],
             [
              0.7777777777777778,
              "#fb9f3a"
             ],
             [
              0.8888888888888888,
              "#fdca26"
             ],
             [
              1,
              "#f0f921"
             ]
            ],
            "type": "surface"
           }
          ],
          "table": [
           {
            "cells": {
             "fill": {
              "color": "#EBF0F8"
             },
             "line": {
              "color": "white"
             }
            },
            "header": {
             "fill": {
              "color": "#C8D4E3"
             },
             "line": {
              "color": "white"
             }
            },
            "type": "table"
           }
          ]
         },
         "layout": {
          "annotationdefaults": {
           "arrowcolor": "#2a3f5f",
           "arrowhead": 0,
           "arrowwidth": 1
          },
          "autotypenumbers": "strict",
          "coloraxis": {
           "colorbar": {
            "outlinewidth": 0,
            "ticks": ""
           }
          },
          "colorscale": {
           "diverging": [
            [
             0,
             "#8e0152"
            ],
            [
             0.1,
             "#c51b7d"
            ],
            [
             0.2,
             "#de77ae"
            ],
            [
             0.3,
             "#f1b6da"
            ],
            [
             0.4,
             "#fde0ef"
            ],
            [
             0.5,
             "#f7f7f7"
            ],
            [
             0.6,
             "#e6f5d0"
            ],
            [
             0.7,
             "#b8e186"
            ],
            [
             0.8,
             "#7fbc41"
            ],
            [
             0.9,
             "#4d9221"
            ],
            [
             1,
             "#276419"
            ]
           ],
           "sequential": [
            [
             0,
             "#0d0887"
            ],
            [
             0.1111111111111111,
             "#46039f"
            ],
            [
             0.2222222222222222,
             "#7201a8"
            ],
            [
             0.3333333333333333,
             "#9c179e"
            ],
            [
             0.4444444444444444,
             "#bd3786"
            ],
            [
             0.5555555555555556,
             "#d8576b"
            ],
            [
             0.6666666666666666,
             "#ed7953"
            ],
            [
             0.7777777777777778,
             "#fb9f3a"
            ],
            [
             0.8888888888888888,
             "#fdca26"
            ],
            [
             1,
             "#f0f921"
            ]
           ],
           "sequentialminus": [
            [
             0,
             "#0d0887"
            ],
            [
             0.1111111111111111,
             "#46039f"
            ],
            [
             0.2222222222222222,
             "#7201a8"
            ],
            [
             0.3333333333333333,
             "#9c179e"
            ],
            [
             0.4444444444444444,
             "#bd3786"
            ],
            [
             0.5555555555555556,
             "#d8576b"
            ],
            [
             0.6666666666666666,
             "#ed7953"
            ],
            [
             0.7777777777777778,
             "#fb9f3a"
            ],
            [
             0.8888888888888888,
             "#fdca26"
            ],
            [
             1,
             "#f0f921"
            ]
           ]
          },
          "colorway": [
           "#636efa",
           "#EF553B",
           "#00cc96",
           "#ab63fa",
           "#FFA15A",
           "#19d3f3",
           "#FF6692",
           "#B6E880",
           "#FF97FF",
           "#FECB52"
          ],
          "font": {
           "color": "#2a3f5f"
          },
          "geo": {
           "bgcolor": "white",
           "lakecolor": "white",
           "landcolor": "white",
           "showlakes": true,
           "showland": true,
           "subunitcolor": "#C8D4E3"
          },
          "hoverlabel": {
           "align": "left"
          },
          "hovermode": "closest",
          "mapbox": {
           "style": "light"
          },
          "paper_bgcolor": "white",
          "plot_bgcolor": "white",
          "polar": {
           "angularaxis": {
            "gridcolor": "#EBF0F8",
            "linecolor": "#EBF0F8",
            "ticks": ""
           },
           "bgcolor": "white",
           "radialaxis": {
            "gridcolor": "#EBF0F8",
            "linecolor": "#EBF0F8",
            "ticks": ""
           }
          },
          "scene": {
           "xaxis": {
            "backgroundcolor": "white",
            "gridcolor": "#DFE8F3",
            "gridwidth": 2,
            "linecolor": "#EBF0F8",
            "showbackground": true,
            "ticks": "",
            "zerolinecolor": "#EBF0F8"
           },
           "yaxis": {
            "backgroundcolor": "white",
            "gridcolor": "#DFE8F3",
            "gridwidth": 2,
            "linecolor": "#EBF0F8",
            "showbackground": true,
            "ticks": "",
            "zerolinecolor": "#EBF0F8"
           },
           "zaxis": {
            "backgroundcolor": "white",
            "gridcolor": "#DFE8F3",
            "gridwidth": 2,
            "linecolor": "#EBF0F8",
            "showbackground": true,
            "ticks": "",
            "zerolinecolor": "#EBF0F8"
           }
          },
          "shapedefaults": {
           "line": {
            "color": "#2a3f5f"
           }
          },
          "ternary": {
           "aaxis": {
            "gridcolor": "#DFE8F3",
            "linecolor": "#A2B1C6",
            "ticks": ""
           },
           "baxis": {
            "gridcolor": "#DFE8F3",
            "linecolor": "#A2B1C6",
            "ticks": ""
           },
           "bgcolor": "white",
           "caxis": {
            "gridcolor": "#DFE8F3",
            "linecolor": "#A2B1C6",
            "ticks": ""
           }
          },
          "title": {
           "x": 0.05
          },
          "xaxis": {
           "automargin": true,
           "gridcolor": "#EBF0F8",
           "linecolor": "#EBF0F8",
           "ticks": "",
           "title": {
            "standoff": 15
           },
           "zerolinecolor": "#EBF0F8",
           "zerolinewidth": 2
          },
          "yaxis": {
           "automargin": true,
           "gridcolor": "#EBF0F8",
           "linecolor": "#EBF0F8",
           "ticks": "",
           "title": {
            "standoff": 15
           },
           "zerolinecolor": "#EBF0F8",
           "zerolinewidth": 2
          }
         }
        },
        "title": {
         "font": {
          "size": 20
         },
         "text": "Number of Gas Stations per Brand in Germany",
         "x": 0.5,
         "xanchor": "center",
         "y": 0.9,
         "yanchor": "top"
        },
        "width": 1000,
        "xaxis": {
         "anchor": "y",
         "categoryarray": [
          "other",
          "aral",
          "shell",
          "esso",
          "total",
          "avia",
          "sb",
          "bft",
          "jet",
          "raiffeisen",
          "star",
          "agip",
          "oil!"
         ],
         "categoryorder": "array",
         "domain": [
          0,
          1
         ],
         "title": {
          "text": "brand"
         }
        },
        "yaxis": {
         "anchor": "x",
         "domain": [
          0,
          1
         ],
         "title": {
          "text": "Number of Gas stations"
         }
        }
       }
      }
     },
     "metadata": {},
     "output_type": "display_data"
    }
   ],
   "source": [
    "bargraph = px.bar(counts, x='brand', y='count', color=counts['brand'], color_discrete_map=brand_colors)\n",
    "bargraph.update_layout(    \n",
    "    title_font_size=20,\n",
    "    title={\n",
    "    'text': 'Number of Gas Stations per Brand in Germany',\n",
    "    'y':0.9,\n",
    "    'x':0.5,\n",
    "    'xanchor': 'center',\n",
    "    'yanchor': 'top'},\n",
    "    xaxis_title=\"brand\",\n",
    "    yaxis_title=\"Number of Gas stations\",\n",
    "    width=1000,\n",
    "    height=500,\n",
    "    margin=dict(l=40, r=40, t=60, b=40),\n",
    "    template=\"plotly_white\",\n",
    "    showlegend=False\n",
    "    )\n",
    "bargraph.show()"
   ]
  },
  {
   "cell_type": "code",
   "execution_count": 55,
   "id": "c9f332be",
   "metadata": {},
   "outputs": [
    {
     "data": {
      "application/vnd.microsoft.datawrangler.viewer.v0+json": {
       "columns": [
        {
         "name": "index",
         "rawType": "int64",
         "type": "integer"
        },
        {
         "name": "post_code",
         "rawType": "object",
         "type": "string"
        },
        {
         "name": "brand_clean",
         "rawType": "object",
         "type": "string"
        },
        {
         "name": "uuid",
         "rawType": "int64",
         "type": "integer"
        },
        {
         "name": "name",
         "rawType": "int64",
         "type": "integer"
        },
        {
         "name": "brand",
         "rawType": "int64",
         "type": "integer"
        },
        {
         "name": "street",
         "rawType": "int64",
         "type": "integer"
        },
        {
         "name": "house_number",
         "rawType": "int64",
         "type": "integer"
        },
        {
         "name": "city",
         "rawType": "int64",
         "type": "integer"
        },
        {
         "name": "latitude",
         "rawType": "int64",
         "type": "integer"
        },
        {
         "name": "longitude",
         "rawType": "int64",
         "type": "integer"
        },
        {
         "name": "first_active",
         "rawType": "int64",
         "type": "integer"
        },
        {
         "name": "openingtimes_json",
         "rawType": "int64",
         "type": "integer"
        }
       ],
       "ref": "acc1ab82-6083-45a2-9fac-5b3a75caae93",
       "rows": [
        [
         "0",
         "01067",
         "total",
         "1",
         "1",
         "1",
         "1",
         "1",
         "1",
         "1",
         "1",
         "1",
         "1"
        ],
        [
         "1",
         "01069",
         "total",
         "1",
         "1",
         "1",
         "1",
         "1",
         "1",
         "1",
         "1",
         "1",
         "1"
        ],
        [
         "2",
         "01097",
         "esso",
         "1",
         "1",
         "1",
         "1",
         "1",
         "1",
         "1",
         "1",
         "1",
         "1"
        ],
        [
         "3",
         "01097",
         "other",
         "1",
         "1",
         "1",
         "1",
         "1",
         "1",
         "1",
         "1",
         "1",
         "1"
        ],
        [
         "4",
         "01097",
         "shell",
         "1",
         "1",
         "1",
         "1",
         "1",
         "1",
         "1",
         "1",
         "1",
         "1"
        ],
        [
         "5",
         "01099",
         "aral",
         "2",
         "2",
         "2",
         "2",
         "2",
         "2",
         "2",
         "2",
         "2",
         "2"
        ],
        [
         "6",
         "01099",
         "other",
         "1",
         "1",
         "1",
         "1",
         "1",
         "1",
         "1",
         "1",
         "1",
         "1"
        ],
        [
         "7",
         "01099",
         "total",
         "2",
         "2",
         "2",
         "2",
         "2",
         "2",
         "2",
         "2",
         "2",
         "2"
        ],
        [
         "8",
         "01108",
         "total",
         "1",
         "1",
         "1",
         "1",
         "1",
         "1",
         "1",
         "1",
         "1",
         "1"
        ],
        [
         "9",
         "01109",
         "agip eni",
         "1",
         "1",
         "1",
         "1",
         "1",
         "1",
         "1",
         "1",
         "1",
         "1"
        ],
        [
         "10",
         "01127",
         "aral",
         "1",
         "1",
         "1",
         "1",
         "1",
         "1",
         "1",
         "1",
         "1",
         "1"
        ],
        [
         "11",
         "01127",
         "other",
         "1",
         "1",
         "1",
         "1",
         "1",
         "1",
         "1",
         "1",
         "1",
         "1"
        ],
        [
         "12",
         "01127",
         "shell",
         "1",
         "1",
         "1",
         "1",
         "1",
         "1",
         "1",
         "1",
         "1",
         "1"
        ],
        [
         "13",
         "01127",
         "star",
         "1",
         "1",
         "1",
         "1",
         "1",
         "1",
         "1",
         "1",
         "1",
         "1"
        ],
        [
         "14",
         "01129",
         "aral",
         "1",
         "1",
         "1",
         "1",
         "0",
         "1",
         "1",
         "1",
         "1",
         "1"
        ],
        [
         "15",
         "01139",
         "aral",
         "3",
         "3",
         "3",
         "3",
         "3",
         "3",
         "3",
         "3",
         "3",
         "3"
        ],
        [
         "16",
         "01139",
         "esso",
         "2",
         "2",
         "2",
         "2",
         "2",
         "2",
         "2",
         "2",
         "2",
         "2"
        ],
        [
         "17",
         "01139",
         "jet",
         "1",
         "1",
         "1",
         "1",
         "1",
         "1",
         "1",
         "1",
         "1",
         "1"
        ],
        [
         "18",
         "01139",
         "shell",
         "1",
         "1",
         "1",
         "1",
         "1",
         "1",
         "1",
         "1",
         "1",
         "1"
        ],
        [
         "19",
         "01156",
         "jet",
         "1",
         "1",
         "1",
         "1",
         "1",
         "1",
         "1",
         "1",
         "1",
         "1"
        ],
        [
         "20",
         "01156",
         "total",
         "1",
         "1",
         "1",
         "1",
         "1",
         "1",
         "1",
         "1",
         "1",
         "1"
        ],
        [
         "21",
         "01157",
         "aral",
         "1",
         "1",
         "1",
         "1",
         "1",
         "1",
         "1",
         "1",
         "1",
         "1"
        ],
        [
         "22",
         "01157",
         "esso",
         "1",
         "1",
         "1",
         "1",
         "1",
         "1",
         "1",
         "1",
         "1",
         "1"
        ],
        [
         "23",
         "01159",
         "jet",
         "1",
         "1",
         "1",
         "1",
         "1",
         "1",
         "1",
         "1",
         "1",
         "1"
        ],
        [
         "24",
         "01159",
         "other",
         "1",
         "1",
         "1",
         "1",
         "1",
         "1",
         "1",
         "1",
         "1",
         "1"
        ],
        [
         "25",
         "01159",
         "shell",
         "1",
         "1",
         "1",
         "1",
         "1",
         "1",
         "1",
         "1",
         "1",
         "1"
        ],
        [
         "26",
         "01169",
         "star",
         "1",
         "1",
         "1",
         "1",
         "1",
         "1",
         "1",
         "1",
         "1",
         "1"
        ],
        [
         "27",
         "01169",
         "total",
         "1",
         "1",
         "1",
         "1",
         "1",
         "1",
         "1",
         "1",
         "1",
         "1"
        ],
        [
         "28",
         "01187",
         "esso",
         "1",
         "1",
         "1",
         "1",
         "1",
         "1",
         "1",
         "1",
         "1",
         "1"
        ],
        [
         "29",
         "01187",
         "jet",
         "1",
         "1",
         "1",
         "1",
         "1",
         "1",
         "1",
         "1",
         "1",
         "1"
        ],
        [
         "30",
         "01187",
         "other",
         "1",
         "1",
         "1",
         "1",
         "1",
         "1",
         "1",
         "1",
         "1",
         "1"
        ],
        [
         "31",
         "01187",
         "total",
         "1",
         "1",
         "1",
         "1",
         "1",
         "1",
         "1",
         "1",
         "1",
         "1"
        ],
        [
         "32",
         "01217",
         "aral",
         "1",
         "1",
         "1",
         "1",
         "1",
         "1",
         "1",
         "1",
         "1",
         "1"
        ],
        [
         "33",
         "01219",
         "aral",
         "1",
         "1",
         "1",
         "1",
         "1",
         "1",
         "1",
         "1",
         "1",
         "1"
        ],
        [
         "34",
         "01219",
         "other",
         "2",
         "2",
         "2",
         "2",
         "2",
         "2",
         "2",
         "2",
         "2",
         "2"
        ],
        [
         "35",
         "01219",
         "star",
         "1",
         "1",
         "1",
         "1",
         "1",
         "1",
         "1",
         "1",
         "1",
         "1"
        ],
        [
         "36",
         "01237",
         "jet",
         "1",
         "1",
         "1",
         "1",
         "1",
         "1",
         "1",
         "1",
         "1",
         "1"
        ],
        [
         "37",
         "01237",
         "sb",
         "1",
         "1",
         "1",
         "1",
         "1",
         "1",
         "1",
         "1",
         "1",
         "1"
        ],
        [
         "38",
         "01239",
         "esso",
         "1",
         "1",
         "1",
         "1",
         "1",
         "1",
         "1",
         "1",
         "1",
         "1"
        ],
        [
         "39",
         "01239",
         "other",
         "1",
         "1",
         "1",
         "1",
         "1",
         "1",
         "1",
         "1",
         "1",
         "1"
        ],
        [
         "40",
         "01239",
         "star",
         "1",
         "1",
         "1",
         "1",
         "1",
         "1",
         "1",
         "1",
         "1",
         "1"
        ],
        [
         "41",
         "01257",
         "aral",
         "1",
         "1",
         "1",
         "1",
         "1",
         "1",
         "1",
         "1",
         "1",
         "1"
        ],
        [
         "42",
         "01257",
         "other",
         "4",
         "4",
         "4",
         "4",
         "3",
         "4",
         "4",
         "4",
         "4",
         "4"
        ],
        [
         "43",
         "01277",
         "agip eni",
         "1",
         "1",
         "1",
         "1",
         "1",
         "1",
         "1",
         "1",
         "1",
         "1"
        ],
        [
         "44",
         "01277",
         "total",
         "1",
         "1",
         "1",
         "1",
         "1",
         "1",
         "1",
         "1",
         "1",
         "1"
        ],
        [
         "45",
         "01279",
         "aral",
         "1",
         "1",
         "1",
         "1",
         "1",
         "1",
         "1",
         "1",
         "1",
         "1"
        ],
        [
         "46",
         "01309",
         "total",
         "1",
         "1",
         "1",
         "1",
         "1",
         "1",
         "1",
         "1",
         "1",
         "1"
        ],
        [
         "47",
         "01324",
         "jet",
         "1",
         "1",
         "1",
         "1",
         "1",
         "1",
         "1",
         "1",
         "1",
         "1"
        ],
        [
         "48",
         "01326",
         "total",
         "1",
         "1",
         "1",
         "1",
         "1",
         "1",
         "1",
         "1",
         "1",
         "1"
        ],
        [
         "49",
         "01328",
         "aral",
         "1",
         "1",
         "1",
         "1",
         "1",
         "1",
         "1",
         "1",
         "1",
         "1"
        ]
       ],
       "shape": {
        "columns": 12,
        "rows": 13163
       }
      },
      "text/html": [
       "<div>\n",
       "<style scoped>\n",
       "    .dataframe tbody tr th:only-of-type {\n",
       "        vertical-align: middle;\n",
       "    }\n",
       "\n",
       "    .dataframe tbody tr th {\n",
       "        vertical-align: top;\n",
       "    }\n",
       "\n",
       "    .dataframe thead th {\n",
       "        text-align: right;\n",
       "    }\n",
       "</style>\n",
       "<table border=\"1\" class=\"dataframe\">\n",
       "  <thead>\n",
       "    <tr style=\"text-align: right;\">\n",
       "      <th></th>\n",
       "      <th>post_code</th>\n",
       "      <th>brand_clean</th>\n",
       "      <th>uuid</th>\n",
       "      <th>name</th>\n",
       "      <th>brand</th>\n",
       "      <th>street</th>\n",
       "      <th>house_number</th>\n",
       "      <th>city</th>\n",
       "      <th>latitude</th>\n",
       "      <th>longitude</th>\n",
       "      <th>first_active</th>\n",
       "      <th>openingtimes_json</th>\n",
       "    </tr>\n",
       "  </thead>\n",
       "  <tbody>\n",
       "    <tr>\n",
       "      <th>0</th>\n",
       "      <td>01067</td>\n",
       "      <td>total</td>\n",
       "      <td>1</td>\n",
       "      <td>1</td>\n",
       "      <td>1</td>\n",
       "      <td>1</td>\n",
       "      <td>1</td>\n",
       "      <td>1</td>\n",
       "      <td>1</td>\n",
       "      <td>1</td>\n",
       "      <td>1</td>\n",
       "      <td>1</td>\n",
       "    </tr>\n",
       "    <tr>\n",
       "      <th>1</th>\n",
       "      <td>01069</td>\n",
       "      <td>total</td>\n",
       "      <td>1</td>\n",
       "      <td>1</td>\n",
       "      <td>1</td>\n",
       "      <td>1</td>\n",
       "      <td>1</td>\n",
       "      <td>1</td>\n",
       "      <td>1</td>\n",
       "      <td>1</td>\n",
       "      <td>1</td>\n",
       "      <td>1</td>\n",
       "    </tr>\n",
       "    <tr>\n",
       "      <th>2</th>\n",
       "      <td>01097</td>\n",
       "      <td>esso</td>\n",
       "      <td>1</td>\n",
       "      <td>1</td>\n",
       "      <td>1</td>\n",
       "      <td>1</td>\n",
       "      <td>1</td>\n",
       "      <td>1</td>\n",
       "      <td>1</td>\n",
       "      <td>1</td>\n",
       "      <td>1</td>\n",
       "      <td>1</td>\n",
       "    </tr>\n",
       "    <tr>\n",
       "      <th>3</th>\n",
       "      <td>01097</td>\n",
       "      <td>other</td>\n",
       "      <td>1</td>\n",
       "      <td>1</td>\n",
       "      <td>1</td>\n",
       "      <td>1</td>\n",
       "      <td>1</td>\n",
       "      <td>1</td>\n",
       "      <td>1</td>\n",
       "      <td>1</td>\n",
       "      <td>1</td>\n",
       "      <td>1</td>\n",
       "    </tr>\n",
       "    <tr>\n",
       "      <th>4</th>\n",
       "      <td>01097</td>\n",
       "      <td>shell</td>\n",
       "      <td>1</td>\n",
       "      <td>1</td>\n",
       "      <td>1</td>\n",
       "      <td>1</td>\n",
       "      <td>1</td>\n",
       "      <td>1</td>\n",
       "      <td>1</td>\n",
       "      <td>1</td>\n",
       "      <td>1</td>\n",
       "      <td>1</td>\n",
       "    </tr>\n",
       "    <tr>\n",
       "      <th>...</th>\n",
       "      <td>...</td>\n",
       "      <td>...</td>\n",
       "      <td>...</td>\n",
       "      <td>...</td>\n",
       "      <td>...</td>\n",
       "      <td>...</td>\n",
       "      <td>...</td>\n",
       "      <td>...</td>\n",
       "      <td>...</td>\n",
       "      <td>...</td>\n",
       "      <td>...</td>\n",
       "      <td>...</td>\n",
       "    </tr>\n",
       "    <tr>\n",
       "      <th>13158</th>\n",
       "      <td>99994</td>\n",
       "      <td>agip eni</td>\n",
       "      <td>1</td>\n",
       "      <td>1</td>\n",
       "      <td>1</td>\n",
       "      <td>1</td>\n",
       "      <td>1</td>\n",
       "      <td>1</td>\n",
       "      <td>1</td>\n",
       "      <td>1</td>\n",
       "      <td>1</td>\n",
       "      <td>1</td>\n",
       "    </tr>\n",
       "    <tr>\n",
       "      <th>13159</th>\n",
       "      <td>99994</td>\n",
       "      <td>other</td>\n",
       "      <td>1</td>\n",
       "      <td>1</td>\n",
       "      <td>1</td>\n",
       "      <td>1</td>\n",
       "      <td>1</td>\n",
       "      <td>1</td>\n",
       "      <td>1</td>\n",
       "      <td>1</td>\n",
       "      <td>1</td>\n",
       "      <td>1</td>\n",
       "    </tr>\n",
       "    <tr>\n",
       "      <th>13160</th>\n",
       "      <td>99996</td>\n",
       "      <td>other</td>\n",
       "      <td>1</td>\n",
       "      <td>1</td>\n",
       "      <td>1</td>\n",
       "      <td>1</td>\n",
       "      <td>1</td>\n",
       "      <td>1</td>\n",
       "      <td>1</td>\n",
       "      <td>1</td>\n",
       "      <td>1</td>\n",
       "      <td>1</td>\n",
       "    </tr>\n",
       "    <tr>\n",
       "      <th>13161</th>\n",
       "      <td>Nicht</td>\n",
       "      <td>other</td>\n",
       "      <td>1</td>\n",
       "      <td>1</td>\n",
       "      <td>1</td>\n",
       "      <td>1</td>\n",
       "      <td>0</td>\n",
       "      <td>1</td>\n",
       "      <td>1</td>\n",
       "      <td>1</td>\n",
       "      <td>1</td>\n",
       "      <td>1</td>\n",
       "    </tr>\n",
       "    <tr>\n",
       "      <th>13162</th>\n",
       "      <td>nicht</td>\n",
       "      <td>other</td>\n",
       "      <td>2</td>\n",
       "      <td>2</td>\n",
       "      <td>2</td>\n",
       "      <td>2</td>\n",
       "      <td>0</td>\n",
       "      <td>2</td>\n",
       "      <td>2</td>\n",
       "      <td>2</td>\n",
       "      <td>2</td>\n",
       "      <td>2</td>\n",
       "    </tr>\n",
       "  </tbody>\n",
       "</table>\n",
       "<p>13163 rows × 12 columns</p>\n",
       "</div>"
      ],
      "text/plain": [
       "      post_code brand_clean  uuid  name  brand  street  house_number  city  \\\n",
       "0         01067       total     1     1      1       1             1     1   \n",
       "1         01069       total     1     1      1       1             1     1   \n",
       "2         01097        esso     1     1      1       1             1     1   \n",
       "3         01097       other     1     1      1       1             1     1   \n",
       "4         01097       shell     1     1      1       1             1     1   \n",
       "...         ...         ...   ...   ...    ...     ...           ...   ...   \n",
       "13158     99994    agip eni     1     1      1       1             1     1   \n",
       "13159     99994       other     1     1      1       1             1     1   \n",
       "13160     99996       other     1     1      1       1             1     1   \n",
       "13161     Nicht       other     1     1      1       1             0     1   \n",
       "13162     nicht       other     2     2      2       2             0     2   \n",
       "\n",
       "       latitude  longitude  first_active  openingtimes_json  \n",
       "0             1          1             1                  1  \n",
       "1             1          1             1                  1  \n",
       "2             1          1             1                  1  \n",
       "3             1          1             1                  1  \n",
       "4             1          1             1                  1  \n",
       "...         ...        ...           ...                ...  \n",
       "13158         1          1             1                  1  \n",
       "13159         1          1             1                  1  \n",
       "13160         1          1             1                  1  \n",
       "13161         1          1             1                  1  \n",
       "13162         2          2             2                  2  \n",
       "\n",
       "[13163 rows x 12 columns]"
      ]
     },
     "execution_count": 55,
     "metadata": {},
     "output_type": "execute_result"
    }
   ],
   "source": [
    "plz = stations_clean.groupby(['post_code', 'brand_clean']).count().reset_index()\n",
    "plz"
   ]
  },
  {
   "cell_type": "code",
   "execution_count": 58,
   "id": "510d7440",
   "metadata": {},
   "outputs": [],
   "source": [
    "idx = plz.groupby('post_code')['uuid'].idxmax()\n",
    "dominant_brands = plz.loc[idx].reset_index(drop=True)"
   ]
  },
  {
   "cell_type": "code",
   "execution_count": 59,
   "id": "000318ec",
   "metadata": {},
   "outputs": [
    {
     "name": "stdout",
     "output_type": "stream",
     "text": [
      "Collecting brotli\n",
      "  Downloading Brotli-1.1.0-cp311-cp311-macosx_10_9_universal2.whl.metadata (5.5 kB)\n",
      "Downloading Brotli-1.1.0-cp311-cp311-macosx_10_9_universal2.whl (873 kB)\n",
      "\u001b[2K   \u001b[90m━━━━━━━━━━━━━━━━━━━━━━━━━━━━━━━━━━━━━━━━\u001b[0m \u001b[32m873.1/873.1 kB\u001b[0m \u001b[31m6.6 MB/s\u001b[0m eta \u001b[36m0:00:00\u001b[0m\n",
      "\u001b[?25hInstalling collected packages: brotli\n",
      "Successfully installed brotli-1.1.0\n",
      "Note: you may need to restart the kernel to use updated packages.\n"
     ]
    }
   ],
   "source": [
    "%pip install brotli"
   ]
  }
 ],
 "metadata": {
  "kernelspec": {
   "display_name": ".venv",
   "language": "python",
   "name": "python3"
  },
  "language_info": {
   "codemirror_mode": {
    "name": "ipython",
    "version": 3
   },
   "file_extension": ".py",
   "mimetype": "text/x-python",
   "name": "python",
   "nbconvert_exporter": "python",
   "pygments_lexer": "ipython3",
   "version": "3.11.3"
  }
 },
 "nbformat": 4,
 "nbformat_minor": 5
}
