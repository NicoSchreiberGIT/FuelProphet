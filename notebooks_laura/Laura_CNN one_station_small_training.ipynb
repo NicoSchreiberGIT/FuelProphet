{
 "cells": [
  {
   "cell_type": "markdown",
   "id": "4501a0d8",
   "metadata": {},
   "source": [
    "# CNN for time series analysis"
   ]
  },
  {
   "cell_type": "code",
   "execution_count": 17,
   "id": "923318d8",
   "metadata": {},
   "outputs": [
    {
     "name": "stdout",
     "output_type": "stream",
     "text": [
      "Collecting tensorflow==2.15\n",
      "  Using cached tensorflow-2.15.0-cp311-cp311-macosx_12_0_arm64.whl.metadata (3.6 kB)\n",
      "Collecting tensorflow-macos==2.15.0 (from tensorflow==2.15)\n",
      "  Using cached tensorflow_macos-2.15.0-cp311-cp311-macosx_12_0_arm64.whl.metadata (4.2 kB)\n",
      "Requirement already satisfied: absl-py>=1.0.0 in /Users/laurabrylka/Documents/Git/FuelProphet/.venv/lib/python3.11/site-packages (from tensorflow-macos==2.15.0->tensorflow==2.15) (2.3.0)\n",
      "Requirement already satisfied: astunparse>=1.6.0 in /Users/laurabrylka/Documents/Git/FuelProphet/.venv/lib/python3.11/site-packages (from tensorflow-macos==2.15.0->tensorflow==2.15) (1.6.3)\n",
      "Requirement already satisfied: flatbuffers>=23.5.26 in /Users/laurabrylka/Documents/Git/FuelProphet/.venv/lib/python3.11/site-packages (from tensorflow-macos==2.15.0->tensorflow==2.15) (25.2.10)\n",
      "Requirement already satisfied: gast!=0.5.0,!=0.5.1,!=0.5.2,>=0.2.1 in /Users/laurabrylka/Documents/Git/FuelProphet/.venv/lib/python3.11/site-packages (from tensorflow-macos==2.15.0->tensorflow==2.15) (0.6.0)\n",
      "Requirement already satisfied: google-pasta>=0.1.1 in /Users/laurabrylka/Documents/Git/FuelProphet/.venv/lib/python3.11/site-packages (from tensorflow-macos==2.15.0->tensorflow==2.15) (0.2.0)\n",
      "Requirement already satisfied: h5py>=2.9.0 in /Users/laurabrylka/Documents/Git/FuelProphet/.venv/lib/python3.11/site-packages (from tensorflow-macos==2.15.0->tensorflow==2.15) (3.13.0)\n",
      "Requirement already satisfied: libclang>=13.0.0 in /Users/laurabrylka/Documents/Git/FuelProphet/.venv/lib/python3.11/site-packages (from tensorflow-macos==2.15.0->tensorflow==2.15) (18.1.1)\n",
      "Collecting ml-dtypes~=0.2.0 (from tensorflow-macos==2.15.0->tensorflow==2.15)\n",
      "  Using cached ml_dtypes-0.2.0-cp311-cp311-macosx_10_9_universal2.whl.metadata (20 kB)\n",
      "Collecting numpy<2.0.0,>=1.23.5 (from tensorflow-macos==2.15.0->tensorflow==2.15)\n",
      "  Using cached numpy-1.26.4-cp311-cp311-macosx_11_0_arm64.whl.metadata (114 kB)\n",
      "Requirement already satisfied: opt-einsum>=2.3.2 in /Users/laurabrylka/Documents/Git/FuelProphet/.venv/lib/python3.11/site-packages (from tensorflow-macos==2.15.0->tensorflow==2.15) (3.4.0)\n",
      "Requirement already satisfied: packaging in /Users/laurabrylka/Documents/Git/FuelProphet/.venv/lib/python3.11/site-packages (from tensorflow-macos==2.15.0->tensorflow==2.15) (23.2)\n",
      "Requirement already satisfied: protobuf!=4.21.0,!=4.21.1,!=4.21.2,!=4.21.3,!=4.21.4,!=4.21.5,<5.0.0dev,>=3.20.3 in /Users/laurabrylka/Documents/Git/FuelProphet/.venv/lib/python3.11/site-packages (from tensorflow-macos==2.15.0->tensorflow==2.15) (4.23.3)\n",
      "Requirement already satisfied: setuptools in /Users/laurabrylka/Documents/Git/FuelProphet/.venv/lib/python3.11/site-packages (from tensorflow-macos==2.15.0->tensorflow==2.15) (65.5.0)\n",
      "Requirement already satisfied: six>=1.12.0 in /Users/laurabrylka/Documents/Git/FuelProphet/.venv/lib/python3.11/site-packages (from tensorflow-macos==2.15.0->tensorflow==2.15) (1.17.0)\n",
      "Requirement already satisfied: termcolor>=1.1.0 in /Users/laurabrylka/Documents/Git/FuelProphet/.venv/lib/python3.11/site-packages (from tensorflow-macos==2.15.0->tensorflow==2.15) (3.1.0)\n",
      "Requirement already satisfied: typing-extensions>=3.6.6 in /Users/laurabrylka/Documents/Git/FuelProphet/.venv/lib/python3.11/site-packages (from tensorflow-macos==2.15.0->tensorflow==2.15) (4.13.2)\n",
      "Collecting wrapt<1.15,>=1.11.0 (from tensorflow-macos==2.15.0->tensorflow==2.15)\n",
      "  Using cached wrapt-1.14.1-cp311-cp311-macosx_11_0_arm64.whl.metadata (6.7 kB)\n",
      "Requirement already satisfied: tensorflow-io-gcs-filesystem>=0.23.1 in /Users/laurabrylka/Documents/Git/FuelProphet/.venv/lib/python3.11/site-packages (from tensorflow-macos==2.15.0->tensorflow==2.15) (0.37.1)\n",
      "Requirement already satisfied: grpcio<2.0,>=1.24.3 in /Users/laurabrylka/Documents/Git/FuelProphet/.venv/lib/python3.11/site-packages (from tensorflow-macos==2.15.0->tensorflow==2.15) (1.72.1)\n",
      "Collecting tensorboard<2.16,>=2.15 (from tensorflow-macos==2.15.0->tensorflow==2.15)\n",
      "  Using cached tensorboard-2.15.2-py3-none-any.whl.metadata (1.7 kB)\n",
      "Collecting tensorflow-estimator<2.16,>=2.15.0 (from tensorflow-macos==2.15.0->tensorflow==2.15)\n",
      "  Using cached tensorflow_estimator-2.15.0-py2.py3-none-any.whl.metadata (1.3 kB)\n",
      "Collecting keras<2.16,>=2.15.0 (from tensorflow-macos==2.15.0->tensorflow==2.15)\n",
      "  Using cached keras-2.15.0-py3-none-any.whl.metadata (2.4 kB)\n",
      "Collecting google-auth<3,>=1.6.3 (from tensorboard<2.16,>=2.15->tensorflow-macos==2.15.0->tensorflow==2.15)\n",
      "  Downloading google_auth-2.40.2-py2.py3-none-any.whl.metadata (6.2 kB)\n",
      "Collecting google-auth-oauthlib<2,>=0.5 (from tensorboard<2.16,>=2.15->tensorflow-macos==2.15.0->tensorflow==2.15)\n",
      "  Using cached google_auth_oauthlib-1.2.2-py3-none-any.whl.metadata (2.7 kB)\n",
      "Requirement already satisfied: markdown>=2.6.8 in /Users/laurabrylka/Documents/Git/FuelProphet/.venv/lib/python3.11/site-packages (from tensorboard<2.16,>=2.15->tensorflow-macos==2.15.0->tensorflow==2.15) (3.8)\n",
      "Requirement already satisfied: requests<3,>=2.21.0 in /Users/laurabrylka/Documents/Git/FuelProphet/.venv/lib/python3.11/site-packages (from tensorboard<2.16,>=2.15->tensorflow-macos==2.15.0->tensorflow==2.15) (2.32.3)\n",
      "Requirement already satisfied: tensorboard-data-server<0.8.0,>=0.7.0 in /Users/laurabrylka/Documents/Git/FuelProphet/.venv/lib/python3.11/site-packages (from tensorboard<2.16,>=2.15->tensorflow-macos==2.15.0->tensorflow==2.15) (0.7.2)\n",
      "Requirement already satisfied: werkzeug>=1.0.1 in /Users/laurabrylka/Documents/Git/FuelProphet/.venv/lib/python3.11/site-packages (from tensorboard<2.16,>=2.15->tensorflow-macos==2.15.0->tensorflow==2.15) (3.1.3)\n",
      "Collecting cachetools<6.0,>=2.0.0 (from google-auth<3,>=1.6.3->tensorboard<2.16,>=2.15->tensorflow-macos==2.15.0->tensorflow==2.15)\n",
      "  Using cached cachetools-5.5.2-py3-none-any.whl.metadata (5.4 kB)\n",
      "Collecting pyasn1-modules>=0.2.1 (from google-auth<3,>=1.6.3->tensorboard<2.16,>=2.15->tensorflow-macos==2.15.0->tensorflow==2.15)\n",
      "  Using cached pyasn1_modules-0.4.2-py3-none-any.whl.metadata (3.5 kB)\n",
      "Collecting rsa<5,>=3.1.4 (from google-auth<3,>=1.6.3->tensorboard<2.16,>=2.15->tensorflow-macos==2.15.0->tensorflow==2.15)\n",
      "  Using cached rsa-4.9.1-py3-none-any.whl.metadata (5.6 kB)\n",
      "Collecting requests-oauthlib>=0.7.0 (from google-auth-oauthlib<2,>=0.5->tensorboard<2.16,>=2.15->tensorflow-macos==2.15.0->tensorflow==2.15)\n",
      "  Using cached requests_oauthlib-2.0.0-py2.py3-none-any.whl.metadata (11 kB)\n",
      "Requirement already satisfied: charset-normalizer<4,>=2 in /Users/laurabrylka/Documents/Git/FuelProphet/.venv/lib/python3.11/site-packages (from requests<3,>=2.21.0->tensorboard<2.16,>=2.15->tensorflow-macos==2.15.0->tensorflow==2.15) (3.4.2)\n",
      "Requirement already satisfied: idna<4,>=2.5 in /Users/laurabrylka/Documents/Git/FuelProphet/.venv/lib/python3.11/site-packages (from requests<3,>=2.21.0->tensorboard<2.16,>=2.15->tensorflow-macos==2.15.0->tensorflow==2.15) (3.10)\n",
      "Requirement already satisfied: urllib3<3,>=1.21.1 in /Users/laurabrylka/Documents/Git/FuelProphet/.venv/lib/python3.11/site-packages (from requests<3,>=2.21.0->tensorboard<2.16,>=2.15->tensorflow-macos==2.15.0->tensorflow==2.15) (2.4.0)\n",
      "Requirement already satisfied: certifi>=2017.4.17 in /Users/laurabrylka/Documents/Git/FuelProphet/.venv/lib/python3.11/site-packages (from requests<3,>=2.21.0->tensorboard<2.16,>=2.15->tensorflow-macos==2.15.0->tensorflow==2.15) (2025.4.26)\n",
      "Collecting pyasn1>=0.1.3 (from rsa<5,>=3.1.4->google-auth<3,>=1.6.3->tensorboard<2.16,>=2.15->tensorflow-macos==2.15.0->tensorflow==2.15)\n",
      "  Using cached pyasn1-0.6.1-py3-none-any.whl.metadata (8.4 kB)\n",
      "Requirement already satisfied: wheel<1.0,>=0.23.0 in /Users/laurabrylka/Documents/Git/FuelProphet/.venv/lib/python3.11/site-packages (from astunparse>=1.6.0->tensorflow-macos==2.15.0->tensorflow==2.15) (0.45.1)\n",
      "Requirement already satisfied: oauthlib>=3.0.0 in /Users/laurabrylka/Documents/Git/FuelProphet/.venv/lib/python3.11/site-packages (from requests-oauthlib>=0.7.0->google-auth-oauthlib<2,>=0.5->tensorboard<2.16,>=2.15->tensorflow-macos==2.15.0->tensorflow==2.15) (3.2.2)\n",
      "Requirement already satisfied: MarkupSafe>=2.1.1 in /Users/laurabrylka/Documents/Git/FuelProphet/.venv/lib/python3.11/site-packages (from werkzeug>=1.0.1->tensorboard<2.16,>=2.15->tensorflow-macos==2.15.0->tensorflow==2.15) (3.0.2)\n",
      "Using cached tensorflow-2.15.0-cp311-cp311-macosx_12_0_arm64.whl (2.1 kB)\n",
      "Using cached tensorflow_macos-2.15.0-cp311-cp311-macosx_12_0_arm64.whl (208.8 MB)\n",
      "Using cached keras-2.15.0-py3-none-any.whl (1.7 MB)\n",
      "Using cached ml_dtypes-0.2.0-cp311-cp311-macosx_10_9_universal2.whl (1.2 MB)\n",
      "Using cached numpy-1.26.4-cp311-cp311-macosx_11_0_arm64.whl (14.0 MB)\n",
      "Using cached tensorboard-2.15.2-py3-none-any.whl (5.5 MB)\n",
      "Downloading google_auth-2.40.2-py2.py3-none-any.whl (216 kB)\n",
      "Using cached cachetools-5.5.2-py3-none-any.whl (10 kB)\n",
      "Using cached google_auth_oauthlib-1.2.2-py3-none-any.whl (19 kB)\n",
      "Using cached rsa-4.9.1-py3-none-any.whl (34 kB)\n",
      "Using cached tensorflow_estimator-2.15.0-py2.py3-none-any.whl (441 kB)\n",
      "Using cached wrapt-1.14.1-cp311-cp311-macosx_11_0_arm64.whl (36 kB)\n",
      "Using cached pyasn1-0.6.1-py3-none-any.whl (83 kB)\n",
      "Using cached pyasn1_modules-0.4.2-py3-none-any.whl (181 kB)\n",
      "Using cached requests_oauthlib-2.0.0-py2.py3-none-any.whl (24 kB)\n",
      "Installing collected packages: wrapt, tensorflow-estimator, pyasn1, numpy, keras, cachetools, rsa, requests-oauthlib, pyasn1-modules, ml-dtypes, google-auth, google-auth-oauthlib, tensorboard, tensorflow-macos, tensorflow\n",
      "\u001b[2K  Attempting uninstall: wrapt\n",
      "\u001b[2K    Found existing installation: wrapt 1.17.2\n",
      "\u001b[2K    Uninstalling wrapt-1.17.2:\n",
      "\u001b[2K      Successfully uninstalled wrapt-1.17.2\n",
      "\u001b[2K  Attempting uninstall: numpy━━━━━━━━━━━━━━━━━━━━━━━━━━━━━━━━━━━━━\u001b[0m \u001b[32m 1/15\u001b[0m [tensorflow-estimator]\n",
      "\u001b[2K    Found existing installation: numpy 2.1.3━━━━━━━━━━━━━━━━━━\u001b[0m \u001b[32m 1/15\u001b[0m [tensorflow-estimator]\n",
      "\u001b[2K    Uninstalling numpy-2.1.3:━━━━━━━━━━━━━━━━━━━━━━━━━━━━━━━━━\u001b[0m \u001b[32m 1/15\u001b[0m [tensorflow-estimator]\n",
      "\u001b[2K      Successfully uninstalled numpy-2.1.3━━━━━━━━━━━━━━━━━━━━\u001b[0m \u001b[32m 1/15\u001b[0m [tensorflow-estimator]\n",
      "\u001b[2K  Attempting uninstall: kerasm\u001b[90m━━━━━━━━━━━━━━━━━━━━━━━━━━━━━━━\u001b[0m \u001b[32m 3/15\u001b[0m [numpy]-estimator]\n",
      "\u001b[2K    Found existing installation: keras 3.10.0━━━━━━━━━━━━━━━━━\u001b[0m \u001b[32m 3/15\u001b[0m [numpy]\n",
      "\u001b[2K    Uninstalling keras-3.10.0:0m\u001b[90m━━━━━━━━━━━━━━━━━━━━━━━━━━━━━\u001b[0m \u001b[32m 4/15\u001b[0m [keras]\n",
      "\u001b[2K      Successfully uninstalled keras-3.10.0━━━━━━━━━━━━━━━━━━━\u001b[0m \u001b[32m 4/15\u001b[0m [keras]\n",
      "\u001b[2K  Attempting uninstall: ml-dtypes\u001b[90m╺\u001b[0m\u001b[90m━━━━━━━━━━━━━━━━━━\u001b[0m \u001b[32m 8/15\u001b[0m [pyasn1-modules]\n",
      "\u001b[2K    Found existing installation: ml_dtypes 0.5.1━━━━━━━━━━━━━━\u001b[0m \u001b[32m 8/15\u001b[0m [pyasn1-modules]\n",
      "\u001b[2K    Uninstalling ml_dtypes-0.5.1:m╺\u001b[0m\u001b[90m━━━━━━━━━━━━━━━━━━\u001b[0m \u001b[32m 8/15\u001b[0m [pyasn1-modules]\n",
      "\u001b[2K      Successfully uninstalled ml_dtypes-0.5.1━━━━━━━━━━━━━━━━\u001b[0m \u001b[32m 8/15\u001b[0m [pyasn1-modules]\n",
      "\u001b[2K  Attempting uninstall: tensorboard\u001b[0m\u001b[90m━━━━━━━━━━━━━━━━━━\u001b[0m \u001b[32m 8/15\u001b[0m [pyasn1-modules]\n",
      "\u001b[2K    Found existing installation: tensorboard 2.19.0[0m\u001b[90m━━━━━━━\u001b[0m \u001b[32m12/15\u001b[0m [tensorboard]\n",
      "\u001b[2K    Uninstalling tensorboard-2.19.0:\u001b[0m\u001b[90m╺\u001b[0m\u001b[90m━━━━━━━\u001b[0m \u001b[32m12/15\u001b[0m [tensorboard]\n",
      "\u001b[2K      Successfully uninstalled tensorboard-2.19.0m\u001b[90m━━━━━━━\u001b[0m \u001b[32m12/15\u001b[0m [tensorboard]\n",
      "\u001b[2K   \u001b[90m━━━━━━━━━━━━━━━━━━━━━━━━━━━━━━━━━━━━━━━━\u001b[0m \u001b[32m15/15\u001b[0m [tensorflow]5\u001b[0m [tensorflow-macos]\n",
      "\u001b[1A\u001b[2KSuccessfully installed cachetools-5.5.2 google-auth-2.40.2 google-auth-oauthlib-1.2.2 keras-2.15.0 ml-dtypes-0.2.0 numpy-1.26.4 pyasn1-0.6.1 pyasn1-modules-0.4.2 requests-oauthlib-2.0.0 rsa-4.9.1 tensorboard-2.15.2 tensorflow-2.15.0 tensorflow-estimator-2.15.0 tensorflow-macos-2.15.0 wrapt-1.14.1\n",
      "Note: you may need to restart the kernel to use updated packages.\n"
     ]
    }
   ],
   "source": [
    "%pip install tensorflow==2.15"
   ]
  },
  {
   "cell_type": "code",
   "execution_count": 1,
   "id": "379719e7",
   "metadata": {},
   "outputs": [],
   "source": [
    "import sys\n",
    "import os\n",
    "sys.path.append(os.path.abspath(\"..\")) \n",
    "\n",
    "import numpy as np\n",
    "import pandas as pd\n",
    "import plotly_express as px\n",
    "from datetime import datetime \n",
    "from sklearn.preprocessing import MinMaxScaler\n",
    "import matplotlib.pyplot as plt\n",
    "from functions_laura.Data_processing import train_test_split\n",
    "from tensorflow.keras.models import Sequential\n",
    "from tensorflow.keras.layers import Conv1D, MaxPooling1D, Flatten, Dense\n",
    "from tensorflow.keras.models import load_model\n"
   ]
  },
  {
   "cell_type": "markdown",
   "id": "5f1f0950",
   "metadata": {},
   "source": [
    "![CNN](CNN-wibawa_JBD_2022.png)"
   ]
  },
  {
   "cell_type": "markdown",
   "id": "0819a8cc",
   "metadata": {},
   "source": [
    "### Data normalization\n",
    "\n",
    "Data normalization is essential for CNN because it can scale the attribute into a specific range required by the activation function. This study uses Min–Max normalization.\n",
    "\n",
    "## Exponential smoothing with optimum $\\alpha$\n",
    "\n",
    "The smoothed data $ {S}_{t} $ is the result of smoothing the raw data $ {\\{X}_{t}\\} $. The smoothing factor, $\\alpha$ is a value that determines the level of smoothing. The range of $\\alpha$ is between 0 and 1 (0 ≤ alpha ≤ 1). When $\\alpha$ close to 1, the learning process is fast because it has a less smoothing effect. In contrast, values of $\\alpha$ closer to 0 have a more significant smoothing effect and are less responsive to recent changes (slow learning).\n",
    "\n",
    "How to determine optimum $\\alpha$:\n",
    "\n",
    "$$ Optimum \\alpha ={ \\alpha }_{max}- \\frac{\\frac{1}{n} \\sum_{t=1}^{n}{ X}_{t}}{{ X}_{ max}- { X}_{ min}} $$\n",
    "\n",
    "\n",
    "This is the optimum smoothing:\n",
    "\n",
    "$$ {S}_{t}={ S}_{t-1} +\\frac{\\left({ X}_{ max}- { X}_{ min}\\right)-\\frac{1}{n}\\sum_{t=1}^{n}{ X}_{t}}{{{X}_{ max}- X}_{ min}}({ X}_{t}-{ S}_{t-1}) $$\n",
    "\n",
    "## CNN with lucas hidden layers\n",
    "\n",
    "The input layer used one feature since it is a univariate model. Flatten was used for input to get a fully connected layer. The fully connected layer contains dense for the number of hidden layers.\n",
    "\n",
    "Instead of using a random number, we used the Lucas number to determine the hidden layer. The Lucas number (Ln) is recursive in the same way as the Fibonacci sequence (Fn), with each term equal to the sum of the two preceding terms, yet with different initial values. This sequence was selected since it provides a golden ratio number. The golden ratio emerges in nature, demonstrating that this enchanted number is ideal for determining the optimal solution to numerous covering problems such as arts, engineering, and financial forecasting. In this study, the Lucas number starts from three and ends with the last number before 100, which is 76. We limited the number of hidden layers to avoid the impact of time consumption and efficiency performance. Overall, we used 3, 4, 7, 11, 18, 29, 47, and 76 [40] for the numbers of hidden layers.\n",
    "\n",
    "![hidden](Lucas-hidden.png)\n",
    "\n"
   ]
  },
  {
   "cell_type": "markdown",
   "id": "0e1718d3",
   "metadata": {},
   "source": [
    "loading of the data and creating the needed data from the dataframe"
   ]
  },
  {
   "cell_type": "code",
   "execution_count": 137,
   "id": "51730681",
   "metadata": {},
   "outputs": [],
   "source": [
    "from functions_laura.Data_processing import resample_with_seasonality\n",
    "from functions_laura.Data_processing import resample\n",
    "from functions_laura.Data_processing import add_seasonal\n",
    "from functions_laura.Data_processing import one_station_resample_with_seasonality\n",
    "from functions_laura.Data_processing import train_test_split\n",
    "from functions_laura.Data_cleaning import data_cleaning_datetime"
   ]
  },
  {
   "cell_type": "code",
   "execution_count": 138,
   "id": "993a9fab",
   "metadata": {},
   "outputs": [],
   "source": [
    "df = pd.read_parquet('../data/hamburg_raw.parquet')"
   ]
  },
  {
   "cell_type": "code",
   "execution_count": 139,
   "id": "67102027",
   "metadata": {},
   "outputs": [
    {
     "name": "stderr",
     "output_type": "stream",
     "text": [
      "/Users/laurabrylka/Documents/Git/FuelProphet/functions_laura/Data_cleaning.py:23: SettingWithCopyWarning: \n",
      "A value is trying to be set on a copy of a slice from a DataFrame.\n",
      "Try using .loc[row_indexer,col_indexer] = value instead\n",
      "\n",
      "See the caveats in the documentation: https://pandas.pydata.org/pandas-docs/stable/user_guide/indexing.html#returning-a-view-versus-a-copy\n",
      "  df['datetime'] = df['date'].apply(lambda x: datetime.strptime(x.split(\"+\")[0], \"%Y-%m-%d %H:%M:%S\"))\n"
     ]
    }
   ],
   "source": [
    "df = data_cleaning_datetime(df)"
   ]
  },
  {
   "cell_type": "markdown",
   "id": "7cc37819",
   "metadata": {},
   "source": [
    "do the train-test split"
   ]
  },
  {
   "cell_type": "code",
   "execution_count": null,
   "id": "c5f38c5a",
   "metadata": {},
   "outputs": [],
   "source": [
    "#train_df, test_df = train_test_split(df)"
   ]
  },
  {
   "cell_type": "code",
   "execution_count": 140,
   "id": "42632e39",
   "metadata": {},
   "outputs": [
    {
     "name": "stdout",
     "output_type": "stream",
     "text": [
      "Train df shape: (902, 19)\n",
      "Test df shape: (100, 19)\n"
     ]
    }
   ],
   "source": [
    "# First, filter for one station\n",
    "df_one_station = df[df['station_uuid'] == '30a50253-2339-469d-a77c-86713d9f5f7f']\n",
    "\n",
    "# Define date ranges\n",
    "train_start = pd.to_datetime(\"2025-05-02\")\n",
    "train_end = pd.to_datetime(\"2025-05-23\")\n",
    "test_end = pd.to_datetime(\"2025-05-27\")\n",
    "\n",
    "# Split into train and test using df_one_station\n",
    "train_df = df_one_station[\n",
    "    (df_one_station['datetime'] >= train_start) & \n",
    "    (df_one_station['datetime'] < train_end)\n",
    "]\n",
    "\n",
    "test_df = df_one_station[\n",
    "    (df_one_station['datetime'] >= train_end) & \n",
    "    (df_one_station['datetime'] <= test_end)\n",
    "]\n",
    "\n",
    "# Verify data is present\n",
    "print(\"Train df shape:\", train_df.shape)\n",
    "print(\"Test df shape:\", test_df.shape)"
   ]
  },
  {
   "cell_type": "markdown",
   "id": "72c9ea40",
   "metadata": {},
   "source": [
    "get data of one station"
   ]
  },
  {
   "cell_type": "code",
   "execution_count": null,
   "id": "bc53c925",
   "metadata": {},
   "outputs": [],
   "source": [
    "# we use only the last three weeks as training data\n",
    "#train_df = test_df[test_df['datetime'] < pd.to_datetime(\"2025-05-23 00:00\")]"
   ]
  },
  {
   "cell_type": "code",
   "execution_count": 141,
   "id": "c2f00db5",
   "metadata": {},
   "outputs": [
    {
     "name": "stderr",
     "output_type": "stream",
     "text": [
      "/Users/laurabrylka/Documents/Git/FuelProphet/functions_laura/Data_processing.py:19: SettingWithCopyWarning: \n",
      "A value is trying to be set on a copy of a slice from a DataFrame.\n",
      "Try using .loc[row_indexer,col_indexer] = value instead\n",
      "\n",
      "See the caveats in the documentation: https://pandas.pydata.org/pandas-docs/stable/user_guide/indexing.html#returning-a-view-versus-a-copy\n",
      "  merged_df['datetime'] = merged_df['date'].apply(lambda x: datetime.strptime(x.split(\"+\")[0], \"%Y-%m-%d %H:%M:%S\"))\n"
     ]
    }
   ],
   "source": [
    "# only compute the seasonality on the training data!\n",
    "test_df = resample(test_df)\n",
    "train_df = one_station_resample_with_seasonality(train_df, uuid='30a50253-2339-469d-a77c-86713d9f5f7f')"
   ]
  },
  {
   "cell_type": "code",
   "execution_count": null,
   "id": "20f18110",
   "metadata": {},
   "outputs": [],
   "source": [
    "# test_df = test_df[\n",
    "#     (test_df['datetime'] >= pd.to_datetime(\"2025-05-23\")) &\n",
    "#     (test_df['datetime'] <= pd.to_datetime(\"2025-05-24\"))\n",
    "# ]"
   ]
  },
  {
   "cell_type": "markdown",
   "id": "bc6d5efe",
   "metadata": {},
   "source": [
    "Add the training seasonality to the test set"
   ]
  },
  {
   "cell_type": "code",
   "execution_count": 142,
   "id": "a04d77dc",
   "metadata": {},
   "outputs": [
    {
     "name": "stdout",
     "output_type": "stream",
     "text": [
      "datetime              0\n",
      "e5                    0\n",
      "seasonal_component    0\n",
      "dtype: int64\n"
     ]
    }
   ],
   "source": [
    "# Take first 288 values (one complete cycle) and repeat\n",
    "seasonal_pattern = train_df['seasonal_component'].iloc[:288].values\n",
    "test_df['seasonal_component'] = np.tile(seasonal_pattern, len(test_df)//288 + 1)[:len(test_df)]\n",
    "\n",
    "# Verify no NaNs\n",
    "print(test_df.isna().sum())"
   ]
  },
  {
   "cell_type": "markdown",
   "id": "dcd69e88",
   "metadata": {},
   "source": [
    "we remove the unnecessary data from test df and add the seasonal component from the training data"
   ]
  },
  {
   "cell_type": "code",
   "execution_count": null,
   "id": "d0cfb342",
   "metadata": {},
   "outputs": [],
   "source": [
    "#test_df = test_df[test_df['station_uuid'] == '30a50253-2339-469d-a77c-86713d9f5f7f']"
   ]
  },
  {
   "cell_type": "code",
   "execution_count": 143,
   "id": "1a3322eb",
   "metadata": {},
   "outputs": [],
   "source": [
    "test_df_ = pd.DataFrame({\n",
    "    'datetime': test_df['datetime'],\n",
    "    'e5' : test_df['e5'],\n",
    "    'seasonal_component' : test_df['seasonal_component']\n",
    "})"
   ]
  },
  {
   "cell_type": "markdown",
   "id": "f1a897ea",
   "metadata": {},
   "source": [
    "set datetime as index:"
   ]
  },
  {
   "cell_type": "code",
   "execution_count": 144,
   "id": "efe3825e",
   "metadata": {},
   "outputs": [],
   "source": [
    "test_df_.set_index('datetime', inplace=True)\n",
    "train_df.set_index('datetime', inplace=True)"
   ]
  },
  {
   "cell_type": "markdown",
   "id": "33991f6e",
   "metadata": {},
   "source": [
    "check our data in a plot"
   ]
  },
  {
   "cell_type": "code",
   "execution_count": 145,
   "id": "519642e1",
   "metadata": {},
   "outputs": [
    {
     "data": {
      "image/png": "[encoded data removed]",
      "text/plain": [
       "<Figure size 1000x600 with 1 Axes>"
      ]
     },
     "metadata": {},
     "output_type": "display_data"
    }
   ],
   "source": [
    "# Plotting the train and test set\n",
    "plt.figure(figsize=(10,6))\n",
    "plt.plot(train_df.index, train_df['e5'], label='Train data', drawstyle='steps-post')\n",
    "plt.plot(test_df_.index, test_df_['e5'], label='Test data', drawstyle='steps-post')\n",
    "\n",
    "plt.xlabel('Date')\n",
    "plt.ylabel('E5 Price')\n",
    "plt.title('Train and Test Data')\n",
    "plt.legend()\n",
    "\n",
    "# Rotate x-axis labels for better readability\n",
    "plt.xticks(rotation=45)\n",
    "\n",
    "# Adjust layout to prevent label cutoff\n",
    "plt.tight_layout()\n",
    "\n",
    "plt.show()"
   ]
  },
  {
   "cell_type": "code",
   "execution_count": 146,
   "id": "ebce534a",
   "metadata": {},
   "outputs": [
    {
     "data": {
      "image/png": "[encoded data removed]",
      "text/plain": [
       "<Figure size 1400x500 with 1 Axes>"
      ]
     },
     "metadata": {},
     "output_type": "display_data"
    }
   ],
   "source": [
    "# Plot Test\n",
    "plt.figure(figsize=(14, 5))\n",
    "plt.plot(test_df_['e5'], label='True Test E5', drawstyle='steps-post')\n",
    "plt.title(\"Test Set - True\")\n",
    "plt.xlabel(\"Time Step\")\n",
    "plt.ylabel(\"E5 Price\")\n",
    "plt.legend()\n",
    "plt.grid(True)\n",
    "plt.show()"
   ]
  },
  {
   "cell_type": "code",
   "execution_count": 173,
   "id": "3fd57919",
   "metadata": {},
   "outputs": [
    {
     "name": "stdout",
     "output_type": "stream",
     "text": [
      "Test set date range:\n",
      "Start: 2025-05-23 06:35:00\n",
      "End: 2025-05-25 22:00:00\n"
     ]
    }
   ],
   "source": [
    "# First, let's verify our actual data range\n",
    "print(\"Test set date range:\")\n",
    "print(f\"Start: {test_df_.index.min()}\")\n",
    "print(f\"End: {test_df_.index.max()}\")"
   ]
  },
  {
   "cell_type": "markdown",
   "id": "f03c7682",
   "metadata": {},
   "source": [
    "we scale the data"
   ]
  },
  {
   "cell_type": "code",
   "execution_count": 147,
   "id": "1e2389ad",
   "metadata": {},
   "outputs": [],
   "source": [
    "scaler = MinMaxScaler()\n",
    "scaler.fit(train_df[['e5', 'seasonal_component']])\n",
    "scaled_train = scaler.transform(train_df[['e5', 'seasonal_component']])\n",
    "scaled_test = scaler.transform(test_df_[['e5', 'seasonal_component']])"
   ]
  },
  {
   "cell_type": "code",
   "execution_count": 148,
   "id": "7a376ce3",
   "metadata": {},
   "outputs": [
    {
     "data": {
      "text/plain": [
       "array([[0.68      , 0.79309653],\n",
       "       [0.68      , 0.79312519],\n",
       "       [0.68      , 0.79315386],\n",
       "       [0.68      , 0.79318252],\n",
       "       [0.68      , 0.79321119]])"
      ]
     },
     "execution_count": 148,
     "metadata": {},
     "output_type": "execute_result"
    }
   ],
   "source": [
    "scaled_train[:5]"
   ]
  },
  {
   "cell_type": "code",
   "execution_count": 149,
   "id": "32af9fa0",
   "metadata": {},
   "outputs": [
    {
     "data": {
      "text/plain": [
       "array([[0.64      , 0.79309653],\n",
       "       [0.64      , 0.79312519],\n",
       "       [0.64      , 0.79315386],\n",
       "       [0.64      , 0.79318252],\n",
       "       [0.64      , 0.79321119]])"
      ]
     },
     "execution_count": 149,
     "metadata": {},
     "output_type": "execute_result"
    }
   ],
   "source": [
    "scaled_test[:5]"
   ]
  },
  {
   "cell_type": "code",
   "execution_count": 150,
   "id": "057e30d0",
   "metadata": {},
   "outputs": [
    {
     "data": {
      "text/plain": [
       "(762, 2)"
      ]
     },
     "execution_count": 150,
     "metadata": {},
     "output_type": "execute_result"
    }
   ],
   "source": [
    "scaled_test.shape"
   ]
  },
  {
   "cell_type": "markdown",
   "id": "15adbbc6",
   "metadata": {},
   "source": [
    "### Transforming the data...\n",
    "so it can fit into my model. We are using a sliding window of 288 (1 day). After every 288 e5 prices, we look at the price that comes after it. \n",
    "$X$ is an array consisting of all the sequences, so it has 288 columns.\n",
    "$y$ is a 1D array of all these values that come after the 288 (= the next step)\n",
    "\n",
    "$X$ and $y$ have 288 less rows than the original df, because:\n",
    "\n",
    "| i    | Input `X[i]` (rows used) | Target `y[i]` |\n",
    "| ---- | ------------------------ | ------------- |\n",
    "| 0    | rows 0 to 287            | row 288, E5   |\n",
    "| 1    | rows 1 to 288            | row 289, E5   |\n",
    "| 2    | rows 2 to 289            | row 290, E5   |\n",
    "| ...  | ...                      | ...           |\n",
    "| 9711 | rows 9711 to 9998        | row 9999, E5  |\n"
   ]
  },
  {
   "cell_type": "code",
   "execution_count": 151,
   "id": "61841519",
   "metadata": {},
   "outputs": [
    {
     "name": "stdout",
     "output_type": "stream",
     "text": [
      "Input shape: (5658, 288, 2)\n",
      "Target shape: (5658,)\n"
     ]
    }
   ],
   "source": [
    "def create_sequences(data, window_size, target_col_index):\n",
    "    \"\"\"Create sequences for time series prediction.\n",
    "    \n",
    "    Args:\n",
    "        data: Scaled input data with shape (samples, features)\n",
    "        window_size: Number of time steps to look back\n",
    "        target_col_index: Index of the target column to predict\n",
    "        \n",
    "    Returns:\n",
    "        X: Input sequences with shape (samples, window_size, features)\n",
    "        y: Target values with shape (samples,)\n",
    "    \"\"\"\n",
    "    X = []\n",
    "    y = []\n",
    "    for i in range(len(data) - window_size):\n",
    "        # Get sequence of all features\n",
    "        sequence = data[i:(i + window_size)]\n",
    "        X.append(sequence)\n",
    "        # Get next value of target feature\n",
    "        target = data[i + window_size, target_col_index]\n",
    "        y.append(target)\n",
    "    return np.array(X), np.array(y)\n",
    "\n",
    "# Create sequences with e5 as target (index 0)\n",
    "window_size = 288  # one day of 5-min steps\n",
    "target_col_index = 0  # e5 price is in first column\n",
    "X, y = create_sequences(scaled_train, window_size, target_col_index)\n",
    "\n",
    "# Print shapes to verify\n",
    "print(f\"Input shape: {X.shape}\")  # Should be (samples, 288, 2)\n",
    "print(f\"Target shape: {y.shape}\") # Should be (samples,)"
   ]
  },
  {
   "cell_type": "code",
   "execution_count": 116,
   "id": "57f81ec3",
   "metadata": {},
   "outputs": [
    {
     "name": "stdout",
     "output_type": "stream",
     "text": [
      "(5658, 288, 2)\n"
     ]
    }
   ],
   "source": [
    "print(X.shape)"
   ]
  },
  {
   "cell_type": "code",
   "execution_count": 152,
   "id": "de8a77f3",
   "metadata": {},
   "outputs": [
    {
     "data": {
      "text/plain": [
       "array([[[0.68      , 0.79309653],\n",
       "        [0.68      , 0.79312519],\n",
       "        [0.68      , 0.79315386],\n",
       "        ...,\n",
       "        [0.52      , 0.48757136],\n",
       "        [0.52      , 0.48759047],\n",
       "        [0.52      , 0.48761436]],\n",
       "\n",
       "       [[0.68      , 0.79312519],\n",
       "        [0.68      , 0.79315386],\n",
       "        [0.68      , 0.79318252],\n",
       "        ...,\n",
       "        [0.52      , 0.48759047],\n",
       "        [0.52      , 0.48761436],\n",
       "        [0.68      , 0.79309653]],\n",
       "\n",
       "       [[0.68      , 0.79315386],\n",
       "        [0.68      , 0.79318252],\n",
       "        [0.68      , 0.79321119],\n",
       "        ...,\n",
       "        [0.52      , 0.48761436],\n",
       "        [0.68      , 0.79309653],\n",
       "        [0.68      , 0.79312519]],\n",
       "\n",
       "       [[0.68      , 0.79318252],\n",
       "        [0.68      , 0.79321119],\n",
       "        [0.68      , 0.79323985],\n",
       "        ...,\n",
       "        [0.68      , 0.79309653],\n",
       "        [0.68      , 0.79312519],\n",
       "        [0.68      , 0.79315386]],\n",
       "\n",
       "       [[0.68      , 0.79321119],\n",
       "        [0.68      , 0.79323985],\n",
       "        [0.68      , 0.79326852],\n",
       "        ...,\n",
       "        [0.68      , 0.79312519],\n",
       "        [0.68      , 0.79315386],\n",
       "        [0.68      , 0.79318252]]])"
      ]
     },
     "execution_count": 152,
     "metadata": {},
     "output_type": "execute_result"
    }
   ],
   "source": [
    "X[:5]"
   ]
  },
  {
   "cell_type": "code",
   "execution_count": 153,
   "id": "d75b3135",
   "metadata": {},
   "outputs": [
    {
     "data": {
      "text/plain": [
       "(5658,)"
      ]
     },
     "execution_count": 153,
     "metadata": {},
     "output_type": "execute_result"
    }
   ],
   "source": [
    "y.shape"
   ]
  },
  {
   "cell_type": "code",
   "execution_count": 154,
   "id": "56359af0",
   "metadata": {},
   "outputs": [
    {
     "data": {
      "text/plain": [
       "array([0.68, 0.68, 0.68, 0.68, 0.68])"
      ]
     },
     "execution_count": 154,
     "metadata": {},
     "output_type": "execute_result"
    }
   ],
   "source": [
    "y[:5]"
   ]
  },
  {
   "cell_type": "markdown",
   "id": "57466401",
   "metadata": {},
   "source": [
    "We prepare the Test data -> put in 3 days and predict one day"
   ]
  },
  {
   "cell_type": "code",
   "execution_count": 177,
   "id": "34db8c19",
   "metadata": {},
   "outputs": [
    {
     "name": "stdout",
     "output_type": "stream",
     "text": [
      "\n",
      "Forecast setup:\n",
      "Using data from 2025-05-20 00:00:00 to 2025-05-22 00:00:00\n",
      "To predict day: 2025-05-23 00:00:00\n"
     ]
    }
   ],
   "source": [
    "# Adjust the dates based on actual data\n",
    "test_end = pd.to_datetime(\"2025-05-23\")  # Update this to match your actual end date\n",
    "forecast_target_day = test_end\n",
    "# Use the 3 days before the target day as input\n",
    "forecast_input_start = forecast_target_day - pd.Timedelta(days=3)\n",
    "forecast_input_end = forecast_target_day - pd.Timedelta(days=1)\n",
    "\n",
    "print(\"\\nForecast setup:\")\n",
    "print(f\"Using data from {forecast_input_start} to {forecast_input_end}\")\n",
    "print(f\"To predict day: {forecast_target_day}\")"
   ]
  },
  {
   "cell_type": "code",
   "execution_count": 178,
   "id": "a40dfa82",
   "metadata": {},
   "outputs": [],
   "source": [
    "# Step 1: Calculate window sizes\n",
    "window_size = 288  # one day\n",
    "days_input = 3\n",
    "days_output = 1\n",
    "\n",
    "total_input_steps = days_input * window_size\n",
    "total_target_steps = days_output * window_size\n",
    "\n",
    "# Step 2: Get the slice of scaled_test for exactly what you need\n",
    "# These are the last (3 days + 1 day) = 1152 samples\n",
    "reduced_scaled_test = scaled_test[-((days_input + days_output) * window_size):]\n",
    "\n",
    "# Step 3: Create sequences\n",
    "X_test_final, y_test_final = create_sequences(reduced_scaled_test, window_size, target_col_index)\n",
    "\n",
    "# Keep only the sequences needed for the last day prediction\n",
    "X_forecast = X_test_final[-total_target_steps:]\n",
    "y_forecast = y_test_final[-total_target_steps:]\n"
   ]
  },
  {
   "cell_type": "code",
   "execution_count": 179,
   "id": "a33f5d30",
   "metadata": {},
   "outputs": [
    {
     "name": "stdout",
     "output_type": "stream",
     "text": [
      "0.6399999999999997\n"
     ]
    }
   ],
   "source": [
    "print(y_test_final[0])"
   ]
  },
  {
   "cell_type": "code",
   "execution_count": 180,
   "id": "d82f0187",
   "metadata": {},
   "outputs": [
    {
     "name": "stdout",
     "output_type": "stream",
     "text": [
      "Scaler mins: [ 1.659      -0.07751345]\n",
      "Scaler maxs: [1.909     0.1041836]\n"
     ]
    }
   ],
   "source": [
    "print(\"Scaler mins:\", scaler.data_min_)\n",
    "print(\"Scaler maxs:\", scaler.data_max_)\n"
   ]
  },
  {
   "cell_type": "code",
   "execution_count": 181,
   "id": "c29c4670",
   "metadata": {},
   "outputs": [
    {
     "name": "stdout",
     "output_type": "stream",
     "text": [
      "Overlap: 0\n"
     ]
    }
   ],
   "source": [
    "# check for overlapping timestamps\n",
    "train_times = set(train_df.index)\n",
    "test_times = set(test_df_.index)\n",
    "overlap = train_times.intersection(test_times)\n",
    "print(f\"Overlap: {len(overlap)}\")\n"
   ]
  },
  {
   "cell_type": "code",
   "execution_count": 182,
   "id": "1e087d1e",
   "metadata": {},
   "outputs": [
    {
     "data": {
      "image/png": "[encoded data removed]",
      "text/plain": [
       "<Figure size 640x480 with 1 Axes>"
      ]
     },
     "metadata": {},
     "output_type": "display_data"
    }
   ],
   "source": [
    "# check distribution of train and test\n",
    "from scipy.stats import gaussian_kde\n",
    "import matplotlib.pyplot as plt\n",
    "import numpy as np\n",
    "\n",
    "x_train = train_df[\"e5\"].dropna()\n",
    "x_test = test_df[\"e5\"].dropna()\n",
    "\n",
    "kde_train = gaussian_kde(x_train)\n",
    "kde_test = gaussian_kde(x_test)\n",
    "\n",
    "x_vals = np.linspace(min(x_train.min(), x_test.min()), max(x_train.max(), x_test.max()), 1000)\n",
    "plt.plot(x_vals, kde_train(x_vals), label='Train', color='blue')\n",
    "plt.plot(x_vals, kde_test(x_vals), label='Test', color='orange')\n",
    "plt.legend()\n",
    "plt.title(\"KDE of 'e5' in Train vs Test\")\n",
    "plt.xlabel(\"e5 Value\")\n",
    "plt.ylabel(\"Density\")\n",
    "plt.grid(True)\n",
    "plt.show()\n"
   ]
  },
  {
   "cell_type": "code",
   "execution_count": 160,
   "id": "89058b4e",
   "metadata": {},
   "outputs": [
    {
     "data": {
      "text/plain": [
       "(762, 2)"
      ]
     },
     "execution_count": 160,
     "metadata": {},
     "output_type": "execute_result"
    }
   ],
   "source": [
    "scaled_test.shape"
   ]
  },
  {
   "cell_type": "code",
   "execution_count": 30,
   "id": "c969f403",
   "metadata": {},
   "outputs": [
    {
     "data": {
      "text/plain": [
       "(864,)"
      ]
     },
     "execution_count": 30,
     "metadata": {},
     "output_type": "execute_result"
    }
   ],
   "source": [
    "y_test_final.shape"
   ]
  },
  {
   "cell_type": "markdown",
   "id": "400a467c",
   "metadata": {},
   "source": [
    "### Model training"
   ]
  },
  {
   "cell_type": "code",
   "execution_count": 161,
   "id": "a7098c31",
   "metadata": {},
   "outputs": [],
   "source": [
    "\n",
    "# Example multivariate time-series data\n",
    "# Assume 'data' is a NumPy array of shape (samples, timesteps, features)\n",
    "# For instance, data.shape = (1000, 30, 5) for 1000 samples, 30 timesteps, and 5 features\n",
    "\n",
    "# Define the model\n",
    "model = Sequential()\n",
    "model.add(Conv1D(filters=64, kernel_size=3, activation='relu', input_shape=(288, 2))) # 1-dimensional deconvolution\n",
    "model.add(MaxPooling1D(pool_size=2))\n",
    "model.add(Flatten())\n",
    "model.add(Dense(50, activation='relu'))\n",
    "model.add(Dense(1))  # Output layer for forecasting\n",
    "\n",
    "model.compile(optimizer='adam', loss='mse')\n",
    "\n",
    "# Fit the model\n",
    "# Assume 'X_train' and 'y_train' are your training data and labels\n",
    "# model.fit(X_train, y_train, epochs=50, batch_size=32, verbose=1)"
   ]
  },
  {
   "cell_type": "code",
   "execution_count": 162,
   "id": "835b302a",
   "metadata": {},
   "outputs": [
    {
     "name": "stdout",
     "output_type": "stream",
     "text": [
      "Epoch 1/30\n",
      "177/177 [==============================] - 1s 4ms/step - loss: 0.0123\n",
      "Epoch 2/30\n",
      "177/177 [==============================] - 1s 4ms/step - loss: 0.0020\n",
      "Epoch 3/30\n",
      "177/177 [==============================] - 1s 4ms/step - loss: 0.0015\n",
      "Epoch 4/30\n",
      "177/177 [==============================] - 1s 4ms/step - loss: 0.0012\n",
      "Epoch 5/30\n",
      "177/177 [==============================] - 1s 4ms/step - loss: 0.0010\n",
      "Epoch 6/30\n",
      "177/177 [==============================] - 1s 4ms/step - loss: 9.9402e-04\n",
      "Epoch 7/30\n",
      "177/177 [==============================] - 1s 4ms/step - loss: 0.0012\n",
      "Epoch 8/30\n",
      "177/177 [==============================] - 1s 4ms/step - loss: 0.0011\n",
      "Epoch 9/30\n",
      "177/177 [==============================] - 1s 4ms/step - loss: 7.8715e-04\n",
      "Epoch 10/30\n",
      "177/177 [==============================] - 1s 4ms/step - loss: 8.9656e-04\n",
      "Epoch 11/30\n",
      "177/177 [==============================] - 1s 7ms/step - loss: 8.5502e-04\n",
      "Epoch 12/30\n",
      "177/177 [==============================] - 1s 5ms/step - loss: 7.1375e-04\n",
      "Epoch 13/30\n",
      "177/177 [==============================] - 1s 4ms/step - loss: 7.1219e-04\n",
      "Epoch 14/30\n",
      "177/177 [==============================] - 1s 4ms/step - loss: 6.7640e-04\n",
      "Epoch 15/30\n",
      "177/177 [==============================] - 1s 5ms/step - loss: 6.3856e-04\n",
      "Epoch 16/30\n",
      "177/177 [==============================] - 1s 4ms/step - loss: 7.2060e-04\n",
      "Epoch 17/30\n",
      "177/177 [==============================] - 1s 4ms/step - loss: 6.2991e-04\n",
      "Epoch 18/30\n",
      "177/177 [==============================] - 1s 4ms/step - loss: 6.4416e-04\n",
      "Epoch 19/30\n",
      "177/177 [==============================] - 1s 4ms/step - loss: 5.8293e-04\n",
      "Epoch 20/30\n",
      "177/177 [==============================] - 1s 4ms/step - loss: 5.7008e-04\n",
      "Epoch 21/30\n",
      "177/177 [==============================] - 1s 4ms/step - loss: 5.5359e-04\n",
      "Epoch 22/30\n",
      "177/177 [==============================] - 1s 4ms/step - loss: 6.0073e-04\n",
      "Epoch 23/30\n",
      "177/177 [==============================] - 1s 4ms/step - loss: 5.8534e-04\n",
      "Epoch 24/30\n",
      "177/177 [==============================] - 1s 4ms/step - loss: 5.4201e-04\n",
      "Epoch 25/30\n",
      "177/177 [==============================] - 1s 4ms/step - loss: 6.3329e-04\n",
      "Epoch 26/30\n",
      "177/177 [==============================] - 1s 4ms/step - loss: 5.3231e-04\n",
      "Epoch 27/30\n",
      "177/177 [==============================] - 1s 4ms/step - loss: 5.5870e-04\n",
      "Epoch 28/30\n",
      "177/177 [==============================] - 1s 4ms/step - loss: 5.3454e-04\n",
      "Epoch 29/30\n",
      "177/177 [==============================] - 1s 4ms/step - loss: 5.4917e-04\n",
      "Epoch 30/30\n",
      "177/177 [==============================] - 1s 4ms/step - loss: 5.6093e-04\n"
     ]
    },
    {
     "data": {
      "text/plain": [
       "<keras.src.callbacks.History at 0x1576bbd90>"
      ]
     },
     "execution_count": 162,
     "metadata": {},
     "output_type": "execute_result"
    }
   ],
   "source": [
    "model.fit(X, y, epochs=30, batch_size=32)"
   ]
  },
  {
   "cell_type": "markdown",
   "id": "027e563b",
   "metadata": {},
   "source": [
    "save the model"
   ]
  },
  {
   "cell_type": "code",
   "execution_count": 163,
   "id": "5498bbdd",
   "metadata": {},
   "outputs": [
    {
     "name": "stdout",
     "output_type": "stream",
     "text": [
      "INFO:tensorflow:Assets written to: ../models_laura/One_station_CNN_small_train20250611_2025_e5_30a50253-2339-469d-a77c-86713d9f5f7f/assets\n"
     ]
    },
    {
     "name": "stderr",
     "output_type": "stream",
     "text": [
      "INFO:tensorflow:Assets written to: ../models_laura/One_station_CNN_small_train20250611_2025_e5_30a50253-2339-469d-a77c-86713d9f5f7f/assets\n"
     ]
    }
   ],
   "source": [
    "timestamp = datetime.now().strftime(\"%Y%m%d_%H%M\")\n",
    "uuid = '30a50253-2339-469d-a77c-86713d9f5f7f'\n",
    "fuel= 'e5'\n",
    "#model.save(f\"fuel_price_cnn_model_{timestamp}.h5\")\n",
    "model.save(f\"../models_laura/One_station_CNN_small_train{timestamp}_{fuel}_{uuid}\")"
   ]
  },
  {
   "cell_type": "markdown",
   "id": "caf62718",
   "metadata": {},
   "source": [
    "predictions"
   ]
  },
  {
   "cell_type": "code",
   "execution_count": null,
   "id": "95640ecc",
   "metadata": {},
   "outputs": [],
   "source": [
    "#model = load_model('../models_laura/One_station_CNN_20250611_1639_e5_30a50253-2339-469d-a77c-86713d9f5f7f') #first model: something wrong\n",
    "#model = load_model('../models_laura/One_station_CNN_20250611_1804_e5_30a50253-2339-469d-a77c-86713d9f5f7f') # second model, trained on whole training set\n",
    "#model = load_model('../models_laura/One_station_CNN_small_train20250611_2025_e5_30a50253-2339-469d-a77c-86713d9f5f7f') #trained with small training set\n"
   ]
  },
  {
   "cell_type": "markdown",
   "id": "8f2495d7",
   "metadata": {},
   "source": [
    "# Real forecasting use case\n",
    "## we predict the last day while putting in the three days before"
   ]
  },
  {
   "cell_type": "code",
   "execution_count": 183,
   "id": "3291ce82",
   "metadata": {},
   "outputs": [
    {
     "name": "stdout",
     "output_type": "stream",
     "text": [
      "9/9 [==============================] - 0s 5ms/step\n"
     ]
    }
   ],
   "source": [
    "# Predict only the last day\n",
    "y_pred_forecast = model.predict(X_forecast)"
   ]
  },
  {
   "cell_type": "markdown",
   "id": "4f052f4e",
   "metadata": {},
   "source": [
    "Reverse the scaling"
   ]
  },
  {
   "cell_type": "code",
   "execution_count": 196,
   "id": "25c8223d",
   "metadata": {},
   "outputs": [],
   "source": [
    "def inverse_scale(preds, original_data, target_index, scaler):\n",
    "    \"\"\"Inverse scale predictions by placing them into a dummy array \n",
    "    and applying scaler.inverse_transform.\"\"\"\n",
    "    dummy = np.zeros((len(preds), original_data.shape[1]))\n",
    "    dummy[:, target_index] = preds.flatten()\n",
    "    return scaler.inverse_transform(dummy)[:, target_index]"
   ]
  },
  {
   "cell_type": "code",
   "execution_count": 197,
   "id": "136337d5",
   "metadata": {},
   "outputs": [],
   "source": [
    "y_pred = inverse_scale(y_pred_forecast, scaled_train, target_index=0, scaler=scaler)"
   ]
  },
  {
   "cell_type": "markdown",
   "id": "737e8fee",
   "metadata": {},
   "source": [
    "Reattach the datetime to y_pred"
   ]
  },
  {
   "cell_type": "code",
   "execution_count": 233,
   "id": "a57c531c",
   "metadata": {},
   "outputs": [
    {
     "name": "stdout",
     "output_type": "stream",
     "text": [
      "             datetime  Predicted E5\n",
      "0 2025-05-24 22:15:00      1.782102\n",
      "1 2025-05-24 22:20:00      1.782782\n",
      "2 2025-05-24 22:25:00      1.782229\n",
      "3 2025-05-24 22:30:00      1.780141\n",
      "4 2025-05-24 22:35:00      1.782298\n"
     ]
    }
   ],
   "source": [
    "n_predictions = len(y_pred)\n",
    "start_datetime = pd.to_datetime(\"2025-05-24 22:15\")\n",
    "time_index = pd.date_range(start=start_datetime, periods=n_predictions, freq=\"5min\")\n",
    "\n",
    "# Combine into a DataFrame\n",
    "y_pred_df = pd.DataFrame({\n",
    "    \"datetime\": time_index,\n",
    "    \"Predicted E5\": y_pred\n",
    "})\n",
    "\n",
    "print(y_pred_df.head())"
   ]
  },
  {
   "cell_type": "code",
   "execution_count": 234,
   "id": "4f3c0da1",
   "metadata": {},
   "outputs": [],
   "source": [
    "y_pred_df.set_index('datetime', inplace=True)"
   ]
  },
  {
   "cell_type": "code",
   "execution_count": 235,
   "id": "49450d81",
   "metadata": {},
   "outputs": [
    {
     "data": {
      "image/png": "[encoded data removed]",
      "text/plain": [
       "<Figure size 1400x500 with 1 Axes>"
      ]
     },
     "metadata": {},
     "output_type": "display_data"
    }
   ],
   "source": [
    "# Plot Test\n",
    "plt.figure(figsize=(14, 5))\n",
    "plt.plot(test_df_['e5'], label='True Test E5', drawstyle='steps-post')\n",
    "plt.plot(y_pred_df)\n",
    "plt.title(\"Test Set - True\")\n",
    "plt.xlabel(\"Time Step\")\n",
    "plt.ylabel(\"E5 Price\")\n",
    "plt.legend()\n",
    "plt.grid(True)\n",
    "plt.show()"
   ]
  },
  {
   "cell_type": "markdown",
   "id": "150be442",
   "metadata": {},
   "source": []
  },
  {
   "cell_type": "markdown",
   "id": "1bfe9810",
   "metadata": {},
   "source": [
    "# Autoregressive prediction"
   ]
  },
  {
   "cell_type": "code",
   "execution_count": 236,
   "id": "27126338",
   "metadata": {},
   "outputs": [],
   "source": [
    "# Then you run auto-regressive prediction:\n",
    "from tqdm import tqdm\n",
    "\n",
    "# Define constants\n",
    "window_size = 288\n",
    "forecast_days = 1\n",
    "steps_to_predict = forecast_days * 288\n",
    "target_index = 0  # Assuming 'e5' is the first column in scaling\n",
    "\n",
    "# You must cut your test set like this:\n",
    "\n",
    "test_start = pd.to_datetime(\"2025-05-21\")\n",
    "test_end = pd.to_datetime(\"2025-05-23\")\n",
    "\n",
    "input = test_df_[(test_df_.index >= test_start) & \n",
    "                       (test_df_.index < test_start + pd.Timedelta(days=7))]\n",
    "\n",
    "# You use only these first 7 days (7 × 288 = 2016 samples) to form the initial sliding window input:\n",
    "input_seq = input[[\"e5\", \"seasonal_component\"]]\n",
    "input_scaled = scaler.transform(input_seq)\n",
    "\n",
    "\n",
    "# 2. Initialize sliding window with last 288 time steps (one day)\n",
    "last_window = input_scaled[-window_size:].copy()"
   ]
  },
  {
   "cell_type": "code",
   "execution_count": 237,
   "id": "e41a0428",
   "metadata": {},
   "outputs": [
    {
     "ename": "KeyError",
     "evalue": "Timestamp('2025-05-21 00:00:00')",
     "output_type": "error",
     "traceback": [
      "\u001b[31m---------------------------------------------------------------------------\u001b[39m",
      "\u001b[31mKeyError\u001b[39m                                  Traceback (most recent call last)",
      "\u001b[36mFile \u001b[39m\u001b[32m~/Documents/Git/FuelProphet/.venv/lib/python3.11/site-packages/pandas/_libs/index.pyx:581\u001b[39m, in \u001b[36mpandas._libs.index.DatetimeEngine.get_loc\u001b[39m\u001b[34m()\u001b[39m\n",
      "\u001b[36mFile \u001b[39m\u001b[32mpandas/_libs/hashtable_class_helper.pxi:2606\u001b[39m, in \u001b[36mpandas._libs.hashtable.Int64HashTable.get_item\u001b[39m\u001b[34m()\u001b[39m\n",
      "\u001b[36mFile \u001b[39m\u001b[32mpandas/_libs/hashtable_class_helper.pxi:2630\u001b[39m, in \u001b[36mpandas._libs.hashtable.Int64HashTable.get_item\u001b[39m\u001b[34m()\u001b[39m\n",
      "\u001b[31mKeyError\u001b[39m: 1747785600000000000",
      "\nDuring handling of the above exception, another exception occurred:\n",
      "\u001b[31mKeyError\u001b[39m                                  Traceback (most recent call last)",
      "\u001b[36mFile \u001b[39m\u001b[32m~/Documents/Git/FuelProphet/.venv/lib/python3.11/site-packages/pandas/core/indexes/base.py:3652\u001b[39m, in \u001b[36mIndex.get_loc\u001b[39m\u001b[34m(self, key)\u001b[39m\n\u001b[32m   3651\u001b[39m \u001b[38;5;28;01mtry\u001b[39;00m:\n\u001b[32m-> \u001b[39m\u001b[32m3652\u001b[39m     \u001b[38;5;28;01mreturn\u001b[39;00m \u001b[38;5;28mself\u001b[39m._engine.get_loc(casted_key)\n\u001b[32m   3653\u001b[39m \u001b[38;5;28;01mexcept\u001b[39;00m \u001b[38;5;167;01mKeyError\u001b[39;00m \u001b[38;5;28;01mas\u001b[39;00m err:\n",
      "\u001b[36mFile \u001b[39m\u001b[32m~/Documents/Git/FuelProphet/.venv/lib/python3.11/site-packages/pandas/_libs/index.pyx:549\u001b[39m, in \u001b[36mpandas._libs.index.DatetimeEngine.get_loc\u001b[39m\u001b[34m()\u001b[39m\n",
      "\u001b[36mFile \u001b[39m\u001b[32m~/Documents/Git/FuelProphet/.venv/lib/python3.11/site-packages/pandas/_libs/index.pyx:583\u001b[39m, in \u001b[36mpandas._libs.index.DatetimeEngine.get_loc\u001b[39m\u001b[34m()\u001b[39m\n",
      "\u001b[31mKeyError\u001b[39m: Timestamp('2025-05-21 00:00:00')",
      "\nThe above exception was the direct cause of the following exception:\n",
      "\u001b[31mKeyError\u001b[39m                                  Traceback (most recent call last)",
      "\u001b[36mFile \u001b[39m\u001b[32m~/Documents/Git/FuelProphet/.venv/lib/python3.11/site-packages/pandas/core/indexes/datetimes.py:584\u001b[39m, in \u001b[36mDatetimeIndex.get_loc\u001b[39m\u001b[34m(self, key)\u001b[39m\n\u001b[32m    583\u001b[39m \u001b[38;5;28;01mtry\u001b[39;00m:\n\u001b[32m--> \u001b[39m\u001b[32m584\u001b[39m     \u001b[38;5;28;01mreturn\u001b[39;00m \u001b[43mIndex\u001b[49m\u001b[43m.\u001b[49m\u001b[43mget_loc\u001b[49m\u001b[43m(\u001b[49m\u001b[38;5;28;43mself\u001b[39;49m\u001b[43m,\u001b[49m\u001b[43m \u001b[49m\u001b[43mkey\u001b[49m\u001b[43m)\u001b[49m\n\u001b[32m    585\u001b[39m \u001b[38;5;28;01mexcept\u001b[39;00m \u001b[38;5;167;01mKeyError\u001b[39;00m \u001b[38;5;28;01mas\u001b[39;00m err:\n",
      "\u001b[36mFile \u001b[39m\u001b[32m~/Documents/Git/FuelProphet/.venv/lib/python3.11/site-packages/pandas/core/indexes/base.py:3654\u001b[39m, in \u001b[36mIndex.get_loc\u001b[39m\u001b[34m(self, key)\u001b[39m\n\u001b[32m   3653\u001b[39m \u001b[38;5;28;01mexcept\u001b[39;00m \u001b[38;5;167;01mKeyError\u001b[39;00m \u001b[38;5;28;01mas\u001b[39;00m err:\n\u001b[32m-> \u001b[39m\u001b[32m3654\u001b[39m     \u001b[38;5;28;01mraise\u001b[39;00m \u001b[38;5;167;01mKeyError\u001b[39;00m(key) \u001b[38;5;28;01mfrom\u001b[39;00m\u001b[38;5;250m \u001b[39m\u001b[34;01merr\u001b[39;00m\n\u001b[32m   3655\u001b[39m \u001b[38;5;28;01mexcept\u001b[39;00m \u001b[38;5;167;01mTypeError\u001b[39;00m:\n\u001b[32m   3656\u001b[39m     \u001b[38;5;66;03m# If we have a listlike key, _check_indexing_error will raise\u001b[39;00m\n\u001b[32m   3657\u001b[39m     \u001b[38;5;66;03m#  InvalidIndexError. Otherwise we fall through and re-raise\u001b[39;00m\n\u001b[32m   3658\u001b[39m     \u001b[38;5;66;03m#  the TypeError.\u001b[39;00m\n",
      "\u001b[31mKeyError\u001b[39m: Timestamp('2025-05-21 00:00:00')",
      "\nThe above exception was the direct cause of the following exception:\n",
      "\u001b[31mKeyError\u001b[39m                                  Traceback (most recent call last)",
      "\u001b[36mCell\u001b[39m\u001b[36m \u001b[39m\u001b[32mIn[237]\u001b[39m\u001b[32m, line 3\u001b[39m\n\u001b[32m      1\u001b[39m \u001b[38;5;66;03m# 3. Autoregressive prediction\u001b[39;00m\n\u001b[32m      2\u001b[39m predictions_scaled = []\n\u001b[32m----> \u001b[39m\u001b[32m3\u001b[39m start_index = (\u001b[43mtest_df_\u001b[49m\u001b[43m.\u001b[49m\u001b[43mindex\u001b[49m\u001b[43m.\u001b[49m\u001b[43mget_loc\u001b[49m\u001b[43m(\u001b[49m\u001b[43mtest_start\u001b[49m\u001b[43m)\u001b[49m)\n\u001b[32m      4\u001b[39m  \u001b[38;5;66;03m# Starting point (after first 7 days)\u001b[39;00m\n\u001b[32m      6\u001b[39m all_seasonal = test_df_[\u001b[33m\"\u001b[39m\u001b[33mseasonal_component\u001b[39m\u001b[33m\"\u001b[39m].values\n",
      "\u001b[36mFile \u001b[39m\u001b[32m~/Documents/Git/FuelProphet/.venv/lib/python3.11/site-packages/pandas/core/indexes/datetimes.py:586\u001b[39m, in \u001b[36mDatetimeIndex.get_loc\u001b[39m\u001b[34m(self, key)\u001b[39m\n\u001b[32m    584\u001b[39m     \u001b[38;5;28;01mreturn\u001b[39;00m Index.get_loc(\u001b[38;5;28mself\u001b[39m, key)\n\u001b[32m    585\u001b[39m \u001b[38;5;28;01mexcept\u001b[39;00m \u001b[38;5;167;01mKeyError\u001b[39;00m \u001b[38;5;28;01mas\u001b[39;00m err:\n\u001b[32m--> \u001b[39m\u001b[32m586\u001b[39m     \u001b[38;5;28;01mraise\u001b[39;00m \u001b[38;5;167;01mKeyError\u001b[39;00m(orig_key) \u001b[38;5;28;01mfrom\u001b[39;00m\u001b[38;5;250m \u001b[39m\u001b[34;01merr\u001b[39;00m\n",
      "\u001b[31mKeyError\u001b[39m: Timestamp('2025-05-21 00:00:00')"
     ]
    }
   ],
   "source": [
    "# 3. Autoregressive prediction\n",
    "predictions_scaled = []\n",
    "start_index = (test_df_.index.get_loc(test_start))\n",
    " # Starting point (after first 7 days)\n",
    "\n",
    "all_seasonal = test_df_[\"seasonal_component\"].values\n",
    "seasonal_pattern_length = 288  # One day pattern\n",
    "\n",
    "for step in tqdm(range(steps_to_predict)):  # Changed _ to step\n",
    "    input_window = last_window.reshape(1, window_size, -1)  # shape: (1, 288, 2)\n",
    "    \n",
    "    # Predict next step\n",
    "    next_pred_scaled = model.predict(input_window, verbose=0)[0, 0]  # shape: scalar\n",
    "\n",
    "    # Get seasonal component by wrapping around the daily pattern\n",
    "    seasonal_idx = (start_index + step) % seasonal_pattern_length\n",
    "    next_seasonal = all_seasonal[seasonal_idx]\n",
    "    \n",
    "    # Create properly formatted input for scaler\n",
    "    next_seasonal_scaled = scaler.transform([[0, next_seasonal]])[0, 1]\n",
    "    \n",
    "    next_input = np.zeros((2,))\n",
    "    next_input[target_index] = next_pred_scaled\n",
    "    next_input[1 - target_index] = next_seasonal_scaled\n",
    "\n",
    "    # Append prediction and slide window\n",
    "    predictions_scaled.append(next_input[target_index])\n",
    "    last_window = np.vstack([last_window[1:], next_input])"
   ]
  },
  {
   "cell_type": "code",
   "execution_count": null,
   "id": "69e21fe7",
   "metadata": {},
   "outputs": [],
   "source": [
    "# First, inverse scale the predictions\n",
    "predictions_inv = inverse_scale(np.array(predictions_scaled).reshape(-1, 1), \n",
    "                              scaled_train, \n",
    "                              target_index=0, \n",
    "                              scaler=scaler)\n",
    "\n",
    "# Create DataFrame with inverse-scaled predictions\n",
    "n_predictions = len(predictions_inv)\n",
    "start_datetime = pd.to_datetime(\"2025-05-22 22:00\")\n",
    "time_index = pd.date_range(start=start_datetime, periods=n_predictions, freq=\"5min\")\n",
    "\n",
    "y_pred_df = pd.DataFrame({\n",
    "    \"datetime\": time_index,\n",
    "    \"Predicted E5\": predictions_inv\n",
    "})\n",
    "\n",
    "y_pred_df.set_index('datetime', inplace=True)"
   ]
  },
  {
   "cell_type": "code",
   "execution_count": null,
   "id": "026606fe",
   "metadata": {},
   "outputs": [
    {
     "data": {
      "image/png": "[encoded data removed]",
      "text/plain": [
       "<Figure size 1400x500 with 1 Axes>"
      ]
     },
     "metadata": {},
     "output_type": "display_data"
    }
   ],
   "source": [
    "# Plot Test\n",
    "plt.figure(figsize=(14, 5))\n",
    "plt.plot(test_df_['e5'].iloc[-1152:], label='True Test E5', drawstyle='steps-post')\n",
    "plt.plot(y_pred_df, label='Predicted E5')\n",
    "plt.title(\"Test Set - True\")\n",
    "plt.xlabel(\"Time Step\")\n",
    "plt.ylabel(\"E5 Price\")\n",
    "plt.legend()\n",
    "plt.grid(True)\n",
    "plt.show()"
   ]
  }
 ],
 "metadata": {
  "kernelspec": {
   "display_name": ".venv",
   "language": "python",
   "name": "python3"
  },
  "language_info": {
   "codemirror_mode": {
    "name": "ipython",
    "version": 3
   },
   "file_extension": ".py",
   "mimetype": "text/x-python",
   "name": "python",
   "nbconvert_exporter": "python",
   "pygments_lexer": "ipython3",
   "version": "3.11.3"
  }
 },
 "nbformat": 4,
 "nbformat_minor": 5
}
