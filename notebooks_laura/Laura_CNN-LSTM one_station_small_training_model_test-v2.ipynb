{
 "cells": [
  {
   "cell_type": "markdown",
   "id": "4501a0d8",
   "metadata": {},
   "source": [
    "# CNN for time series analysis"
   ]
  },
  {
   "cell_type": "code",
   "execution_count": 1,
   "id": "923318d8",
   "metadata": {},
   "outputs": [
    {
     "name": "stdout",
     "output_type": "stream",
     "text": [
      "Requirement already satisfied: tensorflow==2.15 in /Users/laurabrylka/Documents/Git/FuelProphet/.venv/lib/python3.11/site-packages (2.15.0)\n",
      "Requirement already satisfied: tensorflow-macos==2.15.0 in /Users/laurabrylka/Documents/Git/FuelProphet/.venv/lib/python3.11/site-packages (from tensorflow==2.15) (2.15.0)\n",
      "Requirement already satisfied: absl-py>=1.0.0 in /Users/laurabrylka/Documents/Git/FuelProphet/.venv/lib/python3.11/site-packages (from tensorflow-macos==2.15.0->tensorflow==2.15) (2.3.0)\n",
      "Requirement already satisfied: astunparse>=1.6.0 in /Users/laurabrylka/Documents/Git/FuelProphet/.venv/lib/python3.11/site-packages (from tensorflow-macos==2.15.0->tensorflow==2.15) (1.6.3)\n",
      "Requirement already satisfied: flatbuffers>=23.5.26 in /Users/laurabrylka/Documents/Git/FuelProphet/.venv/lib/python3.11/site-packages (from tensorflow-macos==2.15.0->tensorflow==2.15) (25.2.10)\n",
      "Requirement already satisfied: gast!=0.5.0,!=0.5.1,!=0.5.2,>=0.2.1 in /Users/laurabrylka/Documents/Git/FuelProphet/.venv/lib/python3.11/site-packages (from tensorflow-macos==2.15.0->tensorflow==2.15) (0.6.0)\n",
      "Requirement already satisfied: google-pasta>=0.1.1 in /Users/laurabrylka/Documents/Git/FuelProphet/.venv/lib/python3.11/site-packages (from tensorflow-macos==2.15.0->tensorflow==2.15) (0.2.0)\n",
      "Requirement already satisfied: h5py>=2.9.0 in /Users/laurabrylka/Documents/Git/FuelProphet/.venv/lib/python3.11/site-packages (from tensorflow-macos==2.15.0->tensorflow==2.15) (3.13.0)\n",
      "Requirement already satisfied: libclang>=13.0.0 in /Users/laurabrylka/Documents/Git/FuelProphet/.venv/lib/python3.11/site-packages (from tensorflow-macos==2.15.0->tensorflow==2.15) (18.1.1)\n",
      "Requirement already satisfied: ml-dtypes~=0.2.0 in /Users/laurabrylka/Documents/Git/FuelProphet/.venv/lib/python3.11/site-packages (from tensorflow-macos==2.15.0->tensorflow==2.15) (0.2.0)\n",
      "Requirement already satisfied: numpy<2.0.0,>=1.23.5 in /Users/laurabrylka/Documents/Git/FuelProphet/.venv/lib/python3.11/site-packages (from tensorflow-macos==2.15.0->tensorflow==2.15) (1.26.4)\n",
      "Requirement already satisfied: opt-einsum>=2.3.2 in /Users/laurabrylka/Documents/Git/FuelProphet/.venv/lib/python3.11/site-packages (from tensorflow-macos==2.15.0->tensorflow==2.15) (3.4.0)\n",
      "Requirement already satisfied: packaging in /Users/laurabrylka/Documents/Git/FuelProphet/.venv/lib/python3.11/site-packages (from tensorflow-macos==2.15.0->tensorflow==2.15) (23.2)\n",
      "Requirement already satisfied: protobuf!=4.21.0,!=4.21.1,!=4.21.2,!=4.21.3,!=4.21.4,!=4.21.5,<5.0.0dev,>=3.20.3 in /Users/laurabrylka/Documents/Git/FuelProphet/.venv/lib/python3.11/site-packages (from tensorflow-macos==2.15.0->tensorflow==2.15) (4.23.3)\n",
      "Requirement already satisfied: setuptools in /Users/laurabrylka/Documents/Git/FuelProphet/.venv/lib/python3.11/site-packages (from tensorflow-macos==2.15.0->tensorflow==2.15) (65.5.0)\n",
      "Requirement already satisfied: six>=1.12.0 in /Users/laurabrylka/Documents/Git/FuelProphet/.venv/lib/python3.11/site-packages (from tensorflow-macos==2.15.0->tensorflow==2.15) (1.17.0)\n",
      "Requirement already satisfied: termcolor>=1.1.0 in /Users/laurabrylka/Documents/Git/FuelProphet/.venv/lib/python3.11/site-packages (from tensorflow-macos==2.15.0->tensorflow==2.15) (3.1.0)\n",
      "Requirement already satisfied: typing-extensions>=3.6.6 in /Users/laurabrylka/Documents/Git/FuelProphet/.venv/lib/python3.11/site-packages (from tensorflow-macos==2.15.0->tensorflow==2.15) (4.13.2)\n",
      "Requirement already satisfied: wrapt<1.15,>=1.11.0 in /Users/laurabrylka/Documents/Git/FuelProphet/.venv/lib/python3.11/site-packages (from tensorflow-macos==2.15.0->tensorflow==2.15) (1.14.1)\n",
      "Requirement already satisfied: tensorflow-io-gcs-filesystem>=0.23.1 in /Users/laurabrylka/Documents/Git/FuelProphet/.venv/lib/python3.11/site-packages (from tensorflow-macos==2.15.0->tensorflow==2.15) (0.37.1)\n",
      "Requirement already satisfied: grpcio<2.0,>=1.24.3 in /Users/laurabrylka/Documents/Git/FuelProphet/.venv/lib/python3.11/site-packages (from tensorflow-macos==2.15.0->tensorflow==2.15) (1.72.1)\n",
      "Requirement already satisfied: tensorboard<2.16,>=2.15 in /Users/laurabrylka/Documents/Git/FuelProphet/.venv/lib/python3.11/site-packages (from tensorflow-macos==2.15.0->tensorflow==2.15) (2.15.2)\n",
      "Requirement already satisfied: tensorflow-estimator<2.16,>=2.15.0 in /Users/laurabrylka/Documents/Git/FuelProphet/.venv/lib/python3.11/site-packages (from tensorflow-macos==2.15.0->tensorflow==2.15) (2.15.0)\n",
      "Requirement already satisfied: keras<2.16,>=2.15.0 in /Users/laurabrylka/Documents/Git/FuelProphet/.venv/lib/python3.11/site-packages (from tensorflow-macos==2.15.0->tensorflow==2.15) (2.15.0)\n",
      "Requirement already satisfied: google-auth<3,>=1.6.3 in /Users/laurabrylka/Documents/Git/FuelProphet/.venv/lib/python3.11/site-packages (from tensorboard<2.16,>=2.15->tensorflow-macos==2.15.0->tensorflow==2.15) (2.40.2)\n",
      "Requirement already satisfied: google-auth-oauthlib<2,>=0.5 in /Users/laurabrylka/Documents/Git/FuelProphet/.venv/lib/python3.11/site-packages (from tensorboard<2.16,>=2.15->tensorflow-macos==2.15.0->tensorflow==2.15) (1.2.2)\n",
      "Requirement already satisfied: markdown>=2.6.8 in /Users/laurabrylka/Documents/Git/FuelProphet/.venv/lib/python3.11/site-packages (from tensorboard<2.16,>=2.15->tensorflow-macos==2.15.0->tensorflow==2.15) (3.8)\n",
      "Requirement already satisfied: requests<3,>=2.21.0 in /Users/laurabrylka/Documents/Git/FuelProphet/.venv/lib/python3.11/site-packages (from tensorboard<2.16,>=2.15->tensorflow-macos==2.15.0->tensorflow==2.15) (2.32.3)\n",
      "Requirement already satisfied: tensorboard-data-server<0.8.0,>=0.7.0 in /Users/laurabrylka/Documents/Git/FuelProphet/.venv/lib/python3.11/site-packages (from tensorboard<2.16,>=2.15->tensorflow-macos==2.15.0->tensorflow==2.15) (0.7.2)\n",
      "Requirement already satisfied: werkzeug>=1.0.1 in /Users/laurabrylka/Documents/Git/FuelProphet/.venv/lib/python3.11/site-packages (from tensorboard<2.16,>=2.15->tensorflow-macos==2.15.0->tensorflow==2.15) (3.1.3)\n",
      "Requirement already satisfied: cachetools<6.0,>=2.0.0 in /Users/laurabrylka/Documents/Git/FuelProphet/.venv/lib/python3.11/site-packages (from google-auth<3,>=1.6.3->tensorboard<2.16,>=2.15->tensorflow-macos==2.15.0->tensorflow==2.15) (5.5.2)\n",
      "Requirement already satisfied: pyasn1-modules>=0.2.1 in /Users/laurabrylka/Documents/Git/FuelProphet/.venv/lib/python3.11/site-packages (from google-auth<3,>=1.6.3->tensorboard<2.16,>=2.15->tensorflow-macos==2.15.0->tensorflow==2.15) (0.4.2)\n",
      "Requirement already satisfied: rsa<5,>=3.1.4 in /Users/laurabrylka/Documents/Git/FuelProphet/.venv/lib/python3.11/site-packages (from google-auth<3,>=1.6.3->tensorboard<2.16,>=2.15->tensorflow-macos==2.15.0->tensorflow==2.15) (4.9.1)\n",
      "Requirement already satisfied: requests-oauthlib>=0.7.0 in /Users/laurabrylka/Documents/Git/FuelProphet/.venv/lib/python3.11/site-packages (from google-auth-oauthlib<2,>=0.5->tensorboard<2.16,>=2.15->tensorflow-macos==2.15.0->tensorflow==2.15) (2.0.0)\n",
      "Requirement already satisfied: charset-normalizer<4,>=2 in /Users/laurabrylka/Documents/Git/FuelProphet/.venv/lib/python3.11/site-packages (from requests<3,>=2.21.0->tensorboard<2.16,>=2.15->tensorflow-macos==2.15.0->tensorflow==2.15) (3.4.2)\n",
      "Requirement already satisfied: idna<4,>=2.5 in /Users/laurabrylka/Documents/Git/FuelProphet/.venv/lib/python3.11/site-packages (from requests<3,>=2.21.0->tensorboard<2.16,>=2.15->tensorflow-macos==2.15.0->tensorflow==2.15) (3.10)\n",
      "Requirement already satisfied: urllib3<3,>=1.21.1 in /Users/laurabrylka/Documents/Git/FuelProphet/.venv/lib/python3.11/site-packages (from requests<3,>=2.21.0->tensorboard<2.16,>=2.15->tensorflow-macos==2.15.0->tensorflow==2.15) (2.4.0)\n",
      "Requirement already satisfied: certifi>=2017.4.17 in /Users/laurabrylka/Documents/Git/FuelProphet/.venv/lib/python3.11/site-packages (from requests<3,>=2.21.0->tensorboard<2.16,>=2.15->tensorflow-macos==2.15.0->tensorflow==2.15) (2025.4.26)\n",
      "Requirement already satisfied: pyasn1>=0.1.3 in /Users/laurabrylka/Documents/Git/FuelProphet/.venv/lib/python3.11/site-packages (from rsa<5,>=3.1.4->google-auth<3,>=1.6.3->tensorboard<2.16,>=2.15->tensorflow-macos==2.15.0->tensorflow==2.15) (0.6.1)\n",
      "Requirement already satisfied: wheel<1.0,>=0.23.0 in /Users/laurabrylka/Documents/Git/FuelProphet/.venv/lib/python3.11/site-packages (from astunparse>=1.6.0->tensorflow-macos==2.15.0->tensorflow==2.15) (0.45.1)\n",
      "Requirement already satisfied: oauthlib>=3.0.0 in /Users/laurabrylka/Documents/Git/FuelProphet/.venv/lib/python3.11/site-packages (from requests-oauthlib>=0.7.0->google-auth-oauthlib<2,>=0.5->tensorboard<2.16,>=2.15->tensorflow-macos==2.15.0->tensorflow==2.15) (3.2.2)\n",
      "Requirement already satisfied: MarkupSafe>=2.1.1 in /Users/laurabrylka/Documents/Git/FuelProphet/.venv/lib/python3.11/site-packages (from werkzeug>=1.0.1->tensorboard<2.16,>=2.15->tensorflow-macos==2.15.0->tensorflow==2.15) (3.0.2)\n",
      "Note: you may need to restart the kernel to use updated packages.\n"
     ]
    }
   ],
   "source": [
    "%pip install tensorflow==2.15"
   ]
  },
  {
   "cell_type": "code",
   "execution_count": 1,
   "id": "379719e7",
   "metadata": {},
   "outputs": [],
   "source": [
    "import sys\n",
    "import os\n",
    "sys.path.append(os.path.abspath(\"..\")) \n",
    "\n",
    "import numpy as np\n",
    "import pandas as pd\n",
    "import plotly_express as px\n",
    "from datetime import datetime \n",
    "from sklearn.preprocessing import MinMaxScaler\n",
    "import matplotlib.pyplot as plt\n",
    "from functions_laura.Data_processing import train_test_split\n",
    "from tensorflow.keras.models import Sequential\n",
    "from tensorflow.keras.layers import Conv1D, MaxPooling1D, Dropout, Flatten, Dense, BatchNormalization\n",
    "from tensorflow.keras.layers import LSTM, TimeDistributed\n",
    "from tensorflow.keras.models import load_model\n"
   ]
  },
  {
   "cell_type": "markdown",
   "id": "0e1718d3",
   "metadata": {},
   "source": [
    "loading of the data and creating the needed data from the dataframe"
   ]
  },
  {
   "cell_type": "code",
   "execution_count": 2,
   "id": "51730681",
   "metadata": {},
   "outputs": [],
   "source": [
    "from functions_laura.Data_processing import resample_with_seasonality\n",
    "from functions_laura.Data_processing import resample\n",
    "from functions_laura.Data_processing import add_seasonal\n",
    "from functions_laura.Data_processing import one_station_resample_with_seasonality\n",
    "from functions_laura.Data_processing import train_test_split\n",
    "from functions_laura.Data_cleaning import data_cleaning_datetime"
   ]
  },
  {
   "cell_type": "code",
   "execution_count": 3,
   "id": "993a9fab",
   "metadata": {},
   "outputs": [],
   "source": [
    "df = pd.read_parquet('../data/hamburg_raw.parquet')"
   ]
  },
  {
   "cell_type": "code",
   "execution_count": 4,
   "id": "67102027",
   "metadata": {},
   "outputs": [
    {
     "name": "stderr",
     "output_type": "stream",
     "text": [
      "/Users/laurabrylka/Documents/Git/FuelProphet/functions_laura/Data_cleaning.py:23: SettingWithCopyWarning: \n",
      "A value is trying to be set on a copy of a slice from a DataFrame.\n",
      "Try using .loc[row_indexer,col_indexer] = value instead\n",
      "\n",
      "See the caveats in the documentation: https://pandas.pydata.org/pandas-docs/stable/user_guide/indexing.html#returning-a-view-versus-a-copy\n",
      "  df['datetime'] = df['date'].apply(lambda x: datetime.strptime(x.split(\"+\")[0], \"%Y-%m-%d %H:%M:%S\"))\n"
     ]
    }
   ],
   "source": [
    "df = data_cleaning_datetime(df)"
   ]
  },
  {
   "cell_type": "markdown",
   "id": "7cc37819",
   "metadata": {},
   "source": [
    "do the train-test split"
   ]
  },
  {
   "cell_type": "code",
   "execution_count": 5,
   "id": "c5f38c5a",
   "metadata": {},
   "outputs": [],
   "source": [
    "#train_df, test_df = train_test_split(df)"
   ]
  },
  {
   "cell_type": "code",
   "execution_count": 6,
   "id": "42632e39",
   "metadata": {},
   "outputs": [
    {
     "name": "stdout",
     "output_type": "stream",
     "text": [
      "Train df shape: (711, 19)\n",
      "Test df shape: (327, 19)\n"
     ]
    }
   ],
   "source": [
    "# First, filter for one station\n",
    "df_one_station = df[df['station_uuid'] == '30a50253-2339-469d-a77c-86713d9f5f7f']\n",
    "\n",
    "# Define date ranges\n",
    "train_start = pd.to_datetime(\"2025-05-01\")\n",
    "train_end = pd.to_datetime(\"2025-05-18\")\n",
    "test_end = pd.to_datetime(\"2025-05-26\")\n",
    "\n",
    "# Split into train and test using df_one_station\n",
    "train_df = df_one_station[\n",
    "    (df_one_station['datetime'] >= train_start) & \n",
    "    (df_one_station['datetime'] < train_end)\n",
    "]\n",
    "\n",
    "test_df = df_one_station[\n",
    "    (df_one_station['datetime'] >= train_end) & \n",
    "    (df_one_station['datetime'] <= test_end)\n",
    "]\n",
    "\n",
    "# Verify data is present\n",
    "print(\"Train df shape:\", train_df.shape)\n",
    "print(\"Test df shape:\", test_df.shape)"
   ]
  },
  {
   "cell_type": "markdown",
   "id": "72c9ea40",
   "metadata": {},
   "source": [
    "get data of one station"
   ]
  },
  {
   "cell_type": "code",
   "execution_count": 7,
   "id": "bc53c925",
   "metadata": {},
   "outputs": [],
   "source": [
    "# we use only the last three weeks as training data\n",
    "#train_df = test_df[test_df['datetime'] < pd.to_datetime(\"2025-05-23 00:00\")]"
   ]
  },
  {
   "cell_type": "code",
   "execution_count": 8,
   "id": "c2f00db5",
   "metadata": {},
   "outputs": [
    {
     "name": "stderr",
     "output_type": "stream",
     "text": [
      "/Users/laurabrylka/Documents/Git/FuelProphet/functions_laura/Data_processing.py:19: SettingWithCopyWarning: \n",
      "A value is trying to be set on a copy of a slice from a DataFrame.\n",
      "Try using .loc[row_indexer,col_indexer] = value instead\n",
      "\n",
      "See the caveats in the documentation: https://pandas.pydata.org/pandas-docs/stable/user_guide/indexing.html#returning-a-view-versus-a-copy\n",
      "  merged_df['datetime'] = merged_df['date'].apply(lambda x: datetime.strptime(x.split(\"+\")[0], \"%Y-%m-%d %H:%M:%S\"))\n"
     ]
    }
   ],
   "source": [
    "# only compute the seasonality on the training data!\n",
    "test_df = resample(test_df)\n",
    "train_df = one_station_resample_with_seasonality(train_df, uuid='30a50253-2339-469d-a77c-86713d9f5f7f')"
   ]
  },
  {
   "cell_type": "code",
   "execution_count": 9,
   "id": "20f18110",
   "metadata": {},
   "outputs": [],
   "source": [
    "# test_df = test_df[\n",
    "#     (test_df['datetime'] >= pd.to_datetime(\"2025-05-23\")) &\n",
    "#     (test_df['datetime'] <= pd.to_datetime(\"2025-05-24\"))\n",
    "# ]"
   ]
  },
  {
   "cell_type": "markdown",
   "id": "bc6d5efe",
   "metadata": {},
   "source": [
    "Add the training seasonality to the test set"
   ]
  },
  {
   "cell_type": "code",
   "execution_count": 10,
   "id": "a04d77dc",
   "metadata": {},
   "outputs": [
    {
     "name": "stdout",
     "output_type": "stream",
     "text": [
      "datetime              0\n",
      "e5                    0\n",
      "seasonal_component    0\n",
      "dtype: int64\n"
     ]
    }
   ],
   "source": [
    "# Take first 288 values (one complete cycle) and repeat\n",
    "seasonal_pattern = train_df['seasonal_component'].iloc[:288].values\n",
    "test_df['seasonal_component'] = np.tile(seasonal_pattern, len(test_df)//288 + 1)[:len(test_df)]\n",
    "\n",
    "# Verify no NaNs\n",
    "print(test_df.isna().sum())"
   ]
  },
  {
   "cell_type": "markdown",
   "id": "dcd69e88",
   "metadata": {},
   "source": [
    "we remove the unnecessary data from test df and add the seasonal component from the training data"
   ]
  },
  {
   "cell_type": "code",
   "execution_count": 11,
   "id": "d0cfb342",
   "metadata": {},
   "outputs": [],
   "source": [
    "#test_df = test_df[test_df['station_uuid'] == '30a50253-2339-469d-a77c-86713d9f5f7f']"
   ]
  },
  {
   "cell_type": "code",
   "execution_count": 12,
   "id": "1a3322eb",
   "metadata": {},
   "outputs": [],
   "source": [
    "test_df_ = pd.DataFrame({\n",
    "    'datetime': test_df['datetime'],\n",
    "    'e5' : test_df['e5'],\n",
    "    'seasonal_component' : test_df['seasonal_component']\n",
    "})"
   ]
  },
  {
   "cell_type": "markdown",
   "id": "f1a897ea",
   "metadata": {},
   "source": [
    "set datetime as index:"
   ]
  },
  {
   "cell_type": "code",
   "execution_count": 13,
   "id": "efe3825e",
   "metadata": {},
   "outputs": [],
   "source": [
    "test_df_.set_index('datetime', inplace=True)\n",
    "train_df.set_index('datetime', inplace=True)"
   ]
  },
  {
   "cell_type": "markdown",
   "id": "33991f6e",
   "metadata": {},
   "source": [
    "check our data in a plot"
   ]
  },
  {
   "cell_type": "code",
   "execution_count": 14,
   "id": "519642e1",
   "metadata": {},
   "outputs": [
    {
     "data": {
      "image/png": "[encoded data removed]",
      "text/plain": [
       "<Figure size 1000x600 with 1 Axes>"
      ]
     },
     "metadata": {},
     "output_type": "display_data"
    }
   ],
   "source": [
    "# Plotting the train and test set\n",
    "plt.figure(figsize=(10,6))\n",
    "plt.plot(train_df.index, train_df['e5'], label='Train data', drawstyle='steps-post')\n",
    "plt.plot(test_df_.index, test_df_['e5'], label='Test data', drawstyle='steps-post')\n",
    "\n",
    "plt.xlabel('Date')\n",
    "plt.ylabel('E5 Price')\n",
    "plt.title('Train and Test Data')\n",
    "plt.legend()\n",
    "\n",
    "# Rotate x-axis labels for better readability\n",
    "plt.xticks(rotation=45)\n",
    "\n",
    "# Adjust layout to prevent label cutoff\n",
    "plt.tight_layout()\n",
    "\n",
    "plt.show()"
   ]
  },
  {
   "cell_type": "code",
   "execution_count": 15,
   "id": "ebce534a",
   "metadata": {},
   "outputs": [
    {
     "data": {
      "image/png": "[encoded data removed]",
      "text/plain": [
       "<Figure size 1400x500 with 1 Axes>"
      ]
     },
     "metadata": {},
     "output_type": "display_data"
    }
   ],
   "source": [
    "# Plot Test\n",
    "plt.figure(figsize=(14, 5))\n",
    "plt.plot(test_df_['e5'], label='True Test E5', drawstyle='steps-post')\n",
    "plt.title(\"Test Set - True\")\n",
    "plt.xlabel(\"Time Step\")\n",
    "plt.ylabel(\"E5 Price\")\n",
    "plt.legend()\n",
    "plt.grid(True)\n",
    "plt.show()"
   ]
  },
  {
   "cell_type": "code",
   "execution_count": 16,
   "id": "3fd57919",
   "metadata": {},
   "outputs": [
    {
     "name": "stdout",
     "output_type": "stream",
     "text": [
      "Test set date range:\n",
      "Start: 2025-05-18 06:35:00\n",
      "End: 2025-05-25 22:00:00\n"
     ]
    }
   ],
   "source": [
    "# First, let's verify our actual data range\n",
    "print(\"Test set date range:\")\n",
    "print(f\"Start: {test_df_.index.min()}\")\n",
    "print(f\"End: {test_df_.index.max()}\")"
   ]
  },
  {
   "cell_type": "markdown",
   "id": "f03c7682",
   "metadata": {},
   "source": [
    "we scale the data"
   ]
  },
  {
   "cell_type": "code",
   "execution_count": 17,
   "id": "1e2389ad",
   "metadata": {},
   "outputs": [],
   "source": [
    "scaler = MinMaxScaler()\n",
    "scaler.fit(train_df[['e5', 'seasonal_component']])\n",
    "scaled_train = scaler.transform(train_df[['e5', 'seasonal_component']])\n",
    "scaled_test = scaler.transform(test_df_[['e5', 'seasonal_component']])"
   ]
  },
  {
   "cell_type": "code",
   "execution_count": 18,
   "id": "7a376ce3",
   "metadata": {},
   "outputs": [
    {
     "data": {
      "text/plain": [
       "array([[0.68      , 0.78590961],\n",
       "       [0.68      , 0.78589762],\n",
       "       [0.68      , 0.78588563],\n",
       "       [0.68      , 0.78587363],\n",
       "       [0.68      , 0.78586164]])"
      ]
     },
     "execution_count": 18,
     "metadata": {},
     "output_type": "execute_result"
    }
   ],
   "source": [
    "scaled_train[:5]"
   ]
  },
  {
   "cell_type": "code",
   "execution_count": 19,
   "id": "32af9fa0",
   "metadata": {},
   "outputs": [
    {
     "data": {
      "text/plain": [
       "array([[0.72      , 0.78590961],\n",
       "       [0.72      , 0.78589762],\n",
       "       [0.72      , 0.78588563],\n",
       "       [0.72      , 0.78587363],\n",
       "       [0.72      , 0.78586164]])"
      ]
     },
     "execution_count": 19,
     "metadata": {},
     "output_type": "execute_result"
    }
   ],
   "source": [
    "scaled_test[:5]"
   ]
  },
  {
   "cell_type": "code",
   "execution_count": 20,
   "id": "057e30d0",
   "metadata": {},
   "outputs": [
    {
     "data": {
      "text/plain": [
       "(2202, 2)"
      ]
     },
     "execution_count": 20,
     "metadata": {},
     "output_type": "execute_result"
    }
   ],
   "source": [
    "scaled_test.shape"
   ]
  },
  {
   "cell_type": "markdown",
   "id": "15adbbc6",
   "metadata": {},
   "source": [
    "### Transforming the data...\n",
    "so it can fit into my model. We are using a sliding window of 288 (1 day). After every 288 e5 prices, we look at the price that comes after it. \n",
    "$X$ is an array consisting of all the sequences, so it has 288 columns.\n",
    "$y$ is a 1D array of all these values that come after the 288 (= the next step)\n",
    "\n",
    "$X$ and $y$ have 288 less rows than the original df, because:\n",
    "\n",
    "| i    | Input `X[i]` (rows used) | Target `y[i]` |\n",
    "| ---- | ------------------------ | ------------- |\n",
    "| 0    | rows 0 to 287            | row 288, E5   |\n",
    "| 1    | rows 1 to 288            | row 289, E5   |\n",
    "| 2    | rows 2 to 289            | row 290, E5   |\n",
    "| ...  | ...                      | ...           |\n",
    "| 9711 | rows 9711 to 9998        | row 9999, E5  |\n"
   ]
  },
  {
   "cell_type": "code",
   "execution_count": 23,
   "id": "61841519",
   "metadata": {},
   "outputs": [
    {
     "name": "stdout",
     "output_type": "stream",
     "text": [
      "Input shape: (3643, 864, 2)\n",
      "Target shape: (3643, 288)\n"
     ]
    }
   ],
   "source": [
    "def create_multi_step_sequences(data, input_steps, target_steps, target_col_index):\n",
    "    \"\"\"Create sequences for time series prediction.\n",
    "    \n",
    "    Args:\n",
    "        data: Scaled input data with shape (samples, features)\n",
    "        window_size: Number of time steps to look back\n",
    "        target_col_index: Index of the target column to predict\n",
    "        \n",
    "    Returns:\n",
    "        X: Input sequences with shape (samples, window_size, features)\n",
    "        y: Target values with shape (samples,)\n",
    "    \"\"\"\n",
    "    X = []\n",
    "    y = []\n",
    "    for i in range(len(data) - input_steps - target_steps + 1):\n",
    "        input_seq = data[i : i + input_steps]\n",
    "        target_seq = data[i + input_steps : i + input_steps + target_steps, target_col_index]\n",
    "        X.append(input_seq)\n",
    "        y.append(target_seq)\n",
    "    return np.array(X), np.array(y)\n",
    "\n",
    "\n",
    "\n",
    "\n",
    "# Define steps\n",
    "window_size = 288  # 5-min steps in a day\n",
    "days_input = 3\n",
    "days_output = 1\n",
    "\n",
    "input_steps = days_input * window_size      # 864\n",
    "target_steps = days_output * window_size    # 288\n",
    "\n",
    "# Prepare your reduced dataset\n",
    "reduced_scaled_test = scaled_test[-(input_steps + target_steps):]\n",
    "\n",
    "\n",
    "X, y = create_multi_step_sequences(scaled_train, input_steps, target_steps, target_col_index)\n",
    "\n",
    "\n",
    "# Print shapes to verify\n",
    "print(f\"Input shape: {X.shape}\")  # Should be (samples, 288, 2)\n",
    "print(f\"Target shape: {y.shape}\") # Should be (samples,)"
   ]
  },
  {
   "cell_type": "code",
   "execution_count": 24,
   "id": "57f81ec3",
   "metadata": {},
   "outputs": [
    {
     "name": "stdout",
     "output_type": "stream",
     "text": [
      "(3643, 864, 2)\n"
     ]
    }
   ],
   "source": [
    "print(X.shape)"
   ]
  },
  {
   "cell_type": "code",
   "execution_count": 25,
   "id": "de8a77f3",
   "metadata": {},
   "outputs": [
    {
     "data": {
      "text/plain": [
       "array([[[0.68      , 0.78590961],\n",
       "        [0.68      , 0.78589762],\n",
       "        [0.68      , 0.78588563],\n",
       "        ...,\n",
       "        [0.6       , 0.45779361],\n",
       "        [0.6       , 0.45778162],\n",
       "        [0.6       , 0.45776962]],\n",
       "\n",
       "       [[0.68      , 0.78589762],\n",
       "        [0.68      , 0.78588563],\n",
       "        [0.68      , 0.78587363],\n",
       "        ...,\n",
       "        [0.6       , 0.45778162],\n",
       "        [0.6       , 0.45776962],\n",
       "        [0.68      , 0.78590961]],\n",
       "\n",
       "       [[0.68      , 0.78588563],\n",
       "        [0.68      , 0.78587363],\n",
       "        [0.68      , 0.78586164],\n",
       "        ...,\n",
       "        [0.6       , 0.45776962],\n",
       "        [0.68      , 0.78590961],\n",
       "        [0.68      , 0.78589762]],\n",
       "\n",
       "       [[0.68      , 0.78587363],\n",
       "        [0.68      , 0.78586164],\n",
       "        [0.68      , 0.78584964],\n",
       "        ...,\n",
       "        [0.68      , 0.78590961],\n",
       "        [0.68      , 0.78589762],\n",
       "        [0.68      , 0.78588563]],\n",
       "\n",
       "       [[0.68      , 0.78586164],\n",
       "        [0.68      , 0.78584964],\n",
       "        [0.68      , 0.78583765],\n",
       "        ...,\n",
       "        [0.68      , 0.78589762],\n",
       "        [0.68      , 0.78588563],\n",
       "        [0.68      , 0.78587363]]])"
      ]
     },
     "execution_count": 25,
     "metadata": {},
     "output_type": "execute_result"
    }
   ],
   "source": [
    "X[:5]"
   ]
  },
  {
   "cell_type": "code",
   "execution_count": 26,
   "id": "d75b3135",
   "metadata": {},
   "outputs": [
    {
     "data": {
      "text/plain": [
       "(3643, 288)"
      ]
     },
     "execution_count": 26,
     "metadata": {},
     "output_type": "execute_result"
    }
   ],
   "source": [
    "y.shape"
   ]
  },
  {
   "cell_type": "code",
   "execution_count": 27,
   "id": "56359af0",
   "metadata": {},
   "outputs": [
    {
     "data": {
      "text/plain": [
       "array([[0.68, 0.68, 0.68, ..., 0.6 , 0.6 , 0.6 ],\n",
       "       [0.68, 0.68, 0.68, ..., 0.6 , 0.6 , 0.68],\n",
       "       [0.68, 0.68, 0.68, ..., 0.6 , 0.68, 0.68],\n",
       "       [0.68, 0.68, 0.68, ..., 0.68, 0.68, 0.68],\n",
       "       [0.68, 0.68, 0.68, ..., 0.68, 0.68, 0.68]])"
      ]
     },
     "execution_count": 27,
     "metadata": {},
     "output_type": "execute_result"
    }
   ],
   "source": [
    "y[:5]"
   ]
  },
  {
   "cell_type": "markdown",
   "id": "57466401",
   "metadata": {},
   "source": [
    "We prepare the Test data -> put in 3 days and predict one day"
   ]
  },
  {
   "cell_type": "code",
   "execution_count": 28,
   "id": "34db8c19",
   "metadata": {},
   "outputs": [
    {
     "name": "stdout",
     "output_type": "stream",
     "text": [
      "\n",
      "Forecast setup:\n",
      "Using data from 2025-05-20 00:00:00 to 2025-05-22 00:00:00\n",
      "To predict day: 2025-05-23 00:00:00\n"
     ]
    }
   ],
   "source": [
    "# Adjust the dates based on actual data\n",
    "test_end = pd.to_datetime(\"2025-05-23\")  # Update this to match your actual end date\n",
    "forecast_target_day = test_end\n",
    "# Use the 3 days before the target day as input\n",
    "forecast_input_start = forecast_target_day - pd.Timedelta(days=3)\n",
    "forecast_input_end = forecast_target_day - pd.Timedelta(days=1)\n",
    "\n",
    "print(\"\\nForecast setup:\")\n",
    "print(f\"Using data from {forecast_input_start} to {forecast_input_end}\")\n",
    "print(f\"To predict day: {forecast_target_day}\")"
   ]
  },
  {
   "cell_type": "code",
   "execution_count": 31,
   "id": "a40dfa82",
   "metadata": {},
   "outputs": [],
   "source": [
    "# Define steps\n",
    "window_size = 288  # 5-min steps in a day\n",
    "days_input = 3\n",
    "days_output = 1\n",
    "\n",
    "input_steps = days_input * window_size      # 864\n",
    "target_steps = days_output * window_size    # 288\n",
    "\n",
    "# Prepare your reduced dataset\n",
    "reduced_scaled_test = scaled_test[-(input_steps + target_steps):]\n",
    "\n",
    "# Create proper multi-step sequences\n",
    "X_test_final, y_test_final = create_multi_step_sequences(reduced_scaled_test, input_steps, target_steps, target_col_index)\n"
   ]
  },
  {
   "cell_type": "code",
   "execution_count": 32,
   "id": "a33f5d30",
   "metadata": {},
   "outputs": [
    {
     "name": "stdout",
     "output_type": "stream",
     "text": [
      "[0.52 0.52 0.52 0.52 0.52 0.52 0.52 0.52 0.52 0.52 0.52 0.52 0.52 0.52\n",
      " 0.52 0.52 0.52 0.52 0.52 0.52 0.52 0.52 0.52 0.52 0.52 0.52 0.52 0.52\n",
      " 0.52 0.52 0.52 0.52 0.52 0.52 0.52 0.52 0.52 0.52 0.52 0.52 0.52 0.52\n",
      " 0.52 0.52 0.52 0.52 0.52 0.52 0.52 0.52 0.52 0.52 0.52 0.52 0.52 0.52\n",
      " 0.52 0.52 0.52 0.52 0.52 0.52 0.52 0.52 0.52 0.52 0.52 0.52 0.52 0.52\n",
      " 0.52 0.52 0.52 0.52 0.52 0.52 0.52 0.52 0.52 0.52 0.52 0.52 0.52 0.52\n",
      " 0.52 0.52 0.52 0.52 0.52 0.52 0.52 0.52 0.52 0.52 0.52 0.52 0.52 0.52\n",
      " 0.52 0.52 0.52 0.52 0.64 0.64 0.64 0.64 0.64 0.64 0.64 0.64 0.64 0.64\n",
      " 0.64 0.64 0.64 0.64 0.64 0.64 0.64 0.64 0.64 0.64 0.64 0.6  0.6  0.6\n",
      " 0.6  0.6  0.6  0.6  0.6  0.6  0.88 0.36 0.36 0.36 0.36 0.36 0.36 0.36\n",
      " 0.36 0.36 0.36 0.36 0.36 0.36 0.36 0.36 0.36 0.36 0.36 0.28 0.28 0.28\n",
      " 0.28 0.08 0.08 0.08 0.08 0.08 0.08 0.08 0.08 0.08 0.08 0.08 0.08 0.08\n",
      " 0.4  0.4  0.4  0.4  0.4  0.4  0.4  0.4  0.4  0.4  0.4  0.4  0.4  0.36\n",
      " 0.36 0.36 0.36 0.36 0.36 0.32 0.32 0.32 0.32 0.32 0.6  0.48 0.48 0.44\n",
      " 0.44 0.44 0.44 0.44 0.44 0.44 0.44 0.44 0.44 0.44 0.44 0.36 0.36 0.36\n",
      " 0.36 0.24 0.24 0.24 0.24 0.24 0.44 0.4  0.36 0.36 0.36 0.36 0.36 0.36\n",
      " 0.36 0.36 0.36 0.36 0.36 0.36 0.36 0.28 0.28 0.28 0.28 0.2  0.2  0.2\n",
      " 0.2  0.2  0.36 0.28 0.28 0.28 0.28 0.28 0.28 0.28 0.28 0.28 0.28 0.28\n",
      " 0.28 0.28 0.28 0.24 0.24 0.24 0.24 0.12 0.12 0.12 0.12 0.12 0.32 0.32\n",
      " 0.28 0.28 0.28 0.28 0.28 0.28 0.28 0.28 0.28 0.28 0.28 0.28 0.28 0.2\n",
      " 0.2  0.2  0.2  0.2  0.2  0.2  0.2  0.2 ]\n"
     ]
    }
   ],
   "source": [
    "print(y_test_final[0])"
   ]
  },
  {
   "cell_type": "code",
   "execution_count": 33,
   "id": "d82f0187",
   "metadata": {},
   "outputs": [
    {
     "name": "stdout",
     "output_type": "stream",
     "text": [
      "Scaler mins: [ 1.659      -0.07418672]\n",
      "Scaler maxs: [1.909      0.10675078]\n"
     ]
    }
   ],
   "source": [
    "print(\"Scaler mins:\", scaler.data_min_)\n",
    "print(\"Scaler maxs:\", scaler.data_max_)\n"
   ]
  },
  {
   "cell_type": "code",
   "execution_count": 34,
   "id": "c29c4670",
   "metadata": {},
   "outputs": [
    {
     "name": "stdout",
     "output_type": "stream",
     "text": [
      "Overlap: 0\n"
     ]
    }
   ],
   "source": [
    "# check for overlapping timestamps\n",
    "train_times = set(train_df.index)\n",
    "test_times = set(test_df_.index)\n",
    "overlap = train_times.intersection(test_times)\n",
    "print(f\"Overlap: {len(overlap)}\")\n"
   ]
  },
  {
   "cell_type": "code",
   "execution_count": 35,
   "id": "1e087d1e",
   "metadata": {},
   "outputs": [
    {
     "data": {
      "image/png": "[encoded data removed]",
      "text/plain": [
       "<Figure size 640x480 with 1 Axes>"
      ]
     },
     "metadata": {},
     "output_type": "display_data"
    }
   ],
   "source": [
    "# check distribution of train and test\n",
    "from scipy.stats import gaussian_kde\n",
    "import matplotlib.pyplot as plt\n",
    "import numpy as np\n",
    "\n",
    "x_train = train_df[\"e5\"].dropna()\n",
    "x_test = test_df[\"e5\"].dropna()\n",
    "\n",
    "kde_train = gaussian_kde(x_train)\n",
    "kde_test = gaussian_kde(x_test)\n",
    "\n",
    "x_vals = np.linspace(min(x_train.min(), x_test.min()), max(x_train.max(), x_test.max()), 1000)\n",
    "plt.plot(x_vals, kde_train(x_vals), label='Train', color='blue')\n",
    "plt.plot(x_vals, kde_test(x_vals), label='Test', color='orange')\n",
    "plt.legend()\n",
    "plt.title(\"KDE of 'e5' in Train vs Test\")\n",
    "plt.xlabel(\"e5 Value\")\n",
    "plt.ylabel(\"Density\")\n",
    "plt.grid(True)\n",
    "plt.show()\n"
   ]
  },
  {
   "cell_type": "code",
   "execution_count": 36,
   "id": "89058b4e",
   "metadata": {},
   "outputs": [
    {
     "data": {
      "text/plain": [
       "(2202, 2)"
      ]
     },
     "execution_count": 36,
     "metadata": {},
     "output_type": "execute_result"
    }
   ],
   "source": [
    "scaled_test.shape"
   ]
  },
  {
   "cell_type": "code",
   "execution_count": 37,
   "id": "c969f403",
   "metadata": {},
   "outputs": [
    {
     "data": {
      "text/plain": [
       "(1, 288)"
      ]
     },
     "execution_count": 37,
     "metadata": {},
     "output_type": "execute_result"
    }
   ],
   "source": [
    "y_test_final.shape"
   ]
  },
  {
   "cell_type": "markdown",
   "id": "400a467c",
   "metadata": {},
   "source": [
    "### Model training"
   ]
  },
  {
   "cell_type": "code",
   "execution_count": 38,
   "id": "a7098c31",
   "metadata": {},
   "outputs": [],
   "source": [
    "\n",
    "# Example multivariate time-series data\n",
    "# Assume 'data' is a NumPy array of shape (samples, timesteps, features)\n",
    "# For instance, data.shape = (1000, 30, 5) for 1000 samples, 30 timesteps, and 5 features\n",
    "\n",
    "# Define the model\n",
    "model = Sequential()\n",
    "model.add(Conv1D(filters=64, kernel_size=3, activation='relu', input_shape=(input_steps, 2)))\n",
    "model.add(MaxPooling1D(pool_size=2))\n",
    "model.add(LSTM(50))\n",
    "model.add(Dense(288))\n",
    "\n",
    "model.compile(optimizer='adam', loss='mse')\n",
    "\n",
    "\n",
    "# Fit the model\n",
    "# Assume 'X_train' and 'y_train' are your training data and labels\n",
    "# model.fit(X_train, y_train, epochs=50, batch_size=32, verbose=1)"
   ]
  },
  {
   "cell_type": "code",
   "execution_count": 39,
   "id": "835b302a",
   "metadata": {},
   "outputs": [
    {
     "name": "stdout",
     "output_type": "stream",
     "text": [
      "Epoch 1/30\n",
      "114/114 [==============================] - 14s 119ms/step - loss: 0.0613\n",
      "Epoch 2/30\n",
      "114/114 [==============================] - 11s 99ms/step - loss: 0.0270\n",
      "Epoch 3/30\n",
      "114/114 [==============================] - 11s 93ms/step - loss: 0.0175\n",
      "Epoch 4/30\n",
      "114/114 [==============================] - 11s 95ms/step - loss: 0.0158\n",
      "Epoch 5/30\n",
      "114/114 [==============================] - 11s 97ms/step - loss: 0.0144\n",
      "Epoch 6/30\n",
      "114/114 [==============================] - 11s 95ms/step - loss: 0.0134\n",
      "Epoch 7/30\n",
      "114/114 [==============================] - 11s 94ms/step - loss: 0.0127\n",
      "Epoch 8/30\n",
      "114/114 [==============================] - 11s 97ms/step - loss: 0.0123\n",
      "Epoch 9/30\n",
      "114/114 [==============================] - 11s 93ms/step - loss: 0.0120\n",
      "Epoch 10/30\n",
      "114/114 [==============================] - 10s 91ms/step - loss: 0.0117\n",
      "Epoch 11/30\n",
      "114/114 [==============================] - 11s 95ms/step - loss: 0.0115\n",
      "Epoch 12/30\n",
      "114/114 [==============================] - 11s 97ms/step - loss: 0.0113\n",
      "Epoch 13/30\n",
      "114/114 [==============================] - 10s 92ms/step - loss: 0.0111\n",
      "Epoch 14/30\n",
      "114/114 [==============================] - 11s 97ms/step - loss: 0.0109\n",
      "Epoch 15/30\n",
      "114/114 [==============================] - 11s 97ms/step - loss: 0.0107\n",
      "Epoch 16/30\n",
      "114/114 [==============================] - 11s 95ms/step - loss: 0.0105\n",
      "Epoch 17/30\n",
      "114/114 [==============================] - 11s 95ms/step - loss: 0.0104\n",
      "Epoch 18/30\n",
      "114/114 [==============================] - 11s 94ms/step - loss: 0.0102\n",
      "Epoch 19/30\n",
      "114/114 [==============================] - 12s 108ms/step - loss: 0.0101\n",
      "Epoch 20/30\n",
      "114/114 [==============================] - 14s 127ms/step - loss: 0.0100\n",
      "Epoch 21/30\n",
      "114/114 [==============================] - 12s 108ms/step - loss: 0.0099\n",
      "Epoch 22/30\n",
      "114/114 [==============================] - 13s 113ms/step - loss: 0.0096\n",
      "Epoch 23/30\n",
      "114/114 [==============================] - 13s 111ms/step - loss: 0.0094\n",
      "Epoch 24/30\n",
      "114/114 [==============================] - 13s 110ms/step - loss: 0.0092\n",
      "Epoch 25/30\n",
      "114/114 [==============================] - 13s 109ms/step - loss: 0.0087\n",
      "Epoch 26/30\n",
      "114/114 [==============================] - 13s 117ms/step - loss: 0.0084\n",
      "Epoch 27/30\n",
      "114/114 [==============================] - 13s 114ms/step - loss: 0.0080\n",
      "Epoch 28/30\n",
      "114/114 [==============================] - 12s 103ms/step - loss: 0.0077\n",
      "Epoch 29/30\n",
      "114/114 [==============================] - 12s 107ms/step - loss: 0.0075\n",
      "Epoch 30/30\n",
      "114/114 [==============================] - 12s 104ms/step - loss: 0.0074\n"
     ]
    },
    {
     "data": {
      "text/plain": [
       "<keras.src.callbacks.History at 0x309642510>"
      ]
     },
     "execution_count": 39,
     "metadata": {},
     "output_type": "execute_result"
    }
   ],
   "source": [
    "model.fit(X, y, epochs=30, batch_size=32)"
   ]
  },
  {
   "cell_type": "markdown",
   "id": "027e563b",
   "metadata": {},
   "source": [
    "save the model"
   ]
  },
  {
   "cell_type": "code",
   "execution_count": 40,
   "id": "5498bbdd",
   "metadata": {},
   "outputs": [
    {
     "name": "stdout",
     "output_type": "stream",
     "text": [
      "INFO:tensorflow:Assets written to: ../models_laura/One_station_CNN-LSTM_v2_small_train20250612_1101_e5_30a50253-2339-469d-a77c-86713d9f5f7f/assets\n"
     ]
    },
    {
     "name": "stderr",
     "output_type": "stream",
     "text": [
      "INFO:tensorflow:Assets written to: ../models_laura/One_station_CNN-LSTM_v2_small_train20250612_1101_e5_30a50253-2339-469d-a77c-86713d9f5f7f/assets\n"
     ]
    }
   ],
   "source": [
    "timestamp = datetime.now().strftime(\"%Y%m%d_%H%M\")\n",
    "uuid = '30a50253-2339-469d-a77c-86713d9f5f7f'\n",
    "fuel= 'e5'\n",
    "#model.save(f\"fuel_price_cnn_model_{timestamp}.h5\")\n",
    "model.save(f\"../models_laura/One_station_CNN-LSTM_v2_small_train{timestamp}_{fuel}_{uuid}\")"
   ]
  },
  {
   "cell_type": "markdown",
   "id": "caf62718",
   "metadata": {},
   "source": [
    "predictions"
   ]
  },
  {
   "cell_type": "code",
   "execution_count": 41,
   "id": "95640ecc",
   "metadata": {},
   "outputs": [],
   "source": [
    "#model = load_model('../models_laura/One_station_CNN_20250611_1639_e5_30a50253-2339-469d-a77c-86713d9f5f7f') #first model: something wrong\n",
    "#model = load_model('../models_laura/One_station_CNN_20250611_1804_e5_30a50253-2339-469d-a77c-86713d9f5f7f') # second model, trained on whole training set\n",
    "#model = load_model('../models_laura/One_station_CNN_small_train20250611_2025_e5_30a50253-2339-469d-a77c-86713d9f5f7f') #trained with small training set\n",
    "#model = load_model('../models_laura/One_station_CNN_small_train20250612_0939_e5_30a50253-2339-469d-a77c-86713d9f5f7f') #trained with different training set\n",
    "\n",
    "\n",
    "#model = load_model('../models_laura/One_station_CNN-LSTM_small_train20250612_1023_e5_30a50253-2339-469d-a77c-86713d9f5f7f') #first CNN-LSTM model\n"
   ]
  },
  {
   "cell_type": "markdown",
   "id": "8f2495d7",
   "metadata": {},
   "source": [
    "# Real forecasting use case\n",
    "## we predict the last day while putting in the three days before"
   ]
  },
  {
   "cell_type": "code",
   "execution_count": 43,
   "id": "3291ce82",
   "metadata": {},
   "outputs": [
    {
     "name": "stdout",
     "output_type": "stream",
     "text": [
      "1/1 [==============================] - 1s 1s/step\n"
     ]
    }
   ],
   "source": [
    "# Predict only the last day\n",
    "y_pred_forecast = model.predict(X_test_final)"
   ]
  },
  {
   "cell_type": "markdown",
   "id": "4f052f4e",
   "metadata": {},
   "source": [
    "Reverse the scaling"
   ]
  },
  {
   "cell_type": "code",
   "execution_count": 46,
   "id": "25c8223d",
   "metadata": {},
   "outputs": [
    {
     "name": "stdout",
     "output_type": "stream",
     "text": [
      "y_pred_forecast shape: (1, 288)\n",
      "scaled_train shape: (4794, 2)\n",
      "y_pred shape: (288,)\n"
     ]
    }
   ],
   "source": [
    "def inverse_scale(preds, original_data, target_index, scaler):\n",
    "    \"\"\"Inverse scale predictions by placing them into a dummy array \n",
    "    and applying scaler.inverse_transform.\"\"\"\n",
    "    # Reshape predictions if needed\n",
    "    if len(preds.shape) == 1:\n",
    "        preds = preds.reshape(-1, 1)\n",
    "    else:\n",
    "        preds = preds.reshape(-1, 1)\n",
    "    \n",
    "    # Create dummy array with same number of features as original data\n",
    "    dummy = np.zeros((len(preds), original_data.shape[1]))\n",
    "    dummy[:, target_index] = preds[:, 0]  # Assign predictions to target column\n",
    "    \n",
    "    return scaler.inverse_transform(dummy)[:, target_index]\n",
    "\n",
    "# Debug shapes\n",
    "print(\"y_pred_forecast shape:\", y_pred_forecast.shape)\n",
    "print(\"scaled_train shape:\", scaled_train.shape)\n",
    "\n",
    "# Apply inverse scaling\n",
    "y_pred = inverse_scale(y_pred_forecast, scaled_train, target_index=0, scaler=scaler)\n",
    "print(\"y_pred shape:\", y_pred.shape)"
   ]
  },
  {
   "cell_type": "code",
   "execution_count": 47,
   "id": "136337d5",
   "metadata": {},
   "outputs": [],
   "source": [
    "y_pred = inverse_scale(y_pred_forecast, scaled_train, target_index=0, scaler=scaler)"
   ]
  },
  {
   "cell_type": "markdown",
   "id": "737e8fee",
   "metadata": {},
   "source": [
    "Reattach the datetime to y_pred"
   ]
  },
  {
   "cell_type": "code",
   "execution_count": 48,
   "id": "a57c531c",
   "metadata": {},
   "outputs": [
    {
     "name": "stdout",
     "output_type": "stream",
     "text": [
      "             datetime  Predicted E5\n",
      "0 2025-05-24 22:00:00      1.719993\n",
      "1 2025-05-24 22:05:00      1.736137\n",
      "2 2025-05-24 22:10:00      1.741015\n",
      "3 2025-05-24 22:15:00      1.744662\n",
      "4 2025-05-24 22:20:00      1.757593\n"
     ]
    }
   ],
   "source": [
    "n_predictions = len(y_pred)\n",
    "start_datetime = pd.to_datetime(\"2025-05-24 22:00\")\n",
    "time_index = pd.date_range(start=start_datetime, periods=n_predictions, freq=\"5min\")\n",
    "\n",
    "# Combine into a DataFrame\n",
    "y_pred_df = pd.DataFrame({\n",
    "    \"datetime\": time_index,\n",
    "    \"Predicted E5\": y_pred\n",
    "})\n",
    "\n",
    "print(y_pred_df.head())"
   ]
  },
  {
   "cell_type": "code",
   "execution_count": 49,
   "id": "4f3c0da1",
   "metadata": {},
   "outputs": [],
   "source": [
    "y_pred_df.set_index('datetime', inplace=True)"
   ]
  },
  {
   "cell_type": "code",
   "execution_count": 50,
   "id": "49450d81",
   "metadata": {},
   "outputs": [
    {
     "data": {
      "image/png": "[encoded data removed]",
      "text/plain": [
       "<Figure size 1400x500 with 1 Axes>"
      ]
     },
     "metadata": {},
     "output_type": "display_data"
    }
   ],
   "source": [
    "# Plot Test\n",
    "plt.figure(figsize=(14, 5))\n",
    "plt.plot(test_df_['e5'], label='True Test E5', drawstyle='steps-post')\n",
    "plt.plot(y_pred_df, drawstyle='steps-post')\n",
    "plt.title(\"Test Set - True\")\n",
    "plt.xlabel(\"Time Step\")\n",
    "plt.ylabel(\"E5 Price\")\n",
    "plt.legend()\n",
    "plt.grid(True)\n",
    "plt.show()"
   ]
  },
  {
   "cell_type": "code",
   "execution_count": 51,
   "id": "6e6fd749",
   "metadata": {},
   "outputs": [
    {
     "data": {
      "image/png": "[encoded data removed]",
      "text/plain": [
       "<Figure size 1400x500 with 1 Axes>"
      ]
     },
     "metadata": {},
     "output_type": "display_data"
    }
   ],
   "source": [
    "# Plot Test\n",
    "plt.figure(figsize=(14, 5))\n",
    "plt.plot(test_df_['e5'], label='True Test E5', drawstyle='steps-post')\n",
    "plt.plot(y_pred_df, drawstyle='steps-post')\n",
    "plt.title(\"Test Set - True\")\n",
    "plt.xlabel(\"Time Step\")\n",
    "plt.xlim((pd.to_datetime('2025-05-23'), pd.to_datetime('2025-05-26')))\n",
    "plt.ylabel(\"E5 Price\")\n",
    "plt.legend()\n",
    "plt.grid(True)\n",
    "plt.show()"
   ]
  },
  {
   "cell_type": "markdown",
   "id": "150be442",
   "metadata": {},
   "source": []
  },
  {
   "cell_type": "markdown",
   "id": "1bfe9810",
   "metadata": {},
   "source": [
    "# Autoregressive prediction"
   ]
  },
  {
   "cell_type": "code",
   "execution_count": 52,
   "id": "27126338",
   "metadata": {},
   "outputs": [],
   "source": [
    "# Then you run auto-regressive prediction:\n",
    "from tqdm import tqdm\n",
    "\n",
    "# Define constants\n",
    "window_size = 288\n",
    "forecast_days = 1\n",
    "steps_to_predict = forecast_days * 288\n",
    "target_index = 0  # Assuming 'e5' is the first column in scaling\n",
    "\n",
    "# You must cut your test set like this:\n",
    "\n",
    "test_start = pd.to_datetime(\"2025-05-23\")\n",
    "test_end = pd.to_datetime(\"2025-05-25\")\n",
    "\n",
    "input = test_df_[(test_df_.index >= test_start) & \n",
    "                       (test_df_.index < test_start + pd.Timedelta(days=7))]\n",
    "\n",
    "# You use only these first 7 days (7 × 288 = 2016 samples) to form the initial sliding window input:\n",
    "input_seq = input[[\"e5\", \"seasonal_component\"]]\n",
    "input_scaled = scaler.transform(input_seq)\n",
    "\n",
    "\n",
    "# 2. Initialize sliding window with last 288 time steps (one day)\n",
    "last_window = input_scaled[-window_size:].copy()"
   ]
  },
  {
   "cell_type": "code",
   "execution_count": 53,
   "id": "e41a0428",
   "metadata": {},
   "outputs": [
    {
     "name": "stderr",
     "output_type": "stream",
     "text": [
      "  0%|          | 0/288 [00:00<?, ?it/s]/Users/laurabrylka/Documents/Git/FuelProphet/.venv/lib/python3.11/site-packages/sklearn/base.py:439: UserWarning: X does not have valid feature names, but MinMaxScaler was fitted with feature names\n",
      "  warnings.warn(\n",
      "  0%|          | 1/288 [00:00<04:28,  1.07it/s]/Users/laurabrylka/Documents/Git/FuelProphet/.venv/lib/python3.11/site-packages/sklearn/base.py:439: UserWarning: X does not have valid feature names, but MinMaxScaler was fitted with feature names\n",
      "  warnings.warn(\n",
      "/Users/laurabrylka/Documents/Git/FuelProphet/.venv/lib/python3.11/site-packages/sklearn/base.py:439: UserWarning: X does not have valid feature names, but MinMaxScaler was fitted with feature names\n",
      "  warnings.warn(\n",
      "/Users/laurabrylka/Documents/Git/FuelProphet/.venv/lib/python3.11/site-packages/sklearn/base.py:439: UserWarning: X does not have valid feature names, but MinMaxScaler was fitted with feature names\n",
      "  warnings.warn(\n",
      "  1%|▏         | 4/288 [00:01<00:58,  4.82it/s]/Users/laurabrylka/Documents/Git/FuelProphet/.venv/lib/python3.11/site-packages/sklearn/base.py:439: UserWarning: X does not have valid feature names, but MinMaxScaler was fitted with feature names\n",
      "  warnings.warn(\n",
      "/Users/laurabrylka/Documents/Git/FuelProphet/.venv/lib/python3.11/site-packages/sklearn/base.py:439: UserWarning: X does not have valid feature names, but MinMaxScaler was fitted with feature names\n",
      "  warnings.warn(\n",
      "/Users/laurabrylka/Documents/Git/FuelProphet/.venv/lib/python3.11/site-packages/sklearn/base.py:439: UserWarning: X does not have valid feature names, but MinMaxScaler was fitted with feature names\n",
      "  warnings.warn(\n",
      "  2%|▏         | 7/288 [00:01<00:32,  8.52it/s]/Users/laurabrylka/Documents/Git/FuelProphet/.venv/lib/python3.11/site-packages/sklearn/base.py:439: UserWarning: X does not have valid feature names, but MinMaxScaler was fitted with feature names\n",
      "  warnings.warn(\n",
      "/Users/laurabrylka/Documents/Git/FuelProphet/.venv/lib/python3.11/site-packages/sklearn/base.py:439: UserWarning: X does not have valid feature names, but MinMaxScaler was fitted with feature names\n",
      "  warnings.warn(\n",
      "/Users/laurabrylka/Documents/Git/FuelProphet/.venv/lib/python3.11/site-packages/sklearn/base.py:439: UserWarning: X does not have valid feature names, but MinMaxScaler was fitted with feature names\n",
      "  warnings.warn(\n",
      "  3%|▎         | 10/288 [00:01<00:22, 12.15it/s]/Users/laurabrylka/Documents/Git/FuelProphet/.venv/lib/python3.11/site-packages/sklearn/base.py:439: UserWarning: X does not have valid feature names, but MinMaxScaler was fitted with feature names\n",
      "  warnings.warn(\n",
      "/Users/laurabrylka/Documents/Git/FuelProphet/.venv/lib/python3.11/site-packages/sklearn/base.py:439: UserWarning: X does not have valid feature names, but MinMaxScaler was fitted with feature names\n",
      "  warnings.warn(\n",
      "/Users/laurabrylka/Documents/Git/FuelProphet/.venv/lib/python3.11/site-packages/sklearn/base.py:439: UserWarning: X does not have valid feature names, but MinMaxScaler was fitted with feature names\n",
      "  warnings.warn(\n",
      "  5%|▍         | 13/288 [00:01<00:17, 15.70it/s]/Users/laurabrylka/Documents/Git/FuelProphet/.venv/lib/python3.11/site-packages/sklearn/base.py:439: UserWarning: X does not have valid feature names, but MinMaxScaler was fitted with feature names\n",
      "  warnings.warn(\n",
      "/Users/laurabrylka/Documents/Git/FuelProphet/.venv/lib/python3.11/site-packages/sklearn/base.py:439: UserWarning: X does not have valid feature names, but MinMaxScaler was fitted with feature names\n",
      "  warnings.warn(\n",
      "/Users/laurabrylka/Documents/Git/FuelProphet/.venv/lib/python3.11/site-packages/sklearn/base.py:439: UserWarning: X does not have valid feature names, but MinMaxScaler was fitted with feature names\n",
      "  warnings.warn(\n",
      "/Users/laurabrylka/Documents/Git/FuelProphet/.venv/lib/python3.11/site-packages/sklearn/base.py:439: UserWarning: X does not have valid feature names, but MinMaxScaler was fitted with feature names\n",
      "  warnings.warn(\n",
      "  6%|▌         | 17/288 [00:01<00:13, 19.86it/s]/Users/laurabrylka/Documents/Git/FuelProphet/.venv/lib/python3.11/site-packages/sklearn/base.py:439: UserWarning: X does not have valid feature names, but MinMaxScaler was fitted with feature names\n",
      "  warnings.warn(\n",
      "/Users/laurabrylka/Documents/Git/FuelProphet/.venv/lib/python3.11/site-packages/sklearn/base.py:439: UserWarning: X does not have valid feature names, but MinMaxScaler was fitted with feature names\n",
      "  warnings.warn(\n",
      "/Users/laurabrylka/Documents/Git/FuelProphet/.venv/lib/python3.11/site-packages/sklearn/base.py:439: UserWarning: X does not have valid feature names, but MinMaxScaler was fitted with feature names\n",
      "  warnings.warn(\n",
      "  7%|▋         | 20/288 [00:01<00:12, 21.63it/s]/Users/laurabrylka/Documents/Git/FuelProphet/.venv/lib/python3.11/site-packages/sklearn/base.py:439: UserWarning: X does not have valid feature names, but MinMaxScaler was fitted with feature names\n",
      "  warnings.warn(\n",
      "/Users/laurabrylka/Documents/Git/FuelProphet/.venv/lib/python3.11/site-packages/sklearn/base.py:439: UserWarning: X does not have valid feature names, but MinMaxScaler was fitted with feature names\n",
      "  warnings.warn(\n",
      "/Users/laurabrylka/Documents/Git/FuelProphet/.venv/lib/python3.11/site-packages/sklearn/base.py:439: UserWarning: X does not have valid feature names, but MinMaxScaler was fitted with feature names\n",
      "  warnings.warn(\n",
      "/Users/laurabrylka/Documents/Git/FuelProphet/.venv/lib/python3.11/site-packages/sklearn/base.py:439: UserWarning: X does not have valid feature names, but MinMaxScaler was fitted with feature names\n",
      "  warnings.warn(\n",
      "  8%|▊         | 24/288 [00:01<00:10, 24.32it/s]/Users/laurabrylka/Documents/Git/FuelProphet/.venv/lib/python3.11/site-packages/sklearn/base.py:439: UserWarning: X does not have valid feature names, but MinMaxScaler was fitted with feature names\n",
      "  warnings.warn(\n",
      "/Users/laurabrylka/Documents/Git/FuelProphet/.venv/lib/python3.11/site-packages/sklearn/base.py:439: UserWarning: X does not have valid feature names, but MinMaxScaler was fitted with feature names\n",
      "  warnings.warn(\n",
      "/Users/laurabrylka/Documents/Git/FuelProphet/.venv/lib/python3.11/site-packages/sklearn/base.py:439: UserWarning: X does not have valid feature names, but MinMaxScaler was fitted with feature names\n",
      "  warnings.warn(\n",
      "  9%|▉         | 27/288 [00:01<00:10, 24.61it/s]/Users/laurabrylka/Documents/Git/FuelProphet/.venv/lib/python3.11/site-packages/sklearn/base.py:439: UserWarning: X does not have valid feature names, but MinMaxScaler was fitted with feature names\n",
      "  warnings.warn(\n",
      "/Users/laurabrylka/Documents/Git/FuelProphet/.venv/lib/python3.11/site-packages/sklearn/base.py:439: UserWarning: X does not have valid feature names, but MinMaxScaler was fitted with feature names\n",
      "  warnings.warn(\n",
      "/Users/laurabrylka/Documents/Git/FuelProphet/.venv/lib/python3.11/site-packages/sklearn/base.py:439: UserWarning: X does not have valid feature names, but MinMaxScaler was fitted with feature names\n",
      "  warnings.warn(\n",
      " 10%|█         | 30/288 [00:02<00:11, 22.73it/s]/Users/laurabrylka/Documents/Git/FuelProphet/.venv/lib/python3.11/site-packages/sklearn/base.py:439: UserWarning: X does not have valid feature names, but MinMaxScaler was fitted with feature names\n",
      "  warnings.warn(\n",
      "/Users/laurabrylka/Documents/Git/FuelProphet/.venv/lib/python3.11/site-packages/sklearn/base.py:439: UserWarning: X does not have valid feature names, but MinMaxScaler was fitted with feature names\n",
      "  warnings.warn(\n",
      "/Users/laurabrylka/Documents/Git/FuelProphet/.venv/lib/python3.11/site-packages/sklearn/base.py:439: UserWarning: X does not have valid feature names, but MinMaxScaler was fitted with feature names\n",
      "  warnings.warn(\n",
      " 11%|█▏        | 33/288 [00:02<00:10, 24.38it/s]/Users/laurabrylka/Documents/Git/FuelProphet/.venv/lib/python3.11/site-packages/sklearn/base.py:439: UserWarning: X does not have valid feature names, but MinMaxScaler was fitted with feature names\n",
      "  warnings.warn(\n",
      "/Users/laurabrylka/Documents/Git/FuelProphet/.venv/lib/python3.11/site-packages/sklearn/base.py:439: UserWarning: X does not have valid feature names, but MinMaxScaler was fitted with feature names\n",
      "  warnings.warn(\n",
      "/Users/laurabrylka/Documents/Git/FuelProphet/.venv/lib/python3.11/site-packages/sklearn/base.py:439: UserWarning: X does not have valid feature names, but MinMaxScaler was fitted with feature names\n",
      "  warnings.warn(\n",
      " 12%|█▎        | 36/288 [00:02<00:09, 25.64it/s]/Users/laurabrylka/Documents/Git/FuelProphet/.venv/lib/python3.11/site-packages/sklearn/base.py:439: UserWarning: X does not have valid feature names, but MinMaxScaler was fitted with feature names\n",
      "  warnings.warn(\n",
      "/Users/laurabrylka/Documents/Git/FuelProphet/.venv/lib/python3.11/site-packages/sklearn/base.py:439: UserWarning: X does not have valid feature names, but MinMaxScaler was fitted with feature names\n",
      "  warnings.warn(\n",
      "/Users/laurabrylka/Documents/Git/FuelProphet/.venv/lib/python3.11/site-packages/sklearn/base.py:439: UserWarning: X does not have valid feature names, but MinMaxScaler was fitted with feature names\n",
      "  warnings.warn(\n",
      " 14%|█▎        | 39/288 [00:02<00:09, 26.75it/s]/Users/laurabrylka/Documents/Git/FuelProphet/.venv/lib/python3.11/site-packages/sklearn/base.py:439: UserWarning: X does not have valid feature names, but MinMaxScaler was fitted with feature names\n",
      "  warnings.warn(\n",
      "/Users/laurabrylka/Documents/Git/FuelProphet/.venv/lib/python3.11/site-packages/sklearn/base.py:439: UserWarning: X does not have valid feature names, but MinMaxScaler was fitted with feature names\n",
      "  warnings.warn(\n",
      "/Users/laurabrylka/Documents/Git/FuelProphet/.venv/lib/python3.11/site-packages/sklearn/base.py:439: UserWarning: X does not have valid feature names, but MinMaxScaler was fitted with feature names\n",
      "  warnings.warn(\n",
      "/Users/laurabrylka/Documents/Git/FuelProphet/.venv/lib/python3.11/site-packages/sklearn/base.py:439: UserWarning: X does not have valid feature names, but MinMaxScaler was fitted with feature names\n",
      "  warnings.warn(\n",
      " 15%|█▍        | 43/288 [00:02<00:08, 28.22it/s]/Users/laurabrylka/Documents/Git/FuelProphet/.venv/lib/python3.11/site-packages/sklearn/base.py:439: UserWarning: X does not have valid feature names, but MinMaxScaler was fitted with feature names\n",
      "  warnings.warn(\n",
      "/Users/laurabrylka/Documents/Git/FuelProphet/.venv/lib/python3.11/site-packages/sklearn/base.py:439: UserWarning: X does not have valid feature names, but MinMaxScaler was fitted with feature names\n",
      "  warnings.warn(\n",
      "/Users/laurabrylka/Documents/Git/FuelProphet/.venv/lib/python3.11/site-packages/sklearn/base.py:439: UserWarning: X does not have valid feature names, but MinMaxScaler was fitted with feature names\n",
      "  warnings.warn(\n",
      " 16%|█▌        | 46/288 [00:02<00:08, 27.73it/s]/Users/laurabrylka/Documents/Git/FuelProphet/.venv/lib/python3.11/site-packages/sklearn/base.py:439: UserWarning: X does not have valid feature names, but MinMaxScaler was fitted with feature names\n",
      "  warnings.warn(\n",
      "/Users/laurabrylka/Documents/Git/FuelProphet/.venv/lib/python3.11/site-packages/sklearn/base.py:439: UserWarning: X does not have valid feature names, but MinMaxScaler was fitted with feature names\n",
      "  warnings.warn(\n",
      "/Users/laurabrylka/Documents/Git/FuelProphet/.venv/lib/python3.11/site-packages/sklearn/base.py:439: UserWarning: X does not have valid feature names, but MinMaxScaler was fitted with feature names\n",
      "  warnings.warn(\n",
      " 17%|█▋        | 49/288 [00:02<00:11, 21.57it/s]/Users/laurabrylka/Documents/Git/FuelProphet/.venv/lib/python3.11/site-packages/sklearn/base.py:439: UserWarning: X does not have valid feature names, but MinMaxScaler was fitted with feature names\n",
      "  warnings.warn(\n",
      "/Users/laurabrylka/Documents/Git/FuelProphet/.venv/lib/python3.11/site-packages/sklearn/base.py:439: UserWarning: X does not have valid feature names, but MinMaxScaler was fitted with feature names\n",
      "  warnings.warn(\n",
      "/Users/laurabrylka/Documents/Git/FuelProphet/.venv/lib/python3.11/site-packages/sklearn/base.py:439: UserWarning: X does not have valid feature names, but MinMaxScaler was fitted with feature names\n",
      "  warnings.warn(\n",
      " 18%|█▊        | 52/288 [00:04<00:48,  4.91it/s]/Users/laurabrylka/Documents/Git/FuelProphet/.venv/lib/python3.11/site-packages/sklearn/base.py:439: UserWarning: X does not have valid feature names, but MinMaxScaler was fitted with feature names\n",
      "  warnings.warn(\n",
      "/Users/laurabrylka/Documents/Git/FuelProphet/.venv/lib/python3.11/site-packages/sklearn/base.py:439: UserWarning: X does not have valid feature names, but MinMaxScaler was fitted with feature names\n",
      "  warnings.warn(\n",
      " 19%|█▉        | 54/288 [00:04<00:43,  5.42it/s]/Users/laurabrylka/Documents/Git/FuelProphet/.venv/lib/python3.11/site-packages/sklearn/base.py:439: UserWarning: X does not have valid feature names, but MinMaxScaler was fitted with feature names\n",
      "  warnings.warn(\n",
      "/Users/laurabrylka/Documents/Git/FuelProphet/.venv/lib/python3.11/site-packages/sklearn/base.py:439: UserWarning: X does not have valid feature names, but MinMaxScaler was fitted with feature names\n",
      "  warnings.warn(\n",
      "/Users/laurabrylka/Documents/Git/FuelProphet/.venv/lib/python3.11/site-packages/sklearn/base.py:439: UserWarning: X does not have valid feature names, but MinMaxScaler was fitted with feature names\n",
      "  warnings.warn(\n",
      " 20%|█▉        | 57/288 [00:04<00:32,  7.16it/s]/Users/laurabrylka/Documents/Git/FuelProphet/.venv/lib/python3.11/site-packages/sklearn/base.py:439: UserWarning: X does not have valid feature names, but MinMaxScaler was fitted with feature names\n",
      "  warnings.warn(\n",
      "/Users/laurabrylka/Documents/Git/FuelProphet/.venv/lib/python3.11/site-packages/sklearn/base.py:439: UserWarning: X does not have valid feature names, but MinMaxScaler was fitted with feature names\n",
      "  warnings.warn(\n",
      " 20%|██        | 59/288 [00:05<00:31,  7.33it/s]/Users/laurabrylka/Documents/Git/FuelProphet/.venv/lib/python3.11/site-packages/sklearn/base.py:439: UserWarning: X does not have valid feature names, but MinMaxScaler was fitted with feature names\n",
      "  warnings.warn(\n",
      "/Users/laurabrylka/Documents/Git/FuelProphet/.venv/lib/python3.11/site-packages/sklearn/base.py:439: UserWarning: X does not have valid feature names, but MinMaxScaler was fitted with feature names\n",
      "  warnings.warn(\n",
      " 21%|██        | 61/288 [00:05<00:26,  8.51it/s]/Users/laurabrylka/Documents/Git/FuelProphet/.venv/lib/python3.11/site-packages/sklearn/base.py:439: UserWarning: X does not have valid feature names, but MinMaxScaler was fitted with feature names\n",
      "  warnings.warn(\n",
      "/Users/laurabrylka/Documents/Git/FuelProphet/.venv/lib/python3.11/site-packages/sklearn/base.py:439: UserWarning: X does not have valid feature names, but MinMaxScaler was fitted with feature names\n",
      "  warnings.warn(\n",
      "/Users/laurabrylka/Documents/Git/FuelProphet/.venv/lib/python3.11/site-packages/sklearn/base.py:439: UserWarning: X does not have valid feature names, but MinMaxScaler was fitted with feature names\n",
      "  warnings.warn(\n",
      " 22%|██▏       | 64/288 [00:05<00:20, 11.00it/s]/Users/laurabrylka/Documents/Git/FuelProphet/.venv/lib/python3.11/site-packages/sklearn/base.py:439: UserWarning: X does not have valid feature names, but MinMaxScaler was fitted with feature names\n",
      "  warnings.warn(\n",
      "/Users/laurabrylka/Documents/Git/FuelProphet/.venv/lib/python3.11/site-packages/sklearn/base.py:439: UserWarning: X does not have valid feature names, but MinMaxScaler was fitted with feature names\n",
      "  warnings.warn(\n",
      " 23%|██▎       | 66/288 [00:05<00:19, 11.56it/s]/Users/laurabrylka/Documents/Git/FuelProphet/.venv/lib/python3.11/site-packages/sklearn/base.py:439: UserWarning: X does not have valid feature names, but MinMaxScaler was fitted with feature names\n",
      "  warnings.warn(\n",
      "/Users/laurabrylka/Documents/Git/FuelProphet/.venv/lib/python3.11/site-packages/sklearn/base.py:439: UserWarning: X does not have valid feature names, but MinMaxScaler was fitted with feature names\n",
      "  warnings.warn(\n",
      "/Users/laurabrylka/Documents/Git/FuelProphet/.venv/lib/python3.11/site-packages/sklearn/base.py:439: UserWarning: X does not have valid feature names, but MinMaxScaler was fitted with feature names\n",
      "  warnings.warn(\n",
      " 24%|██▍       | 69/288 [00:05<00:15, 13.80it/s]/Users/laurabrylka/Documents/Git/FuelProphet/.venv/lib/python3.11/site-packages/sklearn/base.py:439: UserWarning: X does not have valid feature names, but MinMaxScaler was fitted with feature names\n",
      "  warnings.warn(\n",
      "/Users/laurabrylka/Documents/Git/FuelProphet/.venv/lib/python3.11/site-packages/sklearn/base.py:439: UserWarning: X does not have valid feature names, but MinMaxScaler was fitted with feature names\n",
      "  warnings.warn(\n",
      "/Users/laurabrylka/Documents/Git/FuelProphet/.venv/lib/python3.11/site-packages/sklearn/base.py:439: UserWarning: X does not have valid feature names, but MinMaxScaler was fitted with feature names\n",
      "  warnings.warn(\n",
      " 25%|██▌       | 72/288 [00:05<00:13, 16.00it/s]/Users/laurabrylka/Documents/Git/FuelProphet/.venv/lib/python3.11/site-packages/sklearn/base.py:439: UserWarning: X does not have valid feature names, but MinMaxScaler was fitted with feature names\n",
      "  warnings.warn(\n",
      "/Users/laurabrylka/Documents/Git/FuelProphet/.venv/lib/python3.11/site-packages/sklearn/base.py:439: UserWarning: X does not have valid feature names, but MinMaxScaler was fitted with feature names\n",
      "  warnings.warn(\n",
      "/Users/laurabrylka/Documents/Git/FuelProphet/.venv/lib/python3.11/site-packages/sklearn/base.py:439: UserWarning: X does not have valid feature names, but MinMaxScaler was fitted with feature names\n",
      "  warnings.warn(\n",
      " 26%|██▌       | 75/288 [00:05<00:11, 18.22it/s]/Users/laurabrylka/Documents/Git/FuelProphet/.venv/lib/python3.11/site-packages/sklearn/base.py:439: UserWarning: X does not have valid feature names, but MinMaxScaler was fitted with feature names\n",
      "  warnings.warn(\n",
      "/Users/laurabrylka/Documents/Git/FuelProphet/.venv/lib/python3.11/site-packages/sklearn/base.py:439: UserWarning: X does not have valid feature names, but MinMaxScaler was fitted with feature names\n",
      "  warnings.warn(\n",
      "/Users/laurabrylka/Documents/Git/FuelProphet/.venv/lib/python3.11/site-packages/sklearn/base.py:439: UserWarning: X does not have valid feature names, but MinMaxScaler was fitted with feature names\n",
      "  warnings.warn(\n",
      " 27%|██▋       | 78/288 [00:06<00:10, 20.10it/s]/Users/laurabrylka/Documents/Git/FuelProphet/.venv/lib/python3.11/site-packages/sklearn/base.py:439: UserWarning: X does not have valid feature names, but MinMaxScaler was fitted with feature names\n",
      "  warnings.warn(\n",
      "/Users/laurabrylka/Documents/Git/FuelProphet/.venv/lib/python3.11/site-packages/sklearn/base.py:439: UserWarning: X does not have valid feature names, but MinMaxScaler was fitted with feature names\n",
      "  warnings.warn(\n",
      "/Users/laurabrylka/Documents/Git/FuelProphet/.venv/lib/python3.11/site-packages/sklearn/base.py:439: UserWarning: X does not have valid feature names, but MinMaxScaler was fitted with feature names\n",
      "  warnings.warn(\n",
      " 28%|██▊       | 81/288 [00:06<00:09, 21.74it/s]/Users/laurabrylka/Documents/Git/FuelProphet/.venv/lib/python3.11/site-packages/sklearn/base.py:439: UserWarning: X does not have valid feature names, but MinMaxScaler was fitted with feature names\n",
      "  warnings.warn(\n",
      "/Users/laurabrylka/Documents/Git/FuelProphet/.venv/lib/python3.11/site-packages/sklearn/base.py:439: UserWarning: X does not have valid feature names, but MinMaxScaler was fitted with feature names\n",
      "  warnings.warn(\n",
      "/Users/laurabrylka/Documents/Git/FuelProphet/.venv/lib/python3.11/site-packages/sklearn/base.py:439: UserWarning: X does not have valid feature names, but MinMaxScaler was fitted with feature names\n",
      "  warnings.warn(\n",
      " 29%|██▉       | 84/288 [00:06<00:09, 22.30it/s]/Users/laurabrylka/Documents/Git/FuelProphet/.venv/lib/python3.11/site-packages/sklearn/base.py:439: UserWarning: X does not have valid feature names, but MinMaxScaler was fitted with feature names\n",
      "  warnings.warn(\n",
      "/Users/laurabrylka/Documents/Git/FuelProphet/.venv/lib/python3.11/site-packages/sklearn/base.py:439: UserWarning: X does not have valid feature names, but MinMaxScaler was fitted with feature names\n",
      "  warnings.warn(\n",
      "/Users/laurabrylka/Documents/Git/FuelProphet/.venv/lib/python3.11/site-packages/sklearn/base.py:439: UserWarning: X does not have valid feature names, but MinMaxScaler was fitted with feature names\n",
      "  warnings.warn(\n",
      " 30%|███       | 87/288 [00:06<00:08, 22.80it/s]/Users/laurabrylka/Documents/Git/FuelProphet/.venv/lib/python3.11/site-packages/sklearn/base.py:439: UserWarning: X does not have valid feature names, but MinMaxScaler was fitted with feature names\n",
      "  warnings.warn(\n",
      "/Users/laurabrylka/Documents/Git/FuelProphet/.venv/lib/python3.11/site-packages/sklearn/base.py:439: UserWarning: X does not have valid feature names, but MinMaxScaler was fitted with feature names\n",
      "  warnings.warn(\n",
      "/Users/laurabrylka/Documents/Git/FuelProphet/.venv/lib/python3.11/site-packages/sklearn/base.py:439: UserWarning: X does not have valid feature names, but MinMaxScaler was fitted with feature names\n",
      "  warnings.warn(\n",
      " 31%|███▏      | 90/288 [00:06<00:08, 23.94it/s]/Users/laurabrylka/Documents/Git/FuelProphet/.venv/lib/python3.11/site-packages/sklearn/base.py:439: UserWarning: X does not have valid feature names, but MinMaxScaler was fitted with feature names\n",
      "  warnings.warn(\n",
      "/Users/laurabrylka/Documents/Git/FuelProphet/.venv/lib/python3.11/site-packages/sklearn/base.py:439: UserWarning: X does not have valid feature names, but MinMaxScaler was fitted with feature names\n",
      "  warnings.warn(\n",
      "/Users/laurabrylka/Documents/Git/FuelProphet/.venv/lib/python3.11/site-packages/sklearn/base.py:439: UserWarning: X does not have valid feature names, but MinMaxScaler was fitted with feature names\n",
      "  warnings.warn(\n",
      " 32%|███▏      | 93/288 [00:06<00:08, 24.18it/s]/Users/laurabrylka/Documents/Git/FuelProphet/.venv/lib/python3.11/site-packages/sklearn/base.py:439: UserWarning: X does not have valid feature names, but MinMaxScaler was fitted with feature names\n",
      "  warnings.warn(\n",
      "/Users/laurabrylka/Documents/Git/FuelProphet/.venv/lib/python3.11/site-packages/sklearn/base.py:439: UserWarning: X does not have valid feature names, but MinMaxScaler was fitted with feature names\n",
      "  warnings.warn(\n",
      "/Users/laurabrylka/Documents/Git/FuelProphet/.venv/lib/python3.11/site-packages/sklearn/base.py:439: UserWarning: X does not have valid feature names, but MinMaxScaler was fitted with feature names\n",
      "  warnings.warn(\n",
      " 33%|███▎      | 96/288 [00:06<00:11, 16.85it/s]/Users/laurabrylka/Documents/Git/FuelProphet/.venv/lib/python3.11/site-packages/sklearn/base.py:439: UserWarning: X does not have valid feature names, but MinMaxScaler was fitted with feature names\n",
      "  warnings.warn(\n",
      "/Users/laurabrylka/Documents/Git/FuelProphet/.venv/lib/python3.11/site-packages/sklearn/base.py:439: UserWarning: X does not have valid feature names, but MinMaxScaler was fitted with feature names\n",
      "  warnings.warn(\n",
      "/Users/laurabrylka/Documents/Git/FuelProphet/.venv/lib/python3.11/site-packages/sklearn/base.py:439: UserWarning: X does not have valid feature names, but MinMaxScaler was fitted with feature names\n",
      "  warnings.warn(\n",
      " 34%|███▍      | 99/288 [00:07<00:10, 17.70it/s]/Users/laurabrylka/Documents/Git/FuelProphet/.venv/lib/python3.11/site-packages/sklearn/base.py:439: UserWarning: X does not have valid feature names, but MinMaxScaler was fitted with feature names\n",
      "  warnings.warn(\n",
      "/Users/laurabrylka/Documents/Git/FuelProphet/.venv/lib/python3.11/site-packages/sklearn/base.py:439: UserWarning: X does not have valid feature names, but MinMaxScaler was fitted with feature names\n",
      "  warnings.warn(\n",
      "/Users/laurabrylka/Documents/Git/FuelProphet/.venv/lib/python3.11/site-packages/sklearn/base.py:439: UserWarning: X does not have valid feature names, but MinMaxScaler was fitted with feature names\n",
      "  warnings.warn(\n",
      " 35%|███▌      | 102/288 [00:07<00:09, 19.20it/s]/Users/laurabrylka/Documents/Git/FuelProphet/.venv/lib/python3.11/site-packages/sklearn/base.py:439: UserWarning: X does not have valid feature names, but MinMaxScaler was fitted with feature names\n",
      "  warnings.warn(\n",
      "/Users/laurabrylka/Documents/Git/FuelProphet/.venv/lib/python3.11/site-packages/sklearn/base.py:439: UserWarning: X does not have valid feature names, but MinMaxScaler was fitted with feature names\n",
      "  warnings.warn(\n",
      "/Users/laurabrylka/Documents/Git/FuelProphet/.venv/lib/python3.11/site-packages/sklearn/base.py:439: UserWarning: X does not have valid feature names, but MinMaxScaler was fitted with feature names\n",
      "  warnings.warn(\n",
      " 36%|███▋      | 105/288 [00:07<00:09, 19.66it/s]/Users/laurabrylka/Documents/Git/FuelProphet/.venv/lib/python3.11/site-packages/sklearn/base.py:439: UserWarning: X does not have valid feature names, but MinMaxScaler was fitted with feature names\n",
      "  warnings.warn(\n",
      "/Users/laurabrylka/Documents/Git/FuelProphet/.venv/lib/python3.11/site-packages/sklearn/base.py:439: UserWarning: X does not have valid feature names, but MinMaxScaler was fitted with feature names\n",
      "  warnings.warn(\n",
      "/Users/laurabrylka/Documents/Git/FuelProphet/.venv/lib/python3.11/site-packages/sklearn/base.py:439: UserWarning: X does not have valid feature names, but MinMaxScaler was fitted with feature names\n",
      "  warnings.warn(\n",
      " 38%|███▊      | 108/288 [00:07<00:09, 19.11it/s]/Users/laurabrylka/Documents/Git/FuelProphet/.venv/lib/python3.11/site-packages/sklearn/base.py:439: UserWarning: X does not have valid feature names, but MinMaxScaler was fitted with feature names\n",
      "  warnings.warn(\n",
      "/Users/laurabrylka/Documents/Git/FuelProphet/.venv/lib/python3.11/site-packages/sklearn/base.py:439: UserWarning: X does not have valid feature names, but MinMaxScaler was fitted with feature names\n",
      "  warnings.warn(\n",
      "/Users/laurabrylka/Documents/Git/FuelProphet/.venv/lib/python3.11/site-packages/sklearn/base.py:439: UserWarning: X does not have valid feature names, but MinMaxScaler was fitted with feature names\n",
      "  warnings.warn(\n",
      " 39%|███▊      | 111/288 [00:07<00:08, 20.95it/s]/Users/laurabrylka/Documents/Git/FuelProphet/.venv/lib/python3.11/site-packages/sklearn/base.py:439: UserWarning: X does not have valid feature names, but MinMaxScaler was fitted with feature names\n",
      "  warnings.warn(\n",
      "/Users/laurabrylka/Documents/Git/FuelProphet/.venv/lib/python3.11/site-packages/sklearn/base.py:439: UserWarning: X does not have valid feature names, but MinMaxScaler was fitted with feature names\n",
      "  warnings.warn(\n",
      "/Users/laurabrylka/Documents/Git/FuelProphet/.venv/lib/python3.11/site-packages/sklearn/base.py:439: UserWarning: X does not have valid feature names, but MinMaxScaler was fitted with feature names\n",
      "  warnings.warn(\n",
      " 40%|███▉      | 114/288 [00:07<00:08, 20.02it/s]/Users/laurabrylka/Documents/Git/FuelProphet/.venv/lib/python3.11/site-packages/sklearn/base.py:439: UserWarning: X does not have valid feature names, but MinMaxScaler was fitted with feature names\n",
      "  warnings.warn(\n",
      "/Users/laurabrylka/Documents/Git/FuelProphet/.venv/lib/python3.11/site-packages/sklearn/base.py:439: UserWarning: X does not have valid feature names, but MinMaxScaler was fitted with feature names\n",
      "  warnings.warn(\n",
      "/Users/laurabrylka/Documents/Git/FuelProphet/.venv/lib/python3.11/site-packages/sklearn/base.py:439: UserWarning: X does not have valid feature names, but MinMaxScaler was fitted with feature names\n",
      "  warnings.warn(\n",
      " 41%|████      | 117/288 [00:07<00:07, 21.88it/s]/Users/laurabrylka/Documents/Git/FuelProphet/.venv/lib/python3.11/site-packages/sklearn/base.py:439: UserWarning: X does not have valid feature names, but MinMaxScaler was fitted with feature names\n",
      "  warnings.warn(\n",
      "/Users/laurabrylka/Documents/Git/FuelProphet/.venv/lib/python3.11/site-packages/sklearn/base.py:439: UserWarning: X does not have valid feature names, but MinMaxScaler was fitted with feature names\n",
      "  warnings.warn(\n",
      "/Users/laurabrylka/Documents/Git/FuelProphet/.venv/lib/python3.11/site-packages/sklearn/base.py:439: UserWarning: X does not have valid feature names, but MinMaxScaler was fitted with feature names\n",
      "  warnings.warn(\n",
      " 42%|████▏     | 120/288 [00:08<00:07, 22.64it/s]/Users/laurabrylka/Documents/Git/FuelProphet/.venv/lib/python3.11/site-packages/sklearn/base.py:439: UserWarning: X does not have valid feature names, but MinMaxScaler was fitted with feature names\n",
      "  warnings.warn(\n",
      "/Users/laurabrylka/Documents/Git/FuelProphet/.venv/lib/python3.11/site-packages/sklearn/base.py:439: UserWarning: X does not have valid feature names, but MinMaxScaler was fitted with feature names\n",
      "  warnings.warn(\n",
      "/Users/laurabrylka/Documents/Git/FuelProphet/.venv/lib/python3.11/site-packages/sklearn/base.py:439: UserWarning: X does not have valid feature names, but MinMaxScaler was fitted with feature names\n",
      "  warnings.warn(\n",
      " 43%|████▎     | 123/288 [00:08<00:06, 24.15it/s]/Users/laurabrylka/Documents/Git/FuelProphet/.venv/lib/python3.11/site-packages/sklearn/base.py:439: UserWarning: X does not have valid feature names, but MinMaxScaler was fitted with feature names\n",
      "  warnings.warn(\n",
      "/Users/laurabrylka/Documents/Git/FuelProphet/.venv/lib/python3.11/site-packages/sklearn/base.py:439: UserWarning: X does not have valid feature names, but MinMaxScaler was fitted with feature names\n",
      "  warnings.warn(\n",
      "/Users/laurabrylka/Documents/Git/FuelProphet/.venv/lib/python3.11/site-packages/sklearn/base.py:439: UserWarning: X does not have valid feature names, but MinMaxScaler was fitted with feature names\n",
      "  warnings.warn(\n",
      " 44%|████▍     | 126/288 [00:08<00:06, 24.43it/s]/Users/laurabrylka/Documents/Git/FuelProphet/.venv/lib/python3.11/site-packages/sklearn/base.py:439: UserWarning: X does not have valid feature names, but MinMaxScaler was fitted with feature names\n",
      "  warnings.warn(\n",
      "/Users/laurabrylka/Documents/Git/FuelProphet/.venv/lib/python3.11/site-packages/sklearn/base.py:439: UserWarning: X does not have valid feature names, but MinMaxScaler was fitted with feature names\n",
      "  warnings.warn(\n",
      "/Users/laurabrylka/Documents/Git/FuelProphet/.venv/lib/python3.11/site-packages/sklearn/base.py:439: UserWarning: X does not have valid feature names, but MinMaxScaler was fitted with feature names\n",
      "  warnings.warn(\n",
      " 45%|████▍     | 129/288 [00:08<00:06, 25.80it/s]/Users/laurabrylka/Documents/Git/FuelProphet/.venv/lib/python3.11/site-packages/sklearn/base.py:439: UserWarning: X does not have valid feature names, but MinMaxScaler was fitted with feature names\n",
      "  warnings.warn(\n",
      "/Users/laurabrylka/Documents/Git/FuelProphet/.venv/lib/python3.11/site-packages/sklearn/base.py:439: UserWarning: X does not have valid feature names, but MinMaxScaler was fitted with feature names\n",
      "  warnings.warn(\n",
      "/Users/laurabrylka/Documents/Git/FuelProphet/.venv/lib/python3.11/site-packages/sklearn/base.py:439: UserWarning: X does not have valid feature names, but MinMaxScaler was fitted with feature names\n",
      "  warnings.warn(\n",
      "/Users/laurabrylka/Documents/Git/FuelProphet/.venv/lib/python3.11/site-packages/sklearn/base.py:439: UserWarning: X does not have valid feature names, but MinMaxScaler was fitted with feature names\n",
      "  warnings.warn(\n",
      " 46%|████▌     | 133/288 [00:08<00:05, 27.18it/s]/Users/laurabrylka/Documents/Git/FuelProphet/.venv/lib/python3.11/site-packages/sklearn/base.py:439: UserWarning: X does not have valid feature names, but MinMaxScaler was fitted with feature names\n",
      "  warnings.warn(\n",
      "/Users/laurabrylka/Documents/Git/FuelProphet/.venv/lib/python3.11/site-packages/sklearn/base.py:439: UserWarning: X does not have valid feature names, but MinMaxScaler was fitted with feature names\n",
      "  warnings.warn(\n",
      "/Users/laurabrylka/Documents/Git/FuelProphet/.venv/lib/python3.11/site-packages/sklearn/base.py:439: UserWarning: X does not have valid feature names, but MinMaxScaler was fitted with feature names\n",
      "  warnings.warn(\n",
      " 47%|████▋     | 136/288 [00:08<00:08, 18.70it/s]/Users/laurabrylka/Documents/Git/FuelProphet/.venv/lib/python3.11/site-packages/sklearn/base.py:439: UserWarning: X does not have valid feature names, but MinMaxScaler was fitted with feature names\n",
      "  warnings.warn(\n",
      "/Users/laurabrylka/Documents/Git/FuelProphet/.venv/lib/python3.11/site-packages/sklearn/base.py:439: UserWarning: X does not have valid feature names, but MinMaxScaler was fitted with feature names\n",
      "  warnings.warn(\n",
      "/Users/laurabrylka/Documents/Git/FuelProphet/.venv/lib/python3.11/site-packages/sklearn/base.py:439: UserWarning: X does not have valid feature names, but MinMaxScaler was fitted with feature names\n",
      "  warnings.warn(\n",
      " 48%|████▊     | 139/288 [00:08<00:07, 20.09it/s]/Users/laurabrylka/Documents/Git/FuelProphet/.venv/lib/python3.11/site-packages/sklearn/base.py:439: UserWarning: X does not have valid feature names, but MinMaxScaler was fitted with feature names\n",
      "  warnings.warn(\n",
      "/Users/laurabrylka/Documents/Git/FuelProphet/.venv/lib/python3.11/site-packages/sklearn/base.py:439: UserWarning: X does not have valid feature names, but MinMaxScaler was fitted with feature names\n",
      "  warnings.warn(\n",
      "/Users/laurabrylka/Documents/Git/FuelProphet/.venv/lib/python3.11/site-packages/sklearn/base.py:439: UserWarning: X does not have valid feature names, but MinMaxScaler was fitted with feature names\n",
      "  warnings.warn(\n",
      " 49%|████▉     | 142/288 [00:09<00:06, 21.67it/s]/Users/laurabrylka/Documents/Git/FuelProphet/.venv/lib/python3.11/site-packages/sklearn/base.py:439: UserWarning: X does not have valid feature names, but MinMaxScaler was fitted with feature names\n",
      "  warnings.warn(\n",
      "/Users/laurabrylka/Documents/Git/FuelProphet/.venv/lib/python3.11/site-packages/sklearn/base.py:439: UserWarning: X does not have valid feature names, but MinMaxScaler was fitted with feature names\n",
      "  warnings.warn(\n",
      "/Users/laurabrylka/Documents/Git/FuelProphet/.venv/lib/python3.11/site-packages/sklearn/base.py:439: UserWarning: X does not have valid feature names, but MinMaxScaler was fitted with feature names\n",
      "  warnings.warn(\n",
      " 50%|█████     | 145/288 [00:09<00:06, 23.51it/s]/Users/laurabrylka/Documents/Git/FuelProphet/.venv/lib/python3.11/site-packages/sklearn/base.py:439: UserWarning: X does not have valid feature names, but MinMaxScaler was fitted with feature names\n",
      "  warnings.warn(\n",
      "/Users/laurabrylka/Documents/Git/FuelProphet/.venv/lib/python3.11/site-packages/sklearn/base.py:439: UserWarning: X does not have valid feature names, but MinMaxScaler was fitted with feature names\n",
      "  warnings.warn(\n",
      "/Users/laurabrylka/Documents/Git/FuelProphet/.venv/lib/python3.11/site-packages/sklearn/base.py:439: UserWarning: X does not have valid feature names, but MinMaxScaler was fitted with feature names\n",
      "  warnings.warn(\n",
      "/Users/laurabrylka/Documents/Git/FuelProphet/.venv/lib/python3.11/site-packages/sklearn/base.py:439: UserWarning: X does not have valid feature names, but MinMaxScaler was fitted with feature names\n",
      "  warnings.warn(\n",
      " 52%|█████▏    | 149/288 [00:09<00:05, 25.23it/s]/Users/laurabrylka/Documents/Git/FuelProphet/.venv/lib/python3.11/site-packages/sklearn/base.py:439: UserWarning: X does not have valid feature names, but MinMaxScaler was fitted with feature names\n",
      "  warnings.warn(\n",
      "/Users/laurabrylka/Documents/Git/FuelProphet/.venv/lib/python3.11/site-packages/sklearn/base.py:439: UserWarning: X does not have valid feature names, but MinMaxScaler was fitted with feature names\n",
      "  warnings.warn(\n",
      "/Users/laurabrylka/Documents/Git/FuelProphet/.venv/lib/python3.11/site-packages/sklearn/base.py:439: UserWarning: X does not have valid feature names, but MinMaxScaler was fitted with feature names\n",
      "  warnings.warn(\n",
      " 53%|█████▎    | 152/288 [00:09<00:05, 26.33it/s]/Users/laurabrylka/Documents/Git/FuelProphet/.venv/lib/python3.11/site-packages/sklearn/base.py:439: UserWarning: X does not have valid feature names, but MinMaxScaler was fitted with feature names\n",
      "  warnings.warn(\n",
      "/Users/laurabrylka/Documents/Git/FuelProphet/.venv/lib/python3.11/site-packages/sklearn/base.py:439: UserWarning: X does not have valid feature names, but MinMaxScaler was fitted with feature names\n",
      "  warnings.warn(\n",
      "/Users/laurabrylka/Documents/Git/FuelProphet/.venv/lib/python3.11/site-packages/sklearn/base.py:439: UserWarning: X does not have valid feature names, but MinMaxScaler was fitted with feature names\n",
      "  warnings.warn(\n",
      " 54%|█████▍    | 155/288 [00:09<00:04, 27.20it/s]/Users/laurabrylka/Documents/Git/FuelProphet/.venv/lib/python3.11/site-packages/sklearn/base.py:439: UserWarning: X does not have valid feature names, but MinMaxScaler was fitted with feature names\n",
      "  warnings.warn(\n",
      "/Users/laurabrylka/Documents/Git/FuelProphet/.venv/lib/python3.11/site-packages/sklearn/base.py:439: UserWarning: X does not have valid feature names, but MinMaxScaler was fitted with feature names\n",
      "  warnings.warn(\n",
      "/Users/laurabrylka/Documents/Git/FuelProphet/.venv/lib/python3.11/site-packages/sklearn/base.py:439: UserWarning: X does not have valid feature names, but MinMaxScaler was fitted with feature names\n",
      "  warnings.warn(\n",
      " 55%|█████▍    | 158/288 [00:09<00:04, 27.60it/s]/Users/laurabrylka/Documents/Git/FuelProphet/.venv/lib/python3.11/site-packages/sklearn/base.py:439: UserWarning: X does not have valid feature names, but MinMaxScaler was fitted with feature names\n",
      "  warnings.warn(\n",
      "/Users/laurabrylka/Documents/Git/FuelProphet/.venv/lib/python3.11/site-packages/sklearn/base.py:439: UserWarning: X does not have valid feature names, but MinMaxScaler was fitted with feature names\n",
      "  warnings.warn(\n",
      "/Users/laurabrylka/Documents/Git/FuelProphet/.venv/lib/python3.11/site-packages/sklearn/base.py:439: UserWarning: X does not have valid feature names, but MinMaxScaler was fitted with feature names\n",
      "  warnings.warn(\n",
      " 56%|█████▌    | 161/288 [00:09<00:05, 21.98it/s]/Users/laurabrylka/Documents/Git/FuelProphet/.venv/lib/python3.11/site-packages/sklearn/base.py:439: UserWarning: X does not have valid feature names, but MinMaxScaler was fitted with feature names\n",
      "  warnings.warn(\n",
      "/Users/laurabrylka/Documents/Git/FuelProphet/.venv/lib/python3.11/site-packages/sklearn/base.py:439: UserWarning: X does not have valid feature names, but MinMaxScaler was fitted with feature names\n",
      "  warnings.warn(\n",
      "/Users/laurabrylka/Documents/Git/FuelProphet/.venv/lib/python3.11/site-packages/sklearn/base.py:439: UserWarning: X does not have valid feature names, but MinMaxScaler was fitted with feature names\n",
      "  warnings.warn(\n",
      "/Users/laurabrylka/Documents/Git/FuelProphet/.venv/lib/python3.11/site-packages/sklearn/base.py:439: UserWarning: X does not have valid feature names, but MinMaxScaler was fitted with feature names\n",
      "  warnings.warn(\n",
      " 57%|█████▋    | 165/288 [00:09<00:05, 24.57it/s]/Users/laurabrylka/Documents/Git/FuelProphet/.venv/lib/python3.11/site-packages/sklearn/base.py:439: UserWarning: X does not have valid feature names, but MinMaxScaler was fitted with feature names\n",
      "  warnings.warn(\n",
      "/Users/laurabrylka/Documents/Git/FuelProphet/.venv/lib/python3.11/site-packages/sklearn/base.py:439: UserWarning: X does not have valid feature names, but MinMaxScaler was fitted with feature names\n",
      "  warnings.warn(\n",
      "/Users/laurabrylka/Documents/Git/FuelProphet/.venv/lib/python3.11/site-packages/sklearn/base.py:439: UserWarning: X does not have valid feature names, but MinMaxScaler was fitted with feature names\n",
      "  warnings.warn(\n",
      " 58%|█████▊    | 168/288 [00:10<00:04, 25.50it/s]/Users/laurabrylka/Documents/Git/FuelProphet/.venv/lib/python3.11/site-packages/sklearn/base.py:439: UserWarning: X does not have valid feature names, but MinMaxScaler was fitted with feature names\n",
      "  warnings.warn(\n",
      "/Users/laurabrylka/Documents/Git/FuelProphet/.venv/lib/python3.11/site-packages/sklearn/base.py:439: UserWarning: X does not have valid feature names, but MinMaxScaler was fitted with feature names\n",
      "  warnings.warn(\n",
      "/Users/laurabrylka/Documents/Git/FuelProphet/.venv/lib/python3.11/site-packages/sklearn/base.py:439: UserWarning: X does not have valid feature names, but MinMaxScaler was fitted with feature names\n",
      "  warnings.warn(\n",
      " 59%|█████▉    | 171/288 [00:10<00:04, 26.07it/s]/Users/laurabrylka/Documents/Git/FuelProphet/.venv/lib/python3.11/site-packages/sklearn/base.py:439: UserWarning: X does not have valid feature names, but MinMaxScaler was fitted with feature names\n",
      "  warnings.warn(\n",
      "/Users/laurabrylka/Documents/Git/FuelProphet/.venv/lib/python3.11/site-packages/sklearn/base.py:439: UserWarning: X does not have valid feature names, but MinMaxScaler was fitted with feature names\n",
      "  warnings.warn(\n",
      "/Users/laurabrylka/Documents/Git/FuelProphet/.venv/lib/python3.11/site-packages/sklearn/base.py:439: UserWarning: X does not have valid feature names, but MinMaxScaler was fitted with feature names\n",
      "  warnings.warn(\n",
      " 60%|██████    | 174/288 [00:10<00:04, 26.41it/s]/Users/laurabrylka/Documents/Git/FuelProphet/.venv/lib/python3.11/site-packages/sklearn/base.py:439: UserWarning: X does not have valid feature names, but MinMaxScaler was fitted with feature names\n",
      "  warnings.warn(\n",
      "/Users/laurabrylka/Documents/Git/FuelProphet/.venv/lib/python3.11/site-packages/sklearn/base.py:439: UserWarning: X does not have valid feature names, but MinMaxScaler was fitted with feature names\n",
      "  warnings.warn(\n",
      "/Users/laurabrylka/Documents/Git/FuelProphet/.venv/lib/python3.11/site-packages/sklearn/base.py:439: UserWarning: X does not have valid feature names, but MinMaxScaler was fitted with feature names\n",
      "  warnings.warn(\n",
      "/Users/laurabrylka/Documents/Git/FuelProphet/.venv/lib/python3.11/site-packages/sklearn/base.py:439: UserWarning: X does not have valid feature names, but MinMaxScaler was fitted with feature names\n",
      "  warnings.warn(\n",
      " 62%|██████▏   | 178/288 [00:10<00:03, 27.69it/s]/Users/laurabrylka/Documents/Git/FuelProphet/.venv/lib/python3.11/site-packages/sklearn/base.py:439: UserWarning: X does not have valid feature names, but MinMaxScaler was fitted with feature names\n",
      "  warnings.warn(\n",
      "/Users/laurabrylka/Documents/Git/FuelProphet/.venv/lib/python3.11/site-packages/sklearn/base.py:439: UserWarning: X does not have valid feature names, but MinMaxScaler was fitted with feature names\n",
      "  warnings.warn(\n",
      "/Users/laurabrylka/Documents/Git/FuelProphet/.venv/lib/python3.11/site-packages/sklearn/base.py:439: UserWarning: X does not have valid feature names, but MinMaxScaler was fitted with feature names\n",
      "  warnings.warn(\n",
      " 63%|██████▎   | 181/288 [00:10<00:03, 27.97it/s]/Users/laurabrylka/Documents/Git/FuelProphet/.venv/lib/python3.11/site-packages/sklearn/base.py:439: UserWarning: X does not have valid feature names, but MinMaxScaler was fitted with feature names\n",
      "  warnings.warn(\n",
      "/Users/laurabrylka/Documents/Git/FuelProphet/.venv/lib/python3.11/site-packages/sklearn/base.py:439: UserWarning: X does not have valid feature names, but MinMaxScaler was fitted with feature names\n",
      "  warnings.warn(\n",
      "/Users/laurabrylka/Documents/Git/FuelProphet/.venv/lib/python3.11/site-packages/sklearn/base.py:439: UserWarning: X does not have valid feature names, but MinMaxScaler was fitted with feature names\n",
      "  warnings.warn(\n",
      " 64%|██████▍   | 184/288 [00:10<00:03, 28.10it/s]/Users/laurabrylka/Documents/Git/FuelProphet/.venv/lib/python3.11/site-packages/sklearn/base.py:439: UserWarning: X does not have valid feature names, but MinMaxScaler was fitted with feature names\n",
      "  warnings.warn(\n",
      "/Users/laurabrylka/Documents/Git/FuelProphet/.venv/lib/python3.11/site-packages/sklearn/base.py:439: UserWarning: X does not have valid feature names, but MinMaxScaler was fitted with feature names\n",
      "  warnings.warn(\n",
      "/Users/laurabrylka/Documents/Git/FuelProphet/.venv/lib/python3.11/site-packages/sklearn/base.py:439: UserWarning: X does not have valid feature names, but MinMaxScaler was fitted with feature names\n",
      "  warnings.warn(\n",
      "/Users/laurabrylka/Documents/Git/FuelProphet/.venv/lib/python3.11/site-packages/sklearn/base.py:439: UserWarning: X does not have valid feature names, but MinMaxScaler was fitted with feature names\n",
      "  warnings.warn(\n",
      " 65%|██████▌   | 188/288 [00:10<00:03, 28.72it/s]/Users/laurabrylka/Documents/Git/FuelProphet/.venv/lib/python3.11/site-packages/sklearn/base.py:439: UserWarning: X does not have valid feature names, but MinMaxScaler was fitted with feature names\n",
      "  warnings.warn(\n",
      "/Users/laurabrylka/Documents/Git/FuelProphet/.venv/lib/python3.11/site-packages/sklearn/base.py:439: UserWarning: X does not have valid feature names, but MinMaxScaler was fitted with feature names\n",
      "  warnings.warn(\n",
      "/Users/laurabrylka/Documents/Git/FuelProphet/.venv/lib/python3.11/site-packages/sklearn/base.py:439: UserWarning: X does not have valid feature names, but MinMaxScaler was fitted with feature names\n",
      "  warnings.warn(\n",
      " 66%|██████▋   | 191/288 [00:10<00:03, 28.69it/s]/Users/laurabrylka/Documents/Git/FuelProphet/.venv/lib/python3.11/site-packages/sklearn/base.py:439: UserWarning: X does not have valid feature names, but MinMaxScaler was fitted with feature names\n",
      "  warnings.warn(\n",
      "/Users/laurabrylka/Documents/Git/FuelProphet/.venv/lib/python3.11/site-packages/sklearn/base.py:439: UserWarning: X does not have valid feature names, but MinMaxScaler was fitted with feature names\n",
      "  warnings.warn(\n",
      "/Users/laurabrylka/Documents/Git/FuelProphet/.venv/lib/python3.11/site-packages/sklearn/base.py:439: UserWarning: X does not have valid feature names, but MinMaxScaler was fitted with feature names\n",
      "  warnings.warn(\n",
      " 67%|██████▋   | 194/288 [00:10<00:03, 28.63it/s]/Users/laurabrylka/Documents/Git/FuelProphet/.venv/lib/python3.11/site-packages/sklearn/base.py:439: UserWarning: X does not have valid feature names, but MinMaxScaler was fitted with feature names\n",
      "  warnings.warn(\n",
      "/Users/laurabrylka/Documents/Git/FuelProphet/.venv/lib/python3.11/site-packages/sklearn/base.py:439: UserWarning: X does not have valid feature names, but MinMaxScaler was fitted with feature names\n",
      "  warnings.warn(\n",
      "/Users/laurabrylka/Documents/Git/FuelProphet/.venv/lib/python3.11/site-packages/sklearn/base.py:439: UserWarning: X does not have valid feature names, but MinMaxScaler was fitted with feature names\n",
      "  warnings.warn(\n",
      " 68%|██████▊   | 197/288 [00:11<00:03, 27.69it/s]/Users/laurabrylka/Documents/Git/FuelProphet/.venv/lib/python3.11/site-packages/sklearn/base.py:439: UserWarning: X does not have valid feature names, but MinMaxScaler was fitted with feature names\n",
      "  warnings.warn(\n",
      "/Users/laurabrylka/Documents/Git/FuelProphet/.venv/lib/python3.11/site-packages/sklearn/base.py:439: UserWarning: X does not have valid feature names, but MinMaxScaler was fitted with feature names\n",
      "  warnings.warn(\n",
      "/Users/laurabrylka/Documents/Git/FuelProphet/.venv/lib/python3.11/site-packages/sklearn/base.py:439: UserWarning: X does not have valid feature names, but MinMaxScaler was fitted with feature names\n",
      "  warnings.warn(\n",
      " 69%|██████▉   | 200/288 [00:11<00:03, 27.84it/s]/Users/laurabrylka/Documents/Git/FuelProphet/.venv/lib/python3.11/site-packages/sklearn/base.py:439: UserWarning: X does not have valid feature names, but MinMaxScaler was fitted with feature names\n",
      "  warnings.warn(\n",
      "/Users/laurabrylka/Documents/Git/FuelProphet/.venv/lib/python3.11/site-packages/sklearn/base.py:439: UserWarning: X does not have valid feature names, but MinMaxScaler was fitted with feature names\n",
      "  warnings.warn(\n",
      "/Users/laurabrylka/Documents/Git/FuelProphet/.venv/lib/python3.11/site-packages/sklearn/base.py:439: UserWarning: X does not have valid feature names, but MinMaxScaler was fitted with feature names\n",
      "  warnings.warn(\n",
      "/Users/laurabrylka/Documents/Git/FuelProphet/.venv/lib/python3.11/site-packages/sklearn/base.py:439: UserWarning: X does not have valid feature names, but MinMaxScaler was fitted with feature names\n",
      "  warnings.warn(\n",
      " 71%|███████   | 204/288 [00:11<00:02, 28.58it/s]/Users/laurabrylka/Documents/Git/FuelProphet/.venv/lib/python3.11/site-packages/sklearn/base.py:439: UserWarning: X does not have valid feature names, but MinMaxScaler was fitted with feature names\n",
      "  warnings.warn(\n",
      "/Users/laurabrylka/Documents/Git/FuelProphet/.venv/lib/python3.11/site-packages/sklearn/base.py:439: UserWarning: X does not have valid feature names, but MinMaxScaler was fitted with feature names\n",
      "  warnings.warn(\n",
      "/Users/laurabrylka/Documents/Git/FuelProphet/.venv/lib/python3.11/site-packages/sklearn/base.py:439: UserWarning: X does not have valid feature names, but MinMaxScaler was fitted with feature names\n",
      "  warnings.warn(\n",
      " 72%|███████▏  | 207/288 [00:11<00:02, 28.64it/s]/Users/laurabrylka/Documents/Git/FuelProphet/.venv/lib/python3.11/site-packages/sklearn/base.py:439: UserWarning: X does not have valid feature names, but MinMaxScaler was fitted with feature names\n",
      "  warnings.warn(\n",
      "/Users/laurabrylka/Documents/Git/FuelProphet/.venv/lib/python3.11/site-packages/sklearn/base.py:439: UserWarning: X does not have valid feature names, but MinMaxScaler was fitted with feature names\n",
      "  warnings.warn(\n",
      "/Users/laurabrylka/Documents/Git/FuelProphet/.venv/lib/python3.11/site-packages/sklearn/base.py:439: UserWarning: X does not have valid feature names, but MinMaxScaler was fitted with feature names\n",
      "  warnings.warn(\n",
      "/Users/laurabrylka/Documents/Git/FuelProphet/.venv/lib/python3.11/site-packages/sklearn/base.py:439: UserWarning: X does not have valid feature names, but MinMaxScaler was fitted with feature names\n",
      "  warnings.warn(\n",
      " 73%|███████▎  | 211/288 [00:11<00:02, 29.17it/s]/Users/laurabrylka/Documents/Git/FuelProphet/.venv/lib/python3.11/site-packages/sklearn/base.py:439: UserWarning: X does not have valid feature names, but MinMaxScaler was fitted with feature names\n",
      "  warnings.warn(\n",
      "/Users/laurabrylka/Documents/Git/FuelProphet/.venv/lib/python3.11/site-packages/sklearn/base.py:439: UserWarning: X does not have valid feature names, but MinMaxScaler was fitted with feature names\n",
      "  warnings.warn(\n",
      "/Users/laurabrylka/Documents/Git/FuelProphet/.venv/lib/python3.11/site-packages/sklearn/base.py:439: UserWarning: X does not have valid feature names, but MinMaxScaler was fitted with feature names\n",
      "  warnings.warn(\n",
      "/Users/laurabrylka/Documents/Git/FuelProphet/.venv/lib/python3.11/site-packages/sklearn/base.py:439: UserWarning: X does not have valid feature names, but MinMaxScaler was fitted with feature names\n",
      "  warnings.warn(\n",
      " 75%|███████▍  | 215/288 [00:11<00:02, 26.01it/s]/Users/laurabrylka/Documents/Git/FuelProphet/.venv/lib/python3.11/site-packages/sklearn/base.py:439: UserWarning: X does not have valid feature names, but MinMaxScaler was fitted with feature names\n",
      "  warnings.warn(\n",
      "/Users/laurabrylka/Documents/Git/FuelProphet/.venv/lib/python3.11/site-packages/sklearn/base.py:439: UserWarning: X does not have valid feature names, but MinMaxScaler was fitted with feature names\n",
      "  warnings.warn(\n",
      "/Users/laurabrylka/Documents/Git/FuelProphet/.venv/lib/python3.11/site-packages/sklearn/base.py:439: UserWarning: X does not have valid feature names, but MinMaxScaler was fitted with feature names\n",
      "  warnings.warn(\n",
      " 76%|███████▌  | 218/288 [00:11<00:02, 26.57it/s]/Users/laurabrylka/Documents/Git/FuelProphet/.venv/lib/python3.11/site-packages/sklearn/base.py:439: UserWarning: X does not have valid feature names, but MinMaxScaler was fitted with feature names\n",
      "  warnings.warn(\n",
      "/Users/laurabrylka/Documents/Git/FuelProphet/.venv/lib/python3.11/site-packages/sklearn/base.py:439: UserWarning: X does not have valid feature names, but MinMaxScaler was fitted with feature names\n",
      "  warnings.warn(\n",
      "/Users/laurabrylka/Documents/Git/FuelProphet/.venv/lib/python3.11/site-packages/sklearn/base.py:439: UserWarning: X does not have valid feature names, but MinMaxScaler was fitted with feature names\n",
      "  warnings.warn(\n",
      "/Users/laurabrylka/Documents/Git/FuelProphet/.venv/lib/python3.11/site-packages/sklearn/base.py:439: UserWarning: X does not have valid feature names, but MinMaxScaler was fitted with feature names\n",
      "  warnings.warn(\n",
      " 77%|███████▋  | 222/288 [00:11<00:02, 27.67it/s]/Users/laurabrylka/Documents/Git/FuelProphet/.venv/lib/python3.11/site-packages/sklearn/base.py:439: UserWarning: X does not have valid feature names, but MinMaxScaler was fitted with feature names\n",
      "  warnings.warn(\n",
      "/Users/laurabrylka/Documents/Git/FuelProphet/.venv/lib/python3.11/site-packages/sklearn/base.py:439: UserWarning: X does not have valid feature names, but MinMaxScaler was fitted with feature names\n",
      "  warnings.warn(\n",
      "/Users/laurabrylka/Documents/Git/FuelProphet/.venv/lib/python3.11/site-packages/sklearn/base.py:439: UserWarning: X does not have valid feature names, but MinMaxScaler was fitted with feature names\n",
      "  warnings.warn(\n",
      " 78%|███████▊  | 225/288 [00:12<00:02, 28.13it/s]/Users/laurabrylka/Documents/Git/FuelProphet/.venv/lib/python3.11/site-packages/sklearn/base.py:439: UserWarning: X does not have valid feature names, but MinMaxScaler was fitted with feature names\n",
      "  warnings.warn(\n",
      "/Users/laurabrylka/Documents/Git/FuelProphet/.venv/lib/python3.11/site-packages/sklearn/base.py:439: UserWarning: X does not have valid feature names, but MinMaxScaler was fitted with feature names\n",
      "  warnings.warn(\n",
      "/Users/laurabrylka/Documents/Git/FuelProphet/.venv/lib/python3.11/site-packages/sklearn/base.py:439: UserWarning: X does not have valid feature names, but MinMaxScaler was fitted with feature names\n",
      "  warnings.warn(\n",
      " 79%|███████▉  | 228/288 [00:12<00:02, 28.60it/s]/Users/laurabrylka/Documents/Git/FuelProphet/.venv/lib/python3.11/site-packages/sklearn/base.py:439: UserWarning: X does not have valid feature names, but MinMaxScaler was fitted with feature names\n",
      "  warnings.warn(\n",
      "/Users/laurabrylka/Documents/Git/FuelProphet/.venv/lib/python3.11/site-packages/sklearn/base.py:439: UserWarning: X does not have valid feature names, but MinMaxScaler was fitted with feature names\n",
      "  warnings.warn(\n",
      "/Users/laurabrylka/Documents/Git/FuelProphet/.venv/lib/python3.11/site-packages/sklearn/base.py:439: UserWarning: X does not have valid feature names, but MinMaxScaler was fitted with feature names\n",
      "  warnings.warn(\n",
      " 80%|████████  | 231/288 [00:12<00:01, 28.94it/s]/Users/laurabrylka/Documents/Git/FuelProphet/.venv/lib/python3.11/site-packages/sklearn/base.py:439: UserWarning: X does not have valid feature names, but MinMaxScaler was fitted with feature names\n",
      "  warnings.warn(\n",
      "/Users/laurabrylka/Documents/Git/FuelProphet/.venv/lib/python3.11/site-packages/sklearn/base.py:439: UserWarning: X does not have valid feature names, but MinMaxScaler was fitted with feature names\n",
      "  warnings.warn(\n",
      "/Users/laurabrylka/Documents/Git/FuelProphet/.venv/lib/python3.11/site-packages/sklearn/base.py:439: UserWarning: X does not have valid feature names, but MinMaxScaler was fitted with feature names\n",
      "  warnings.warn(\n",
      " 81%|████████▏ | 234/288 [00:12<00:01, 29.13it/s]/Users/laurabrylka/Documents/Git/FuelProphet/.venv/lib/python3.11/site-packages/sklearn/base.py:439: UserWarning: X does not have valid feature names, but MinMaxScaler was fitted with feature names\n",
      "  warnings.warn(\n",
      "/Users/laurabrylka/Documents/Git/FuelProphet/.venv/lib/python3.11/site-packages/sklearn/base.py:439: UserWarning: X does not have valid feature names, but MinMaxScaler was fitted with feature names\n",
      "  warnings.warn(\n",
      "/Users/laurabrylka/Documents/Git/FuelProphet/.venv/lib/python3.11/site-packages/sklearn/base.py:439: UserWarning: X does not have valid feature names, but MinMaxScaler was fitted with feature names\n",
      "  warnings.warn(\n",
      " 82%|████████▏ | 237/288 [00:12<00:01, 29.14it/s]/Users/laurabrylka/Documents/Git/FuelProphet/.venv/lib/python3.11/site-packages/sklearn/base.py:439: UserWarning: X does not have valid feature names, but MinMaxScaler was fitted with feature names\n",
      "  warnings.warn(\n",
      "/Users/laurabrylka/Documents/Git/FuelProphet/.venv/lib/python3.11/site-packages/sklearn/base.py:439: UserWarning: X does not have valid feature names, but MinMaxScaler was fitted with feature names\n",
      "  warnings.warn(\n",
      "/Users/laurabrylka/Documents/Git/FuelProphet/.venv/lib/python3.11/site-packages/sklearn/base.py:439: UserWarning: X does not have valid feature names, but MinMaxScaler was fitted with feature names\n",
      "  warnings.warn(\n",
      " 83%|████████▎ | 240/288 [00:12<00:01, 29.27it/s]/Users/laurabrylka/Documents/Git/FuelProphet/.venv/lib/python3.11/site-packages/sklearn/base.py:439: UserWarning: X does not have valid feature names, but MinMaxScaler was fitted with feature names\n",
      "  warnings.warn(\n",
      "/Users/laurabrylka/Documents/Git/FuelProphet/.venv/lib/python3.11/site-packages/sklearn/base.py:439: UserWarning: X does not have valid feature names, but MinMaxScaler was fitted with feature names\n",
      "  warnings.warn(\n",
      "/Users/laurabrylka/Documents/Git/FuelProphet/.venv/lib/python3.11/site-packages/sklearn/base.py:439: UserWarning: X does not have valid feature names, but MinMaxScaler was fitted with feature names\n",
      "  warnings.warn(\n",
      " 84%|████████▍ | 243/288 [00:12<00:01, 28.44it/s]/Users/laurabrylka/Documents/Git/FuelProphet/.venv/lib/python3.11/site-packages/sklearn/base.py:439: UserWarning: X does not have valid feature names, but MinMaxScaler was fitted with feature names\n",
      "  warnings.warn(\n",
      "/Users/laurabrylka/Documents/Git/FuelProphet/.venv/lib/python3.11/site-packages/sklearn/base.py:439: UserWarning: X does not have valid feature names, but MinMaxScaler was fitted with feature names\n",
      "  warnings.warn(\n",
      "/Users/laurabrylka/Documents/Git/FuelProphet/.venv/lib/python3.11/site-packages/sklearn/base.py:439: UserWarning: X does not have valid feature names, but MinMaxScaler was fitted with feature names\n",
      "  warnings.warn(\n",
      " 85%|████████▌ | 246/288 [00:12<00:01, 27.93it/s]/Users/laurabrylka/Documents/Git/FuelProphet/.venv/lib/python3.11/site-packages/sklearn/base.py:439: UserWarning: X does not have valid feature names, but MinMaxScaler was fitted with feature names\n",
      "  warnings.warn(\n",
      "/Users/laurabrylka/Documents/Git/FuelProphet/.venv/lib/python3.11/site-packages/sklearn/base.py:439: UserWarning: X does not have valid feature names, but MinMaxScaler was fitted with feature names\n",
      "  warnings.warn(\n",
      "/Users/laurabrylka/Documents/Git/FuelProphet/.venv/lib/python3.11/site-packages/sklearn/base.py:439: UserWarning: X does not have valid feature names, but MinMaxScaler was fitted with feature names\n",
      "  warnings.warn(\n",
      " 86%|████████▋ | 249/288 [00:12<00:01, 28.25it/s]/Users/laurabrylka/Documents/Git/FuelProphet/.venv/lib/python3.11/site-packages/sklearn/base.py:439: UserWarning: X does not have valid feature names, but MinMaxScaler was fitted with feature names\n",
      "  warnings.warn(\n",
      "/Users/laurabrylka/Documents/Git/FuelProphet/.venv/lib/python3.11/site-packages/sklearn/base.py:439: UserWarning: X does not have valid feature names, but MinMaxScaler was fitted with feature names\n",
      "  warnings.warn(\n",
      "/Users/laurabrylka/Documents/Git/FuelProphet/.venv/lib/python3.11/site-packages/sklearn/base.py:439: UserWarning: X does not have valid feature names, but MinMaxScaler was fitted with feature names\n",
      "  warnings.warn(\n",
      " 88%|████████▊ | 252/288 [00:12<00:01, 27.89it/s]/Users/laurabrylka/Documents/Git/FuelProphet/.venv/lib/python3.11/site-packages/sklearn/base.py:439: UserWarning: X does not have valid feature names, but MinMaxScaler was fitted with feature names\n",
      "  warnings.warn(\n",
      "/Users/laurabrylka/Documents/Git/FuelProphet/.venv/lib/python3.11/site-packages/sklearn/base.py:439: UserWarning: X does not have valid feature names, but MinMaxScaler was fitted with feature names\n",
      "  warnings.warn(\n",
      "/Users/laurabrylka/Documents/Git/FuelProphet/.venv/lib/python3.11/site-packages/sklearn/base.py:439: UserWarning: X does not have valid feature names, but MinMaxScaler was fitted with feature names\n",
      "  warnings.warn(\n",
      " 89%|████████▊ | 255/288 [00:13<00:01, 27.97it/s]/Users/laurabrylka/Documents/Git/FuelProphet/.venv/lib/python3.11/site-packages/sklearn/base.py:439: UserWarning: X does not have valid feature names, but MinMaxScaler was fitted with feature names\n",
      "  warnings.warn(\n",
      "/Users/laurabrylka/Documents/Git/FuelProphet/.venv/lib/python3.11/site-packages/sklearn/base.py:439: UserWarning: X does not have valid feature names, but MinMaxScaler was fitted with feature names\n",
      "  warnings.warn(\n",
      "/Users/laurabrylka/Documents/Git/FuelProphet/.venv/lib/python3.11/site-packages/sklearn/base.py:439: UserWarning: X does not have valid feature names, but MinMaxScaler was fitted with feature names\n",
      "  warnings.warn(\n",
      " 90%|████████▉ | 258/288 [00:13<00:01, 27.21it/s]/Users/laurabrylka/Documents/Git/FuelProphet/.venv/lib/python3.11/site-packages/sklearn/base.py:439: UserWarning: X does not have valid feature names, but MinMaxScaler was fitted with feature names\n",
      "  warnings.warn(\n",
      "/Users/laurabrylka/Documents/Git/FuelProphet/.venv/lib/python3.11/site-packages/sklearn/base.py:439: UserWarning: X does not have valid feature names, but MinMaxScaler was fitted with feature names\n",
      "  warnings.warn(\n",
      "/Users/laurabrylka/Documents/Git/FuelProphet/.venv/lib/python3.11/site-packages/sklearn/base.py:439: UserWarning: X does not have valid feature names, but MinMaxScaler was fitted with feature names\n",
      "  warnings.warn(\n",
      " 91%|█████████ | 261/288 [00:13<00:01, 23.87it/s]/Users/laurabrylka/Documents/Git/FuelProphet/.venv/lib/python3.11/site-packages/sklearn/base.py:439: UserWarning: X does not have valid feature names, but MinMaxScaler was fitted with feature names\n",
      "  warnings.warn(\n",
      "/Users/laurabrylka/Documents/Git/FuelProphet/.venv/lib/python3.11/site-packages/sklearn/base.py:439: UserWarning: X does not have valid feature names, but MinMaxScaler was fitted with feature names\n",
      "  warnings.warn(\n",
      "/Users/laurabrylka/Documents/Git/FuelProphet/.venv/lib/python3.11/site-packages/sklearn/base.py:439: UserWarning: X does not have valid feature names, but MinMaxScaler was fitted with feature names\n",
      "  warnings.warn(\n",
      " 92%|█████████▏| 264/288 [00:13<00:00, 24.59it/s]/Users/laurabrylka/Documents/Git/FuelProphet/.venv/lib/python3.11/site-packages/sklearn/base.py:439: UserWarning: X does not have valid feature names, but MinMaxScaler was fitted with feature names\n",
      "  warnings.warn(\n",
      "/Users/laurabrylka/Documents/Git/FuelProphet/.venv/lib/python3.11/site-packages/sklearn/base.py:439: UserWarning: X does not have valid feature names, but MinMaxScaler was fitted with feature names\n",
      "  warnings.warn(\n",
      "/Users/laurabrylka/Documents/Git/FuelProphet/.venv/lib/python3.11/site-packages/sklearn/base.py:439: UserWarning: X does not have valid feature names, but MinMaxScaler was fitted with feature names\n",
      "  warnings.warn(\n",
      " 93%|█████████▎| 267/288 [00:13<00:00, 25.97it/s]/Users/laurabrylka/Documents/Git/FuelProphet/.venv/lib/python3.11/site-packages/sklearn/base.py:439: UserWarning: X does not have valid feature names, but MinMaxScaler was fitted with feature names\n",
      "  warnings.warn(\n",
      "/Users/laurabrylka/Documents/Git/FuelProphet/.venv/lib/python3.11/site-packages/sklearn/base.py:439: UserWarning: X does not have valid feature names, but MinMaxScaler was fitted with feature names\n",
      "  warnings.warn(\n",
      "/Users/laurabrylka/Documents/Git/FuelProphet/.venv/lib/python3.11/site-packages/sklearn/base.py:439: UserWarning: X does not have valid feature names, but MinMaxScaler was fitted with feature names\n",
      "  warnings.warn(\n",
      " 94%|█████████▍| 270/288 [00:13<00:00, 18.26it/s]/Users/laurabrylka/Documents/Git/FuelProphet/.venv/lib/python3.11/site-packages/sklearn/base.py:439: UserWarning: X does not have valid feature names, but MinMaxScaler was fitted with feature names\n",
      "  warnings.warn(\n",
      "/Users/laurabrylka/Documents/Git/FuelProphet/.venv/lib/python3.11/site-packages/sklearn/base.py:439: UserWarning: X does not have valid feature names, but MinMaxScaler was fitted with feature names\n",
      "  warnings.warn(\n",
      "/Users/laurabrylka/Documents/Git/FuelProphet/.venv/lib/python3.11/site-packages/sklearn/base.py:439: UserWarning: X does not have valid feature names, but MinMaxScaler was fitted with feature names\n",
      "  warnings.warn(\n",
      " 95%|█████████▍| 273/288 [00:14<00:01,  9.94it/s]/Users/laurabrylka/Documents/Git/FuelProphet/.venv/lib/python3.11/site-packages/sklearn/base.py:439: UserWarning: X does not have valid feature names, but MinMaxScaler was fitted with feature names\n",
      "  warnings.warn(\n",
      "/Users/laurabrylka/Documents/Git/FuelProphet/.venv/lib/python3.11/site-packages/sklearn/base.py:439: UserWarning: X does not have valid feature names, but MinMaxScaler was fitted with feature names\n",
      "  warnings.warn(\n",
      " 95%|█████████▌| 275/288 [00:14<00:01, 10.76it/s]/Users/laurabrylka/Documents/Git/FuelProphet/.venv/lib/python3.11/site-packages/sklearn/base.py:439: UserWarning: X does not have valid feature names, but MinMaxScaler was fitted with feature names\n",
      "  warnings.warn(\n",
      "/Users/laurabrylka/Documents/Git/FuelProphet/.venv/lib/python3.11/site-packages/sklearn/base.py:439: UserWarning: X does not have valid feature names, but MinMaxScaler was fitted with feature names\n",
      "  warnings.warn(\n",
      "/Users/laurabrylka/Documents/Git/FuelProphet/.venv/lib/python3.11/site-packages/sklearn/base.py:439: UserWarning: X does not have valid feature names, but MinMaxScaler was fitted with feature names\n",
      "  warnings.warn(\n",
      " 97%|█████████▋| 278/288 [00:14<00:00, 12.90it/s]/Users/laurabrylka/Documents/Git/FuelProphet/.venv/lib/python3.11/site-packages/sklearn/base.py:439: UserWarning: X does not have valid feature names, but MinMaxScaler was fitted with feature names\n",
      "  warnings.warn(\n",
      "/Users/laurabrylka/Documents/Git/FuelProphet/.venv/lib/python3.11/site-packages/sklearn/base.py:439: UserWarning: X does not have valid feature names, but MinMaxScaler was fitted with feature names\n",
      "  warnings.warn(\n",
      "/Users/laurabrylka/Documents/Git/FuelProphet/.venv/lib/python3.11/site-packages/sklearn/base.py:439: UserWarning: X does not have valid feature names, but MinMaxScaler was fitted with feature names\n",
      "  warnings.warn(\n",
      " 98%|█████████▊| 281/288 [00:14<00:00, 15.49it/s]/Users/laurabrylka/Documents/Git/FuelProphet/.venv/lib/python3.11/site-packages/sklearn/base.py:439: UserWarning: X does not have valid feature names, but MinMaxScaler was fitted with feature names\n",
      "  warnings.warn(\n",
      "/Users/laurabrylka/Documents/Git/FuelProphet/.venv/lib/python3.11/site-packages/sklearn/base.py:439: UserWarning: X does not have valid feature names, but MinMaxScaler was fitted with feature names\n",
      "  warnings.warn(\n",
      "/Users/laurabrylka/Documents/Git/FuelProphet/.venv/lib/python3.11/site-packages/sklearn/base.py:439: UserWarning: X does not have valid feature names, but MinMaxScaler was fitted with feature names\n",
      "  warnings.warn(\n",
      "/Users/laurabrylka/Documents/Git/FuelProphet/.venv/lib/python3.11/site-packages/sklearn/base.py:439: UserWarning: X does not have valid feature names, but MinMaxScaler was fitted with feature names\n",
      "  warnings.warn(\n",
      " 99%|█████████▉| 285/288 [00:14<00:00, 18.99it/s]/Users/laurabrylka/Documents/Git/FuelProphet/.venv/lib/python3.11/site-packages/sklearn/base.py:439: UserWarning: X does not have valid feature names, but MinMaxScaler was fitted with feature names\n",
      "  warnings.warn(\n",
      "/Users/laurabrylka/Documents/Git/FuelProphet/.venv/lib/python3.11/site-packages/sklearn/base.py:439: UserWarning: X does not have valid feature names, but MinMaxScaler was fitted with feature names\n",
      "  warnings.warn(\n",
      "/Users/laurabrylka/Documents/Git/FuelProphet/.venv/lib/python3.11/site-packages/sklearn/base.py:439: UserWarning: X does not have valid feature names, but MinMaxScaler was fitted with feature names\n",
      "  warnings.warn(\n",
      "100%|██████████| 288/288 [00:15<00:00, 19.08it/s]\n"
     ]
    }
   ],
   "source": [
    "# 3. Autoregressive prediction\n",
    "predictions_scaled = []\n",
    "start_index = (test_df_.index.get_loc(test_start))\n",
    " # Starting point (after first 7 days)\n",
    "\n",
    "all_seasonal = test_df_[\"seasonal_component\"].values\n",
    "seasonal_pattern_length = 288  # One day pattern\n",
    "\n",
    "for step in tqdm(range(steps_to_predict)):  # Changed _ to step\n",
    "    input_window = last_window.reshape(1, window_size, -1)  # shape: (1, 288, 2)\n",
    "    \n",
    "    # Predict next step\n",
    "    next_pred_scaled = model.predict(input_window, verbose=0)[0, 0]  # shape: scalar\n",
    "\n",
    "    # Get seasonal component by wrapping around the daily pattern\n",
    "    seasonal_idx = (start_index + step) % seasonal_pattern_length\n",
    "    next_seasonal = all_seasonal[seasonal_idx]\n",
    "    \n",
    "    # Create properly formatted input for scaler\n",
    "    next_seasonal_scaled = scaler.transform([[0, next_seasonal]])[0, 1]\n",
    "    \n",
    "    next_input = np.zeros((2,))\n",
    "    next_input[target_index] = next_pred_scaled\n",
    "    next_input[1 - target_index] = next_seasonal_scaled\n",
    "\n",
    "    # Append prediction and slide window\n",
    "    predictions_scaled.append(next_input[target_index])\n",
    "    last_window = np.vstack([last_window[1:], next_input])"
   ]
  },
  {
   "cell_type": "code",
   "execution_count": 56,
   "id": "69e21fe7",
   "metadata": {},
   "outputs": [],
   "source": [
    "# First, inverse scale the predictions\n",
    "predictions_inv = inverse_scale(np.array(predictions_scaled).reshape(-1, 1), \n",
    "                              scaled_train, \n",
    "                              target_index=0, \n",
    "                              scaler=scaler)\n",
    "\n",
    "# Create DataFrame with inverse-scaled predictions\n",
    "n_predictions = len(predictions_inv)\n",
    "start_datetime = pd.to_datetime(\"2025-05-24 22:00\")\n",
    "time_index = pd.date_range(start=start_datetime, periods=n_predictions, freq=\"5min\")\n",
    "\n",
    "y_pred_df = pd.DataFrame({\n",
    "    \"datetime\": time_index,\n",
    "    \"Predicted E5\": predictions_inv\n",
    "})\n",
    "\n",
    "y_pred_df.set_index('datetime', inplace=True)"
   ]
  },
  {
   "cell_type": "code",
   "execution_count": 57,
   "id": "026606fe",
   "metadata": {},
   "outputs": [
    {
     "data": {
      "image/png": "[encoded data removed]",
      "text/plain": [
       "<Figure size 1400x500 with 1 Axes>"
      ]
     },
     "metadata": {},
     "output_type": "display_data"
    }
   ],
   "source": [
    "# Plot Test\n",
    "plt.figure(figsize=(14, 5))\n",
    "plt.plot(test_df_['e5'].iloc[-1152:], label='True Test E5', drawstyle='steps-post')\n",
    "plt.plot(y_pred_df, label='Predicted E5')\n",
    "plt.title(\"Test Set - True\")\n",
    "plt.xlabel(\"Time Step\")\n",
    "plt.ylabel(\"E5 Price\")\n",
    "plt.legend()\n",
    "plt.grid(True)\n",
    "plt.show()"
   ]
  }
 ],
 "metadata": {
  "kernelspec": {
   "display_name": ".venv",
   "language": "python",
   "name": "python3"
  },
  "language_info": {
   "codemirror_mode": {
    "name": "ipython",
    "version": 3
   },
   "file_extension": ".py",
   "mimetype": "text/x-python",
   "name": "python",
   "nbconvert_exporter": "python",
   "pygments_lexer": "ipython3",
   "version": "3.11.3"
  }
 },
 "nbformat": 4,
 "nbformat_minor": 5
}
