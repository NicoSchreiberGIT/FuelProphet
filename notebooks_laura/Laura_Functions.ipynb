{
 "cells": [
  {
   "cell_type": "markdown",
   "id": "fe989c08",
   "metadata": {},
   "source": [
    "# Libraries"
   ]
  },
  {
   "cell_type": "code",
   "execution_count": 1,
   "id": "715707b3",
   "metadata": {},
   "outputs": [],
   "source": [
    "import sys\n",
    "import os\n",
    "import inspect\n",
    "import pandas as pd\n",
    "# Resolves one level up to an absolute path \n",
    "# And adds this directory to sys.path\n",
    "sys.path.append(os.path.abspath(\"..\")) "
   ]
  },
  {
   "cell_type": "markdown",
   "id": "7b65d143",
   "metadata": {},
   "source": [
    "***"
   ]
  },
  {
   "cell_type": "markdown",
   "id": "df6725ec",
   "metadata": {},
   "source": [
    "# Data_cleaning.py"
   ]
  },
  {
   "cell_type": "code",
   "execution_count": 2,
   "id": "26e8002a",
   "metadata": {},
   "outputs": [],
   "source": [
    "import functions_laura.Data_cleaning as dc"
   ]
  },
  {
   "cell_type": "markdown",
   "id": "ca656700",
   "metadata": {},
   "source": [
    "We look at all functions in the script"
   ]
  },
  {
   "cell_type": "code",
   "execution_count": null,
   "id": "97b7278e",
   "metadata": {},
   "outputs": [
    {
     "data": {
      "text/plain": [
       "['clean_stations_file',\n",
       " 'concatenate_station_info_city',\n",
       " 'concatenate_station_info_zipcode',\n",
       " 'data_cleaning_datetime',\n",
       " 'datetime_format',\n",
       " 'extract_brand',\n",
       " 'get_clean_brand']"
      ]
     },
     "execution_count": 9,
     "metadata": {},
     "output_type": "execute_result"
    }
   ],
   "source": [
    "function_names = [\n",
    "    name for name, func in inspect.getmembers(dc, inspect.isfunction)\n",
    "    if func.__module__ == dc.__name__\n",
    "]\n",
    "function_names"
   ]
  },
  {
   "cell_type": "markdown",
   "id": "34a62ae1",
   "metadata": {},
   "source": [
    "`clean_stations_file()`\n",
    "\n",
    "is used to clean the stations file and is a part of the \n",
    "\n",
    "`concatenate_station_info_city`and `concatenate_station_info_zipcode`\n",
    "\n",
    "but can be used individually"
   ]
  },
  {
   "cell_type": "code",
   "execution_count": null,
   "id": "25c80e1c",
   "metadata": {},
   "outputs": [],
   "source": [
    "df = dc.clean_stations_file('data/stations.csv')"
   ]
  },
  {
   "cell_type": "markdown",
   "id": "6a977f6e",
   "metadata": {},
   "source": [
    "`concatenate_station_info_city`and `concatenate_station_info_zipcode`\n",
    "\n",
    "are used to create the raw data per city"
   ]
  },
  {
   "cell_type": "code",
   "execution_count": null,
   "id": "fc302085",
   "metadata": {},
   "outputs": [],
   "source": [
    "df_city = dc.concatenate_station_info_city('data/stations.csv', 'data/prices', 'city_name')\n",
    "df_zip = dc.concatenate_station_info_zipcode('data/stations.csv', 'data/prices', 'zipcode')"
   ]
  },
  {
   "cell_type": "markdown",
   "id": "d540f660",
   "metadata": {},
   "source": [
    "`get_clean_brand`extracts a clean brand name from the brand or the name column.\n",
    "The recognized brands are: \n",
    "\n",
    "aral, shell, esso, total, avia, jet, star, agip, raiffeisen, bft, oil!, sb\n",
    "\n",
    "When the brand does not fit one of the brands in the list, then it is categorized as \"other\"."
   ]
  },
  {
   "cell_type": "code",
   "execution_count": null,
   "id": "c6ee56dc",
   "metadata": {},
   "outputs": [],
   "source": [
    "df['brand_clean'] =df.apply(dc.extract_brand, axis=1)"
   ]
  },
  {
   "cell_type": "markdown",
   "id": "c3981cc5",
   "metadata": {},
   "source": [
    "`datetime_format` created a datetime column from the date column without the timezone info"
   ]
  },
  {
   "cell_type": "code",
   "execution_count": null,
   "id": "369fdcc0",
   "metadata": {},
   "outputs": [],
   "source": [
    "df = dc.datetime_format(df)"
   ]
  },
  {
   "cell_type": "markdown",
   "id": "0e29e600",
   "metadata": {},
   "source": [
    "`data_cleaning_datetime`combines the datetime format and does some basic cleaning:\n",
    "* removes entries with missing values\n",
    "* makes a datetime column\n",
    "\n",
    "When `drop = True`\n",
    "* drops the columns: 'dieselchange', 'e5change', 'e10change', 'date', 'openingtimes_json'"
   ]
  },
  {
   "cell_type": "code",
   "execution_count": null,
   "id": "8b8cdb7c",
   "metadata": {},
   "outputs": [],
   "source": [
    "df = dc.data_cleaning_datetime(df, drop=True)"
   ]
  },
  {
   "cell_type": "markdown",
   "id": "c64cefc1",
   "metadata": {},
   "source": [
    "***\n",
    "# Plotting"
   ]
  },
  {
   "cell_type": "code",
   "execution_count": 2,
   "id": "1a0bb153",
   "metadata": {},
   "outputs": [
    {
     "data": {
      "text/plain": [
       "['api_map',\n",
       " 'average_prices',\n",
       " 'daily_pattern',\n",
       " 'one_station',\n",
       " 'print_scattermap',\n",
       " 'print_scattermap_test']"
      ]
     },
     "execution_count": 2,
     "metadata": {},
     "output_type": "execute_result"
    }
   ],
   "source": [
    "import functions_laura.Plotting as plot\n",
    "\n",
    "function_names = [\n",
    "    name for name, func in inspect.getmembers(plot, inspect.isfunction)\n",
    "    if func.__module__ == plot.__name__\n",
    "]\n",
    "function_names"
   ]
  },
  {
   "cell_type": "markdown",
   "id": "b367091a",
   "metadata": {},
   "source": [
    "`print_scattermap` prints a plotly scatterap of locations. There is the option to use brands or not."
   ]
  },
  {
   "cell_type": "code",
   "execution_count": null,
   "id": "4e202481",
   "metadata": {},
   "outputs": [],
   "source": [
    "fig = plot.print_scattermap(df) # without branding\n",
    "fig = plot.print_scattermap(df, brand=True) # with branding\n",
    "fig.show()"
   ]
  }
 ],
 "metadata": {
  "kernelspec": {
   "display_name": ".venv",
   "language": "python",
   "name": "python3"
  },
  "language_info": {
   "codemirror_mode": {
    "name": "ipython",
    "version": 3
   },
   "file_extension": ".py",
   "mimetype": "text/x-python",
   "name": "python",
   "nbconvert_exporter": "python",
   "pygments_lexer": "ipython3",
   "version": "3.11.3"
  }
 },
 "nbformat": 4,
 "nbformat_minor": 5
}
