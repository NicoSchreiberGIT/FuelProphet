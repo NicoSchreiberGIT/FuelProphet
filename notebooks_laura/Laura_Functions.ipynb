{
 "cells": [
  {
   "cell_type": "markdown",
   "id": "fe989c08",
   "metadata": {},
   "source": [
    "# Libraries"
   ]
  },
  {
   "cell_type": "code",
   "execution_count": 1,
   "id": "715707b3",
   "metadata": {},
   "outputs": [],
   "source": [
    "import sys\n",
    "import os\n",
    "import inspect\n",
    "import pandas as pd\n",
    "# Resolves one level up to an absolute path \n",
    "# And adds this directory to sys.path\n",
    "sys.path.append(os.path.abspath(\"..\")) "
   ]
  },
  {
   "cell_type": "markdown",
   "id": "7b65d143",
   "metadata": {},
   "source": [
    "***"
   ]
  },
  {
   "cell_type": "markdown",
   "id": "df6725ec",
   "metadata": {},
   "source": [
    "# Data_cleaning.py"
   ]
  },
  {
   "cell_type": "code",
   "execution_count": 2,
   "id": "26e8002a",
   "metadata": {},
   "outputs": [],
   "source": [
    "import functions_laura.Data_cleaning as dc"
   ]
  },
  {
   "cell_type": "markdown",
   "id": "ca656700",
   "metadata": {},
   "source": [
    "We look at all functions in the script"
   ]
  },
  {
   "cell_type": "code",
   "execution_count": null,
   "id": "97b7278e",
   "metadata": {},
   "outputs": [
    {
     "data": {
      "text/plain": [
       "['clean_stations_file',\n",
       " 'concatenate_station_info_city',\n",
       " 'concatenate_station_info_zipcode',\n",
       " 'data_cleaning_datetime',\n",
       " 'datetime_format',\n",
       " 'extract_brand',\n",
       " 'get_clean_brand']"
      ]
     },
     "execution_count": 9,
     "metadata": {},
     "output_type": "execute_result"
    }
   ],
   "source": [
    "function_names = [\n",
    "    name for name, func in inspect.getmembers(dc, inspect.isfunction)\n",
    "    if func.__module__ == dc.__name__\n",
    "]\n",
    "function_names"
   ]
  },
  {
   "cell_type": "markdown",
   "id": "34a62ae1",
   "metadata": {},
   "source": [
    "`clean_stations_file()`\n",
    "\n",
    "is used to clean the stations file and is a part of the \n",
    "\n",
    "`concatenate_station_info_city`and `concatenate_station_info_zipcode`\n",
    "\n",
    "but can be used individually"
   ]
  },
  {
   "cell_type": "code",
   "execution_count": null,
   "id": "25c80e1c",
   "metadata": {},
   "outputs": [],
   "source": [
    "df = dc.clean_stations_file('data/stations.csv')"
   ]
  },
  {
   "cell_type": "markdown",
   "id": "6a977f6e",
   "metadata": {},
   "source": [
    "`concatenate_station_info_city`and `concatenate_station_info_zipcode`\n",
    "\n",
    "are used to create the raw data per city"
   ]
  },
  {
   "cell_type": "code",
   "execution_count": null,
   "id": "fc302085",
   "metadata": {},
   "outputs": [],
   "source": [
    "df_city = dc.concatenate_station_info_city('data/stations.csv', 'data/prices', 'city_name')\n",
    "df_zip = dc.concatenate_station_info_zipcode('data/stations.csv', 'data/prices', 'zipcode')"
   ]
  },
  {
   "cell_type": "markdown",
   "id": "d540f660",
   "metadata": {},
   "source": [
    "`get_clean_brand`extracts a clean brand name from the brand or the name column.\n",
    "The recognized brands are: \n",
    "\n",
    "aral, shell, esso, total, avia, jet, star, agip, raiffeisen, bft, oil!, sb\n",
    "\n",
    "When the brand does not fit one of the brands in the list, then it is categorized as \"other\"."
   ]
  },
  {
   "cell_type": "code",
   "execution_count": 3,
   "id": "2893eaf4",
   "metadata": {},
   "outputs": [],
   "source": [
    "df = pd.read_parquet('../data/fuerstenwalde_raw.parquet')"
   ]
  },
  {
   "cell_type": "code",
   "execution_count": 4,
   "id": "c6ee56dc",
   "metadata": {},
   "outputs": [],
   "source": [
    "df['brand_clean'] =df.apply(dc.extract_brand, axis=1)"
   ]
  },
  {
   "cell_type": "code",
   "execution_count": 4,
   "id": "d1ce5a5c",
   "metadata": {},
   "outputs": [],
   "source": [
    "df = df[df['e5'].notna()]"
   ]
  },
  {
   "cell_type": "markdown",
   "id": "c3981cc5",
   "metadata": {},
   "source": [
    "`datetime_format` created a datetime column from the date column without the timezone info"
   ]
  },
  {
   "cell_type": "markdown",
   "id": "0e29e600",
   "metadata": {},
   "source": [
    "`data_cleaning_datetime`combines the datetime format and does some basic cleaning:\n",
    "* removes entries with missing values\n",
    "* makes a datetime column\n",
    "\n",
    "When `drop = True`\n",
    "* drops the columns: 'dieselchange', 'e5change', 'e10change', 'date', 'openingtimes_json'"
   ]
  },
  {
   "cell_type": "code",
   "execution_count": 5,
   "id": "8b8cdb7c",
   "metadata": {},
   "outputs": [],
   "source": [
    "df = dc.data_cleaning_datetime(df, drop=True)"
   ]
  },
  {
   "cell_type": "code",
   "execution_count": 6,
   "id": "c6d6d062",
   "metadata": {},
   "outputs": [
    {
     "data": {
      "text/html": [
       "<div>\n",
       "<style scoped>\n",
       "    .dataframe tbody tr th:only-of-type {\n",
       "        vertical-align: middle;\n",
       "    }\n",
       "\n",
       "    .dataframe tbody tr th {\n",
       "        vertical-align: top;\n",
       "    }\n",
       "\n",
       "    .dataframe thead th {\n",
       "        text-align: right;\n",
       "    }\n",
       "</style>\n",
       "<table border=\"1\" class=\"dataframe\">\n",
       "  <thead>\n",
       "    <tr style=\"text-align: right;\">\n",
       "      <th></th>\n",
       "      <th>station_uuid</th>\n",
       "      <th>name</th>\n",
       "      <th>brand</th>\n",
       "      <th>street</th>\n",
       "      <th>house_number</th>\n",
       "      <th>post_code</th>\n",
       "      <th>city</th>\n",
       "      <th>latitude</th>\n",
       "      <th>longitude</th>\n",
       "      <th>first_active</th>\n",
       "      <th>openingtimes_json</th>\n",
       "      <th>date</th>\n",
       "      <th>diesel</th>\n",
       "      <th>e5</th>\n",
       "      <th>e10</th>\n",
       "      <th>dieselchange</th>\n",
       "      <th>e5change</th>\n",
       "      <th>e10change</th>\n",
       "      <th>datetime</th>\n",
       "    </tr>\n",
       "  </thead>\n",
       "  <tbody>\n",
       "    <tr>\n",
       "      <th>0</th>\n",
       "      <td>f97bcef8-619c-4ac4-bf9d-35995dea884e</td>\n",
       "      <td>Aral Tankstelle</td>\n",
       "      <td>ARAL</td>\n",
       "      <td>Triftstraße</td>\n",
       "      <td>36</td>\n",
       "      <td>15517</td>\n",
       "      <td>Fürstenwalde</td>\n",
       "      <td>52.378353</td>\n",
       "      <td>14.073492</td>\n",
       "      <td>2014-03-18 16:45:31+01</td>\n",
       "      <td>{}</td>\n",
       "      <td>2023-01-01 06:31:07+01</td>\n",
       "      <td>1.999</td>\n",
       "      <td>1.879</td>\n",
       "      <td>1.819</td>\n",
       "      <td>1.0</td>\n",
       "      <td>0.0</td>\n",
       "      <td>0.0</td>\n",
       "      <td>2023-01-01 06:31:07</td>\n",
       "    </tr>\n",
       "    <tr>\n",
       "      <th>1</th>\n",
       "      <td>f97bcef8-619c-4ac4-bf9d-35995dea884e</td>\n",
       "      <td>Aral Tankstelle</td>\n",
       "      <td>ARAL</td>\n",
       "      <td>Triftstraße</td>\n",
       "      <td>36</td>\n",
       "      <td>15517</td>\n",
       "      <td>Fürstenwalde</td>\n",
       "      <td>52.378353</td>\n",
       "      <td>14.073492</td>\n",
       "      <td>2014-03-18 16:45:31+01</td>\n",
       "      <td>{}</td>\n",
       "      <td>2023-01-01 08:01:08+01</td>\n",
       "      <td>1.859</td>\n",
       "      <td>1.849</td>\n",
       "      <td>1.789</td>\n",
       "      <td>1.0</td>\n",
       "      <td>1.0</td>\n",
       "      <td>1.0</td>\n",
       "      <td>2023-01-01 08:01:08</td>\n",
       "    </tr>\n",
       "    <tr>\n",
       "      <th>2</th>\n",
       "      <td>f97bcef8-619c-4ac4-bf9d-35995dea884e</td>\n",
       "      <td>Aral Tankstelle</td>\n",
       "      <td>ARAL</td>\n",
       "      <td>Triftstraße</td>\n",
       "      <td>36</td>\n",
       "      <td>15517</td>\n",
       "      <td>Fürstenwalde</td>\n",
       "      <td>52.378353</td>\n",
       "      <td>14.073492</td>\n",
       "      <td>2014-03-18 16:45:31+01</td>\n",
       "      <td>{}</td>\n",
       "      <td>2023-01-01 08:05:08+01</td>\n",
       "      <td>1.839</td>\n",
       "      <td>1.829</td>\n",
       "      <td>1.769</td>\n",
       "      <td>1.0</td>\n",
       "      <td>1.0</td>\n",
       "      <td>1.0</td>\n",
       "      <td>2023-01-01 08:05:08</td>\n",
       "    </tr>\n",
       "    <tr>\n",
       "      <th>3</th>\n",
       "      <td>f97bcef8-619c-4ac4-bf9d-35995dea884e</td>\n",
       "      <td>Aral Tankstelle</td>\n",
       "      <td>ARAL</td>\n",
       "      <td>Triftstraße</td>\n",
       "      <td>36</td>\n",
       "      <td>15517</td>\n",
       "      <td>Fürstenwalde</td>\n",
       "      <td>52.378353</td>\n",
       "      <td>14.073492</td>\n",
       "      <td>2014-03-18 16:45:31+01</td>\n",
       "      <td>{}</td>\n",
       "      <td>2023-01-01 08:40:13+01</td>\n",
       "      <td>1.839</td>\n",
       "      <td>1.819</td>\n",
       "      <td>1.759</td>\n",
       "      <td>0.0</td>\n",
       "      <td>1.0</td>\n",
       "      <td>1.0</td>\n",
       "      <td>2023-01-01 08:40:13</td>\n",
       "    </tr>\n",
       "    <tr>\n",
       "      <th>4</th>\n",
       "      <td>f97bcef8-619c-4ac4-bf9d-35995dea884e</td>\n",
       "      <td>Aral Tankstelle</td>\n",
       "      <td>ARAL</td>\n",
       "      <td>Triftstraße</td>\n",
       "      <td>36</td>\n",
       "      <td>15517</td>\n",
       "      <td>Fürstenwalde</td>\n",
       "      <td>52.378353</td>\n",
       "      <td>14.073492</td>\n",
       "      <td>2014-03-18 16:45:31+01</td>\n",
       "      <td>{}</td>\n",
       "      <td>2023-01-01 09:48:09+01</td>\n",
       "      <td>1.899</td>\n",
       "      <td>1.879</td>\n",
       "      <td>1.819</td>\n",
       "      <td>1.0</td>\n",
       "      <td>1.0</td>\n",
       "      <td>1.0</td>\n",
       "      <td>2023-01-01 09:48:09</td>\n",
       "    </tr>\n",
       "  </tbody>\n",
       "</table>\n",
       "</div>"
      ],
      "text/plain": [
       "                           station_uuid             name brand        street  \\\n",
       "0  f97bcef8-619c-4ac4-bf9d-35995dea884e  Aral Tankstelle  ARAL  Triftstraße    \n",
       "1  f97bcef8-619c-4ac4-bf9d-35995dea884e  Aral Tankstelle  ARAL  Triftstraße    \n",
       "2  f97bcef8-619c-4ac4-bf9d-35995dea884e  Aral Tankstelle  ARAL  Triftstraße    \n",
       "3  f97bcef8-619c-4ac4-bf9d-35995dea884e  Aral Tankstelle  ARAL  Triftstraße    \n",
       "4  f97bcef8-619c-4ac4-bf9d-35995dea884e  Aral Tankstelle  ARAL  Triftstraße    \n",
       "\n",
       "  house_number post_code          city   latitude  longitude  \\\n",
       "0           36     15517  Fürstenwalde  52.378353  14.073492   \n",
       "1           36     15517  Fürstenwalde  52.378353  14.073492   \n",
       "2           36     15517  Fürstenwalde  52.378353  14.073492   \n",
       "3           36     15517  Fürstenwalde  52.378353  14.073492   \n",
       "4           36     15517  Fürstenwalde  52.378353  14.073492   \n",
       "\n",
       "             first_active openingtimes_json                    date  diesel  \\\n",
       "0  2014-03-18 16:45:31+01                {}  2023-01-01 06:31:07+01   1.999   \n",
       "1  2014-03-18 16:45:31+01                {}  2023-01-01 08:01:08+01   1.859   \n",
       "2  2014-03-18 16:45:31+01                {}  2023-01-01 08:05:08+01   1.839   \n",
       "3  2014-03-18 16:45:31+01                {}  2023-01-01 08:40:13+01   1.839   \n",
       "4  2014-03-18 16:45:31+01                {}  2023-01-01 09:48:09+01   1.899   \n",
       "\n",
       "      e5    e10  dieselchange  e5change  e10change            datetime  \n",
       "0  1.879  1.819           1.0       0.0        0.0 2023-01-01 06:31:07  \n",
       "1  1.849  1.789           1.0       1.0        1.0 2023-01-01 08:01:08  \n",
       "2  1.829  1.769           1.0       1.0        1.0 2023-01-01 08:05:08  \n",
       "3  1.819  1.759           0.0       1.0        1.0 2023-01-01 08:40:13  \n",
       "4  1.879  1.819           1.0       1.0        1.0 2023-01-01 09:48:09  "
      ]
     },
     "execution_count": 6,
     "metadata": {},
     "output_type": "execute_result"
    }
   ],
   "source": [
    "df.head()"
   ]
  },
  {
   "cell_type": "markdown",
   "id": "c64cefc1",
   "metadata": {},
   "source": [
    "***\n",
    "# Plotting"
   ]
  },
  {
   "cell_type": "code",
   "execution_count": 7,
   "id": "1a0bb153",
   "metadata": {},
   "outputs": [
    {
     "data": {
      "text/plain": [
       "['api_map',\n",
       " 'average_prices',\n",
       " 'daily_pattern',\n",
       " 'decompose_and_plot',\n",
       " 'one_station',\n",
       " 'print_scattermap']"
      ]
     },
     "execution_count": 7,
     "metadata": {},
     "output_type": "execute_result"
    }
   ],
   "source": [
    "import functions_laura.Plotting as plot\n",
    "\n",
    "function_names = [\n",
    "    name for name, func in inspect.getmembers(plot, inspect.isfunction)\n",
    "    if func.__module__ == plot.__name__\n",
    "]\n",
    "function_names"
   ]
  },
  {
   "cell_type": "markdown",
   "id": "b367091a",
   "metadata": {},
   "source": [
    "`print_scattermap` prints a plotly scatterap of locations. There is the option to use brands or not."
   ]
  },
  {
   "cell_type": "code",
   "execution_count": null,
   "id": "4e202481",
   "metadata": {},
   "outputs": [],
   "source": [
    "fig = plot.print_scattermap(df) # without branding\n",
    "fig = plot.print_scattermap(df, brand=True) # with branding\n",
    "fig.show()"
   ]
  },
  {
   "cell_type": "code",
   "execution_count": 9,
   "id": "e151f5cd",
   "metadata": {},
   "outputs": [],
   "source": [
    "fig = plot.daily_pattern(df)"
   ]
  },
  {
   "cell_type": "code",
   "execution_count": 11,
   "id": "294ec82b",
   "metadata": {},
   "outputs": [
    {
     "data": {
      "application/vnd.plotly.v1+json": {
       "config": {
        "plotlyServerURL": "https://plot.ly"
       },
       "data": [
        {
         "hovertemplate": "time_of_day=%{x}<br>e5=%{y}<extra></extra>",
         "legendgroup": "",
         "line": {
          "color": "#636efa",
          "dash": "solid"
         },
         "marker": {
          "symbol": "circle"
         },
         "mode": "lines",
         "name": "",
         "orientation": "v",
         "showlegend": false,
         "type": "scatter",
         "x": [
          "00:00",
          "00:05",
          "00:10",
          "00:15",
          "00:20",
          "00:25",
          "00:30",
          "00:35",
          "00:40",
          "00:45",
          "00:50",
          "00:55",
          "01:00",
          "01:05",
          "01:10",
          "01:15",
          "01:20",
          "01:25",
          "01:30",
          "01:35",
          "01:40",
          "01:45",
          "01:50",
          "01:55",
          "02:00",
          "02:05",
          "02:10",
          "02:15",
          "02:20",
          "02:25",
          "02:30",
          "02:35",
          "02:40",
          "02:45",
          "02:50",
          "02:55",
          "03:00",
          "03:05",
          "03:10",
          "03:15",
          "03:20",
          "03:25",
          "03:30",
          "03:35",
          "03:40",
          "03:45",
          "03:50",
          "03:55",
          "04:00",
          "04:05",
          "04:10",
          "04:15",
          "04:20",
          "04:25",
          "04:30",
          "04:35",
          "04:40",
          "04:45",
          "04:50",
          "04:55",
          "05:00",
          "05:05",
          "05:10",
          "05:15",
          "05:20",
          "05:25",
          "05:30",
          "05:35",
          "05:40",
          "05:45",
          "05:50",
          "05:55",
          "06:00",
          "06:05",
          "06:10",
          "06:15",
          "06:20",
          "06:25",
          "06:30",
          "06:35",
          "06:40",
          "06:45",
          "06:50",
          "06:55",
          "07:00",
          "07:05",
          "07:10",
          "07:15",
          "07:20",
          "07:25",
          "07:30",
          "07:35",
          "07:40",
          "07:45",
          "07:50",
          "07:55",
          "08:00",
          "08:05",
          "08:10",
          "08:15",
          "08:20",
          "08:25",
          "08:30",
          "08:35",
          "08:40",
          "08:45",
          "08:50",
          "08:55",
          "09:00",
          "09:05",
          "09:10",
          "09:15",
          "09:20",
          "09:25",
          "09:30",
          "09:35",
          "09:40",
          "09:45",
          "09:50",
          "09:55",
          "10:00",
          "10:05",
          "10:10",
          "10:15",
          "10:20",
          "10:25",
          "10:30",
          "10:35",
          "10:40",
          "10:45",
          "10:50",
          "10:55",
          "11:00",
          "11:05",
          "11:10",
          "11:15",
          "11:20",
          "11:25",
          "11:30",
          "11:35",
          "11:40",
          "11:45",
          "11:50",
          "11:55",
          "12:00",
          "12:05",
          "12:10",
          "12:15",
          "12:20",
          "12:25",
          "12:30",
          "12:35",
          "12:40",
          "12:45",
          "12:50",
          "12:55",
          "13:00",
          "13:05",
          "13:10",
          "13:15",
          "13:20",
          "13:25",
          "13:30",
          "13:35",
          "13:40",
          "13:45",
          "13:50",
          "13:55",
          "14:00",
          "14:05",
          "14:10",
          "14:15",
          "14:20",
          "14:25",
          "14:30",
          "14:35",
          "14:40",
          "14:45",
          "14:50",
          "14:55",
          "15:00",
          "15:05",
          "15:10",
          "15:15",
          "15:20",
          "15:25",
          "15:30",
          "15:35",
          "15:40",
          "15:45",
          "15:50",
          "15:55",
          "16:00",
          "16:05",
          "16:10",
          "16:15",
          "16:20",
          "16:25",
          "16:30",
          "16:35",
          "16:40",
          "16:45",
          "16:50",
          "16:55",
          "17:00",
          "17:05",
          "17:10",
          "17:15",
          "17:20",
          "17:25",
          "17:30",
          "17:35",
          "17:40",
          "17:45",
          "17:50",
          "17:55",
          "18:00",
          "18:05",
          "18:10",
          "18:15",
          "18:20",
          "18:25",
          "18:30",
          "18:35",
          "18:40",
          "18:45",
          "18:50",
          "18:55",
          "19:00",
          "19:05",
          "19:10",
          "19:15",
          "19:20",
          "19:25",
          "19:30",
          "19:35",
          "19:40",
          "19:45",
          "19:50",
          "19:55",
          "20:00",
          "20:05",
          "20:10",
          "20:15",
          "20:20",
          "20:25",
          "20:30",
          "20:35",
          "20:40",
          "20:45",
          "20:50",
          "20:55",
          "21:00",
          "21:05",
          "21:10",
          "21:15",
          "21:20",
          "21:25",
          "21:30",
          "21:35",
          "21:40",
          "21:45",
          "21:50",
          "21:55",
          "22:00",
          "22:05",
          "22:10",
          "22:15",
          "22:20",
          "22:25",
          "22:30",
          "22:35",
          "22:40",
          "22:45",
          "22:50",
          "22:55",
          "23:00",
          "23:05",
          "23:10",
          "23:15",
          "23:20",
          "23:25",
          "23:30",
          "23:35",
          "23:40",
          "23:45",
          "23:50",
          "23:55"
         ],
         "xaxis": "x",
         "y": {
          "bdata": "LoFi+C7t/D/BAstoRe38P9VBIGRR7fw/7nxT11vt/D8PDDUhWu38Pw8MNSFa7fw/Dww1IVrt/D8PDDUhWu38Pw8MNSFa7fw/NWWYNSnu/D+ozxrO0P38P8Crg/Bv/vw/IeJFUYv+/D+Gto6Vlf78P1BfIB6q/vw/552NhLn+/D/nnY2Euf78P+edjYS5/vw/552NhLn+/D8YCLKmvv78P+P/BqHK/vw/4/8Gocr+/D9NwZk6u/78P03BmTq7/vw/TcGZOrv+/D9NwZk6u/78P03BmTq7/vw/TcGZOrv+/D9NwZk6u/78P03BmTq7/vw/TcGZOrv+/D/lTsoSwv78P+VOyhLC/vw/5U7KEsL+/D/lTsoSwv78P+VOyhLC/vw/5U7KEsL+/D/lTsoSwv78P+VOyhLC/vw/5U7KEsL+/D/lTsoSwv78P+VOyhLC/vw/F7nuNMf+/D8Xue40x/78Pxe57jTH/vw/F7nuNMf+/D8Xue40x/78Pxe57jTH/vw/F7nuNMf+/D8Xue40x/78Pxe57jTH/vw/F7nuNMf+/D8Xue40x/78Pxe57jTH/vw/F7nuNMf+/D8Xue40x/78Pxe57jTH/vw/F7nuNMf+/D8Xue40x/78P7QzaWK0/vw/tDNpYrT+/D/2Ql8FXxX9PzpQe5+PA/0/DgbOhjED/T/2j8LywgP9P2pnvKjEA/0/ame8qMQD/T+BuMg8wQP9P2pnvKjEA/0/ame8qMQD/T9qZ7yoxAP9P2pnvKjEA/0/C+HOhr8D/T8L4c6GvwP9P3BHqdTrBP0/cEep1OsE/T86UddAMAX9P+eUaOlJBf0/2weBM0gF/T/wTPORh5H9P1yQfUMhlf0/kyHC7pmo/T8prQVvYMj9P8L9yBfU0f0/dQWs5Kfm/T9hX64E0Ov9Py8s3mDr6/0/ai8KeHLs/T89jOKtyez9P2lfndFY7P0/nUJ4NWjs/T9pZePK6+X9P/mBf8we4v0/d7v8nWXg/T/+5DfJPd/9P3bUFoe51v0/n/0M5LDP/T8X7euhLMf9P4XS8Bi7t/0/y65hGUGv/T9NcT/HKKT9P9yQfkUlnf0/ZoPeGXyS/T8BOfs30IX9P4PoBPb2ff0/2OdY80Zz/T/0kOgccWv9PzfNf9DDYv0/ZHNKFzZf/T+3MBAh+839P0AnFXYj0P0/RJ2hYgPK/T96ZL9g9db9PzvYMm3N3/0/k4iTLlDl/T8MY/2DSfP9P1IjsR6y9/0/PpMqq2T2/T+y2UamUPf9Py8zJl6G9f0/oAyf4u7y/T8FKZDjdez9P0zPJ5GC6v0/EOUVY0/g/T9GcbOJ7tb9P96Q4dRz0P0/inAp7SzL/T+9eawwvsT9P26QW90ylv0/GymXK3OH/T8k7gUhqXH9P80ZnvhlX/0/bzJzE9lP/T8+wX8b2Dz9P8QJGymXK/0/IfgqfHAR/T9d3ZUlyv78P5nSMUIb7Pw/IOiWeSre/D/Vs/dqo8z8P7gPrDYEvvw/eivgAWSt/D+wx66b+qP8P8N2lfEulfw/7Y9a2y6O/D+nNtsPy/n8P76guaOWAf0/RMAJVQr6/D+8/0DiqST9P/mv1DySKP0/4Zbt7KMw/T8k286hmUH9P8J409qhTv0/m/X8w3BP/T/9fqJu8kv9P1N1DfblSv0/IEXgzspH/T+WdINZJD/9PyaDj2AhKP0/rMiH8RYa/T8Di7qeUgz9PyADtWqO9Pw/qeJATyTt/D/C4Quytt78P2XEB3qw1fw/hCBF4M7K/D95XxjcG7r8P71hMbwjq/w/94oFsyyl/D+LUMcGPsv8Pz8cKPi2ufw/zJGirxus/D89X49BXrb8PyRSNOSVsfw/2DFrydes/D9mgT2huqX8PxtL/Rlyp/w/8Rq/v9+k/D+RmmUaCdL8P26wIFNwyfw/V3CPH/jH/D+qtu/mwMb8P9y4Ki23tvw/+hHFFgyv/D8+Im7xSbP8P1vSRRgPtfw/2vuRdl6z/D8o0qtK2rH8P/Bhy4lYrvw/LhtIWp2o/D+F1JGRfKT8Pw60HXYSnfw/Z1CoQ8yV/D9DqCtRIa38P0KnKU0Znfw/FAMAf2iN/D9nQHfQ1JX8P81caNFbj/w/R/mu0jiK/D//WF0ev4X8P3Pi4GJSg/w/445pCp59/D+8QWxG5nf8P80nLvObcvw/L7HTnR1v/D9sn4pMIob8P3khkviwc/w/jarQbmNr/D80HXUQmWL8P3dDlVdhYPw/j2ZnIbRe/D8fgwMj51r8P7wP1eTvV/w/jL9F1+VU/D/QtdLEx1L8P7JFv2rgUPw/gAVh0M1N/D9SmhZhrmf8Pw9WNay4Vvw/YOKfOfJO/D9beaFDQFj8P00f4+/0UPw/ZwWUaTNM/D9nGGhZ9Ej8PwZi0tFVSfw/HZXVDqBH/D8fiEcYckT8P8QkORr7Qfw/Sz5D0ttA/D9KivYgLmf8P7Cpip5+Xfw/LANqVrRb/D9JmSWQHVf8P8wvFWXwWPw/v7/fpBpY/D8PVjWsuFb8P4LPh31UVPw/J4zbZcxR/D8OjA7/MVD8PywP9kjaTvw/OWJsn4pM/D/H49XYY2X8Pyew4syMXvw/nNzi2hxZ/D+XgHLbmGX8P94W2RWuY/w/DL2jXCBg/D+XcuLgYlL8Px3Cxeu8Svw/zRFU98JF/D8j+zCIiEH8P9X6yVO5PPw/UmTafuY6/D+DyuD4ejf8P4uZOmgVKPw/aL9DhQQl/D8BsfrLix/8P9Brj1F7Hfw/GhibulEc/D8E+Vz4ARr8PwN16jOqGPw/PPR5IB8X/D9XY/+XlBb8Pzq5Xxt8Ffw/PxGMWVEV/D8eSPy7TLb8PwdFq0T2uPw/Itce3dK9/D9MNqdjtcP8PyQbXvMzxvw/+lFkErvI/D9Ogpy9Rcn8PyqOROp64/w/cqBGn1Lk/D/+s7D6R+r8P6vNEZuW7Pw/bNBhEefs/D/S4KTH6Oz8PzaVhpz77Pw/A7YMCf/s/D8DtgwJ/+z8PwO2DAn/7Pw/A7YMCf/s/D8DtgwJ/+z8PwO2DAn/7Pw/zijiBAvt/D8ugWL4Lu38Py6BYvgu7fw/",
          "dtype": "f8"
         },
         "yaxis": "y"
        }
       ],
       "layout": {
        "height": 800,
        "legend": {
         "font": {
          "size": 14
         },
         "title": {
          "font": {
           "size": 16
          },
          "text": "Brand"
         },
         "tracegroupgap": 0
        },
        "margin": {
         "b": 40,
         "l": 40,
         "r": 40,
         "t": 60
        },
        "shapes": [
         {
          "line": {
           "color": "#ff8019",
           "width": 2
          },
          "type": "line",
          "x0": "07:20",
          "x1": "07:20",
          "y0": 0,
          "y1": 1,
          "yref": "paper"
         },
         {
          "line": {
           "color": "#ff8019",
           "width": 2
          },
          "type": "line",
          "x0": "09:50",
          "x1": "09:50",
          "y0": 0,
          "y1": 1,
          "yref": "paper"
         },
         {
          "line": {
           "color": "#ff8019",
           "width": 2
          },
          "type": "line",
          "x0": "12:50",
          "x1": "12:50",
          "y0": 0,
          "y1": 1,
          "yref": "paper"
         },
         {
          "line": {
           "color": "#ff8019",
           "width": 2
          },
          "type": "line",
          "x0": "21:50",
          "x1": "21:50",
          "y0": 0,
          "y1": 1,
          "yref": "paper"
         }
        ],
        "template": {
         "data": {
          "bar": [
           {
            "error_x": {
             "color": "#2a3f5f"
            },
            "error_y": {
             "color": "#2a3f5f"
            },
            "marker": {
             "line": {
              "color": "white",
              "width": 0.5
             },
             "pattern": {
              "fillmode": "overlay",
              "size": 10,
              "solidity": 0.2
             }
            },
            "type": "bar"
           }
          ],
          "barpolar": [
           {
            "marker": {
             "line": {
              "color": "white",
              "width": 0.5
             },
             "pattern": {
              "fillmode": "overlay",
              "size": 10,
              "solidity": 0.2
             }
            },
            "type": "barpolar"
           }
          ],
          "carpet": [
           {
            "aaxis": {
             "endlinecolor": "#2a3f5f",
             "gridcolor": "#C8D4E3",
             "linecolor": "#C8D4E3",
             "minorgridcolor": "#C8D4E3",
             "startlinecolor": "#2a3f5f"
            },
            "baxis": {
             "endlinecolor": "#2a3f5f",
             "gridcolor": "#C8D4E3",
             "linecolor": "#C8D4E3",
             "minorgridcolor": "#C8D4E3",
             "startlinecolor": "#2a3f5f"
            },
            "type": "carpet"
           }
          ],
          "choropleth": [
           {
            "colorbar": {
             "outlinewidth": 0,
             "ticks": ""
            },
            "type": "choropleth"
           }
          ],
          "contour": [
           {
            "colorbar": {
             "outlinewidth": 0,
             "ticks": ""
            },
            "colorscale": [
             [
              0,
              "#0d0887"
             ],
             [
              0.1111111111111111,
              "#46039f"
             ],
             [
              0.2222222222222222,
              "#7201a8"
             ],
             [
              0.3333333333333333,
              "#9c179e"
             ],
             [
              0.4444444444444444,
              "#bd3786"
             ],
             [
              0.5555555555555556,
              "#d8576b"
             ],
             [
              0.6666666666666666,
              "#ed7953"
             ],
             [
              0.7777777777777778,
              "#fb9f3a"
             ],
             [
              0.8888888888888888,
              "#fdca26"
             ],
             [
              1,
              "#f0f921"
             ]
            ],
            "type": "contour"
           }
          ],
          "contourcarpet": [
           {
            "colorbar": {
             "outlinewidth": 0,
             "ticks": ""
            },
            "type": "contourcarpet"
           }
          ],
          "heatmap": [
           {
            "colorbar": {
             "outlinewidth": 0,
             "ticks": ""
            },
            "colorscale": [
             [
              0,
              "#0d0887"
             ],
             [
              0.1111111111111111,
              "#46039f"
             ],
             [
              0.2222222222222222,
              "#7201a8"
             ],
             [
              0.3333333333333333,
              "#9c179e"
             ],
             [
              0.4444444444444444,
              "#bd3786"
             ],
             [
              0.5555555555555556,
              "#d8576b"
             ],
             [
              0.6666666666666666,
              "#ed7953"
             ],
             [
              0.7777777777777778,
              "#fb9f3a"
             ],
             [
              0.8888888888888888,
              "#fdca26"
             ],
             [
              1,
              "#f0f921"
             ]
            ],
            "type": "heatmap"
           }
          ],
          "histogram": [
           {
            "marker": {
             "pattern": {
              "fillmode": "overlay",
              "size": 10,
              "solidity": 0.2
             }
            },
            "type": "histogram"
           }
          ],
          "histogram2d": [
           {
            "colorbar": {
             "outlinewidth": 0,
             "ticks": ""
            },
            "colorscale": [
             [
              0,
              "#0d0887"
             ],
             [
              0.1111111111111111,
              "#46039f"
             ],
             [
              0.2222222222222222,
              "#7201a8"
             ],
             [
              0.3333333333333333,
              "#9c179e"
             ],
             [
              0.4444444444444444,
              "#bd3786"
             ],
             [
              0.5555555555555556,
              "#d8576b"
             ],
             [
              0.6666666666666666,
              "#ed7953"
             ],
             [
              0.7777777777777778,
              "#fb9f3a"
             ],
             [
              0.8888888888888888,
              "#fdca26"
             ],
             [
              1,
              "#f0f921"
             ]
            ],
            "type": "histogram2d"
           }
          ],
          "histogram2dcontour": [
           {
            "colorbar": {
             "outlinewidth": 0,
             "ticks": ""
            },
            "colorscale": [
             [
              0,
              "#0d0887"
             ],
             [
              0.1111111111111111,
              "#46039f"
             ],
             [
              0.2222222222222222,
              "#7201a8"
             ],
             [
              0.3333333333333333,
              "#9c179e"
             ],
             [
              0.4444444444444444,
              "#bd3786"
             ],
             [
              0.5555555555555556,
              "#d8576b"
             ],
             [
              0.6666666666666666,
              "#ed7953"
             ],
             [
              0.7777777777777778,
              "#fb9f3a"
             ],
             [
              0.8888888888888888,
              "#fdca26"
             ],
             [
              1,
              "#f0f921"
             ]
            ],
            "type": "histogram2dcontour"
           }
          ],
          "mesh3d": [
           {
            "colorbar": {
             "outlinewidth": 0,
             "ticks": ""
            },
            "type": "mesh3d"
           }
          ],
          "parcoords": [
           {
            "line": {
             "colorbar": {
              "outlinewidth": 0,
              "ticks": ""
             }
            },
            "type": "parcoords"
           }
          ],
          "pie": [
           {
            "automargin": true,
            "type": "pie"
           }
          ],
          "scatter": [
           {
            "fillpattern": {
             "fillmode": "overlay",
             "size": 10,
             "solidity": 0.2
            },
            "type": "scatter"
           }
          ],
          "scatter3d": [
           {
            "line": {
             "colorbar": {
              "outlinewidth": 0,
              "ticks": ""
             }
            },
            "marker": {
             "colorbar": {
              "outlinewidth": 0,
              "ticks": ""
             }
            },
            "type": "scatter3d"
           }
          ],
          "scattercarpet": [
           {
            "marker": {
             "colorbar": {
              "outlinewidth": 0,
              "ticks": ""
             }
            },
            "type": "scattercarpet"
           }
          ],
          "scattergeo": [
           {
            "marker": {
             "colorbar": {
              "outlinewidth": 0,
              "ticks": ""
             }
            },
            "type": "scattergeo"
           }
          ],
          "scattergl": [
           {
            "marker": {
             "colorbar": {
              "outlinewidth": 0,
              "ticks": ""
             }
            },
            "type": "scattergl"
           }
          ],
          "scattermap": [
           {
            "marker": {
             "colorbar": {
              "outlinewidth": 0,
              "ticks": ""
             }
            },
            "type": "scattermap"
           }
          ],
          "scattermapbox": [
           {
            "marker": {
             "colorbar": {
              "outlinewidth": 0,
              "ticks": ""
             }
            },
            "type": "scattermapbox"
           }
          ],
          "scatterpolar": [
           {
            "marker": {
             "colorbar": {
              "outlinewidth": 0,
              "ticks": ""
             }
            },
            "type": "scatterpolar"
           }
          ],
          "scatterpolargl": [
           {
            "marker": {
             "colorbar": {
              "outlinewidth": 0,
              "ticks": ""
             }
            },
            "type": "scatterpolargl"
           }
          ],
          "scatterternary": [
           {
            "marker": {
             "colorbar": {
              "outlinewidth": 0,
              "ticks": ""
             }
            },
            "type": "scatterternary"
           }
          ],
          "surface": [
           {
            "colorbar": {
             "outlinewidth": 0,
             "ticks": ""
            },
            "colorscale": [
             [
              0,
              "#0d0887"
             ],
             [
              0.1111111111111111,
              "#46039f"
             ],
             [
              0.2222222222222222,
              "#7201a8"
             ],
             [
              0.3333333333333333,
              "#9c179e"
             ],
             [
              0.4444444444444444,
              "#bd3786"
             ],
             [
              0.5555555555555556,
              "#d8576b"
             ],
             [
              0.6666666666666666,
              "#ed7953"
             ],
             [
              0.7777777777777778,
              "#fb9f3a"
             ],
             [
              0.8888888888888888,
              "#fdca26"
             ],
             [
              1,
              "#f0f921"
             ]
            ],
            "type": "surface"
           }
          ],
          "table": [
           {
            "cells": {
             "fill": {
              "color": "#EBF0F8"
             },
             "line": {
              "color": "white"
             }
            },
            "header": {
             "fill": {
              "color": "#C8D4E3"
             },
             "line": {
              "color": "white"
             }
            },
            "type": "table"
           }
          ]
         },
         "layout": {
          "annotationdefaults": {
           "arrowcolor": "#2a3f5f",
           "arrowhead": 0,
           "arrowwidth": 1
          },
          "autotypenumbers": "strict",
          "coloraxis": {
           "colorbar": {
            "outlinewidth": 0,
            "ticks": ""
           }
          },
          "colorscale": {
           "diverging": [
            [
             0,
             "#8e0152"
            ],
            [
             0.1,
             "#c51b7d"
            ],
            [
             0.2,
             "#de77ae"
            ],
            [
             0.3,
             "#f1b6da"
            ],
            [
             0.4,
             "#fde0ef"
            ],
            [
             0.5,
             "#f7f7f7"
            ],
            [
             0.6,
             "#e6f5d0"
            ],
            [
             0.7,
             "#b8e186"
            ],
            [
             0.8,
             "#7fbc41"
            ],
            [
             0.9,
             "#4d9221"
            ],
            [
             1,
             "#276419"
            ]
           ],
           "sequential": [
            [
             0,
             "#0d0887"
            ],
            [
             0.1111111111111111,
             "#46039f"
            ],
            [
             0.2222222222222222,
             "#7201a8"
            ],
            [
             0.3333333333333333,
             "#9c179e"
            ],
            [
             0.4444444444444444,
             "#bd3786"
            ],
            [
             0.5555555555555556,
             "#d8576b"
            ],
            [
             0.6666666666666666,
             "#ed7953"
            ],
            [
             0.7777777777777778,
             "#fb9f3a"
            ],
            [
             0.8888888888888888,
             "#fdca26"
            ],
            [
             1,
             "#f0f921"
            ]
           ],
           "sequentialminus": [
            [
             0,
             "#0d0887"
            ],
            [
             0.1111111111111111,
             "#46039f"
            ],
            [
             0.2222222222222222,
             "#7201a8"
            ],
            [
             0.3333333333333333,
             "#9c179e"
            ],
            [
             0.4444444444444444,
             "#bd3786"
            ],
            [
             0.5555555555555556,
             "#d8576b"
            ],
            [
             0.6666666666666666,
             "#ed7953"
            ],
            [
             0.7777777777777778,
             "#fb9f3a"
            ],
            [
             0.8888888888888888,
             "#fdca26"
            ],
            [
             1,
             "#f0f921"
            ]
           ]
          },
          "colorway": [
           "#636efa",
           "#EF553B",
           "#00cc96",
           "#ab63fa",
           "#FFA15A",
           "#19d3f3",
           "#FF6692",
           "#B6E880",
           "#FF97FF",
           "#FECB52"
          ],
          "font": {
           "color": "#2a3f5f"
          },
          "geo": {
           "bgcolor": "white",
           "lakecolor": "white",
           "landcolor": "white",
           "showlakes": true,
           "showland": true,
           "subunitcolor": "#C8D4E3"
          },
          "hoverlabel": {
           "align": "left"
          },
          "hovermode": "closest",
          "mapbox": {
           "style": "light"
          },
          "paper_bgcolor": "white",
          "plot_bgcolor": "white",
          "polar": {
           "angularaxis": {
            "gridcolor": "#EBF0F8",
            "linecolor": "#EBF0F8",
            "ticks": ""
           },
           "bgcolor": "white",
           "radialaxis": {
            "gridcolor": "#EBF0F8",
            "linecolor": "#EBF0F8",
            "ticks": ""
           }
          },
          "scene": {
           "xaxis": {
            "backgroundcolor": "white",
            "gridcolor": "#DFE8F3",
            "gridwidth": 2,
            "linecolor": "#EBF0F8",
            "showbackground": true,
            "ticks": "",
            "zerolinecolor": "#EBF0F8"
           },
           "yaxis": {
            "backgroundcolor": "white",
            "gridcolor": "#DFE8F3",
            "gridwidth": 2,
            "linecolor": "#EBF0F8",
            "showbackground": true,
            "ticks": "",
            "zerolinecolor": "#EBF0F8"
           },
           "zaxis": {
            "backgroundcolor": "white",
            "gridcolor": "#DFE8F3",
            "gridwidth": 2,
            "linecolor": "#EBF0F8",
            "showbackground": true,
            "ticks": "",
            "zerolinecolor": "#EBF0F8"
           }
          },
          "shapedefaults": {
           "line": {
            "color": "#2a3f5f"
           }
          },
          "ternary": {
           "aaxis": {
            "gridcolor": "#DFE8F3",
            "linecolor": "#A2B1C6",
            "ticks": ""
           },
           "baxis": {
            "gridcolor": "#DFE8F3",
            "linecolor": "#A2B1C6",
            "ticks": ""
           },
           "bgcolor": "white",
           "caxis": {
            "gridcolor": "#DFE8F3",
            "linecolor": "#A2B1C6",
            "ticks": ""
           }
          },
          "title": {
           "x": 0.05
          },
          "xaxis": {
           "automargin": true,
           "gridcolor": "#EBF0F8",
           "linecolor": "#EBF0F8",
           "ticks": "",
           "title": {
            "standoff": 15
           },
           "zerolinecolor": "#EBF0F8",
           "zerolinewidth": 2
          },
          "yaxis": {
           "automargin": true,
           "gridcolor": "#EBF0F8",
           "linecolor": "#EBF0F8",
           "ticks": "",
           "title": {
            "standoff": 15
           },
           "zerolinecolor": "#EBF0F8",
           "zerolinewidth": 2
          }
         }
        },
        "title": {
         "font": {
          "size": 20
         },
         "text": "Average e5 price in Germany per day"
        },
        "width": 1500,
        "xaxis": {
         "anchor": "y",
         "domain": [
          0,
          1
         ],
         "tickfont": {
          "size": 18
         },
         "title": {
          "font": {
           "size": 20
          },
          "text": "Time"
         }
        },
        "yaxis": {
         "anchor": "x",
         "domain": [
          0,
          1
         ],
         "tickfont": {
          "size": 18
         },
         "title": {
          "font": {
           "size": 20
          },
          "text": "Price in €/l"
         }
        }
       }
      }
     },
     "metadata": {},
     "output_type": "display_data"
    }
   ],
   "source": [
    "fig.update_layout(\n",
    "    xaxis=dict(\n",
    "        title=dict(\n",
    "            text=\"Time\",\n",
    "            font=dict(size=20)\n",
    "        ),\n",
    "        tickfont=dict(size=18)\n",
    "    ),\n",
    "    yaxis=dict(\n",
    "        title=dict(\n",
    "            text=\"Price in €/l\",\n",
    "            font=dict(size=20)\n",
    "        ),\n",
    "        tickfont=dict(size=18)\n",
    "    ),\n",
    "    legend_title=\"Brand\",\n",
    "    legend_title_font_size=16,\n",
    "    legend_font_size=14,\n",
    "    template=\"plotly_white\",\n",
    "    shapes=[\n",
    "        # 7:20 line\n",
    "        dict(\n",
    "            type=\"line\",\n",
    "            x0=\"07:20\", x1=\"07:20\",\n",
    "            y0=0, y1=1,\n",
    "            yref=\"paper\",\n",
    "            line=dict(color=\"#ff8019\", width=2)\n",
    "        ),\n",
    "        # 9:50 line\n",
    "        dict(\n",
    "            type=\"line\",\n",
    "            x0=\"09:50\", x1=\"09:50\",\n",
    "            y0=0, y1=1,\n",
    "            yref=\"paper\",\n",
    "            line=dict(color=\"#ff8019\", width=2)\n",
    "        ),\n",
    "        # 12:50 line\n",
    "        dict(\n",
    "            type=\"line\",\n",
    "            x0=\"12:50\", x1=\"12:50\",\n",
    "            y0=0, y1=1,\n",
    "            yref=\"paper\",\n",
    "            line=dict(color=\"#ff8019\", width=2)\n",
    "        ),\n",
    "        # 21:50 line\n",
    "        dict(\n",
    "            type=\"line\",\n",
    "            x0=\"21:50\", x1=\"21:50\",\n",
    "            y0=0, y1=1,\n",
    "            yref=\"paper\",\n",
    "            line=dict(color=\"#ff8019\", width=2)\n",
    "        )\n",
    "    ]\n",
    ")\n",
    "fig.show()"
   ]
  },
  {
   "cell_type": "code",
   "execution_count": 10,
   "id": "2d4536c6",
   "metadata": {},
   "outputs": [],
   "source": [
    "fig = plot.daily_pattern(df, brand=True)"
   ]
  },
  {
   "cell_type": "code",
   "execution_count": 11,
   "id": "320574b0",
   "metadata": {},
   "outputs": [
    {
     "data": {
      "application/vnd.plotly.v1+json": {
       "config": {
        "plotlyServerURL": "https://plot.ly"
       },
       "data": [
        {
         "hovertemplate": "brand_clean=agip<br>time_of_day=%{x}<br>e5=%{y}<extra></extra>",
         "legendgroup": "agip",
         "line": {
          "color": "#FFCC00",
          "dash": "solid"
         },
         "marker": {
          "symbol": "circle"
         },
         "mode": "lines",
         "name": "agip",
         "showlegend": true,
         "type": "scattergl",
         "x": [
          "00:00",
          "00:05",
          "00:10",
          "00:15",
          "00:20",
          "00:25",
          "00:30",
          "00:35",
          "00:40",
          "00:45",
          "00:50",
          "00:55",
          "01:00",
          "01:05",
          "01:10",
          "01:15",
          "01:20",
          "01:25",
          "01:30",
          "01:35",
          "01:40",
          "01:45",
          "01:50",
          "01:55",
          "02:00",
          "02:05",
          "02:10",
          "02:15",
          "02:20",
          "02:25",
          "02:30",
          "02:35",
          "02:40",
          "02:45",
          "02:50",
          "02:55",
          "03:00",
          "03:05",
          "03:10",
          "03:15",
          "03:20",
          "03:25",
          "03:30",
          "03:35",
          "03:40",
          "03:45",
          "03:50",
          "03:55",
          "04:00",
          "04:05",
          "04:10",
          "04:15",
          "04:20",
          "04:25",
          "04:30",
          "04:35",
          "04:40",
          "04:45",
          "04:50",
          "04:55",
          "05:00",
          "05:05",
          "05:10",
          "05:15",
          "05:20",
          "05:25",
          "05:30",
          "05:35",
          "05:40",
          "05:45",
          "05:50",
          "05:55",
          "06:00",
          "06:05",
          "06:10",
          "06:15",
          "06:20",
          "06:25",
          "06:30",
          "06:35",
          "06:40",
          "06:45",
          "06:50",
          "06:55",
          "07:00",
          "07:05",
          "07:10",
          "07:15",
          "07:20",
          "07:25",
          "07:30",
          "07:35",
          "07:40",
          "07:45",
          "07:50",
          "07:55",
          "08:00",
          "08:05",
          "08:10",
          "08:15",
          "08:20",
          "08:25",
          "08:30",
          "08:35",
          "08:40",
          "08:45",
          "08:50",
          "08:55",
          "09:00",
          "09:05",
          "09:10",
          "09:15",
          "09:20",
          "09:25",
          "09:30",
          "09:35",
          "09:40",
          "09:45",
          "09:50",
          "09:55",
          "10:00",
          "10:05",
          "10:10",
          "10:15",
          "10:20",
          "10:25",
          "10:30",
          "10:35",
          "10:40",
          "10:45",
          "10:50",
          "10:55",
          "11:00",
          "11:05",
          "11:10",
          "11:15",
          "11:20",
          "11:25",
          "11:30",
          "11:35",
          "11:40",
          "11:45",
          "11:50",
          "11:55",
          "12:00",
          "12:05",
          "12:10",
          "12:15",
          "12:20",
          "12:25",
          "12:30",
          "12:35",
          "12:40",
          "12:45",
          "12:50",
          "12:55",
          "13:00",
          "13:05",
          "13:10",
          "13:15",
          "13:20",
          "13:25",
          "13:30",
          "13:35",
          "13:40",
          "13:45",
          "13:50",
          "13:55",
          "14:00",
          "14:05",
          "14:10",
          "14:15",
          "14:20",
          "14:25",
          "14:30",
          "14:35",
          "14:40",
          "14:45",
          "14:50",
          "14:55",
          "15:00",
          "15:05",
          "15:10",
          "15:15",
          "15:20",
          "15:25",
          "15:30",
          "15:35",
          "15:40",
          "15:45",
          "15:50",
          "15:55",
          "16:00",
          "16:05",
          "16:10",
          "16:15",
          "16:20",
          "16:25",
          "16:30",
          "16:35",
          "16:40",
          "16:45",
          "16:50",
          "16:55",
          "17:00",
          "17:05",
          "17:10",
          "17:15",
          "17:20",
          "17:25",
          "17:30",
          "17:35",
          "17:40",
          "17:45",
          "17:50",
          "17:55",
          "18:00",
          "18:05",
          "18:10",
          "18:15",
          "18:20",
          "18:25",
          "18:30",
          "18:35",
          "18:40",
          "18:45",
          "18:50",
          "18:55",
          "19:00",
          "19:05",
          "19:10",
          "19:15",
          "19:20",
          "19:25",
          "19:30",
          "19:35",
          "19:40",
          "19:45",
          "19:50",
          "19:55",
          "20:00",
          "20:05",
          "20:10",
          "20:15",
          "20:20",
          "20:25",
          "20:30",
          "20:35",
          "20:40",
          "20:45",
          "20:50",
          "20:55",
          "21:00",
          "21:05",
          "21:10",
          "21:15",
          "21:20",
          "21:25",
          "21:30",
          "21:35",
          "21:40",
          "21:45",
          "21:50",
          "21:55",
          "22:00",
          "22:05",
          "22:10",
          "22:15",
          "22:20",
          "22:25",
          "22:30",
          "22:35",
          "22:40",
          "22:45",
          "22:50",
          "22:55",
          "23:00",
          "23:05",
          "23:10",
          "23:15",
          "23:20",
          "23:25",
          "23:30",
          "23:35",
          "23:40",
          "23:45",
          "23:50",
          "23:55"
         ],
         "xaxis": "x",
         "y": {
          "bdata": "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",
          "dtype": "f8"
         },
         "yaxis": "y"
        },
        {
         "hovertemplate": "brand_clean=aral<br>time_of_day=%{x}<br>e5=%{y}<extra></extra>",
         "legendgroup": "aral",
         "line": {
          "color": "#0069B3",
          "dash": "solid"
         },
         "marker": {
          "symbol": "circle"
         },
         "mode": "lines",
         "name": "aral",
         "showlegend": true,
         "type": "scattergl",
         "x": [
          "00:00",
          "00:05",
          "00:10",
          "00:15",
          "00:20",
          "00:25",
          "00:30",
          "00:35",
          "00:40",
          "00:45",
          "00:50",
          "00:55",
          "01:00",
          "01:05",
          "01:10",
          "01:15",
          "01:20",
          "01:25",
          "01:30",
          "01:35",
          "01:40",
          "01:45",
          "01:50",
          "01:55",
          "02:00",
          "02:05",
          "02:10",
          "02:15",
          "02:20",
          "02:25",
          "02:30",
          "02:35",
          "02:40",
          "02:45",
          "02:50",
          "02:55",
          "03:00",
          "03:05",
          "03:10",
          "03:15",
          "03:20",
          "03:25",
          "03:30",
          "03:35",
          "03:40",
          "03:45",
          "03:50",
          "03:55",
          "04:00",
          "04:05",
          "04:10",
          "04:15",
          "04:20",
          "04:25",
          "04:30",
          "04:35",
          "04:40",
          "04:45",
          "04:50",
          "04:55",
          "05:00",
          "05:05",
          "05:10",
          "05:15",
          "05:20",
          "05:25",
          "05:30",
          "05:35",
          "05:40",
          "05:45",
          "05:50",
          "05:55",
          "06:00",
          "06:05",
          "06:10",
          "06:15",
          "06:20",
          "06:25",
          "06:30",
          "06:35",
          "06:40",
          "06:45",
          "06:50",
          "06:55",
          "07:00",
          "07:05",
          "07:10",
          "07:15",
          "07:20",
          "07:25",
          "07:30",
          "07:35",
          "07:40",
          "07:45",
          "07:50",
          "07:55",
          "08:00",
          "08:05",
          "08:10",
          "08:15",
          "08:20",
          "08:25",
          "08:30",
          "08:35",
          "08:40",
          "08:45",
          "08:50",
          "08:55",
          "09:00",
          "09:05",
          "09:10",
          "09:15",
          "09:20",
          "09:25",
          "09:30",
          "09:35",
          "09:40",
          "09:45",
          "09:50",
          "09:55",
          "10:00",
          "10:05",
          "10:10",
          "10:15",
          "10:20",
          "10:25",
          "10:30",
          "10:35",
          "10:40",
          "10:45",
          "10:50",
          "10:55",
          "11:00",
          "11:05",
          "11:10",
          "11:15",
          "11:20",
          "11:25",
          "11:30",
          "11:35",
          "11:40",
          "11:45",
          "11:50",
          "11:55",
          "12:00",
          "12:05",
          "12:10",
          "12:15",
          "12:20",
          "12:25",
          "12:30",
          "12:35",
          "12:40",
          "12:45",
          "12:50",
          "12:55",
          "13:00",
          "13:05",
          "13:10",
          "13:15",
          "13:20",
          "13:25",
          "13:30",
          "13:35",
          "13:40",
          "13:45",
          "13:50",
          "13:55",
          "14:00",
          "14:05",
          "14:10",
          "14:15",
          "14:20",
          "14:25",
          "14:30",
          "14:35",
          "14:40",
          "14:45",
          "14:50",
          "14:55",
          "15:00",
          "15:05",
          "15:10",
          "15:15",
          "15:20",
          "15:25",
          "15:30",
          "15:35",
          "15:40",
          "15:45",
          "15:50",
          "15:55",
          "16:00",
          "16:05",
          "16:10",
          "16:15",
          "16:20",
          "16:25",
          "16:30",
          "16:35",
          "16:40",
          "16:45",
          "16:50",
          "16:55",
          "17:00",
          "17:05",
          "17:10",
          "17:15",
          "17:20",
          "17:25",
          "17:30",
          "17:35",
          "17:40",
          "17:45",
          "17:50",
          "17:55",
          "18:00",
          "18:05",
          "18:10",
          "18:15",
          "18:20",
          "18:25",
          "18:30",
          "18:35",
          "18:40",
          "18:45",
          "18:50",
          "18:55",
          "19:00",
          "19:05",
          "19:10",
          "19:15",
          "19:20",
          "19:25",
          "19:30",
          "19:35",
          "19:40",
          "19:45",
          "19:50",
          "19:55",
          "20:00",
          "20:05",
          "20:10",
          "20:15",
          "20:20",
          "20:25",
          "20:30",
          "20:35",
          "20:40",
          "20:45",
          "20:50",
          "20:55",
          "21:00",
          "21:05",
          "21:10",
          "21:15",
          "21:20",
          "21:25",
          "21:30",
          "21:35",
          "21:40",
          "21:45",
          "21:50",
          "21:55",
          "22:00",
          "22:05",
          "22:10",
          "22:15",
          "22:20",
          "22:25",
          "22:30",
          "22:35",
          "22:40",
          "22:45",
          "22:50",
          "22:55",
          "23:00",
          "23:05",
          "23:10",
          "23:15",
          "23:20",
          "23:25",
          "23:30",
          "23:35",
          "23:40",
          "23:45",
          "23:50",
          "23:55"
         ],
         "xaxis": "x",
         "y": {
          "bdata": "jf6TfkBj/T8+n8S8fWP9P43bDainY/0/jdsNqKdj/T+N2w2op2P9P43bDainY/0/jdsNqKdj/T+N2w2op2P9P43bDainY/0/jdsNqKdj/T+N2w2op2P9P43bDainY/0/jdsNqKdj/T+N2w2op2P9P43bDainY/0/jdsNqKdj/T+N2w2op2P9P43bDainY/0/jdsNqKdj/T+N2w2op2P9P43bDainY/0/jdsNqKdj/T+N2w2op2P9P43bDainY/0/jdsNqKdj/T+N2w2op2P9P43bDainY/0/jdsNqKdj/T+N2w2op2P9P43bDainY/0/jdsNqKdj/T+N2w2op2P9P43bDainY/0/jdsNqKdj/T+N2w2op2P9P43bDainY/0/jdsNqKdj/T+N2w2op2P9P43bDainY/0/jdsNqKdj/T+N2w2op2P9P43bDainY/0/jdsNqKdj/T+N2w2op2P9P43bDainY/0/jdsNqKdj/T+N2w2op2P9P43bDainY/0/jdsNqKdj/T+N2w2op2P9P43bDainY/0/jdsNqKdj/T+N2w2op2P9P43bDainY/0/jdsNqKdj/T+N2w2op2P9P43bDainY/0/jdsNqKdj/T+N2w2op2P9P43bDainY/0/jdsNqKdj/T/iUG1rKGb9P+JQbWsoZv0/4lBtayhm/T/iUG1rKGb9P+JQbWsoZv0/4lBtayhm/T/iUG1rKGb9P+JQbWsoZv0/4lBtayhm/T/iUG1rKGb9P+JQbWsoZv0/4lBtayhm/T/iUG1rKGb9P+JQbWsoZv0/4lBtayhm/T/iUG1rKGb9P+JQbWsoZv0/4lBtayhm/T/q+GkEWAT+P15Pt3I7Bf4/+DgMa0cF/j8uDLZbXwX+P2LfX0x3Bf4/Zm8IJrMF/j83dNv79AX+PwTpBfj6Bf4/BOkF+PoF/j8E6QX4+gX+PwTpBfj6Bf4/BOkF+PoF/j8E6QX4+gX+PwTpBfj6Bf4/yPUKVGsF/j89P8rLIAP+P08ChxUeAf4/d91ijGQA/j/Gkxp68f79P9nArg+96f0/bXCWZ/Xi/T/rmODBPNH9P3SYzozByf0/EKNNjmHA/T+vAi9zTbr9P8QAMrM6tf0/+GRd06qr/T/b14oPnqb9P4rMcD7FpP0/7FJzbH2k/T/i03HMBmf+Pz0G62yPWf4/iRLek4RR/j/eoBJIa1D+P/Oro36GTv4/gthw87BK/j+4noztmkf+P1UL/Mi0RP4/kvFodhZC/j+S8Wh2FkL+P7sUGdp6Qf4/fdlJSc1A/j+DscYPJ0H+PxoLcy73QP4/BfNTAa4//j8ejo0RBT7+P/CF0vAYO/4//GOEfY41/j8j3W8aWy7+P5lKmYgf7P0/slw423La/T+Rguqlbrj9P08UvJAlof0/9/3FdFeI/T9bpfKro379P27F+EpBZv0/oGVDt71P/T88ksUXDjP9P26HcmfWH/0/cCyQqZQJ/T880Ev7ePn8P9z79AWt5vw/s6QMyJDa/D9nD3/jl9L8P9xYPltN0Pw/aUrF2YfP/D+ik/u2f8n9P6QCeocn0/0/jXvciTbI/T8aGAElJcT9P7iEcAA/wf0/9F1Pt3K7/T9Ad9DUlbb9P9QzRiP8sv0/39axuYGw/T+9xsQSZ679P66GIqx3rf0/c5MnCOis/T8Aha6GIqz9P5MnCOgsov0/bodyZ9af/T/OwPkjl4L9P0tB5k6lPf0/Em8VtKkz/T8XLXaNpy39P2r3yY2aH/0/RcELWRIK/T8PA9fQfPP8P/7+U7aZ5fw/hKnfndLa/D/XTIm6O0P9Pw5W0hxqI/0/vxaAcdkU/T85ERLMXgn9P7w4g9CJAf0/9XQrt1P4/D9/yXtlJPT8PwaOIzq57/w/rWK4tWjt/D/VGSo2oCz9P0rsg2tZOv0/s4VJVls3/T9mMYJCSD/9PzmnOoCQHP0/ijZIipMR/T/jsW5tVvr8P17GHLU39fw/iNw+Im7x/D+RN9bL1e78P1KnpFfc6vw/GjfEllrn/D/ShkFv6eL8PyulHv0L4vw/Otgybc3f/D8B555gnDL9P4sPnqYJCP0/Y56Ze5H1/D/7tn/Je+X8PzmD0ImB3Pw/66VuuGrU/D+neAZ0B838P6zukmDnxvw/ekmhb5HA/D8+SRjV07z8P4Xffg/puvw/cw80z725/D9eShDuYej8P6BlQ7e9z/w/hBO36aDH/D9n8LtxYq/8P4suYRg/q/w/Y0b3qsqo/D8oRm4QDaX8P6t6bQtmoPw/BdSQj3ic/D9LIiPdb5r8PxB3/CX+mfw/2AYcZXyW/D9Fokjn3Ob8PzcpxyFcvPw/zzQfeRip/D9xFxtBEqD8P2mV2bMgmfw/cEaslvCP/D+tH4tNJIr8PxMpqF7qhvw/R+/DWNSD/D9c+lSP74H8P4TVMAY2gfw/tmAGCjCB/D+PVDKmrL78PzDIr53+q/w/LDgHxMKr/D/YE6pbqpn8P7zbOXvpl/w/aEB30NSV/D9xmw56PJP8P2EGCjABj/w/M0Yj/DKM/D99JF4jZor8PxDuYWj6ifw/EO5haPqJ/D94imdAd9D8P/ngaZqAuPw/XoiW0cyu/D+6KY5C/ar8PweYcUNsqfw/ISYdXZWk/D+llWJO3pz8P8trl0BLf/w/tuT5Qlp0/D+an/tra2/8P27fFDidbPw/gaLRgZpq/D9wGlsujWn8P5f9HRcoT/w/sxtyCo1K/D/ctYew7Tn8P7XNHUN5N/w/qR0ktsU2/D+fbSopEjb8P/+rWGqsNfw/yJDajHY1/D8qF926LjX8P8K4XcYcNfw/9UMzyhY1/D/hrbI0s1X9PzqHb6IYXf0/M8bIFLBe/T/D6sx+X2D9P0TrY0INYf0/Cv3OMzdh/T+ppE5AE2H9PwE7+h5zYf0/3zKny2Ji/T+i46eyqmL9P9IPaKy8Yv0/lcBokwRj/T+VwGiTBGP9P5XAaJMEY/0/lcBokwRj/T+VwGiTBGP9P5XAaJMEY/0/lcBokwRj/T+VwGiTBGP9P5XAaJMEY/0/lcBokwRj/T+N/pN+QGP9P43+k35AY/0/",
          "dtype": "f8"
         },
         "yaxis": "y"
        },
        {
         "hovertemplate": "brand_clean=other<br>time_of_day=%{x}<br>e5=%{y}<extra></extra>",
         "legendgroup": "other",
         "line": {
          "color": "#BBAEAE",
          "dash": "solid"
         },
         "marker": {
          "symbol": "circle"
         },
         "mode": "lines",
         "name": "other",
         "showlegend": true,
         "type": "scattergl",
         "x": [
          "00:00",
          "00:05",
          "00:10",
          "00:15",
          "00:20",
          "00:25",
          "00:30",
          "00:35",
          "00:40",
          "00:45",
          "00:50",
          "00:55",
          "01:00",
          "01:05",
          "01:10",
          "01:15",
          "01:20",
          "01:25",
          "01:30",
          "01:35",
          "01:40",
          "01:45",
          "01:50",
          "01:55",
          "02:00",
          "02:05",
          "02:10",
          "02:15",
          "02:20",
          "02:25",
          "02:30",
          "02:35",
          "02:40",
          "02:45",
          "02:50",
          "02:55",
          "03:00",
          "03:05",
          "03:10",
          "03:15",
          "03:20",
          "03:25",
          "03:30",
          "03:35",
          "03:40",
          "03:45",
          "03:50",
          "03:55",
          "04:00",
          "04:05",
          "04:10",
          "04:15",
          "04:20",
          "04:25",
          "04:30",
          "04:35",
          "04:40",
          "04:45",
          "04:50",
          "04:55",
          "05:00",
          "05:05",
          "05:10",
          "05:15",
          "05:20",
          "05:25",
          "05:30",
          "05:35",
          "05:40",
          "05:45",
          "05:50",
          "05:55",
          "06:00",
          "06:05",
          "06:10",
          "06:15",
          "06:20",
          "06:25",
          "06:30",
          "06:35",
          "06:40",
          "06:45",
          "06:50",
          "06:55",
          "07:00",
          "07:05",
          "07:10",
          "07:15",
          "07:20",
          "07:25",
          "07:30",
          "07:35",
          "07:40",
          "07:45",
          "07:50",
          "07:55",
          "08:00",
          "08:05",
          "08:10",
          "08:15",
          "08:20",
          "08:25",
          "08:30",
          "08:35",
          "08:40",
          "08:45",
          "08:50",
          "08:55",
          "09:00",
          "09:05",
          "09:10",
          "09:15",
          "09:20",
          "09:25",
          "09:30",
          "09:35",
          "09:40",
          "09:45",
          "09:50",
          "09:55",
          "10:00",
          "10:05",
          "10:10",
          "10:15",
          "10:20",
          "10:25",
          "10:30",
          "10:35",
          "10:40",
          "10:45",
          "10:50",
          "10:55",
          "11:00",
          "11:05",
          "11:10",
          "11:15",
          "11:20",
          "11:25",
          "11:30",
          "11:35",
          "11:40",
          "11:45",
          "11:50",
          "11:55",
          "12:00",
          "12:05",
          "12:10",
          "12:15",
          "12:20",
          "12:25",
          "12:30",
          "12:35",
          "12:40",
          "12:45",
          "12:50",
          "12:55",
          "13:00",
          "13:05",
          "13:10",
          "13:15",
          "13:20",
          "13:25",
          "13:30",
          "13:35",
          "13:40",
          "13:45",
          "13:50",
          "13:55",
          "14:00",
          "14:05",
          "14:10",
          "14:15",
          "14:20",
          "14:25",
          "14:30",
          "14:35",
          "14:40",
          "14:45",
          "14:50",
          "14:55",
          "15:00",
          "15:05",
          "15:10",
          "15:15",
          "15:20",
          "15:25",
          "15:30",
          "15:35",
          "15:40",
          "15:45",
          "15:50",
          "15:55",
          "16:00",
          "16:05",
          "16:10",
          "16:15",
          "16:20",
          "16:25",
          "16:30",
          "16:35",
          "16:40",
          "16:45",
          "16:50",
          "16:55",
          "17:00",
          "17:05",
          "17:10",
          "17:15",
          "17:20",
          "17:25",
          "17:30",
          "17:35",
          "17:40",
          "17:45",
          "17:50",
          "17:55",
          "18:00",
          "18:05",
          "18:10",
          "18:15",
          "18:20",
          "18:25",
          "18:30",
          "18:35",
          "18:40",
          "18:45",
          "18:50",
          "18:55",
          "19:00",
          "19:05",
          "19:10",
          "19:15",
          "19:20",
          "19:25",
          "19:30",
          "19:35",
          "19:40",
          "19:45",
          "19:50",
          "19:55",
          "20:00",
          "20:05",
          "20:10",
          "20:15",
          "20:20",
          "20:25",
          "20:30",
          "20:35",
          "20:40",
          "20:45",
          "20:50",
          "20:55",
          "21:00",
          "21:05",
          "21:10",
          "21:15",
          "21:20",
          "21:25",
          "21:30",
          "21:35",
          "21:40",
          "21:45",
          "21:50",
          "21:55",
          "22:00",
          "22:05",
          "22:10",
          "22:15",
          "22:20",
          "22:25",
          "22:30",
          "22:35",
          "22:40",
          "22:45",
          "22:50",
          "22:55",
          "23:00",
          "23:05",
          "23:10",
          "23:15",
          "23:20",
          "23:25",
          "23:30",
          "23:35",
          "23:40",
          "23:45",
          "23:50",
          "23:55"
         ],
         "xaxis": "x",
         "y": {
          "bdata": "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",
          "dtype": "f8"
         },
         "yaxis": "y"
        },
        {
         "hovertemplate": "brand_clean=raiffeisen<br>time_of_day=%{x}<br>e5=%{y}<extra></extra>",
         "legendgroup": "raiffeisen",
         "line": {
          "color": "#00A651",
          "dash": "solid"
         },
         "marker": {
          "symbol": "circle"
         },
         "mode": "lines",
         "name": "raiffeisen",
         "showlegend": true,
         "type": "scattergl",
         "x": [
          "00:00",
          "00:05",
          "00:10",
          "00:15",
          "00:20",
          "00:25",
          "00:30",
          "00:35",
          "00:40",
          "00:45",
          "00:50",
          "00:55",
          "01:00",
          "01:05",
          "01:10",
          "01:15",
          "01:20",
          "01:25",
          "01:30",
          "01:35",
          "01:40",
          "01:45",
          "01:50",
          "01:55",
          "02:00",
          "02:05",
          "02:10",
          "02:15",
          "02:20",
          "02:25",
          "02:30",
          "02:35",
          "02:40",
          "02:45",
          "02:50",
          "02:55",
          "03:00",
          "03:05",
          "03:10",
          "03:15",
          "03:20",
          "03:25",
          "03:30",
          "03:35",
          "03:40",
          "03:45",
          "03:50",
          "03:55",
          "04:00",
          "04:05",
          "04:10",
          "04:15",
          "04:20",
          "04:25",
          "04:30",
          "04:35",
          "04:40",
          "04:45",
          "04:50",
          "04:55",
          "05:00",
          "05:05",
          "05:10",
          "05:15",
          "05:20",
          "05:25",
          "05:30",
          "05:35",
          "05:40",
          "05:45",
          "05:50",
          "05:55",
          "06:00",
          "06:05",
          "06:10",
          "06:15",
          "06:20",
          "06:25",
          "06:30",
          "06:35",
          "06:40",
          "06:45",
          "06:50",
          "06:55",
          "07:00",
          "07:05",
          "07:10",
          "07:15",
          "07:20",
          "07:25",
          "07:30",
          "07:35",
          "07:40",
          "07:45",
          "07:50",
          "07:55",
          "08:00",
          "08:05",
          "08:10",
          "08:15",
          "08:20",
          "08:25",
          "08:30",
          "08:35",
          "08:40",
          "08:45",
          "08:50",
          "08:55",
          "09:00",
          "09:05",
          "09:10",
          "09:15",
          "09:20",
          "09:25",
          "09:30",
          "09:35",
          "09:40",
          "09:45",
          "09:50",
          "09:55",
          "10:00",
          "10:05",
          "10:10",
          "10:15",
          "10:20",
          "10:25",
          "10:30",
          "10:35",
          "10:40",
          "10:45",
          "10:50",
          "10:55",
          "11:00",
          "11:05",
          "11:10",
          "11:15",
          "11:20",
          "11:25",
          "11:30",
          "11:35",
          "11:40",
          "11:45",
          "11:50",
          "11:55",
          "12:00",
          "12:05",
          "12:10",
          "12:15",
          "12:20",
          "12:25",
          "12:30",
          "12:35",
          "12:40",
          "12:45",
          "12:50",
          "12:55",
          "13:00",
          "13:05",
          "13:10",
          "13:15",
          "13:20",
          "13:25",
          "13:30",
          "13:35",
          "13:40",
          "13:45",
          "13:50",
          "13:55",
          "14:00",
          "14:05",
          "14:10",
          "14:15",
          "14:20",
          "14:25",
          "14:30",
          "14:35",
          "14:40",
          "14:45",
          "14:50",
          "14:55",
          "15:00",
          "15:05",
          "15:10",
          "15:15",
          "15:20",
          "15:25",
          "15:30",
          "15:35",
          "15:40",
          "15:45",
          "15:50",
          "15:55",
          "16:00",
          "16:05",
          "16:10",
          "16:15",
          "16:20",
          "16:25",
          "16:30",
          "16:35",
          "16:40",
          "16:45",
          "16:50",
          "16:55",
          "17:00",
          "17:05",
          "17:10",
          "17:15",
          "17:20",
          "17:25",
          "17:30",
          "17:35",
          "17:40",
          "17:45",
          "17:50",
          "17:55",
          "18:00",
          "18:05",
          "18:10",
          "18:15",
          "18:20",
          "18:25",
          "18:30",
          "18:35",
          "18:40",
          "18:45",
          "18:50",
          "18:55",
          "19:00",
          "19:05",
          "19:10",
          "19:15",
          "19:20",
          "19:25",
          "19:30",
          "19:35",
          "19:40",
          "19:45",
          "19:50",
          "19:55",
          "20:00",
          "20:05",
          "20:10",
          "20:15",
          "20:20",
          "20:25",
          "20:30",
          "20:35",
          "20:40",
          "20:45",
          "20:50",
          "20:55",
          "21:00",
          "21:05",
          "21:10",
          "21:15",
          "21:20",
          "21:25",
          "21:30",
          "21:35",
          "21:40",
          "21:45",
          "21:50",
          "21:55",
          "22:00",
          "22:05",
          "22:10",
          "22:15",
          "22:20",
          "22:25",
          "22:30",
          "22:35",
          "22:40",
          "22:45",
          "22:50",
          "22:55",
          "23:00",
          "23:05",
          "23:10",
          "23:15",
          "23:20",
          "23:25",
          "23:30",
          "23:35",
          "23:40",
          "23:45",
          "23:50",
          "23:55"
         ],
         "xaxis": "x",
         "y": {
          "bdata": "vJaQD3o2/T+8lpAPejb9P7yWkA96Nv0/dUp6xa02/T/bYCXNoTb9P9tgJc2hNv0/22AlzaE2/T/bYCXNoTb9P9tgJc2hNv0/22AlzaE2/T/bYCXNoTb9P9tgJc2hNv0/22AlzaE2/T/bYCXNoTb9P9tgJc2hNv0/22AlzaE2/T/bYCXNoTb9P9tgJc2hNv0/22AlzaE2/T/bYCXNoTb9P0QHea7RNv0/RAd5rtE2/T9EB3mu0Tb9P0QHea7RNv0/RAd5rtE2/T9EB3mu0Tb9P0QHea7RNv0/RAd5rtE2/T9EB3mu0Tb9P0QHea7RNv0/RAd5rtE2/T9EB3mu0Tb9P0QHea7RNv0/RAd5rtE2/T9EB3mu0Tb9P0QHea7RNv0/RAd5rtE2/T9EB3mu0Tb9P0QHea7RNv0/RAd5rtE2/T9EB3mu0Tb9P0QHea7RNv0/RAd5rtE2/T9EB3mu0Tb9P0QHea7RNv0/RAd5rtE2/T9EB3mu0Tb9P0QHea7RNv0/RAd5rtE2/T9EB3mu0Tb9P0QHea7RNv0/RAd5rtE2/T9EB3mu0Tb9P0QHea7RNv0/RAd5rtE2/T9EB3mu0Tb9P0QHea7RNv0/RAd5rtE2/T9EB3mu0Tb9P0QHea7RNv0/RAd5rtE2/T9EB3mu0Tb9P9WVNv11ufw/3aj5ub+2/D8cOSsuubr8P7YigCbFuvw/tiKAJsW6/D+2IoAmxbr8P7YigCbFuvw/tiKAJsW6/D+2IoAmxbr8P7YigCbFuvw/52WBPaG6/D/nZYE9obr8P+dlgT2huvw/52WBPaG6/D9s/HASdLz8P2z8cBJ0vPw/AVYdMUS8/D8BVh0xRLz8P2atjgkezPw/0RfDnkHZ/D+NXBkYASX9P6k85yf7Wf0/R9AA555g/T+bDno8E3n9P3Hrydiuef0/KmLxlMd+/T+QhSqT6YH9P+rr2w0qgf0/rfjgaZqA/T/eO+KAdoD9P2rllBKTf/0/DO86vhaA/T9xBebFCoD9P7KIiUPWgP0/Bc/pCp9//T9mVew4V3/9P3oYqYJUff0/unSiHJZ0/T+Ux36lEW/9P9GgXVxFaf0/MxrSk89l/T8patgGHGX9P8tZYsVDX/0/RQwgM6tT/T8GYtLRVUn9P38HAkmPOv0/5gORYyc0/T/kTD6mYSr9P/NlNinHIf0/aaJnqk4c/T8VdiPQ4SP9P9Gt61JzbP0/0qUE4R6G/T+9MJxeNZv9P3oq3v1bnf0/kycI6Cyi/T/j3b/VuaD9P3MKjUrknP0/NheSplSc/T+Yg3jnsJX9P/r87B47kv0/iim6k2WO/T+hfB+3noz9P181m4Xffv0/iTGhBbp0/T+ghAYp83L9PzNBfHdZb/0/PEexPXVp/T/H1kfiNWL9P9mUXadZQ/0/BJFjJzQ5/T//+xPJHhz9PxDuYWj6Cf0/odloDD/2/D9mv8OEJez8P4M6Yc0q0fw/NlBxBebF/D9DshbLhbP8P3zhMLshp/w/YCAmHV2V/D+sLBlEUo38P4ErbD+eevw/qIo77w5t/D9EQFgNY2D8P8GCvlQGVfw/3TGUd8NG/D+K3qW5zET8P7/QEhwaaPw/xilDLiOS/D8W2BOqW6r8P5mn4t2/1fw/IOiWeSre/D8cWO6f7t38P4qO6lpa3vw/8zQ+PIre/D9Ge54DU938PxKO2CXf1vw/7bkKy9DH/D9Nibo7w738P2PPkWjOuPw/x0gGoFi1/D/xUZoWYa78P08u2H2Bp/w/CGQ5abSc/D9YDWNgE5j8P1nmuHyJjvw/bZznz1iJ/D+BOPo1zH38P803X2aTcvw/uKMzcnRk/D9mQ7e9T1/8P9Rfl4tfWfw/Q2cC8exp/D/KjZqf+2v8P5IQLOhLZfw/k/YP++9e/D/mL+LLilr8P6T165D5T/w/DY+xe/tM/D+FdafDGk78PzeyYd9fTPw/5GsBGJdN/D+yT6rkRFf8P2ORC4Vjcvw/+vdFmmF1/D/Y51jzRnP8Py++YZRLcvw/CR7ME/Vv/D/3QPPcm2v8P6Xgdih3Zvw/w0afCPph/D+PZmchtF78P0/WNa26Wvw/Y3/WCVxS/D9jckgTLk/8PyTI+rHYRPw/854ViFhL/D9DVc115Un8P90xlHfDRvw/MwidGMhF/D8dqKn+YET8PzBe2FEwP/w/dVcIvNs5/D+FcAA/QTH8P2DD3Me8K/w/b9zUSiIj/D9Ov1mt2R38P2xMLHHmIvw/xr9r4lQl/D/CPFH/Rij8P8I8Uf9GKPw/SlZbtycn/D/3Am35MCX8P4OfkZQfIfw/Wm9TOo0e/D+a5WjBKhz8PxLMXglKHfw/sTjO5GMa/D+h652HRhb8Pxur6evbDfw/GtKTz2UX/D8pEjY2VRj8P6HrnYdGFvw/oeudh0YW/D+Li6pt3xT8P9ekK4sCEPw/WJ7kj2sO/D8Ma0eF7Az8P8E3qnptC/w/RbR9YuQG/D9qVBPjOgn8PxZcB+OFHfw/YY+k7QQf/D/JXKKyvij8P412NQVdK/w/WKOLFEUr/D/GzPnYgij8PyhGbhANJfw/3RLRBY4j/D8syYjzGiL8P/cCbfkwJfw/e4zO19Uj/D+djy2IwiL8P41cGRgBJfw/0W9lbwgm/D8LxilDLiP8P0a5JOe9I/w/FXYj0OEj/D+djy2IwiL8P0BLf2wyEPw/eqFDQFgN/D+nVJx9+Az8PzL+Tg8VDPw/J0HHizMI/D9gl4tfWQX8P+ejByEMAfw/Cadm0fj/+z/d5n+dKv37P4YD6QX4+vs/ygmnZtH4+z9E4w64wvb7P48JHswT9fs/7f93IJD0+z9XpssBwPT7P1aG861QJvw/JoJ1XXo4/D8SCePorFP8P6CzCXFnY/w/eXFgNVV1/D90shW2o3n8P8/YVjFYMP0/RrgK5BY0/T/lX4rw8jP9PwhpC8teNP0/EywOZ341/T8/92NWrjX9Py1zuiwmNv0/Wz4QHFY2/T9bPhAcVjb9P1s+EBxWNv0/Wz4QHFY2/T9bPhAcVjb9P1s+EBxWNv0/Wz4QHFY2/T+8lpAPejb9P7yWkA96Nv0/",
          "dtype": "f8"
         },
         "yaxis": "y"
        },
        {
         "hovertemplate": "brand_clean=shell<br>time_of_day=%{x}<br>e5=%{y}<extra></extra>",
         "legendgroup": "shell",
         "line": {
          "color": "#ED1C24",
          "dash": "solid"
         },
         "marker": {
          "symbol": "circle"
         },
         "mode": "lines",
         "name": "shell",
         "showlegend": true,
         "type": "scattergl",
         "x": [
          "00:00",
          "00:05",
          "00:10",
          "00:15",
          "00:20",
          "00:25",
          "00:30",
          "00:35",
          "00:40",
          "00:45",
          "00:50",
          "00:55",
          "01:00",
          "01:05",
          "01:10",
          "01:15",
          "01:20",
          "01:25",
          "01:30",
          "01:35",
          "01:40",
          "01:45",
          "01:50",
          "01:55",
          "02:00",
          "02:05",
          "02:10",
          "02:15",
          "02:20",
          "02:25",
          "02:30",
          "02:35",
          "02:40",
          "02:45",
          "02:50",
          "02:55",
          "03:00",
          "03:05",
          "03:10",
          "03:15",
          "03:20",
          "03:25",
          "03:30",
          "03:35",
          "03:40",
          "03:45",
          "03:50",
          "03:55",
          "04:00",
          "04:05",
          "04:10",
          "04:15",
          "04:20",
          "04:25",
          "04:30",
          "04:35",
          "04:40",
          "04:45",
          "04:50",
          "04:55",
          "05:00",
          "05:05",
          "05:10",
          "05:15",
          "05:20",
          "05:25",
          "05:30",
          "05:35",
          "05:40",
          "05:45",
          "05:50",
          "05:55",
          "06:00",
          "06:05",
          "06:10",
          "06:15",
          "06:20",
          "06:25",
          "06:30",
          "06:35",
          "06:40",
          "06:45",
          "06:50",
          "06:55",
          "07:00",
          "07:05",
          "07:10",
          "07:15",
          "07:20",
          "07:25",
          "07:30",
          "07:35",
          "07:40",
          "07:45",
          "07:50",
          "07:55",
          "08:00",
          "08:05",
          "08:10",
          "08:15",
          "08:20",
          "08:25",
          "08:30",
          "08:35",
          "08:40",
          "08:45",
          "08:50",
          "08:55",
          "09:00",
          "09:05",
          "09:10",
          "09:15",
          "09:20",
          "09:25",
          "09:30",
          "09:35",
          "09:40",
          "09:45",
          "09:50",
          "09:55",
          "10:00",
          "10:05",
          "10:10",
          "10:15",
          "10:20",
          "10:25",
          "10:30",
          "10:35",
          "10:40",
          "10:45",
          "10:50",
          "10:55",
          "11:00",
          "11:05",
          "11:10",
          "11:15",
          "11:20",
          "11:25",
          "11:30",
          "11:35",
          "11:40",
          "11:45",
          "11:50",
          "11:55",
          "12:00",
          "12:05",
          "12:10",
          "12:15",
          "12:20",
          "12:25",
          "12:30",
          "12:35",
          "12:40",
          "12:45",
          "12:50",
          "12:55",
          "13:00",
          "13:05",
          "13:10",
          "13:15",
          "13:20",
          "13:25",
          "13:30",
          "13:35",
          "13:40",
          "13:45",
          "13:50",
          "13:55",
          "14:00",
          "14:05",
          "14:10",
          "14:15",
          "14:20",
          "14:25",
          "14:30",
          "14:35",
          "14:40",
          "14:45",
          "14:50",
          "14:55",
          "15:00",
          "15:05",
          "15:10",
          "15:15",
          "15:20",
          "15:25",
          "15:30",
          "15:35",
          "15:40",
          "15:45",
          "15:50",
          "15:55",
          "16:00",
          "16:05",
          "16:10",
          "16:15",
          "16:20",
          "16:25",
          "16:30",
          "16:35",
          "16:40",
          "16:45",
          "16:50",
          "16:55",
          "17:00",
          "17:05",
          "17:10",
          "17:15",
          "17:20",
          "17:25",
          "17:30",
          "17:35",
          "17:40",
          "17:45",
          "17:50",
          "17:55",
          "18:00",
          "18:05",
          "18:10",
          "18:15",
          "18:20",
          "18:25",
          "18:30",
          "18:35",
          "18:40",
          "18:45",
          "18:50",
          "18:55",
          "19:00",
          "19:05",
          "19:10",
          "19:15",
          "19:20",
          "19:25",
          "19:30",
          "19:35",
          "19:40",
          "19:45",
          "19:50",
          "19:55",
          "20:00",
          "20:05",
          "20:10",
          "20:15",
          "20:20",
          "20:25",
          "20:30",
          "20:35",
          "20:40",
          "20:45",
          "20:50",
          "20:55",
          "21:00",
          "21:05",
          "21:10",
          "21:15",
          "21:20",
          "21:25",
          "21:30",
          "21:35",
          "21:40",
          "21:45",
          "21:50",
          "21:55",
          "22:00",
          "22:05",
          "22:10",
          "22:15",
          "22:20",
          "22:25",
          "22:30",
          "22:35",
          "22:40",
          "22:45",
          "22:50",
          "22:55",
          "23:00",
          "23:05",
          "23:10",
          "23:15",
          "23:20",
          "23:25",
          "23:30",
          "23:35",
          "23:40",
          "23:45",
          "23:50",
          "23:55"
         ],
         "xaxis": "x",
         "y": {
          "bdata": "9P/rXivi/D/0/+teK+L8P/T/614r4vw/9P/rXivi/D/0/+teK+L8P/T/614r4vw/9P/rXivi/D/0/+teK+L8P/T/614r4vw/9P/rXivi/D/0/+teK+L8P/T/614r4vw/9P/rXivi/D/0/+teK+L8P/T/614r4vw/9P/rXivi/D/0/+teK+L8P/T/614r4vw/9P/rXivi/D/0/+teK+L8P/T/614r4vw/9P/rXivi/D9ie6tx9eH8P2J7q3H14fw/YnurcfXh/D9ie6tx9eH8P2J7q3H14fw/YnurcfXh/D9ie6tx9eH8P2J7q3H14fw/YnurcfXh/D9ie6tx9eH8P2J7q3H14fw/YnurcfXh/D9ie6tx9eH8P2J7q3H14fw/YnurcfXh/D9ie6tx9eH8P2J7q3H14fw/YnurcfXh/D9ie6tx9eH8P2J7q3H14fw/YnurcfXh/D9ie6tx9eH8P2J7q3H14fw/YnurcfXh/D9ie6tx9eH8P2J7q3H14fw/YnurcfXh/D9ie6tx9eH8P2J7q3H14fw/YnurcfXh/D9ie6tx9eH8P2J7q3H14fw/YnurcfXh/D9ie6tx9eH8P2J7q3H14fw/YnurcfXh/D9ie6tx9eH8P2J7q3H14fw/YnurcfXh/D8GmkjljS79P07/77XtLv0/TGIPrf8u/T9MYg+t/y79P0xiD63/Lv0/TGIPrf8u/T9MYg+t/y79P0xiD63/Lv0/TGIPrf8u/T9MYg+t/y79P0xiD63/Lv0/TGIPrf8u/T9MYg+t/y79P0xiD63/Lv0/TGIPrf8u/T9MYg+t/y79P0xiD63/Lv0/TGIPrf8u/T+4z4Ta1wr+PzaO9+hQDP4/nzRLyoAM/j+fNEvKgAz+P580S8qADP4/0r8gznoM/j/SvyDOegz+PzaO9+hQDP4/zeejByEM/j9liSQTDwz+P7Q/3ACcCv4/tD/cAJwK/j+uZ186Qgr+P08PFQxMBP4/DPzItEQD/j94MsVvsAP+P8/7PxqH//0/GkRSjYjq/T/+C+Ksx+j9P0SqL1kxzf0/l9ZzM57F/T8utBOLmLj9PwVdK018rP0/VXAskKmU/T9MWMJOhnr9P6vFgeX+af0/v1QGVURb/T/JlYERUFL9P/Tm6XR2S/0/Hv0L4qxH/T9bLo1ppw7+PyJCoOFP/v0/3weqpr7z/T9NUNvcMRT+P8OMDF65Dv4/LCbSSLsL/j9BJNWIqAb+P2UNGEw5//0/BbXNHUP5/T/690WaYfX9P+SXUoD68/0/wD+R7MHx/T+sJ3K/ePD9P9Gt61Jz7P0/dvLX9Obp/T8TgUovsdP9P5YKrA1W0v0/jZX4dpLO/T9xUPqfo8n9P3vX4rFubf0/uXyJjupa/T+4d+IJET79P3eSTrLLNv0/uimOQv0q/T9z4+JmWhP9Pw43D6s0AP0/CR7ME/Xv/D/X/M1bydz8PxNaoEsnyvw/eAHNgnPA/D9RDNUe0br8PxbLhbMtp/w//38HAkmP/D9EUo2IaoD8P/GPIPrLdPw/e9fisW5t/D/Opt02O/z8PywHD9eF6Pw/1NujUjXm/D/CetfisW79P7GD4r78Y/0/4HGB8oxg/T9P48Oj6F39P4qO6lpaXv0/zpSouzNc/T+TU1lQkEj9P0ywZB9NR/0/fdlJSc1A/T/PykctSjz9PxrN7EqM+vw/4k9+k9zz/D9qT2xeYez8PyTnvSMO6Pw/rJFJC0fd/D+LWrKAotH8Py+SECzoy/w/DC3BoYHG/D8GUJ1WTqn8P62OCR7Mk/w/VWOemXuR/D9B5k6lPcD8P1iwGQtzrvw/pvdSKFij/D+P0D5tgsv8PwAb1zpUv/w/1YioBki2/D/fvJXMJar8P/za6b+Kpfw/J/ELLcGh/D9e4Diik/v8Px6tUIM64fw//9ep0g/c/D/uQqWI1Nf8PyPq/RCJsfw/n1MOPLav/D/iEfivca38Pzow1T2UrPw/V04pMfmn/D9mgT2huqX8P819zLtSn/w/b1M6jR6T/D+I7nOddZH8P6w5pzqAkPw/28VVlJaG/D+6JOe9I478PxRxfEsIh/w/p7Hl0ph2/D9ovIOXqqL8P3sQwhAAl/w/2zTUZD6Q/D+sLBlEUo38P1sUcXxLiPw/YXDhe897/D85/9xQV2n8P+eeYJwyZPw/8fn3RZph/D/R5sqxBJb8P53Ns2stafw/4sbj1dhj/D+kfoZO/V/8P6Rx+FfPXPw/dWk9N+NZ/D+JLPqA4Ff8PxYR8wjtU/w/1Tjtp9VP/D/ls9UEtU38P3FdiJbRTPw/+XaSTrJL/D/AOupn6FT8P+aZuRdZR/w/v7FPquRE/D8sFJ3Ns2v8P9uMdjUFXfw/QXx3WW9T/D/VOO2n1U/8Py5KPD/KS/w/2/ZNgdNJ/D9UqQvvOj78P3o8E3ljPfw/jf/PwmA7/D9DhsViIo38P+kAUXasavw/Tgpuh3Jn/D9IMvHAGGf8P91DyfLKZvw/ynN+sp9l/D8HWutfAWP8P4qO6lpaXvw/KPtZNnRb/D+G8bOK8Fr8P+Yv4suKWvw/23/oPtdZ/D922LsHi2P8P/7xxb9rYvw/qVYDFVdg/D/UFIOxxo/8P03UzhVch/w/RFKNiGqA/D+uzI8BN1r8P4/qWlreUfw/r5hXJ39N/D89YzTCL0P8Py8jkltAQvw/DROltCVA/D/k4mZakz38P9Fi13jaIvw/aK/1oHwf/D9e//sTyR78P7FFXNuRHfw/wHhwS1Mb/D9jvVztxhj8P9Iun54iFvw/OTi8r+gS/D9lo0AAaxL8PyiwRVzbEfw/ijZIipMR/D/ujIlHL/v8P2jdQwMz4/w/dQCDItni/D/auW0g3+L8P+w9F0pn4vw/jkYBYSXi/D+Tp2trB+L8P5Ona2sH4vw/k6drawfi/D+Tp2trB+L8P5Ona2sH4vw/k6drawfi/D+Tp2trB+L8P5Ona2sH4vw/k6drawfi/D+Tp2trB+L8P5Ona2sH4vw/k6drawfi/D+Tp2trB+L8P5Ona2sH4vw/k6drawfi/D/0/+teK+L8P/T/614r4vw/",
          "dtype": "f8"
         },
         "yaxis": "y"
        }
       ],
       "layout": {
        "height": 800,
        "legend": {
         "font": {
          "size": 14
         },
         "title": {
          "font": {
           "size": 16
          },
          "text": "Brand"
         },
         "tracegroupgap": 0
        },
        "margin": {
         "b": 40,
         "l": 40,
         "r": 40,
         "t": 60
        },
        "shapes": [
         {
          "line": {
           "color": "#ff8019",
           "width": 2
          },
          "type": "line",
          "x0": "07:20",
          "x1": "07:20",
          "y0": 0,
          "y1": 1,
          "yref": "paper"
         },
         {
          "line": {
           "color": "#ff8019",
           "width": 2
          },
          "type": "line",
          "x0": "09:50",
          "x1": "09:50",
          "y0": 0,
          "y1": 1,
          "yref": "paper"
         },
         {
          "line": {
           "color": "#ff8019",
           "width": 2
          },
          "type": "line",
          "x0": "12:50",
          "x1": "12:50",
          "y0": 0,
          "y1": 1,
          "yref": "paper"
         },
         {
          "line": {
           "color": "#ff8019",
           "width": 2
          },
          "type": "line",
          "x0": "21:50",
          "x1": "21:50",
          "y0": 0,
          "y1": 1,
          "yref": "paper"
         }
        ],
        "template": {
         "data": {
          "bar": [
           {
            "error_x": {
             "color": "#2a3f5f"
            },
            "error_y": {
             "color": "#2a3f5f"
            },
            "marker": {
             "line": {
              "color": "white",
              "width": 0.5
             },
             "pattern": {
              "fillmode": "overlay",
              "size": 10,
              "solidity": 0.2
             }
            },
            "type": "bar"
           }
          ],
          "barpolar": [
           {
            "marker": {
             "line": {
              "color": "white",
              "width": 0.5
             },
             "pattern": {
              "fillmode": "overlay",
              "size": 10,
              "solidity": 0.2
             }
            },
            "type": "barpolar"
           }
          ],
          "carpet": [
           {
            "aaxis": {
             "endlinecolor": "#2a3f5f",
             "gridcolor": "#C8D4E3",
             "linecolor": "#C8D4E3",
             "minorgridcolor": "#C8D4E3",
             "startlinecolor": "#2a3f5f"
            },
            "baxis": {
             "endlinecolor": "#2a3f5f",
             "gridcolor": "#C8D4E3",
             "linecolor": "#C8D4E3",
             "minorgridcolor": "#C8D4E3",
             "startlinecolor": "#2a3f5f"
            },
            "type": "carpet"
           }
          ],
          "choropleth": [
           {
            "colorbar": {
             "outlinewidth": 0,
             "ticks": ""
            },
            "type": "choropleth"
           }
          ],
          "contour": [
           {
            "colorbar": {
             "outlinewidth": 0,
             "ticks": ""
            },
            "colorscale": [
             [
              0,
              "#0d0887"
             ],
             [
              0.1111111111111111,
              "#46039f"
             ],
             [
              0.2222222222222222,
              "#7201a8"
             ],
             [
              0.3333333333333333,
              "#9c179e"
             ],
             [
              0.4444444444444444,
              "#bd3786"
             ],
             [
              0.5555555555555556,
              "#d8576b"
             ],
             [
              0.6666666666666666,
              "#ed7953"
             ],
             [
              0.7777777777777778,
              "#fb9f3a"
             ],
             [
              0.8888888888888888,
              "#fdca26"
             ],
             [
              1,
              "#f0f921"
             ]
            ],
            "type": "contour"
           }
          ],
          "contourcarpet": [
           {
            "colorbar": {
             "outlinewidth": 0,
             "ticks": ""
            },
            "type": "contourcarpet"
           }
          ],
          "heatmap": [
           {
            "colorbar": {
             "outlinewidth": 0,
             "ticks": ""
            },
            "colorscale": [
             [
              0,
              "#0d0887"
             ],
             [
              0.1111111111111111,
              "#46039f"
             ],
             [
              0.2222222222222222,
              "#7201a8"
             ],
             [
              0.3333333333333333,
              "#9c179e"
             ],
             [
              0.4444444444444444,
              "#bd3786"
             ],
             [
              0.5555555555555556,
              "#d8576b"
             ],
             [
              0.6666666666666666,
              "#ed7953"
             ],
             [
              0.7777777777777778,
              "#fb9f3a"
             ],
             [
              0.8888888888888888,
              "#fdca26"
             ],
             [
              1,
              "#f0f921"
             ]
            ],
            "type": "heatmap"
           }
          ],
          "histogram": [
           {
            "marker": {
             "pattern": {
              "fillmode": "overlay",
              "size": 10,
              "solidity": 0.2
             }
            },
            "type": "histogram"
           }
          ],
          "histogram2d": [
           {
            "colorbar": {
             "outlinewidth": 0,
             "ticks": ""
            },
            "colorscale": [
             [
              0,
              "#0d0887"
             ],
             [
              0.1111111111111111,
              "#46039f"
             ],
             [
              0.2222222222222222,
              "#7201a8"
             ],
             [
              0.3333333333333333,
              "#9c179e"
             ],
             [
              0.4444444444444444,
              "#bd3786"
             ],
             [
              0.5555555555555556,
              "#d8576b"
             ],
             [
              0.6666666666666666,
              "#ed7953"
             ],
             [
              0.7777777777777778,
              "#fb9f3a"
             ],
             [
              0.8888888888888888,
              "#fdca26"
             ],
             [
              1,
              "#f0f921"
             ]
            ],
            "type": "histogram2d"
           }
          ],
          "histogram2dcontour": [
           {
            "colorbar": {
             "outlinewidth": 0,
             "ticks": ""
            },
            "colorscale": [
             [
              0,
              "#0d0887"
             ],
             [
              0.1111111111111111,
              "#46039f"
             ],
             [
              0.2222222222222222,
              "#7201a8"
             ],
             [
              0.3333333333333333,
              "#9c179e"
             ],
             [
              0.4444444444444444,
              "#bd3786"
             ],
             [
              0.5555555555555556,
              "#d8576b"
             ],
             [
              0.6666666666666666,
              "#ed7953"
             ],
             [
              0.7777777777777778,
              "#fb9f3a"
             ],
             [
              0.8888888888888888,
              "#fdca26"
             ],
             [
              1,
              "#f0f921"
             ]
            ],
            "type": "histogram2dcontour"
           }
          ],
          "mesh3d": [
           {
            "colorbar": {
             "outlinewidth": 0,
             "ticks": ""
            },
            "type": "mesh3d"
           }
          ],
          "parcoords": [
           {
            "line": {
             "colorbar": {
              "outlinewidth": 0,
              "ticks": ""
             }
            },
            "type": "parcoords"
           }
          ],
          "pie": [
           {
            "automargin": true,
            "type": "pie"
           }
          ],
          "scatter": [
           {
            "fillpattern": {
             "fillmode": "overlay",
             "size": 10,
             "solidity": 0.2
            },
            "type": "scatter"
           }
          ],
          "scatter3d": [
           {
            "line": {
             "colorbar": {
              "outlinewidth": 0,
              "ticks": ""
             }
            },
            "marker": {
             "colorbar": {
              "outlinewidth": 0,
              "ticks": ""
             }
            },
            "type": "scatter3d"
           }
          ],
          "scattercarpet": [
           {
            "marker": {
             "colorbar": {
              "outlinewidth": 0,
              "ticks": ""
             }
            },
            "type": "scattercarpet"
           }
          ],
          "scattergeo": [
           {
            "marker": {
             "colorbar": {
              "outlinewidth": 0,
              "ticks": ""
             }
            },
            "type": "scattergeo"
           }
          ],
          "scattergl": [
           {
            "marker": {
             "colorbar": {
              "outlinewidth": 0,
              "ticks": ""
             }
            },
            "type": "scattergl"
           }
          ],
          "scattermap": [
           {
            "marker": {
             "colorbar": {
              "outlinewidth": 0,
              "ticks": ""
             }
            },
            "type": "scattermap"
           }
          ],
          "scattermapbox": [
           {
            "marker": {
             "colorbar": {
              "outlinewidth": 0,
              "ticks": ""
             }
            },
            "type": "scattermapbox"
           }
          ],
          "scatterpolar": [
           {
            "marker": {
             "colorbar": {
              "outlinewidth": 0,
              "ticks": ""
             }
            },
            "type": "scatterpolar"
           }
          ],
          "scatterpolargl": [
           {
            "marker": {
             "colorbar": {
              "outlinewidth": 0,
              "ticks": ""
             }
            },
            "type": "scatterpolargl"
           }
          ],
          "scatterternary": [
           {
            "marker": {
             "colorbar": {
              "outlinewidth": 0,
              "ticks": ""
             }
            },
            "type": "scatterternary"
           }
          ],
          "surface": [
           {
            "colorbar": {
             "outlinewidth": 0,
             "ticks": ""
            },
            "colorscale": [
             [
              0,
              "#0d0887"
             ],
             [
              0.1111111111111111,
              "#46039f"
             ],
             [
              0.2222222222222222,
              "#7201a8"
             ],
             [
              0.3333333333333333,
              "#9c179e"
             ],
             [
              0.4444444444444444,
              "#bd3786"
             ],
             [
              0.5555555555555556,
              "#d8576b"
             ],
             [
              0.6666666666666666,
              "#ed7953"
             ],
             [
              0.7777777777777778,
              "#fb9f3a"
             ],
             [
              0.8888888888888888,
              "#fdca26"
             ],
             [
              1,
              "#f0f921"
             ]
            ],
            "type": "surface"
           }
          ],
          "table": [
           {
            "cells": {
             "fill": {
              "color": "#EBF0F8"
             },
             "line": {
              "color": "white"
             }
            },
            "header": {
             "fill": {
              "color": "#C8D4E3"
             },
             "line": {
              "color": "white"
             }
            },
            "type": "table"
           }
          ]
         },
         "layout": {
          "annotationdefaults": {
           "arrowcolor": "#2a3f5f",
           "arrowhead": 0,
           "arrowwidth": 1
          },
          "autotypenumbers": "strict",
          "coloraxis": {
           "colorbar": {
            "outlinewidth": 0,
            "ticks": ""
           }
          },
          "colorscale": {
           "diverging": [
            [
             0,
             "#8e0152"
            ],
            [
             0.1,
             "#c51b7d"
            ],
            [
             0.2,
             "#de77ae"
            ],
            [
             0.3,
             "#f1b6da"
            ],
            [
             0.4,
             "#fde0ef"
            ],
            [
             0.5,
             "#f7f7f7"
            ],
            [
             0.6,
             "#e6f5d0"
            ],
            [
             0.7,
             "#b8e186"
            ],
            [
             0.8,
             "#7fbc41"
            ],
            [
             0.9,
             "#4d9221"
            ],
            [
             1,
             "#276419"
            ]
           ],
           "sequential": [
            [
             0,
             "#0d0887"
            ],
            [
             0.1111111111111111,
             "#46039f"
            ],
            [
             0.2222222222222222,
             "#7201a8"
            ],
            [
             0.3333333333333333,
             "#9c179e"
            ],
            [
             0.4444444444444444,
             "#bd3786"
            ],
            [
             0.5555555555555556,
             "#d8576b"
            ],
            [
             0.6666666666666666,
             "#ed7953"
            ],
            [
             0.7777777777777778,
             "#fb9f3a"
            ],
            [
             0.8888888888888888,
             "#fdca26"
            ],
            [
             1,
             "#f0f921"
            ]
           ],
           "sequentialminus": [
            [
             0,
             "#0d0887"
            ],
            [
             0.1111111111111111,
             "#46039f"
            ],
            [
             0.2222222222222222,
             "#7201a8"
            ],
            [
             0.3333333333333333,
             "#9c179e"
            ],
            [
             0.4444444444444444,
             "#bd3786"
            ],
            [
             0.5555555555555556,
             "#d8576b"
            ],
            [
             0.6666666666666666,
             "#ed7953"
            ],
            [
             0.7777777777777778,
             "#fb9f3a"
            ],
            [
             0.8888888888888888,
             "#fdca26"
            ],
            [
             1,
             "#f0f921"
            ]
           ]
          },
          "colorway": [
           "#636efa",
           "#EF553B",
           "#00cc96",
           "#ab63fa",
           "#FFA15A",
           "#19d3f3",
           "#FF6692",
           "#B6E880",
           "#FF97FF",
           "#FECB52"
          ],
          "font": {
           "color": "#2a3f5f"
          },
          "geo": {
           "bgcolor": "white",
           "lakecolor": "white",
           "landcolor": "white",
           "showlakes": true,
           "showland": true,
           "subunitcolor": "#C8D4E3"
          },
          "hoverlabel": {
           "align": "left"
          },
          "hovermode": "closest",
          "mapbox": {
           "style": "light"
          },
          "paper_bgcolor": "white",
          "plot_bgcolor": "white",
          "polar": {
           "angularaxis": {
            "gridcolor": "#EBF0F8",
            "linecolor": "#EBF0F8",
            "ticks": ""
           },
           "bgcolor": "white",
           "radialaxis": {
            "gridcolor": "#EBF0F8",
            "linecolor": "#EBF0F8",
            "ticks": ""
           }
          },
          "scene": {
           "xaxis": {
            "backgroundcolor": "white",
            "gridcolor": "#DFE8F3",
            "gridwidth": 2,
            "linecolor": "#EBF0F8",
            "showbackground": true,
            "ticks": "",
            "zerolinecolor": "#EBF0F8"
           },
           "yaxis": {
            "backgroundcolor": "white",
            "gridcolor": "#DFE8F3",
            "gridwidth": 2,
            "linecolor": "#EBF0F8",
            "showbackground": true,
            "ticks": "",
            "zerolinecolor": "#EBF0F8"
           },
           "zaxis": {
            "backgroundcolor": "white",
            "gridcolor": "#DFE8F3",
            "gridwidth": 2,
            "linecolor": "#EBF0F8",
            "showbackground": true,
            "ticks": "",
            "zerolinecolor": "#EBF0F8"
           }
          },
          "shapedefaults": {
           "line": {
            "color": "#2a3f5f"
           }
          },
          "ternary": {
           "aaxis": {
            "gridcolor": "#DFE8F3",
            "linecolor": "#A2B1C6",
            "ticks": ""
           },
           "baxis": {
            "gridcolor": "#DFE8F3",
            "linecolor": "#A2B1C6",
            "ticks": ""
           },
           "bgcolor": "white",
           "caxis": {
            "gridcolor": "#DFE8F3",
            "linecolor": "#A2B1C6",
            "ticks": ""
           }
          },
          "title": {
           "x": 0.05
          },
          "xaxis": {
           "automargin": true,
           "gridcolor": "#EBF0F8",
           "linecolor": "#EBF0F8",
           "ticks": "",
           "title": {
            "standoff": 15
           },
           "zerolinecolor": "#EBF0F8",
           "zerolinewidth": 2
          },
          "yaxis": {
           "automargin": true,
           "gridcolor": "#EBF0F8",
           "linecolor": "#EBF0F8",
           "ticks": "",
           "title": {
            "standoff": 15
           },
           "zerolinecolor": "#EBF0F8",
           "zerolinewidth": 2
          }
         }
        },
        "title": {
         "font": {
          "size": 20
         },
         "text": "Average e5 price in Germany per day"
        },
        "width": 1500,
        "xaxis": {
         "anchor": "y",
         "domain": [
          0,
          1
         ],
         "tickfont": {
          "size": 18
         },
         "title": {
          "font": {
           "size": 20
          },
          "text": "Time"
         }
        },
        "yaxis": {
         "anchor": "x",
         "domain": [
          0,
          1
         ],
         "tickfont": {
          "size": 18
         },
         "title": {
          "font": {
           "size": 20
          },
          "text": "Price in €/l"
         }
        }
       }
      }
     },
     "metadata": {},
     "output_type": "display_data"
    }
   ],
   "source": [
    "fig.update_layout(\n",
    "    xaxis=dict(\n",
    "        title=dict(\n",
    "            text=\"Time\",\n",
    "            font=dict(size=20)\n",
    "        ),\n",
    "        tickfont=dict(size=18)\n",
    "    ),\n",
    "    yaxis=dict(\n",
    "        title=dict(\n",
    "            text=\"Price in €/l\",\n",
    "            font=dict(size=20)\n",
    "        ),\n",
    "        tickfont=dict(size=18)\n",
    "    ),\n",
    "    legend_title=\"Brand\",\n",
    "    legend_title_font_size=16,\n",
    "    legend_font_size=14,\n",
    "    template=\"plotly_white\",\n",
    "    shapes=[\n",
    "        # 7:20 line\n",
    "        dict(\n",
    "            type=\"line\",\n",
    "            x0=\"07:20\", x1=\"07:20\",\n",
    "            y0=0, y1=1,\n",
    "            yref=\"paper\",\n",
    "            line=dict(color=\"#ff8019\", width=2)\n",
    "        ),\n",
    "        # 9:50 line\n",
    "        dict(\n",
    "            type=\"line\",\n",
    "            x0=\"09:50\", x1=\"09:50\",\n",
    "            y0=0, y1=1,\n",
    "            yref=\"paper\",\n",
    "            line=dict(color=\"#ff8019\", width=2)\n",
    "        ),\n",
    "        # 12:50 line\n",
    "        dict(\n",
    "            type=\"line\",\n",
    "            x0=\"12:50\", x1=\"12:50\",\n",
    "            y0=0, y1=1,\n",
    "            yref=\"paper\",\n",
    "            line=dict(color=\"#ff8019\", width=2)\n",
    "        ),\n",
    "        # 21:50 line\n",
    "        dict(\n",
    "            type=\"line\",\n",
    "            x0=\"21:50\", x1=\"21:50\",\n",
    "            y0=0, y1=1,\n",
    "            yref=\"paper\",\n",
    "            line=dict(color=\"#ff8019\", width=2)\n",
    "        )\n",
    "    ]\n",
    ")\n",
    "fig.show()"
   ]
  },
  {
   "cell_type": "markdown",
   "id": "64d2b259",
   "metadata": {},
   "source": [
    "# Resampling"
   ]
  },
  {
   "cell_type": "code",
   "execution_count": 9,
   "id": "fd1062fc",
   "metadata": {},
   "outputs": [
    {
     "data": {
      "text/plain": [
       "['add_seasonal', 'resample', 'resample_with_seasonality', 'train_test_split']"
      ]
     },
     "execution_count": 9,
     "metadata": {},
     "output_type": "execute_result"
    }
   ],
   "source": [
    "import functions_laura.Data_processing as dp\n",
    "\n",
    "function_names = [\n",
    "    name for name, func in inspect.getmembers(dp, inspect.isfunction)\n",
    "    if func.__module__ == dp.__name__\n",
    "]\n",
    "function_names"
   ]
  },
  {
   "cell_type": "code",
   "execution_count": 10,
   "id": "59cb0584",
   "metadata": {},
   "outputs": [],
   "source": [
    "df_resampled = dp.resample(df)"
   ]
  },
  {
   "cell_type": "code",
   "execution_count": 15,
   "id": "302f921d",
   "metadata": {},
   "outputs": [],
   "source": [
    "df_seasonal = dp.resample_with_seasonality(df)"
   ]
  },
  {
   "cell_type": "code",
   "execution_count": 16,
   "id": "677677f9",
   "metadata": {},
   "outputs": [
    {
     "name": "stdout",
     "output_type": "stream",
     "text": [
      "<class 'pandas.core.frame.DataFrame'>\n",
      "Index: 252265 entries, 1 to 252265\n",
      "Data columns (total 3 columns):\n",
      " #   Column              Non-Null Count   Dtype         \n",
      "---  ------              --------------   -----         \n",
      " 0   datetime            252265 non-null  datetime64[ns]\n",
      " 1   seasonal_component  252264 non-null  float64       \n",
      " 2   e5                  252265 non-null  float64       \n",
      "dtypes: datetime64[ns](1), float64(2)\n",
      "memory usage: 7.7 MB\n"
     ]
    }
   ],
   "source": [
    "df_seasonal.info()"
   ]
  }
 ],
 "metadata": {
  "kernelspec": {
   "display_name": ".venv",
   "language": "python",
   "name": "python3"
  },
  "language_info": {
   "codemirror_mode": {
    "name": "ipython",
    "version": 3
   },
   "file_extension": ".py",
   "mimetype": "text/x-python",
   "name": "python",
   "nbconvert_exporter": "python",
   "pygments_lexer": "ipython3",
   "version": "3.11.3"
  }
 },
 "nbformat": 4,
 "nbformat_minor": 5
}
