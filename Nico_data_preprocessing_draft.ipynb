{
 "cells": [
  {
   "cell_type": "markdown",
   "id": "2dab541e",
   "metadata": {},
   "source": [
    "# Testing file for oil and exchange data"
   ]
  },
  {
   "cell_type": "code",
   "execution_count": 1,
   "id": "9c5cb5f2",
   "metadata": {},
   "outputs": [],
   "source": [
    "# Import packages\n",
    "import pandas as pd\n",
    "import numpy as np\n",
    "import seaborn as sns\n",
    "import matplotlib.pyplot as plt\n",
    "from datetime import datetime, date, time, timedelta\n",
    "\n",
    "from functions_nico.nico_preprocessing import load_data, merge_oil, merge_ex_rate, get_oil_euro"
   ]
  },
  {
   "cell_type": "code",
   "execution_count": 2,
   "id": "876f5c7e",
   "metadata": {},
   "outputs": [
    {
     "data": {
      "application/vnd.microsoft.datawrangler.viewer.v0+json": {
       "columns": [
        {
         "name": "index",
         "rawType": "int64",
         "type": "integer"
        },
        {
         "name": "station_uuid",
         "rawType": "object",
         "type": "string"
        },
        {
         "name": "name",
         "rawType": "object",
         "type": "string"
        },
        {
         "name": "datetime",
         "rawType": "datetime64[ns]",
         "type": "datetime"
        },
        {
         "name": "e5",
         "rawType": "float64",
         "type": "float"
        },
        {
         "name": "oilprice",
         "rawType": "float64",
         "type": "float"
        },
        {
         "name": "oilprice_monthly_avg",
         "rawType": "float64",
         "type": "float"
        },
        {
         "name": "exchange_rate",
         "rawType": "float64",
         "type": "float"
        },
        {
         "name": "oilprice_euro",
         "rawType": "float64",
         "type": "float"
        }
       ],
       "ref": "569c53cc-aa4d-4a0d-bfe2-a7c7dd7564fe",
       "rows": [
        [
         "2143092",
         "fb0f8030-c1eb-4df1-9410-054eea7422ad",
         "Aral Tankstelle",
         "2025-05-25 22:40:00",
         "1.679",
         "65.41",
         "64.23",
         "1.1301",
         "57.88"
        ],
        [
         "2143093",
         "fb0f8030-c1eb-4df1-9410-054eea7422ad",
         "Aral Tankstelle",
         "2025-05-25 22:45:00",
         "1.679",
         "65.41",
         "64.23",
         "1.1301",
         "57.88"
        ],
        [
         "2143094",
         "fb0f8030-c1eb-4df1-9410-054eea7422ad",
         "Aral Tankstelle",
         "2025-05-25 22:50:00",
         "1.679",
         "65.41",
         "64.23",
         "1.1301",
         "57.88"
        ],
        [
         "2143095",
         "fb0f8030-c1eb-4df1-9410-054eea7422ad",
         "Aral Tankstelle",
         "2025-05-25 22:55:00",
         "1.679",
         "65.41",
         "64.23",
         "1.1301",
         "57.88"
        ],
        [
         "2143096",
         "fb0f8030-c1eb-4df1-9410-054eea7422ad",
         "Aral Tankstelle",
         "2025-05-25 23:00:00",
         "1.679",
         "65.41",
         "64.23",
         "1.1301",
         "57.88"
        ]
       ],
       "shape": {
        "columns": 8,
        "rows": 5
       }
      },
      "text/html": [
       "<div>\n",
       "<style scoped>\n",
       "    .dataframe tbody tr th:only-of-type {\n",
       "        vertical-align: middle;\n",
       "    }\n",
       "\n",
       "    .dataframe tbody tr th {\n",
       "        vertical-align: top;\n",
       "    }\n",
       "\n",
       "    .dataframe thead th {\n",
       "        text-align: right;\n",
       "    }\n",
       "</style>\n",
       "<table border=\"1\" class=\"dataframe\">\n",
       "  <thead>\n",
       "    <tr style=\"text-align: right;\">\n",
       "      <th></th>\n",
       "      <th>station_uuid</th>\n",
       "      <th>name</th>\n",
       "      <th>datetime</th>\n",
       "      <th>e5</th>\n",
       "      <th>oilprice</th>\n",
       "      <th>oilprice_monthly_avg</th>\n",
       "      <th>exchange_rate</th>\n",
       "      <th>oilprice_euro</th>\n",
       "    </tr>\n",
       "  </thead>\n",
       "  <tbody>\n",
       "    <tr>\n",
       "      <th>2143092</th>\n",
       "      <td>fb0f8030-c1eb-4df1-9410-054eea7422ad</td>\n",
       "      <td>Aral Tankstelle</td>\n",
       "      <td>2025-05-25 22:40:00</td>\n",
       "      <td>1.679</td>\n",
       "      <td>65.41</td>\n",
       "      <td>64.23</td>\n",
       "      <td>1.1301</td>\n",
       "      <td>57.88</td>\n",
       "    </tr>\n",
       "    <tr>\n",
       "      <th>2143093</th>\n",
       "      <td>fb0f8030-c1eb-4df1-9410-054eea7422ad</td>\n",
       "      <td>Aral Tankstelle</td>\n",
       "      <td>2025-05-25 22:45:00</td>\n",
       "      <td>1.679</td>\n",
       "      <td>65.41</td>\n",
       "      <td>64.23</td>\n",
       "      <td>1.1301</td>\n",
       "      <td>57.88</td>\n",
       "    </tr>\n",
       "    <tr>\n",
       "      <th>2143094</th>\n",
       "      <td>fb0f8030-c1eb-4df1-9410-054eea7422ad</td>\n",
       "      <td>Aral Tankstelle</td>\n",
       "      <td>2025-05-25 22:50:00</td>\n",
       "      <td>1.679</td>\n",
       "      <td>65.41</td>\n",
       "      <td>64.23</td>\n",
       "      <td>1.1301</td>\n",
       "      <td>57.88</td>\n",
       "    </tr>\n",
       "    <tr>\n",
       "      <th>2143095</th>\n",
       "      <td>fb0f8030-c1eb-4df1-9410-054eea7422ad</td>\n",
       "      <td>Aral Tankstelle</td>\n",
       "      <td>2025-05-25 22:55:00</td>\n",
       "      <td>1.679</td>\n",
       "      <td>65.41</td>\n",
       "      <td>64.23</td>\n",
       "      <td>1.1301</td>\n",
       "      <td>57.88</td>\n",
       "    </tr>\n",
       "    <tr>\n",
       "      <th>2143096</th>\n",
       "      <td>fb0f8030-c1eb-4df1-9410-054eea7422ad</td>\n",
       "      <td>Aral Tankstelle</td>\n",
       "      <td>2025-05-25 23:00:00</td>\n",
       "      <td>1.679</td>\n",
       "      <td>65.41</td>\n",
       "      <td>64.23</td>\n",
       "      <td>1.1301</td>\n",
       "      <td>57.88</td>\n",
       "    </tr>\n",
       "  </tbody>\n",
       "</table>\n",
       "</div>"
      ],
      "text/plain": [
       "                                 station_uuid             name  \\\n",
       "2143092  fb0f8030-c1eb-4df1-9410-054eea7422ad  Aral Tankstelle   \n",
       "2143093  fb0f8030-c1eb-4df1-9410-054eea7422ad  Aral Tankstelle   \n",
       "2143094  fb0f8030-c1eb-4df1-9410-054eea7422ad  Aral Tankstelle   \n",
       "2143095  fb0f8030-c1eb-4df1-9410-054eea7422ad  Aral Tankstelle   \n",
       "2143096  fb0f8030-c1eb-4df1-9410-054eea7422ad  Aral Tankstelle   \n",
       "\n",
       "                   datetime     e5  oilprice  oilprice_monthly_avg  \\\n",
       "2143092 2025-05-25 22:40:00  1.679     65.41                 64.23   \n",
       "2143093 2025-05-25 22:45:00  1.679     65.41                 64.23   \n",
       "2143094 2025-05-25 22:50:00  1.679     65.41                 64.23   \n",
       "2143095 2025-05-25 22:55:00  1.679     65.41                 64.23   \n",
       "2143096 2025-05-25 23:00:00  1.679     65.41                 64.23   \n",
       "\n",
       "         exchange_rate  oilprice_euro  \n",
       "2143092         1.1301          57.88  \n",
       "2143093         1.1301          57.88  \n",
       "2143094         1.1301          57.88  \n",
       "2143095         1.1301          57.88  \n",
       "2143096         1.1301          57.88  "
      ]
     },
     "execution_count": 2,
     "metadata": {},
     "output_type": "execute_result"
    }
   ],
   "source": [
    "\n",
    "df = load_data(\"data/fueldata/wertheim_23-25.parquet\") # Load fuel data\n",
    "df = merge_oil(df)                                     # Include oil data\n",
    "df = merge_ex_rate(df)                                 # Include exchange rates\n",
    "get_oil_euro(df)                                       # Calculate oil price in euro\n",
    "df.tail()"
   ]
  }
 ],
 "metadata": {
  "kernelspec": {
   "display_name": ".venv",
   "language": "python",
   "name": "python3"
  },
  "language_info": {
   "codemirror_mode": {
    "name": "ipython",
    "version": 3
   },
   "file_extension": ".py",
   "mimetype": "text/x-python",
   "name": "python",
   "nbconvert_exporter": "python",
   "pygments_lexer": "ipython3",
   "version": "3.11.3"
  }
 },
 "nbformat": 4,
 "nbformat_minor": 5
}
