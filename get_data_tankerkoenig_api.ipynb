{
 "cells": [
  {
   "cell_type": "code",
   "execution_count": 1,
   "id": "10b74e54",
   "metadata": {},
   "outputs": [],
   "source": [
    "from get_current_fuel_prices import get_current_fuel_prices"
   ]
  },
  {
   "cell_type": "code",
   "execution_count": null,
   "id": "872ebc78",
   "metadata": {},
   "outputs": [
    {
     "data": {
      "application/vnd.microsoft.datawrangler.viewer.v0+json": {
       "columns": [
        {
         "name": "index",
         "rawType": "int64",
         "type": "integer"
        },
        {
         "name": "id",
         "rawType": "object",
         "type": "string"
        },
        {
         "name": "name",
         "rawType": "object",
         "type": "string"
        },
        {
         "name": "brand",
         "rawType": "object",
         "type": "string"
        },
        {
         "name": "street",
         "rawType": "object",
         "type": "string"
        },
        {
         "name": "place",
         "rawType": "object",
         "type": "string"
        },
        {
         "name": "lat",
         "rawType": "float64",
         "type": "float"
        },
        {
         "name": "lng",
         "rawType": "float64",
         "type": "float"
        },
        {
         "name": "dist",
         "rawType": "float64",
         "type": "float"
        },
        {
         "name": "diesel",
         "rawType": "float64",
         "type": "float"
        },
        {
         "name": "e5",
         "rawType": "float64",
         "type": "float"
        },
        {
         "name": "e10",
         "rawType": "float64",
         "type": "float"
        },
        {
         "name": "isOpen",
         "rawType": "bool",
         "type": "boolean"
        },
        {
         "name": "houseNumber",
         "rawType": "object",
         "type": "string"
        },
        {
         "name": "postCode",
         "rawType": "int64",
         "type": "integer"
        }
       ],
       "ref": "031f5fe9-1fc9-4976-9450-423d8eb458be",
       "rows": [
        [
         "0",
         "24e5e31e-b5fd-4c1a-96aa-84de7027ee94",
         "Tankstelle Wertheim",
         "Herm GmbH &Co.KG",
         "Weingärtnerstr.",
         "Wertheim",
         "49.763601",
         "9.510927",
         "0.4",
         "1.459",
         "1.639",
         "1.579",
         "True",
         "1a",
         "97877"
        ],
        [
         "1",
         "39fc1999-0574-439f-ae1d-2fd82a63059e",
         "Kreuzwertheim, Haslocher Str. 23",
         "HEM",
         "Haslocher Str.",
         "Kreuzwertheim",
         "49.76889",
         "9.5134",
         "0.6",
         "1.459",
         "1.639",
         "1.579",
         "True",
         "23",
         "97892"
        ],
        [
         "2",
         "b1fa62d4-1c3a-4d54-2129-560fd7482813",
         "Berliner Ring",
         "HERM",
         "Berliner Ring",
         "Wertheim",
         "49.751137",
         "9.506624",
         "1.6",
         "1.459",
         "1.639",
         "1.579",
         "True",
         "3",
         "97877"
        ],
        [
         "3",
         "fb0f8030-c1eb-4df1-9410-054eea7422ad",
         "Aral Tankstelle",
         "ARAL",
         "Bestenheider Landstraße",
         "Wertheim",
         "49.78171",
         "9.504071",
         "2.2",
         "1.479",
         "1.669",
         "1.609",
         "True",
         "70",
         "97877"
        ],
        [
         "4",
         "c84fdbc6-1701-4c57-7fc0-17b2396b0041",
         "bft - Walther",
         "bft - Walther",
         "Bestenheider Landstr.",
         "Wertheim",
         "49.782",
         "9.5013",
         "2.3",
         "1.459",
         "1.639",
         "1.579",
         "True",
         "75",
         "97877"
        ],
        [
         "5",
         "1f05bb14-660c-4566-8ef7-5be9bcaf7ced",
         "Philipp Diehm GmbH",
         "freie Tankstelle",
         "Hauptstr.",
         "Wertheim",
         "49.771121",
         "9.562466",
         "3.4",
         "1.459",
         "1.659",
         "1.639",
         "True",
         "2a",
         "97877"
        ],
        [
         "6",
         "e7a53db3-ebdf-4e07-9e53-ab5f19cf84e7",
         "ZG Raiffeisen/Honeck-Waldschütz Tankstelle Wertheim",
         "ZG Raiffeisen Energie",
         "Hafenstraße",
         "Wertheim-Bestenheid",
         "49.78124",
         "9.47631",
         "3.5",
         "1.449",
         "1.639",
         "1.589",
         "True",
         "12",
         "97877"
        ],
        [
         "7",
         "bb61cff1-0d73-4189-847e-82b8599418d5",
         "Esso Tankstelle",
         "ESSO",
         "BLAETTLEINSAECKER 1",
         "WERTHEIM",
         "49.771156",
         "9.575148",
         "4.3",
         "1.559",
         "1.739",
         "1.679",
         "True",
         "",
         "97877"
        ]
       ],
       "shape": {
        "columns": 14,
        "rows": 8
       }
      },
      "text/html": [
       "<div>\n",
       "<style scoped>\n",
       "    .dataframe tbody tr th:only-of-type {\n",
       "        vertical-align: middle;\n",
       "    }\n",
       "\n",
       "    .dataframe tbody tr th {\n",
       "        vertical-align: top;\n",
       "    }\n",
       "\n",
       "    .dataframe thead th {\n",
       "        text-align: right;\n",
       "    }\n",
       "</style>\n",
       "<table border=\"1\" class=\"dataframe\">\n",
       "  <thead>\n",
       "    <tr style=\"text-align: right;\">\n",
       "      <th></th>\n",
       "      <th>id</th>\n",
       "      <th>name</th>\n",
       "      <th>brand</th>\n",
       "      <th>street</th>\n",
       "      <th>place</th>\n",
       "      <th>lat</th>\n",
       "      <th>lng</th>\n",
       "      <th>dist</th>\n",
       "      <th>diesel</th>\n",
       "      <th>e5</th>\n",
       "      <th>e10</th>\n",
       "      <th>isOpen</th>\n",
       "      <th>houseNumber</th>\n",
       "      <th>postCode</th>\n",
       "    </tr>\n",
       "  </thead>\n",
       "  <tbody>\n",
       "    <tr>\n",
       "      <th>0</th>\n",
       "      <td>24e5e31e-b5fd-4c1a-96aa-84de7027ee94</td>\n",
       "      <td>Tankstelle Wertheim</td>\n",
       "      <td>Herm GmbH &amp;Co.KG</td>\n",
       "      <td>Weingärtnerstr.</td>\n",
       "      <td>Wertheim</td>\n",
       "      <td>49.763601</td>\n",
       "      <td>9.510927</td>\n",
       "      <td>0.4</td>\n",
       "      <td>1.459</td>\n",
       "      <td>1.639</td>\n",
       "      <td>1.579</td>\n",
       "      <td>True</td>\n",
       "      <td>1a</td>\n",
       "      <td>97877</td>\n",
       "    </tr>\n",
       "    <tr>\n",
       "      <th>1</th>\n",
       "      <td>39fc1999-0574-439f-ae1d-2fd82a63059e</td>\n",
       "      <td>Kreuzwertheim, Haslocher Str. 23</td>\n",
       "      <td>HEM</td>\n",
       "      <td>Haslocher Str.</td>\n",
       "      <td>Kreuzwertheim</td>\n",
       "      <td>49.768890</td>\n",
       "      <td>9.513400</td>\n",
       "      <td>0.6</td>\n",
       "      <td>1.459</td>\n",
       "      <td>1.639</td>\n",
       "      <td>1.579</td>\n",
       "      <td>True</td>\n",
       "      <td>23</td>\n",
       "      <td>97892</td>\n",
       "    </tr>\n",
       "    <tr>\n",
       "      <th>2</th>\n",
       "      <td>b1fa62d4-1c3a-4d54-2129-560fd7482813</td>\n",
       "      <td>Berliner Ring</td>\n",
       "      <td>HERM</td>\n",
       "      <td>Berliner Ring</td>\n",
       "      <td>Wertheim</td>\n",
       "      <td>49.751137</td>\n",
       "      <td>9.506624</td>\n",
       "      <td>1.6</td>\n",
       "      <td>1.459</td>\n",
       "      <td>1.639</td>\n",
       "      <td>1.579</td>\n",
       "      <td>True</td>\n",
       "      <td>3</td>\n",
       "      <td>97877</td>\n",
       "    </tr>\n",
       "    <tr>\n",
       "      <th>3</th>\n",
       "      <td>fb0f8030-c1eb-4df1-9410-054eea7422ad</td>\n",
       "      <td>Aral Tankstelle</td>\n",
       "      <td>ARAL</td>\n",
       "      <td>Bestenheider Landstraße</td>\n",
       "      <td>Wertheim</td>\n",
       "      <td>49.781710</td>\n",
       "      <td>9.504071</td>\n",
       "      <td>2.2</td>\n",
       "      <td>1.479</td>\n",
       "      <td>1.669</td>\n",
       "      <td>1.609</td>\n",
       "      <td>True</td>\n",
       "      <td>70</td>\n",
       "      <td>97877</td>\n",
       "    </tr>\n",
       "    <tr>\n",
       "      <th>4</th>\n",
       "      <td>c84fdbc6-1701-4c57-7fc0-17b2396b0041</td>\n",
       "      <td>bft - Walther</td>\n",
       "      <td>bft - Walther</td>\n",
       "      <td>Bestenheider Landstr.</td>\n",
       "      <td>Wertheim</td>\n",
       "      <td>49.782000</td>\n",
       "      <td>9.501300</td>\n",
       "      <td>2.3</td>\n",
       "      <td>1.459</td>\n",
       "      <td>1.639</td>\n",
       "      <td>1.579</td>\n",
       "      <td>True</td>\n",
       "      <td>75</td>\n",
       "      <td>97877</td>\n",
       "    </tr>\n",
       "    <tr>\n",
       "      <th>5</th>\n",
       "      <td>1f05bb14-660c-4566-8ef7-5be9bcaf7ced</td>\n",
       "      <td>Philipp Diehm GmbH</td>\n",
       "      <td>freie Tankstelle</td>\n",
       "      <td>Hauptstr.</td>\n",
       "      <td>Wertheim</td>\n",
       "      <td>49.771121</td>\n",
       "      <td>9.562466</td>\n",
       "      <td>3.4</td>\n",
       "      <td>1.459</td>\n",
       "      <td>1.659</td>\n",
       "      <td>1.639</td>\n",
       "      <td>True</td>\n",
       "      <td>2a</td>\n",
       "      <td>97877</td>\n",
       "    </tr>\n",
       "    <tr>\n",
       "      <th>6</th>\n",
       "      <td>e7a53db3-ebdf-4e07-9e53-ab5f19cf84e7</td>\n",
       "      <td>ZG Raiffeisen/Honeck-Waldschütz Tankstelle Wer...</td>\n",
       "      <td>ZG Raiffeisen Energie</td>\n",
       "      <td>Hafenstraße</td>\n",
       "      <td>Wertheim-Bestenheid</td>\n",
       "      <td>49.781240</td>\n",
       "      <td>9.476310</td>\n",
       "      <td>3.5</td>\n",
       "      <td>1.449</td>\n",
       "      <td>1.639</td>\n",
       "      <td>1.589</td>\n",
       "      <td>True</td>\n",
       "      <td>12</td>\n",
       "      <td>97877</td>\n",
       "    </tr>\n",
       "    <tr>\n",
       "      <th>7</th>\n",
       "      <td>bb61cff1-0d73-4189-847e-82b8599418d5</td>\n",
       "      <td>Esso Tankstelle</td>\n",
       "      <td>ESSO</td>\n",
       "      <td>BLAETTLEINSAECKER 1</td>\n",
       "      <td>WERTHEIM</td>\n",
       "      <td>49.771156</td>\n",
       "      <td>9.575148</td>\n",
       "      <td>4.3</td>\n",
       "      <td>1.559</td>\n",
       "      <td>1.739</td>\n",
       "      <td>1.679</td>\n",
       "      <td>True</td>\n",
       "      <td></td>\n",
       "      <td>97877</td>\n",
       "    </tr>\n",
       "  </tbody>\n",
       "</table>\n",
       "</div>"
      ],
      "text/plain": [
       "                                     id  \\\n",
       "0  24e5e31e-b5fd-4c1a-96aa-84de7027ee94   \n",
       "1  39fc1999-0574-439f-ae1d-2fd82a63059e   \n",
       "2  b1fa62d4-1c3a-4d54-2129-560fd7482813   \n",
       "3  fb0f8030-c1eb-4df1-9410-054eea7422ad   \n",
       "4  c84fdbc6-1701-4c57-7fc0-17b2396b0041   \n",
       "5  1f05bb14-660c-4566-8ef7-5be9bcaf7ced   \n",
       "6  e7a53db3-ebdf-4e07-9e53-ab5f19cf84e7   \n",
       "7  bb61cff1-0d73-4189-847e-82b8599418d5   \n",
       "\n",
       "                                                name                  brand  \\\n",
       "0                                Tankstelle Wertheim       Herm GmbH &Co.KG   \n",
       "1                   Kreuzwertheim, Haslocher Str. 23                    HEM   \n",
       "2                                      Berliner Ring                   HERM   \n",
       "3                                    Aral Tankstelle                   ARAL   \n",
       "4                                      bft - Walther          bft - Walther   \n",
       "5                                 Philipp Diehm GmbH       freie Tankstelle   \n",
       "6  ZG Raiffeisen/Honeck-Waldschütz Tankstelle Wer...  ZG Raiffeisen Energie   \n",
       "7                                    Esso Tankstelle                   ESSO   \n",
       "\n",
       "                    street                place        lat       lng  dist  \\\n",
       "0          Weingärtnerstr.             Wertheim  49.763601  9.510927   0.4   \n",
       "1           Haslocher Str.        Kreuzwertheim  49.768890  9.513400   0.6   \n",
       "2            Berliner Ring             Wertheim  49.751137  9.506624   1.6   \n",
       "3  Bestenheider Landstraße             Wertheim  49.781710  9.504071   2.2   \n",
       "4    Bestenheider Landstr.             Wertheim  49.782000  9.501300   2.3   \n",
       "5                Hauptstr.             Wertheim  49.771121  9.562466   3.4   \n",
       "6              Hafenstraße  Wertheim-Bestenheid  49.781240  9.476310   3.5   \n",
       "7      BLAETTLEINSAECKER 1             WERTHEIM  49.771156  9.575148   4.3   \n",
       "\n",
       "   diesel     e5    e10  isOpen houseNumber  postCode  \n",
       "0   1.459  1.639  1.579    True          1a     97877  \n",
       "1   1.459  1.639  1.579    True          23     97892  \n",
       "2   1.459  1.639  1.579    True           3     97877  \n",
       "3   1.479  1.669  1.609    True          70     97877  \n",
       "4   1.459  1.639  1.579    True          75     97877  \n",
       "5   1.459  1.659  1.639    True          2a     97877  \n",
       "6   1.449  1.639  1.589    True          12     97877  \n",
       "7   1.559  1.739  1.679    True                 97877  "
      ]
     },
     "execution_count": 2,
     "metadata": {},
     "output_type": "execute_result"
    }
   ],
   "source": [
    "df = get_current_fuel_prices(49.76394930569202,9.51664370931457,5)\n",
    "df"
   ]
  },
  {
   "cell_type": "code",
   "execution_count": 3,
   "id": "69862778",
   "metadata": {},
   "outputs": [
    {
     "data": {
      "application/vnd.microsoft.datawrangler.viewer.v0+json": {
       "columns": [
        {
         "name": "index",
         "rawType": "object",
         "type": "string"
        },
        {
         "name": "39fc1999-0574-439f-ae1d-2fd82a63059e",
         "rawType": "object",
         "type": "unknown"
        }
       ],
       "ref": "b711e5dc-778a-439d-b5e4-41b71c2fe292",
       "rows": [
        [
         "diesel",
         "1.459"
        ],
        [
         "e10",
         "1.579"
        ],
        [
         "e5",
         "1.639"
        ],
        [
         "status",
         "open"
        ]
       ],
       "shape": {
        "columns": 1,
        "rows": 4
       }
      },
      "text/html": [
       "<div>\n",
       "<style scoped>\n",
       "    .dataframe tbody tr th:only-of-type {\n",
       "        vertical-align: middle;\n",
       "    }\n",
       "\n",
       "    .dataframe tbody tr th {\n",
       "        vertical-align: top;\n",
       "    }\n",
       "\n",
       "    .dataframe thead th {\n",
       "        text-align: right;\n",
       "    }\n",
       "</style>\n",
       "<table border=\"1\" class=\"dataframe\">\n",
       "  <thead>\n",
       "    <tr style=\"text-align: right;\">\n",
       "      <th></th>\n",
       "      <th>39fc1999-0574-439f-ae1d-2fd82a63059e</th>\n",
       "    </tr>\n",
       "  </thead>\n",
       "  <tbody>\n",
       "    <tr>\n",
       "      <th>diesel</th>\n",
       "      <td>1.459</td>\n",
       "    </tr>\n",
       "    <tr>\n",
       "      <th>e10</th>\n",
       "      <td>1.579</td>\n",
       "    </tr>\n",
       "    <tr>\n",
       "      <th>e5</th>\n",
       "      <td>1.639</td>\n",
       "    </tr>\n",
       "    <tr>\n",
       "      <th>status</th>\n",
       "      <td>open</td>\n",
       "    </tr>\n",
       "  </tbody>\n",
       "</table>\n",
       "</div>"
      ],
      "text/plain": [
       "       39fc1999-0574-439f-ae1d-2fd82a63059e\n",
       "diesel                                1.459\n",
       "e10                                   1.579\n",
       "e5                                    1.639\n",
       "status                                 open"
      ]
     },
     "execution_count": 3,
     "metadata": {},
     "output_type": "execute_result"
    }
   ],
   "source": [
    "df = get_current_fuel_prices(49.76394930569202,9.51664370931457,5,uuid=[\"39fc1999-0574-439f-ae1d-2fd82a63059e\"])\n",
    "df"
   ]
  }
 ],
 "metadata": {
  "kernelspec": {
   "display_name": ".venv",
   "language": "python",
   "name": "python3"
  },
  "language_info": {
   "codemirror_mode": {
    "name": "ipython",
    "version": 3
   },
   "file_extension": ".py",
   "mimetype": "text/x-python",
   "name": "python",
   "nbconvert_exporter": "python",
   "pygments_lexer": "ipython3",
   "version": "3.11.3"
  }
 },
 "nbformat": 4,
 "nbformat_minor": 5
}
