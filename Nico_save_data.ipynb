{
 "cells": [
  {
   "cell_type": "markdown",
   "id": "86575efe",
   "metadata": {},
   "source": [
    "# Save clean oil data"
   ]
  },
  {
   "cell_type": "code",
   "execution_count": 4,
   "id": "64664027",
   "metadata": {},
   "outputs": [],
   "source": [
    "# Import packages\n",
    "import pandas as pd\n",
    "import numpy as np\n",
    "import seaborn as sns\n",
    "import matplotlib.pyplot as plt\n",
    "from datetime import datetime, date, time, timedelta\n",
    "from lxml import etree"
   ]
  },
  {
   "cell_type": "code",
   "execution_count": 5,
   "id": "5a0ad3bd",
   "metadata": {},
   "outputs": [],
   "source": [
    "# Load data\n",
    "df_eia = pd.read_excel(\"data/oildata/raw_data/oil_EIA_1987-2025.xls\",\"Data 1\")"
   ]
  },
  {
   "cell_type": "code",
   "execution_count": 6,
   "id": "b570ffed",
   "metadata": {},
   "outputs": [],
   "source": [
    "# Oildata preparation\n",
    "df_eia.columns = [\"date\",\"price\"]\n",
    "# Remove first two rows which include additional information\n",
    "df_eia = df_eia.iloc[2:]\n",
    "df_eia[\"datetime\"] = pd.to_datetime(df_eia[\"date\"])\n",
    "df_eia[\"oilprice\"] = df_eia[\"price\"].astype(float)\n",
    "# Resample data to get oil price at every date\n",
    "df_eia = df_eia.set_index('datetime')\n",
    "df_eia = df_eia[\"oilprice\"].resample(\"1d\").ffill().reset_index()\n",
    "df_eia[\"month\"] = df_eia[\"datetime\"].dt.month\n",
    "df_eia[\"year\"] = df_eia[\"datetime\"].dt.year\n",
    "\n",
    "# Get average oil price by month and merge it to df_eia\n",
    "month_avg_eia = df_eia[[\"oilprice\",\"year\",\"month\"]].groupby([\"year\",\"month\"]).mean().round(2).reset_index()\n",
    "month_avg_eia.columns = [\"year\",\"month\",\"oilprice_monthly_avg\"]\n",
    "\n",
    "df_eia_final = pd.merge(df_eia,month_avg_eia,on=[\"year\",\"month\"])\n",
    "df_eia_final.drop([\"year\",\"month\"],axis=1,inplace=True)\n"
   ]
  },
  {
   "cell_type": "code",
   "execution_count": 7,
   "id": "c179a3f2",
   "metadata": {},
   "outputs": [
    {
     "data": {
      "application/vnd.microsoft.datawrangler.viewer.v0+json": {
       "columns": [
        {
         "name": "index",
         "rawType": "int64",
         "type": "integer"
        },
        {
         "name": "datetime",
         "rawType": "datetime64[ns]",
         "type": "datetime"
        },
        {
         "name": "oilprice",
         "rawType": "float64",
         "type": "float"
        },
        {
         "name": "oilprice_monthly_avg",
         "rawType": "float64",
         "type": "float"
        }
       ],
       "ref": "d83b799b-ec69-46fa-b017-4088a22e10e5",
       "rows": [
        [
         "0",
         "1987-05-20 00:00:00",
         "18.63",
         "18.58"
        ],
        [
         "1",
         "1987-05-21 00:00:00",
         "18.45",
         "18.58"
        ],
        [
         "2",
         "1987-05-22 00:00:00",
         "18.55",
         "18.58"
        ],
        [
         "3",
         "1987-05-23 00:00:00",
         "18.55",
         "18.58"
        ],
        [
         "4",
         "1987-05-24 00:00:00",
         "18.55",
         "18.58"
        ]
       ],
       "shape": {
        "columns": 3,
        "rows": 5
       }
      },
      "text/html": [
       "<div>\n",
       "<style scoped>\n",
       "    .dataframe tbody tr th:only-of-type {\n",
       "        vertical-align: middle;\n",
       "    }\n",
       "\n",
       "    .dataframe tbody tr th {\n",
       "        vertical-align: top;\n",
       "    }\n",
       "\n",
       "    .dataframe thead th {\n",
       "        text-align: right;\n",
       "    }\n",
       "</style>\n",
       "<table border=\"1\" class=\"dataframe\">\n",
       "  <thead>\n",
       "    <tr style=\"text-align: right;\">\n",
       "      <th></th>\n",
       "      <th>datetime</th>\n",
       "      <th>oilprice</th>\n",
       "      <th>oilprice_monthly_avg</th>\n",
       "    </tr>\n",
       "  </thead>\n",
       "  <tbody>\n",
       "    <tr>\n",
       "      <th>0</th>\n",
       "      <td>1987-05-20</td>\n",
       "      <td>18.63</td>\n",
       "      <td>18.58</td>\n",
       "    </tr>\n",
       "    <tr>\n",
       "      <th>1</th>\n",
       "      <td>1987-05-21</td>\n",
       "      <td>18.45</td>\n",
       "      <td>18.58</td>\n",
       "    </tr>\n",
       "    <tr>\n",
       "      <th>2</th>\n",
       "      <td>1987-05-22</td>\n",
       "      <td>18.55</td>\n",
       "      <td>18.58</td>\n",
       "    </tr>\n",
       "    <tr>\n",
       "      <th>3</th>\n",
       "      <td>1987-05-23</td>\n",
       "      <td>18.55</td>\n",
       "      <td>18.58</td>\n",
       "    </tr>\n",
       "    <tr>\n",
       "      <th>4</th>\n",
       "      <td>1987-05-24</td>\n",
       "      <td>18.55</td>\n",
       "      <td>18.58</td>\n",
       "    </tr>\n",
       "  </tbody>\n",
       "</table>\n",
       "</div>"
      ],
      "text/plain": [
       "    datetime  oilprice  oilprice_monthly_avg\n",
       "0 1987-05-20     18.63                 18.58\n",
       "1 1987-05-21     18.45                 18.58\n",
       "2 1987-05-22     18.55                 18.58\n",
       "3 1987-05-23     18.55                 18.58\n",
       "4 1987-05-24     18.55                 18.58"
      ]
     },
     "execution_count": 7,
     "metadata": {},
     "output_type": "execute_result"
    }
   ],
   "source": [
    "df_eia_final.head()"
   ]
  },
  {
   "cell_type": "code",
   "execution_count": 8,
   "id": "1eb09cdd",
   "metadata": {},
   "outputs": [],
   "source": [
    "df_eia_final.to_parquet(\"data/oildata/oil_EIA.parquet\")"
   ]
  },
  {
   "cell_type": "markdown",
   "id": "4a4ae9ac",
   "metadata": {},
   "source": [
    "# Save clean exchange rate data"
   ]
  },
  {
   "cell_type": "code",
   "execution_count": 9,
   "id": "37e869a5",
   "metadata": {},
   "outputs": [],
   "source": [
    "# Load xml\n",
    "tree = etree.parse(\"data/exchange_rate/raw_data/usd.xml\")\n",
    "root = tree.getroot()\n",
    "\n",
    "# define XML-Namespace\n",
    "ns = {\n",
    "    'mes': 'http://www.SDMX.org/resources/SDMXML/schemas/v2_0/message',\n",
    "    'exr': 'http://www.ecb.europa.eu/vocabulary/stats/exr/1'\n",
    "}\n",
    "\n",
    "# Find series\n",
    "series = root.find('.//exr:Series', namespaces=ns)\n",
    "\n",
    "# Extract all observations\n",
    "data = []\n",
    "for obs in series.findall('exr:Obs', namespaces=ns):\n",
    "    datum = obs.attrib.get('TIME_PERIOD')\n",
    "    wert = obs.attrib.get('OBS_VALUE')\n",
    "    data.append((datum, float(wert)))\n",
    "\n",
    "df_ex = pd.DataFrame(data,columns=[\"date\",\"rate\"])"
   ]
  },
  {
   "cell_type": "code",
   "execution_count": 10,
   "id": "95da6723",
   "metadata": {},
   "outputs": [],
   "source": [
    "# Prepare data\n",
    "df_ex.dropna(inplace=True)\n",
    "df_ex[\"datetime\"] = pd.to_datetime(df_ex[\"date\"])\n",
    "df_ex[\"exchange_rate\"] = df_ex[\"rate\"].astype(float)\n",
    "df_ex = df_ex.set_index('datetime')\n",
    "df_ex = df_ex[\"exchange_rate\"].resample(\"1d\").ffill().reset_index()"
   ]
  },
  {
   "cell_type": "code",
   "execution_count": 11,
   "id": "7c0460a3",
   "metadata": {},
   "outputs": [
    {
     "data": {
      "application/vnd.microsoft.datawrangler.viewer.v0+json": {
       "columns": [
        {
         "name": "index",
         "rawType": "int64",
         "type": "integer"
        },
        {
         "name": "datetime",
         "rawType": "datetime64[ns]",
         "type": "datetime"
        },
        {
         "name": "exchange_rate",
         "rawType": "float64",
         "type": "float"
        }
       ],
       "ref": "b62949e8-7266-4211-8467-43f385776af6",
       "rows": [
        [
         "9639",
         "2025-05-26 00:00:00",
         "1.1381"
        ],
        [
         "9640",
         "2025-05-27 00:00:00",
         "1.1356"
        ],
        [
         "9641",
         "2025-05-28 00:00:00",
         "1.1317"
        ],
        [
         "9642",
         "2025-05-29 00:00:00",
         "1.1281"
        ],
        [
         "9643",
         "2025-05-30 00:00:00",
         "1.1339"
        ]
       ],
       "shape": {
        "columns": 2,
        "rows": 5
       }
      },
      "text/html": [
       "<div>\n",
       "<style scoped>\n",
       "    .dataframe tbody tr th:only-of-type {\n",
       "        vertical-align: middle;\n",
       "    }\n",
       "\n",
       "    .dataframe tbody tr th {\n",
       "        vertical-align: top;\n",
       "    }\n",
       "\n",
       "    .dataframe thead th {\n",
       "        text-align: right;\n",
       "    }\n",
       "</style>\n",
       "<table border=\"1\" class=\"dataframe\">\n",
       "  <thead>\n",
       "    <tr style=\"text-align: right;\">\n",
       "      <th></th>\n",
       "      <th>datetime</th>\n",
       "      <th>exchange_rate</th>\n",
       "    </tr>\n",
       "  </thead>\n",
       "  <tbody>\n",
       "    <tr>\n",
       "      <th>9639</th>\n",
       "      <td>2025-05-26</td>\n",
       "      <td>1.1381</td>\n",
       "    </tr>\n",
       "    <tr>\n",
       "      <th>9640</th>\n",
       "      <td>2025-05-27</td>\n",
       "      <td>1.1356</td>\n",
       "    </tr>\n",
       "    <tr>\n",
       "      <th>9641</th>\n",
       "      <td>2025-05-28</td>\n",
       "      <td>1.1317</td>\n",
       "    </tr>\n",
       "    <tr>\n",
       "      <th>9642</th>\n",
       "      <td>2025-05-29</td>\n",
       "      <td>1.1281</td>\n",
       "    </tr>\n",
       "    <tr>\n",
       "      <th>9643</th>\n",
       "      <td>2025-05-30</td>\n",
       "      <td>1.1339</td>\n",
       "    </tr>\n",
       "  </tbody>\n",
       "</table>\n",
       "</div>"
      ],
      "text/plain": [
       "       datetime  exchange_rate\n",
       "9639 2025-05-26         1.1381\n",
       "9640 2025-05-27         1.1356\n",
       "9641 2025-05-28         1.1317\n",
       "9642 2025-05-29         1.1281\n",
       "9643 2025-05-30         1.1339"
      ]
     },
     "execution_count": 11,
     "metadata": {},
     "output_type": "execute_result"
    }
   ],
   "source": [
    "df_ex.tail()"
   ]
  },
  {
   "cell_type": "code",
   "execution_count": 12,
   "id": "dd9e2ee0",
   "metadata": {},
   "outputs": [],
   "source": [
    "df_ex.to_parquet(\"data/exchange_rate/exchange_rate.parquet\")"
   ]
  }
 ],
 "metadata": {
  "kernelspec": {
   "display_name": ".venv",
   "language": "python",
   "name": "python3"
  },
  "language_info": {
   "codemirror_mode": {
    "name": "ipython",
    "version": 3
   },
   "file_extension": ".py",
   "mimetype": "text/x-python",
   "name": "python",
   "nbconvert_exporter": "python",
   "pygments_lexer": "ipython3",
   "version": "3.11.3"
  }
 },
 "nbformat": 4,
 "nbformat_minor": 5
}
